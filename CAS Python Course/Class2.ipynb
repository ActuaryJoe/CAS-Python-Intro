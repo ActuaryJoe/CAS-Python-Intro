{
 "cells": [
  {
   "cell_type": "code",
   "execution_count": 1,
   "metadata": {
    "colab": {
     "base_uri": "https://localhost:8080/",
     "height": 34
    },
    "colab_type": "code",
    "executionInfo": {
     "elapsed": 2765,
     "status": "ok",
     "timestamp": 1595462917807,
     "user": {
      "displayName": "Jozeff KAPLAN",
      "photoUrl": "",
      "userId": "04250959772459181544"
     },
     "user_tz": 300
    },
    "id": "tGCD4zh5_Qb8",
    "outputId": "0957636d-0e93-4598-96f9-6404f11dd840"
   },
   "outputs": [
    {
     "name": "stderr",
     "output_type": "stream",
     "text": [
      "'ls' is not recognized as an internal or external command,\n",
      "operable program or batch file.\n"
     ]
    }
   ],
   "source": [
    "!ls"
   ]
  },
  {
   "cell_type": "code",
   "execution_count": 2,
   "metadata": {
    "colab": {
     "base_uri": "https://localhost:8080/",
     "height": 34
    },
    "colab_type": "code",
    "executionInfo": {
     "elapsed": 1899,
     "status": "ok",
     "timestamp": 1595463045445,
     "user": {
      "displayName": "Jozeff KAPLAN",
      "photoUrl": "",
      "userId": "04250959772459181544"
     },
     "user_tz": 300
    },
    "id": "FnEuAiI9AEZn",
    "outputId": "70e243c4-52d0-429c-c183-9e677e26418d"
   },
   "outputs": [
    {
     "name": "stderr",
     "output_type": "stream",
     "text": [
      "'ls' is not recognized as an internal or external command,\n",
      "operable program or batch file.\n"
     ]
    }
   ],
   "source": [
    "!ls \"drive/My Drive/Colab Notebooks/CAS Python Class\""
   ]
  },
  {
   "cell_type": "code",
   "execution_count": 3,
   "metadata": {
    "colab": {},
    "colab_type": "code",
    "id": "QbH0vj-lA2gw"
   },
   "outputs": [],
   "source": [
    "import sys"
   ]
  },
  {
   "cell_type": "code",
   "execution_count": 4,
   "metadata": {
    "colab": {
     "base_uri": "https://localhost:8080/",
     "height": 187
    },
    "colab_type": "code",
    "executionInfo": {
     "elapsed": 755,
     "status": "ok",
     "timestamp": 1595463512503,
     "user": {
      "displayName": "Jozeff KAPLAN",
      "photoUrl": "",
      "userId": "04250959772459181544"
     },
     "user_tz": 300
    },
    "id": "-tsbq4aHA60T",
    "outputId": "f1dd0266-2941-4be1-d344-2c292028aaff"
   },
   "outputs": [
    {
     "data": {
      "text/plain": [
       "['C:\\\\Users\\\\e015614\\\\OneDrive - FBL Financial Group, Inc\\\\CAS Python Course',\n",
       " 'C:\\\\Users\\\\e015614\\\\Anaconda3\\\\python37.zip',\n",
       " 'C:\\\\Users\\\\e015614\\\\Anaconda3\\\\DLLs',\n",
       " 'C:\\\\Users\\\\e015614\\\\Anaconda3\\\\lib',\n",
       " 'C:\\\\Users\\\\e015614\\\\Anaconda3',\n",
       " '',\n",
       " 'C:\\\\Users\\\\e015614\\\\Anaconda3\\\\lib\\\\site-packages',\n",
       " 'C:\\\\Users\\\\e015614\\\\Anaconda3\\\\lib\\\\site-packages\\\\win32',\n",
       " 'C:\\\\Users\\\\e015614\\\\Anaconda3\\\\lib\\\\site-packages\\\\win32\\\\lib',\n",
       " 'C:\\\\Users\\\\e015614\\\\Anaconda3\\\\lib\\\\site-packages\\\\Pythonwin',\n",
       " 'C:\\\\Users\\\\e015614\\\\Anaconda3\\\\lib\\\\site-packages\\\\IPython\\\\extensions',\n",
       " 'C:\\\\Users\\\\e015614\\\\.ipython']"
      ]
     },
     "execution_count": 4,
     "metadata": {},
     "output_type": "execute_result"
    }
   ],
   "source": [
    "sys.path"
   ]
  },
  {
   "cell_type": "code",
   "execution_count": 5,
   "metadata": {
    "colab": {},
    "colab_type": "code",
    "id": "UIAbNTBoA_fT"
   },
   "outputs": [],
   "source": [
    "sys.path.append(\"OneDrive - FBL Financial Group, Inc\\\\CAS Python Course\")"
   ]
  },
  {
   "cell_type": "code",
   "execution_count": 6,
   "metadata": {
    "colab": {},
    "colab_type": "code",
    "id": "eHIJOWrVCA4D"
   },
   "outputs": [],
   "source": [
    "import cas_demo"
   ]
  },
  {
   "cell_type": "code",
   "execution_count": 7,
   "metadata": {
    "colab": {},
    "colab_type": "code",
    "id": "e3C0QAG1CpHi"
   },
   "outputs": [],
   "source": [
    "d=cas_demo.Demo('Session2.md')"
   ]
  },
  {
   "cell_type": "code",
   "execution_count": 8,
   "metadata": {
    "colab": {},
    "colab_type": "code",
    "id": "A1F7QpRQDGfT"
   },
   "outputs": [
    {
     "data": {
      "text/plain": [
       "\u001b[1;31mSignature:\u001b[0m      \u001b[0md\u001b[0m\u001b[1;33m(\u001b[0m\u001b[0msection\u001b[0m\u001b[1;33m=\u001b[0m\u001b[1;32mNone\u001b[0m\u001b[1;33m)\u001b[0m\u001b[1;33m\u001b[0m\u001b[1;33m\u001b[0m\u001b[0m\n",
       "\u001b[1;31mType:\u001b[0m           Demo\n",
       "\u001b[1;31mString form:\u001b[0m    <cas_demo.Demo object at 0x000002694F6BF788>\n",
       "\u001b[1;31mFile:\u001b[0m           c:\\users\\e015614\\onedrive - fbl financial group, inc\\cas python course\\cas_demo.py\n",
       "\u001b[1;31mDocstring:\u001b[0m      <no docstring>\n",
       "\u001b[1;31mInit docstring:\u001b[0m\n",
       "Class Demo() Run a Demo\n",
       "\n",
       "Maintains a position in a document and lets you move\n",
       "forward or backwards. Shows a table of contents.\n",
       "\n",
       "Functions\n",
       "\n",
       "toc(levels)     show table of contents; highlight current location\n",
       "code()          insert code from current section\n",
       "s()             s[how] the current section\n",
       "show(n)         show section n; look at toc for numbering\n",
       "show_all()      show the entire document\n",
       "f()             move forward to next section\n",
       "b()             move backwards to previous section\n",
       "object(n)       same as show(n)\n"
      ]
     },
     "metadata": {},
     "output_type": "display_data"
    }
   ],
   "source": [
    "?d"
   ]
  },
  {
   "cell_type": "code",
   "execution_count": 9,
   "metadata": {
    "colab": {
     "base_uri": "https://localhost:8080/",
     "height": 308
    },
    "colab_type": "code",
    "executionInfo": {
     "elapsed": 717,
     "status": "ok",
     "timestamp": 1595464006532,
     "user": {
      "displayName": "Jozeff KAPLAN",
      "photoUrl": "",
      "userId": "04250959772459181544"
     },
     "user_tz": 300
    },
    "id": "0AIQLT_DD3kv",
    "outputId": "4b330985-7e01-4c78-8812-081ce749e05a"
   },
   "outputs": [
    {
     "data": {
      "text/markdown": [
       "###  CAS 2020 Python Workshop: Session II Pandas\n",
       "1.  **Session Descriptions**\n",
       "2.  **Session II Agenda: `pandas`**\n",
       "4.  **Recall from Session 1: lists and indexing**\n",
       "9.  **Handy Utility Functions**\n",
       "12.  **The Zen of Python**\n",
       "13.  **Module 1: Introduction**\n",
       "16.  **Module 2: Create a DataFrame and Access Elements**\n",
       "32.  **Module 3: Requests (interlude) and Graphics**\n",
       "47.  **Module 4: Grouping and More Charting**\n",
       "64.  **Module 5:  The CAS Loss Reserve Database**\n",
       "71.  **Module 6: Make A Triangle!**\n",
       "75.  **THE END**\n",
       "\n",
       "At position 0 of 74;   0% complete."
      ],
      "text/plain": [
       "<IPython.core.display.Markdown object>"
      ]
     },
     "metadata": {},
     "output_type": "display_data"
    }
   ],
   "source": [
    "d.toc(levels=1)"
   ]
  },
  {
   "cell_type": "code",
   "execution_count": 10,
   "metadata": {
    "colab": {
     "base_uri": "https://localhost:8080/",
     "height": 308
    },
    "colab_type": "code",
    "executionInfo": {
     "elapsed": 962,
     "status": "ok",
     "timestamp": 1595464105571,
     "user": {
      "displayName": "Jozeff KAPLAN",
      "photoUrl": "",
      "userId": "04250959772459181544"
     },
     "user_tz": 300
    },
    "id": "yiILtZ1zEIjl",
    "outputId": "a41c4f24-5b15-4792-bc5b-ef200d4ed782"
   },
   "outputs": [
    {
     "data": {
      "text/markdown": [
       "###  CAS 2020 Python Workshop: Session II Pandas\n",
       "1.  **Session Descriptions**\n",
       "2.  **Session II Agenda: `pandas`**\n",
       "4.  **Recall from Session 1: lists and indexing**\n",
       "9.  **Handy Utility Functions**\n",
       "12.  **The Zen of Python**\n",
       "13.  **Module 1: Introduction**\n",
       "16.  **Module 2: Create a DataFrame and Access Elements**\n",
       "32.  **Module 3: Requests (interlude) and Graphics**\n",
       "47.  **Module 4: Grouping and More Charting**\n",
       "64.  **Module 5:  The CAS Loss Reserve Database**\n",
       "71.  **Module 6: Make A Triangle!**\n",
       "75.  **THE END**\n",
       "\n",
       "At position 0 of 74;   0% complete."
      ],
      "text/plain": [
       "<IPython.core.display.Markdown object>"
      ]
     },
     "metadata": {},
     "output_type": "display_data"
    }
   ],
   "source": [
    "d.toc()"
   ]
  },
  {
   "cell_type": "code",
   "execution_count": 11,
   "metadata": {
    "colab": {
     "base_uri": "https://localhost:8080/",
     "height": 340
    },
    "colab_type": "code",
    "executionInfo": {
     "elapsed": 987,
     "status": "ok",
     "timestamp": 1595465275913,
     "user": {
      "displayName": "Jozeff KAPLAN",
      "photoUrl": "",
      "userId": "04250959772459181544"
     },
     "user_tz": 300
    },
    "id": "zdZMqN7-EjpT",
    "outputId": "2bd827c3-e0a1-4079-9599-e6c7ccae3d4a"
   },
   "outputs": [
    {
     "data": {
      "text/markdown": [
       "## Session Descriptions\n",
       "\n",
       "Welcome to CAS Python Workshop\n",
       "\n",
       "| No | Date       |Lead |   Contents  |\n",
       "|:---|:-----------|:----|:------------------------------------------------------------------|\n",
       "| 1  |  July 15   | BF  | Python programming basics variables, types, lists, dictionaries, functions, dates, strings, dir, help Simulated transactional data, computing Earned Premium (see 5)\n",
       "| **2**  |  **July 22**   | **SM**  | **Pandas 1: DataFrame creation and basic data manipulation; make a triangle, make development factors, make an exhibit from the CAS Loss Reserve Database**\n",
       "| 3  |  July 29   | BF  | Pandas 2: data io with external sources: Excel, CSV, markdown, HTML, web; advanced data manipulation: querying, merging, indexes, stack, unstack, pivot-table, tidydata Prem and loss simulated dataâ€¦\n",
       "| 4  |  Aug 5     | SM  | Pandas 3: Visualization and Reporting plotting plus matplotlib, geopandas, jinja, COVID data, NY Auto data\n",
       "| 5  |  Aug 12    | SM  | Simulation modeling, pandas, numpy, scipy.stats Cat model Creating data for session 1\n",
       "| 6  |  Aug 19    | BF  | Linear regression, lm, glm, sklearn Triangles analysis\n",
       "\n"
      ],
      "text/plain": [
       "<IPython.core.display.Markdown object>"
      ]
     },
     "metadata": {},
     "output_type": "display_data"
    }
   ],
   "source": [
    "d()"
   ]
  },
  {
   "cell_type": "code",
   "execution_count": 12,
   "metadata": {
    "colab": {
     "base_uri": "https://localhost:8080/",
     "height": 242
    },
    "colab_type": "code",
    "executionInfo": {
     "elapsed": 1069,
     "status": "ok",
     "timestamp": 1595465480701,
     "user": {
      "displayName": "Jozeff KAPLAN",
      "photoUrl": "",
      "userId": "04250959772459181544"
     },
     "user_tz": 300
    },
    "id": "azTkoL-6JRhP",
    "outputId": "9dbfd325-8091-4c92-ca2f-37295d6247f6"
   },
   "outputs": [
    {
     "data": {
      "text/markdown": [
       "## Session II Agenda: `pandas`\n",
       "\n",
       "* Recall from Session I: lists, dictionaries, functions\n",
       "* Two handy Python user-defined functions\n",
       "* `pandas` Introduction\n",
       "* Creating DataFrames and Accessing Elements\n",
       "* Extracting information from DataFrames\n",
       "* Plotting: Bar Chart, Scatter Plot, Histograms\n",
       "* Web data access\n",
       "* Grouping and Aggregation\n",
       "* Stacking and Pivoting\n",
       "* Triangles...\n",
       "\n",
       "\n"
      ],
      "text/plain": [
       "<IPython.core.display.Markdown object>"
      ]
     },
     "metadata": {},
     "output_type": "display_data"
    }
   ],
   "source": [
    "d()"
   ]
  },
  {
   "cell_type": "code",
   "execution_count": 20,
   "metadata": {
    "colab": {
     "base_uri": "https://localhost:8080/",
     "height": 342
    },
    "colab_type": "code",
    "executionInfo": {
     "elapsed": 874,
     "status": "ok",
     "timestamp": 1595465514927,
     "user": {
      "displayName": "Jozeff KAPLAN",
      "photoUrl": "",
      "userId": "04250959772459181544"
     },
     "user_tz": 300
    },
    "id": "rir87jdqJzUq",
    "outputId": "29000aaf-d5cb-4e67-92d5-9ff495ad39b5"
   },
   "outputs": [
    {
     "data": {
      "text/markdown": [
       "## Reference: Functions We Will Discuss\n",
       "* `DataFrame`, `Series`\n",
       "\n",
       "* `head`, `tail`\n",
       "\n",
       "* `unique`, `value_counts`\n",
       "\n",
       "* `read_csv`\n",
       "\n",
       "* `loc`, `slices`, `xs`\n",
       "\n",
       "* `query`\n",
       "\n",
       "* `pivot`, `stack` `and` `unstack`\n",
       "\n",
       "* `pivot_table`\n",
       "\n",
       "* `groupby` (.`groups`, .`get_group`, `as_index`)\n",
       "\n",
       "* `sum`, `mean`, `std` `etc`.\n",
       "\n",
       "* `aggregate`\n",
       "\n",
       "* `plot`\n",
       "\n",
       "<!--\n",
       "MISSING\n",
       "`describe`\n",
       "`create_index`, `reset_index`\n",
       "* `MultiIndex`\n",
       "**`concat`**, `append`, `keys`\n",
       "|  Slot | Tasks     | Functions                                                                              |\n",
       "|------:|:----------|:---------------------------------------------------------------------------------------|\n",
       "|  0-10 | Intro     | sdir, help, np.random (rand, lognormal, binomial choice, poisson), dictionaries        |\n",
       "| 10-20 | Create df | from dictionary, from array; access row, access column; indexes, name indexes; sorting |\n",
       "| 20-30 | Claims df | integer indexes, multi index, grouping, histogram; type of claim\n",
       "| 30-40 | Premium df | merging,\n",
       "| 40-50 |\n",
       "| 50-60 |\n",
       "| 60-70 |\n",
       "| 70-80 |\n",
       "| 80-90 |\n",
       " -->\n",
       "\n"
      ],
      "text/plain": [
       "<IPython.core.display.Markdown object>"
      ]
     },
     "metadata": {
      "tags": []
     },
     "output_type": "display_data"
    }
   ],
   "source": [
    "d()"
   ]
  },
  {
   "cell_type": "code",
   "execution_count": 21,
   "metadata": {
    "colab": {
     "base_uri": "https://localhost:8080/",
     "height": 115
    },
    "colab_type": "code",
    "executionInfo": {
     "elapsed": 871,
     "status": "ok",
     "timestamp": 1595465575906,
     "user": {
      "displayName": "Jozeff KAPLAN",
      "photoUrl": "",
      "userId": "04250959772459181544"
     },
     "user_tz": 300
    },
    "id": "xmcmwqUjKINl",
    "outputId": "dc8910d4-1452-464a-fa81-465d42bfb156"
   },
   "outputs": [
    {
     "data": {
      "text/markdown": [
       "## Recall from Session 1: lists and indexing\n",
       "\n",
       "```python\n",
       "a = [1,2,3,4,6]\n",
       "\n",
       "a[1], a[3:], a[-2], a[-2:], a[::-1]\n",
       "```\n",
       "\n"
      ],
      "text/plain": [
       "<IPython.core.display.Markdown object>"
      ]
     },
     "metadata": {
      "tags": []
     },
     "output_type": "display_data"
    }
   ],
   "source": [
    "d()"
   ]
  },
  {
   "cell_type": "code",
   "execution_count": 22,
   "metadata": {
    "colab": {
     "base_uri": "https://localhost:8080/",
     "height": 34
    },
    "colab_type": "code",
    "executionInfo": {
     "elapsed": 857,
     "status": "ok",
     "timestamp": 1595465663597,
     "user": {
      "displayName": "Jozeff KAPLAN",
      "photoUrl": "",
      "userId": "04250959772459181544"
     },
     "user_tz": 300
    },
    "id": "EZSEFkf6Kbme",
    "outputId": "d0411cbe-5180-4979-8938-efd18e21ef7c"
   },
   "outputs": [
    {
     "data": {
      "text/plain": [
       "(2, [4, 6], 4, [4, 6], [6, 4, 3, 2, 1])"
      ]
     },
     "execution_count": 22,
     "metadata": {
      "tags": []
     },
     "output_type": "execute_result"
    }
   ],
   "source": [
    "a = [1,2,3,4,6]\n",
    "\n",
    "a[1], a[3:], a[-2], a[-2:], a[::-1] #::-1 all the elements in reverse order"
   ]
  },
  {
   "cell_type": "code",
   "execution_count": 23,
   "metadata": {
    "colab": {
     "base_uri": "https://localhost:8080/",
     "height": 149
    },
    "colab_type": "code",
    "executionInfo": {
     "elapsed": 1080,
     "status": "ok",
     "timestamp": 1595465854854,
     "user": {
      "displayName": "Jozeff KAPLAN",
      "photoUrl": "",
      "userId": "04250959772459181544"
     },
     "user_tz": 300
    },
    "id": "SlJsTb4fKgB-",
    "outputId": "68623c1a-4d91-4205-eae2-4040cc7abdf7"
   },
   "outputs": [
    {
     "data": {
      "text/markdown": [
       "## Custom functions\n",
       "\n",
       "```python\n",
       "\n",
       "def myfunction(x):\n",
       "    return x * 10\n",
       "\n",
       "myfunction(20)\n",
       "```\n",
       "\n"
      ],
      "text/plain": [
       "<IPython.core.display.Markdown object>"
      ]
     },
     "metadata": {
      "tags": []
     },
     "output_type": "display_data"
    }
   ],
   "source": [
    "d()"
   ]
  },
  {
   "cell_type": "code",
   "execution_count": 24,
   "metadata": {
    "colab": {
     "base_uri": "https://localhost:8080/",
     "height": 34
    },
    "colab_type": "code",
    "executionInfo": {
     "elapsed": 857,
     "status": "ok",
     "timestamp": 1595465875556,
     "user": {
      "displayName": "Jozeff KAPLAN",
      "photoUrl": "",
      "userId": "04250959772459181544"
     },
     "user_tz": 300
    },
    "id": "lqgtMeSCLOrB",
    "outputId": "31cc8ed9-1eb2-458e-8727-d4d277fb1d04"
   },
   "outputs": [
    {
     "data": {
      "text/plain": [
       "200"
      ]
     },
     "execution_count": 24,
     "metadata": {
      "tags": []
     },
     "output_type": "execute_result"
    }
   ],
   "source": [
    "def myfunction(x):\n",
    "    return x * 10\n",
    "\n",
    "myfunction(20)"
   ]
  },
  {
   "cell_type": "code",
   "execution_count": 25,
   "metadata": {
    "colab": {
     "base_uri": "https://localhost:8080/",
     "height": 157
    },
    "colab_type": "code",
    "executionInfo": {
     "elapsed": 1099,
     "status": "ok",
     "timestamp": 1595465891025,
     "user": {
      "displayName": "Jozeff KAPLAN",
      "photoUrl": "",
      "userId": "04250959772459181544"
     },
     "user_tz": 300
    },
    "id": "v_-ZIYP2LTx1",
    "outputId": "46dbebcf-a1ae-4e9b-f65f-b6e375c13a3a"
   },
   "outputs": [
    {
     "data": {
      "text/markdown": [
       "## Dictionaries and comprehensions\n",
       "\n",
       "Count letters in a sentence with a dictionary comprehension. Remember dictionaries are  {key: value}  pairs.\n",
       "\n",
       "```python\n",
       "\n",
       "s = \"jack and jill went up the hill to fetch a pail of water \"\n",
       "\n",
       "{ i : s.count(i) for i in set(s) }\n",
       "```\n",
       "\n"
      ],
      "text/plain": [
       "<IPython.core.display.Markdown object>"
      ]
     },
     "metadata": {
      "tags": []
     },
     "output_type": "display_data"
    }
   ],
   "source": [
    "d()"
   ]
  },
  {
   "cell_type": "code",
   "execution_count": 26,
   "metadata": {
    "colab": {
     "base_uri": "https://localhost:8080/",
     "height": 323
    },
    "colab_type": "code",
    "executionInfo": {
     "elapsed": 1035,
     "status": "ok",
     "timestamp": 1595466090118,
     "user": {
      "displayName": "Jozeff KAPLAN",
      "photoUrl": "",
      "userId": "04250959772459181544"
     },
     "user_tz": 300
    },
    "id": "licUqK0oLXfX",
    "outputId": "a5a52ee9-3186-47b3-83cb-1d1cd626a3bf"
   },
   "outputs": [
    {
     "data": {
      "text/plain": [
       "{' ': 13,\n",
       " 'a': 5,\n",
       " 'c': 2,\n",
       " 'd': 1,\n",
       " 'e': 4,\n",
       " 'f': 2,\n",
       " 'h': 3,\n",
       " 'i': 3,\n",
       " 'j': 2,\n",
       " 'k': 1,\n",
       " 'l': 5,\n",
       " 'n': 2,\n",
       " 'o': 2,\n",
       " 'p': 2,\n",
       " 'r': 1,\n",
       " 't': 5,\n",
       " 'u': 1,\n",
       " 'w': 2}"
      ]
     },
     "execution_count": 26,
     "metadata": {
      "tags": []
     },
     "output_type": "execute_result"
    }
   ],
   "source": [
    "#comprehension\n",
    "s = \"jack and jill went up the hill to fetch a pail of water \"\n",
    "\n",
    "{ i : s.count(i) for i in set(s) } # {} creates Dictionary key is i and s.count(i) count the number of i in the string. sets(s) gives as the unique elemts"
   ]
  },
  {
   "cell_type": "code",
   "execution_count": 27,
   "metadata": {
    "colab": {
     "base_uri": "https://localhost:8080/",
     "height": 149
    },
    "colab_type": "code",
    "executionInfo": {
     "elapsed": 745,
     "status": "ok",
     "timestamp": 1595466131468,
     "user": {
      "displayName": "Jozeff KAPLAN",
      "photoUrl": "",
      "userId": "04250959772459181544"
     },
     "user_tz": 300
    },
    "id": "TyDaRxLcMIHQ",
    "outputId": "97ffd559-15bc-4293-f97d-0345da8ca28c"
   },
   "outputs": [
    {
     "data": {
      "text/markdown": [
       "## Custom functions, default arguments\n",
       "```python\n",
       "\n",
       "def letter(s, omit=''):\n",
       "    return { i : s.count(i) for i in s if i not in omit }\n",
       "\n",
       "letter(s), letter(s, ' aeiou')\n",
       "\n",
       "```\n",
       "\n"
      ],
      "text/plain": [
       "<IPython.core.display.Markdown object>"
      ]
     },
     "metadata": {
      "tags": []
     },
     "output_type": "display_data"
    }
   ],
   "source": [
    "d()"
   ]
  },
  {
   "cell_type": "code",
   "execution_count": 29,
   "metadata": {
    "colab": {
     "base_uri": "https://localhost:8080/",
     "height": 527
    },
    "colab_type": "code",
    "executionInfo": {
     "elapsed": 941,
     "status": "ok",
     "timestamp": 1595466436223,
     "user": {
      "displayName": "Jozeff KAPLAN",
      "photoUrl": "",
      "userId": "04250959772459181544"
     },
     "user_tz": 300
    },
    "id": "VAnr2X79Md77",
    "outputId": "e7ec69fc-5526-4692-95d7-827bea22c132"
   },
   "outputs": [
    {
     "data": {
      "text/plain": [
       "({' ': 13,\n",
       "  'a': 5,\n",
       "  'c': 2,\n",
       "  'd': 1,\n",
       "  'e': 4,\n",
       "  'f': 2,\n",
       "  'h': 3,\n",
       "  'i': 3,\n",
       "  'j': 2,\n",
       "  'k': 1,\n",
       "  'l': 5,\n",
       "  'n': 2,\n",
       "  'o': 2,\n",
       "  'p': 2,\n",
       "  'r': 1,\n",
       "  't': 5,\n",
       "  'u': 1,\n",
       "  'w': 2},\n",
       " {'c': 2,\n",
       "  'd': 1,\n",
       "  'f': 2,\n",
       "  'h': 3,\n",
       "  'j': 2,\n",
       "  'k': 1,\n",
       "  'l': 5,\n",
       "  'n': 2,\n",
       "  'p': 2,\n",
       "  'r': 1,\n",
       "  't': 5,\n",
       "  'w': 2})"
      ]
     },
     "execution_count": 29,
     "metadata": {
      "tags": []
     },
     "output_type": "execute_result"
    }
   ],
   "source": [
    "def letter(s, omit=''):\n",
    "  \"\"\"Returns the count of character that is not omit (default) \"\"\"\n",
    "  return { i : s.count(i) for i in s if i not in omit }\n",
    "\n",
    "letter(s), letter(s, ' aeiou')"
   ]
  },
  {
   "cell_type": "code",
   "execution_count": 30,
   "metadata": {
    "colab": {
     "base_uri": "https://localhost:8080/",
     "height": 140
    },
    "colab_type": "code",
    "executionInfo": {
     "elapsed": 1015,
     "status": "ok",
     "timestamp": 1595466478674,
     "user": {
      "displayName": "Jozeff KAPLAN",
      "photoUrl": "",
      "userId": "04250959772459181544"
     },
     "user_tz": 300
    },
    "id": "blJNEE03NWOt",
    "outputId": "d2ec6586-02db-4753-abe2-84f968645f18"
   },
   "outputs": [
    {
     "data": {
      "text/markdown": [
       "## Exact same function counts words(!!!)\n",
       "\n",
       "`split` breaks a string into words.\n",
       "\n",
       "```python\n",
       "print(s.split())\n",
       "\n",
       "letter(s.split())\n",
       "\n",
       "```\n",
       "\n"
      ],
      "text/plain": [
       "<IPython.core.display.Markdown object>"
      ]
     },
     "metadata": {
      "tags": []
     },
     "output_type": "display_data"
    }
   ],
   "source": [
    "d()"
   ]
  },
  {
   "cell_type": "code",
   "execution_count": 33,
   "metadata": {
    "colab": {
     "base_uri": "https://localhost:8080/",
     "height": 34
    },
    "colab_type": "code",
    "executionInfo": {
     "elapsed": 749,
     "status": "ok",
     "timestamp": 1595466646801,
     "user": {
      "displayName": "Jozeff KAPLAN",
      "photoUrl": "",
      "userId": "04250959772459181544"
     },
     "user_tz": 300
    },
    "id": "wAjXYyaKNm_T",
    "outputId": "75a90aee-5cab-40e3-aea1-e1ab162f2123"
   },
   "outputs": [
    {
     "name": "stdout",
     "output_type": "stream",
     "text": [
      "['jack', 'and', 'jill', 'went', 'up', 'the', 'hill', 'to', 'fetch', 'a', 'pail', 'of', 'water']\n"
     ]
    }
   ],
   "source": [
    "#split breaks a string into words.\n",
    "\n",
    "print(s.split()) #break phrase into words\n",
    "\n"
   ]
  },
  {
   "cell_type": "code",
   "execution_count": 34,
   "metadata": {
    "colab": {
     "base_uri": "https://localhost:8080/",
     "height": 238
    },
    "colab_type": "code",
    "executionInfo": {
     "elapsed": 810,
     "status": "ok",
     "timestamp": 1595466688531,
     "user": {
      "displayName": "Jozeff KAPLAN",
      "photoUrl": "",
      "userId": "04250959772459181544"
     },
     "user_tz": 300
    },
    "id": "m0v-4po-OJVi",
    "outputId": "647db8af-c58d-4718-b3e5-31c830cb7e3f"
   },
   "outputs": [
    {
     "data": {
      "text/plain": [
       "{'a': 1,\n",
       " 'and': 1,\n",
       " 'fetch': 1,\n",
       " 'hill': 1,\n",
       " 'jack': 1,\n",
       " 'jill': 1,\n",
       " 'of': 1,\n",
       " 'pail': 1,\n",
       " 'the': 1,\n",
       " 'to': 1,\n",
       " 'up': 1,\n",
       " 'water': 1,\n",
       " 'went': 1}"
      ]
     },
     "execution_count": 34,
     "metadata": {
      "tags": []
     },
     "output_type": "execute_result"
    }
   ],
   "source": [
    "letter(s.split())"
   ]
  },
  {
   "cell_type": "code",
   "execution_count": 35,
   "metadata": {
    "colab": {
     "base_uri": "https://localhost:8080/",
     "height": 238
    },
    "colab_type": "code",
    "executionInfo": {
     "elapsed": 1213,
     "status": "ok",
     "timestamp": 1595466890646,
     "user": {
      "displayName": "Jozeff KAPLAN",
      "photoUrl": "",
      "userId": "04250959772459181544"
     },
     "user_tz": 300
    },
    "id": "L0-W-pgDOaRI",
    "outputId": "6aa55c1b-bff4-4c3e-9764-b8989d08c69c"
   },
   "outputs": [
    {
     "data": {
      "text/plain": [
       "{'a': 2,\n",
       " 'and': 2,\n",
       " 'fetch': 2,\n",
       " 'hill': 2,\n",
       " 'jack': 2,\n",
       " 'jill': 2,\n",
       " 'of': 2,\n",
       " 'pail': 2,\n",
       " 'the': 2,\n",
       " 'to': 2,\n",
       " 'up': 2,\n",
       " 'water': 2,\n",
       " 'went': 2}"
      ]
     },
     "execution_count": 35,
     "metadata": {
      "tags": []
     },
     "output_type": "execute_result"
    }
   ],
   "source": [
    "letter((s*2).split() )"
   ]
  },
  {
   "cell_type": "code",
   "execution_count": 36,
   "metadata": {
    "colab": {
     "base_uri": "https://localhost:8080/",
     "height": 35
    },
    "colab_type": "code",
    "executionInfo": {
     "elapsed": 904,
     "status": "ok",
     "timestamp": 1595466914837,
     "user": {
      "displayName": "Jozeff KAPLAN",
      "photoUrl": "",
      "userId": "04250959772459181544"
     },
     "user_tz": 300
    },
    "id": "VBnxxZQNPLg8",
    "outputId": "d1c0d96d-aa82-40ef-fb93-36ea7466f530"
   },
   "outputs": [
    {
     "data": {
      "application/vnd.google.colaboratory.intrinsic+json": {
       "type": "string"
      },
      "text/plain": [
       "'jack and jill went up the hill to fetch a pail of water jack and jill went up the hill to fetch a pail of water '"
      ]
     },
     "execution_count": 36,
     "metadata": {
      "tags": []
     },
     "output_type": "execute_result"
    }
   ],
   "source": [
    "s*2"
   ]
  },
  {
   "cell_type": "code",
   "execution_count": 37,
   "metadata": {
    "colab": {
     "base_uri": "https://localhost:8080/",
     "height": 140
    },
    "colab_type": "code",
    "executionInfo": {
     "elapsed": 909,
     "status": "ok",
     "timestamp": 1595466927605,
     "user": {
      "displayName": "Jozeff KAPLAN",
      "photoUrl": "",
      "userId": "04250959772459181544"
     },
     "user_tz": 300
    },
    "id": "jDpgrJYePRgG",
    "outputId": "afffce6a-5d91-4123-ed1b-570f8f2d2406"
   },
   "outputs": [
    {
     "data": {
      "text/markdown": [
       "## Handy Utility Functions\n",
       "\n",
       "* `dir`: what can a function do?\n",
       "* `sdir`: better version of `dir`\n",
       "* `all_doc`: all the documentation on a function\n",
       "\n",
       "```python\n",
       "dir(str)\n",
       "```\n",
       "\n"
      ],
      "text/plain": [
       "<IPython.core.display.Markdown object>"
      ]
     },
     "metadata": {
      "tags": []
     },
     "output_type": "display_data"
    }
   ],
   "source": [
    "d()"
   ]
  },
  {
   "cell_type": "code",
   "execution_count": 38,
   "metadata": {
    "colab": {
     "base_uri": "https://localhost:8080/",
     "height": 1000
    },
    "colab_type": "code",
    "executionInfo": {
     "elapsed": 745,
     "status": "ok",
     "timestamp": 1595466959305,
     "user": {
      "displayName": "Jozeff KAPLAN",
      "photoUrl": "",
      "userId": "04250959772459181544"
     },
     "user_tz": 300
    },
    "id": "qfui0mlpPUnm",
    "outputId": "9a8ff19c-4db8-4aa1-d627-436e541c9967"
   },
   "outputs": [
    {
     "data": {
      "text/plain": [
       "['__add__',\n",
       " '__class__',\n",
       " '__contains__',\n",
       " '__delattr__',\n",
       " '__dir__',\n",
       " '__doc__',\n",
       " '__eq__',\n",
       " '__format__',\n",
       " '__ge__',\n",
       " '__getattribute__',\n",
       " '__getitem__',\n",
       " '__getnewargs__',\n",
       " '__gt__',\n",
       " '__hash__',\n",
       " '__init__',\n",
       " '__init_subclass__',\n",
       " '__iter__',\n",
       " '__le__',\n",
       " '__len__',\n",
       " '__lt__',\n",
       " '__mod__',\n",
       " '__mul__',\n",
       " '__ne__',\n",
       " '__new__',\n",
       " '__reduce__',\n",
       " '__reduce_ex__',\n",
       " '__repr__',\n",
       " '__rmod__',\n",
       " '__rmul__',\n",
       " '__setattr__',\n",
       " '__sizeof__',\n",
       " '__str__',\n",
       " '__subclasshook__',\n",
       " 'capitalize',\n",
       " 'casefold',\n",
       " 'center',\n",
       " 'count',\n",
       " 'encode',\n",
       " 'endswith',\n",
       " 'expandtabs',\n",
       " 'find',\n",
       " 'format',\n",
       " 'format_map',\n",
       " 'index',\n",
       " 'isalnum',\n",
       " 'isalpha',\n",
       " 'isdecimal',\n",
       " 'isdigit',\n",
       " 'isidentifier',\n",
       " 'islower',\n",
       " 'isnumeric',\n",
       " 'isprintable',\n",
       " 'isspace',\n",
       " 'istitle',\n",
       " 'isupper',\n",
       " 'join',\n",
       " 'ljust',\n",
       " 'lower',\n",
       " 'lstrip',\n",
       " 'maketrans',\n",
       " 'partition',\n",
       " 'replace',\n",
       " 'rfind',\n",
       " 'rindex',\n",
       " 'rjust',\n",
       " 'rpartition',\n",
       " 'rsplit',\n",
       " 'rstrip',\n",
       " 'split',\n",
       " 'splitlines',\n",
       " 'startswith',\n",
       " 'strip',\n",
       " 'swapcase',\n",
       " 'title',\n",
       " 'translate',\n",
       " 'upper',\n",
       " 'zfill']"
      ]
     },
     "execution_count": 38,
     "metadata": {
      "tags": []
     },
     "output_type": "execute_result"
    }
   ],
   "source": [
    "dir(str) #Function attribute"
   ]
  },
  {
   "cell_type": "code",
   "execution_count": 39,
   "metadata": {
    "colab": {
     "base_uri": "https://localhost:8080/",
     "height": 35
    },
    "colab_type": "code",
    "executionInfo": {
     "elapsed": 633,
     "status": "ok",
     "timestamp": 1595467090963,
     "user": {
      "displayName": "Jozeff KAPLAN",
      "photoUrl": "",
      "userId": "04250959772459181544"
     },
     "user_tz": 300
    },
    "id": "Y9GNUvXfPcY-",
    "outputId": "f0919c7d-0ab1-4227-dc00-0dcc670412cd"
   },
   "outputs": [
    {
     "data": {
      "application/vnd.google.colaboratory.intrinsic+json": {
       "type": "string"
      },
      "text/plain": [
       "'Jack And Jill Went Up The Hill To Fetch A Pail Of Water '"
      ]
     },
     "execution_count": 39,
     "metadata": {
      "tags": []
     },
     "output_type": "execute_result"
    }
   ],
   "source": [
    "s.title()"
   ]
  },
  {
   "cell_type": "code",
   "execution_count": 40,
   "metadata": {
    "colab": {
     "base_uri": "https://localhost:8080/",
     "height": 378
    },
    "colab_type": "code",
    "executionInfo": {
     "elapsed": 969,
     "status": "ok",
     "timestamp": 1595467237851,
     "user": {
      "displayName": "Jozeff KAPLAN",
      "photoUrl": "",
      "userId": "04250959772459181544"
     },
     "user_tz": 300
    },
    "id": "1nyVzeS3P8kG",
    "outputId": "bc961ebb-e557-45c0-b4cf-5222c069d710"
   },
   "outputs": [
    {
     "data": {
      "text/markdown": [
       "## (a) What Can a Function Do?\n",
       "\n",
       "There is no distinction between a variable, data and a function. All equal citizens to Python.\n",
       "\n",
       "```python\n",
       "def sdir(x, colwidth=80):\n",
       "    \"\"\"\n",
       "    Directory of useful elements, wrapped\n",
       "    \"\"\"\n",
       "    from textwrap import fill\n",
       "\n",
       "    # all the work is in this line:\n",
       "    l = [i for i in dir(x) if i[0] != '_']\n",
       "\n",
       "    # frills to printout nicely\n",
       "    mx = max(map(len, l))\n",
       "    mx += 2\n",
       "    fs = f'{{:<{mx:d}s}}'\n",
       "    l = [fs.format(i) for i in l if i[0] != '_']\n",
       "    print(fill('\\t'.join(l), colwidth))\n",
       "\n",
       "sdir(str)\n",
       "\n",
       "```\n",
       "\n"
      ],
      "text/plain": [
       "<IPython.core.display.Markdown object>"
      ]
     },
     "metadata": {
      "tags": []
     },
     "output_type": "display_data"
    }
   ],
   "source": [
    "d()"
   ]
  },
  {
   "cell_type": "code",
   "execution_count": 41,
   "metadata": {
    "colab": {
     "base_uri": "https://localhost:8080/",
     "height": 170
    },
    "colab_type": "code",
    "executionInfo": {
     "elapsed": 1136,
     "status": "ok",
     "timestamp": 1595467348652,
     "user": {
      "displayName": "Jozeff KAPLAN",
      "photoUrl": "",
      "userId": "04250959772459181544"
     },
     "user_tz": 300
    },
    "id": "P4xoDDlGQgV6",
    "outputId": "6a2b59f2-75a1-49a8-9835-7df624b1c076"
   },
   "outputs": [
    {
     "name": "stdout",
     "output_type": "stream",
     "text": [
      "capitalize      casefold        center          count           encode\n",
      "endswith        expandtabs      find            format          format_map\n",
      "index           isalnum         isalpha         isdecimal       isdigit\n",
      "isidentifier    islower         isnumeric       isprintable     isspace\n",
      "istitle         isupper         join            ljust           lower\n",
      "lstrip          maketrans       partition       replace         rfind\n",
      "rindex          rjust           rpartition      rsplit          rstrip\n",
      "split           splitlines      startswith      strip           swapcase\n",
      "title           translate       upper           zfill\n"
     ]
    }
   ],
   "source": [
    "def sdir(x, colwidth=80):\n",
    "    \"\"\"\n",
    "    Directory of useful elements, wrapped\n",
    "    \"\"\"\n",
    "    from textwrap import fill\n",
    "\n",
    "    # all the work is in this line:\n",
    "    l = [i for i in dir(x) if i[0] != '_']\n",
    "\n",
    "    # frills to printout nicely\n",
    "    mx = max(map(len, l))\n",
    "    mx += 2\n",
    "    fs = f'{{:<{mx:d}s}}'\n",
    "    l = [fs.format(i) for i in l if i[0] != '_']\n",
    "    print(fill('\\t'.join(l), colwidth))\n",
    "\n",
    "sdir(str)"
   ]
  },
  {
   "cell_type": "code",
   "execution_count": 42,
   "metadata": {
    "colab": {},
    "colab_type": "code",
    "executionInfo": {
     "elapsed": 863,
     "status": "ok",
     "timestamp": 1595467457384,
     "user": {
      "displayName": "Jozeff KAPLAN",
      "photoUrl": "",
      "userId": "04250959772459181544"
     },
     "user_tz": 300
    },
    "id": "TYTCZDtUQ7Wa"
   },
   "outputs": [],
   "source": [
    "?str.strip #help on the side"
   ]
  },
  {
   "cell_type": "code",
   "execution_count": 43,
   "metadata": {
    "colab": {
     "base_uri": "https://localhost:8080/",
     "height": 412
    },
    "colab_type": "code",
    "executionInfo": {
     "elapsed": 813,
     "status": "ok",
     "timestamp": 1595467532013,
     "user": {
      "displayName": "Jozeff KAPLAN",
      "photoUrl": "",
      "userId": "04250959772459181544"
     },
     "user_tz": 300
    },
    "id": "XzqjfiA1RV9t",
    "outputId": "e47a4294-13aa-4e0d-8dd0-2f63c84f6acd"
   },
   "outputs": [
    {
     "data": {
      "text/markdown": [
       "## (b) Get all the Help\n",
       "\n",
       "`?function` or `help(function)` shows the help on a function. Custom functions can have help: the string immediately after the declaration.\n",
       "\n",
       "```python\n",
       "def all_doc(obj):\n",
       "    \"\"\"\n",
       "    print the documentation on every public callable method of obj\n",
       "    \"\"\"\n",
       "\n",
       "    s = f'{str(obj)} (type={type(obj)}) Documentation'\n",
       "    print(f'{s}\\n{\"=\"*len(s)}\\n\\ntype={type(obj)})\\n\\nMETHODS\\n=======\\n')\n",
       "\n",
       "    # iterate over methods\n",
       "    for x in dir(obj):\n",
       "        if x[0] != '_':\n",
       "            # get the method\n",
       "            method = getattr(obj, x)\n",
       "            if callable(method):\n",
       "                # if it is callable, i.e. a function, show help\n",
       "                # help lives in obj.__doc__\n",
       "                print(f'{x}\\n{\"~\"*len(x)}\\n{method.__doc__}\\n')\n",
       "\n",
       "all_doc(bytes)\n",
       "\n",
       "```\n",
       "\n"
      ],
      "text/plain": [
       "<IPython.core.display.Markdown object>"
      ]
     },
     "metadata": {
      "tags": []
     },
     "output_type": "display_data"
    }
   ],
   "source": [
    "d()"
   ]
  },
  {
   "cell_type": "code",
   "execution_count": 44,
   "metadata": {
    "colab": {
     "base_uri": "https://localhost:8080/",
     "height": 1000
    },
    "colab_type": "code",
    "executionInfo": {
     "elapsed": 986,
     "status": "ok",
     "timestamp": 1595467665789,
     "user": {
      "displayName": "Jozeff KAPLAN",
      "photoUrl": "",
      "userId": "04250959772459181544"
     },
     "user_tz": 300
    },
    "id": "jynNt4NDRoMl",
    "outputId": "0fc2ff8e-f05c-476e-ba64-e0c5fba3c79d"
   },
   "outputs": [
    {
     "name": "stdout",
     "output_type": "stream",
     "text": [
      "<class 'bytes'> (type=<class 'type'>) Documentation\n",
      "===================================================\n",
      "\n",
      "type=<class 'type'>)\n",
      "\n",
      "METHODS\n",
      "=======\n",
      "\n",
      "capitalize\n",
      "~~~~~~~~~~\n",
      "B.capitalize() -> copy of B\n",
      "\n",
      "Return a copy of B with only its first character capitalized (ASCII)\n",
      "and the rest lower-cased.\n",
      "\n",
      "center\n",
      "~~~~~~\n",
      "B.center(width[, fillchar]) -> copy of B\n",
      "\n",
      "Return B centered in a string of length width.  Padding is\n",
      "done using the specified fill character (default is a space).\n",
      "\n",
      "count\n",
      "~~~~~\n",
      "B.count(sub[, start[, end]]) -> int\n",
      "\n",
      "Return the number of non-overlapping occurrences of subsection sub in\n",
      "bytes B[start:end].  Optional arguments start and end are interpreted\n",
      "as in slice notation.\n",
      "\n",
      "decode\n",
      "~~~~~~\n",
      "Decode the bytes using the codec registered for encoding.\n",
      "\n",
      "  encoding\n",
      "    The encoding with which to decode the bytes.\n",
      "  errors\n",
      "    The error handling scheme to use for the handling of decoding errors.\n",
      "    The default is 'strict' meaning that decoding errors raise a\n",
      "    UnicodeDecodeError. Other possible values are 'ignore' and 'replace'\n",
      "    as well as any other name registered with codecs.register_error that\n",
      "    can handle UnicodeDecodeErrors.\n",
      "\n",
      "endswith\n",
      "~~~~~~~~\n",
      "B.endswith(suffix[, start[, end]]) -> bool\n",
      "\n",
      "Return True if B ends with the specified suffix, False otherwise.\n",
      "With optional start, test B beginning at that position.\n",
      "With optional end, stop comparing B at that position.\n",
      "suffix can also be a tuple of bytes to try.\n",
      "\n",
      "expandtabs\n",
      "~~~~~~~~~~\n",
      "B.expandtabs(tabsize=8) -> copy of B\n",
      "\n",
      "Return a copy of B where all tab characters are expanded using spaces.\n",
      "If tabsize is not given, a tab size of 8 characters is assumed.\n",
      "\n",
      "find\n",
      "~~~~\n",
      "B.find(sub[, start[, end]]) -> int\n",
      "\n",
      "Return the lowest index in B where subsection sub is found,\n",
      "such that sub is contained within B[start,end].  Optional\n",
      "arguments start and end are interpreted as in slice notation.\n",
      "\n",
      "Return -1 on failure.\n",
      "\n",
      "fromhex\n",
      "~~~~~~~\n",
      "Create a bytes object from a string of hexadecimal numbers.\n",
      "\n",
      "Spaces between two numbers are accepted.\n",
      "Example: bytes.fromhex('B9 01EF') -> b'\\\\xb9\\\\x01\\\\xef'.\n",
      "\n",
      "hex\n",
      "~~~\n",
      "B.hex() -> string\n",
      "\n",
      "Create a string of hexadecimal numbers from a bytes object.\n",
      "Example: b'\\xb9\\x01\\xef'.hex() -> 'b901ef'.\n",
      "\n",
      "index\n",
      "~~~~~\n",
      "B.index(sub[, start[, end]]) -> int\n",
      "\n",
      "Return the lowest index in B where subsection sub is found,\n",
      "such that sub is contained within B[start,end].  Optional\n",
      "arguments start and end are interpreted as in slice notation.\n",
      "\n",
      "Raises ValueError when the subsection is not found.\n",
      "\n",
      "isalnum\n",
      "~~~~~~~\n",
      "B.isalnum() -> bool\n",
      "\n",
      "Return True if all characters in B are alphanumeric\n",
      "and there is at least one character in B, False otherwise.\n",
      "\n",
      "isalpha\n",
      "~~~~~~~\n",
      "B.isalpha() -> bool\n",
      "\n",
      "Return True if all characters in B are alphabetic\n",
      "and there is at least one character in B, False otherwise.\n",
      "\n",
      "isdigit\n",
      "~~~~~~~\n",
      "B.isdigit() -> bool\n",
      "\n",
      "Return True if all characters in B are digits\n",
      "and there is at least one character in B, False otherwise.\n",
      "\n",
      "islower\n",
      "~~~~~~~\n",
      "B.islower() -> bool\n",
      "\n",
      "Return True if all cased characters in B are lowercase and there is\n",
      "at least one cased character in B, False otherwise.\n",
      "\n",
      "isspace\n",
      "~~~~~~~\n",
      "B.isspace() -> bool\n",
      "\n",
      "Return True if all characters in B are whitespace\n",
      "and there is at least one character in B, False otherwise.\n",
      "\n",
      "istitle\n",
      "~~~~~~~\n",
      "B.istitle() -> bool\n",
      "\n",
      "Return True if B is a titlecased string and there is at least one\n",
      "character in B, i.e. uppercase characters may only follow uncased\n",
      "characters and lowercase characters only cased ones. Return False\n",
      "otherwise.\n",
      "\n",
      "isupper\n",
      "~~~~~~~\n",
      "B.isupper() -> bool\n",
      "\n",
      "Return True if all cased characters in B are uppercase and there is\n",
      "at least one cased character in B, False otherwise.\n",
      "\n",
      "join\n",
      "~~~~\n",
      "Concatenate any number of bytes objects.\n",
      "\n",
      "The bytes whose method is called is inserted in between each pair.\n",
      "\n",
      "The result is returned as a new bytes object.\n",
      "\n",
      "Example: b'.'.join([b'ab', b'pq', b'rs']) -> b'ab.pq.rs'.\n",
      "\n",
      "ljust\n",
      "~~~~~\n",
      "B.ljust(width[, fillchar]) -> copy of B\n",
      "\n",
      "Return B left justified in a string of length width. Padding is\n",
      "done using the specified fill character (default is a space).\n",
      "\n",
      "lower\n",
      "~~~~~\n",
      "B.lower() -> copy of B\n",
      "\n",
      "Return a copy of B with all ASCII characters converted to lowercase.\n",
      "\n",
      "lstrip\n",
      "~~~~~~\n",
      "Strip leading bytes contained in the argument.\n",
      "\n",
      "If the argument is omitted or None, strip leading  ASCII whitespace.\n",
      "\n",
      "maketrans\n",
      "~~~~~~~~~\n",
      "Return a translation table useable for the bytes or bytearray translate method.\n",
      "\n",
      "The returned table will be one where each byte in frm is mapped to the byte at\n",
      "the same position in to.\n",
      "\n",
      "The bytes objects frm and to must be of the same length.\n",
      "\n",
      "partition\n",
      "~~~~~~~~~\n",
      "Partition the bytes into three parts using the given separator.\n",
      "\n",
      "This will search for the separator sep in the bytes. If the separator is found,\n",
      "returns a 3-tuple containing the part before the separator, the separator\n",
      "itself, and the part after it.\n",
      "\n",
      "If the separator is not found, returns a 3-tuple containing the original bytes\n",
      "object and two empty bytes objects.\n",
      "\n",
      "replace\n",
      "~~~~~~~\n",
      "Return a copy with all occurrences of substring old replaced by new.\n",
      "\n",
      "  count\n",
      "    Maximum number of occurrences to replace.\n",
      "    -1 (the default value) means replace all occurrences.\n",
      "\n",
      "If the optional argument count is given, only the first count occurrences are\n",
      "replaced.\n",
      "\n",
      "rfind\n",
      "~~~~~\n",
      "B.rfind(sub[, start[, end]]) -> int\n",
      "\n",
      "Return the highest index in B where subsection sub is found,\n",
      "such that sub is contained within B[start,end].  Optional\n",
      "arguments start and end are interpreted as in slice notation.\n",
      "\n",
      "Return -1 on failure.\n",
      "\n",
      "rindex\n",
      "~~~~~~\n",
      "B.rindex(sub[, start[, end]]) -> int\n",
      "\n",
      "Return the highest index in B where subsection sub is found,\n",
      "such that sub is contained within B[start,end].  Optional\n",
      "arguments start and end are interpreted as in slice notation.\n",
      "\n",
      "Raise ValueError when the subsection is not found.\n",
      "\n",
      "rjust\n",
      "~~~~~\n",
      "B.rjust(width[, fillchar]) -> copy of B\n",
      "\n",
      "Return B right justified in a string of length width. Padding is\n",
      "done using the specified fill character (default is a space)\n",
      "\n",
      "rpartition\n",
      "~~~~~~~~~~\n",
      "Partition the bytes into three parts using the given separator.\n",
      "\n",
      "This will search for the separator sep in the bytes, starting at the end. If\n",
      "the separator is found, returns a 3-tuple containing the part before the\n",
      "separator, the separator itself, and the part after it.\n",
      "\n",
      "If the separator is not found, returns a 3-tuple containing two empty bytes\n",
      "objects and the original bytes object.\n",
      "\n",
      "rsplit\n",
      "~~~~~~\n",
      "Return a list of the sections in the bytes, using sep as the delimiter.\n",
      "\n",
      "  sep\n",
      "    The delimiter according which to split the bytes.\n",
      "    None (the default value) means split on ASCII whitespace characters\n",
      "    (space, tab, return, newline, formfeed, vertical tab).\n",
      "  maxsplit\n",
      "    Maximum number of splits to do.\n",
      "    -1 (the default value) means no limit.\n",
      "\n",
      "Splitting is done starting at the end of the bytes and working to the front.\n",
      "\n",
      "rstrip\n",
      "~~~~~~\n",
      "Strip trailing bytes contained in the argument.\n",
      "\n",
      "If the argument is omitted or None, strip trailing ASCII whitespace.\n",
      "\n",
      "split\n",
      "~~~~~\n",
      "Return a list of the sections in the bytes, using sep as the delimiter.\n",
      "\n",
      "  sep\n",
      "    The delimiter according which to split the bytes.\n",
      "    None (the default value) means split on ASCII whitespace characters\n",
      "    (space, tab, return, newline, formfeed, vertical tab).\n",
      "  maxsplit\n",
      "    Maximum number of splits to do.\n",
      "    -1 (the default value) means no limit.\n",
      "\n",
      "splitlines\n",
      "~~~~~~~~~~\n",
      "Return a list of the lines in the bytes, breaking at line boundaries.\n",
      "\n",
      "Line breaks are not included in the resulting list unless keepends is given and\n",
      "true.\n",
      "\n",
      "startswith\n",
      "~~~~~~~~~~\n",
      "B.startswith(prefix[, start[, end]]) -> bool\n",
      "\n",
      "Return True if B starts with the specified prefix, False otherwise.\n",
      "With optional start, test B beginning at that position.\n",
      "With optional end, stop comparing B at that position.\n",
      "prefix can also be a tuple of bytes to try.\n",
      "\n",
      "strip\n",
      "~~~~~\n",
      "Strip leading and trailing bytes contained in the argument.\n",
      "\n",
      "If the argument is omitted or None, strip leading and trailing ASCII whitespace.\n",
      "\n",
      "swapcase\n",
      "~~~~~~~~\n",
      "B.swapcase() -> copy of B\n",
      "\n",
      "Return a copy of B with uppercase ASCII characters converted\n",
      "to lowercase ASCII and vice versa.\n",
      "\n",
      "title\n",
      "~~~~~\n",
      "B.title() -> copy of B\n",
      "\n",
      "Return a titlecased version of B, i.e. ASCII words start with uppercase\n",
      "characters, all remaining cased characters have lowercase.\n",
      "\n",
      "translate\n",
      "~~~~~~~~~\n",
      "Return a copy with each character mapped by the given translation table.\n",
      "\n",
      "  table\n",
      "    Translation table, which must be a bytes object of length 256.\n",
      "\n",
      "All characters occurring in the optional argument delete are removed.\n",
      "The remaining characters are mapped through the given translation table.\n",
      "\n",
      "upper\n",
      "~~~~~\n",
      "B.upper() -> copy of B\n",
      "\n",
      "Return a copy of B with all ASCII characters converted to uppercase.\n",
      "\n",
      "zfill\n",
      "~~~~~\n",
      "B.zfill(width) -> copy of B\n",
      "\n",
      "Pad a numeric string B with zeros on the left, to fill a field\n",
      "of the specified width.  B is never truncated.\n",
      "\n"
     ]
    }
   ],
   "source": [
    "def all_doc(obj):\n",
    "    \"\"\"\n",
    "    print the documentation on every public callable method of obj (all function that can be applied to object)\n",
    "    \"\"\"\n",
    "\n",
    "    s = f'{str(obj)} (type={type(obj)}) Documentation'\n",
    "    print(f'{s}\\n{\"=\"*len(s)}\\n\\ntype={type(obj)})\\n\\nMETHODS\\n=======\\n')\n",
    "\n",
    "    # iterate over methods\n",
    "    for x in dir(obj):\n",
    "        if x[0] != '_':\n",
    "            # get the method\n",
    "            method = getattr(obj, x)\n",
    "            if callable(method):\n",
    "                # if it is callable, i.e. a function, show help\n",
    "                # help lives in obj.__doc__\n",
    "                print(f'{x}\\n{\"~\"*len(x)}\\n{method.__doc__}\\n')\n",
    "\n",
    "all_doc(bytes)"
   ]
  },
  {
   "cell_type": "code",
   "execution_count": 46,
   "metadata": {
    "colab": {
     "base_uri": "https://localhost:8080/",
     "height": 1000
    },
    "colab_type": "code",
    "executionInfo": {
     "elapsed": 881,
     "status": "ok",
     "timestamp": 1595467856181,
     "user": {
      "displayName": "Jozeff KAPLAN",
      "photoUrl": "",
      "userId": "04250959772459181544"
     },
     "user_tz": 300
    },
    "id": "F0hRbn1GSI0J",
    "outputId": "9dffa195-a2cd-4598-9a1a-44b7f6175210"
   },
   "outputs": [
    {
     "name": "stdout",
     "output_type": "stream",
     "text": [
      "<class 'int'> (type=<class 'type'>) Documentation\n",
      "=================================================\n",
      "\n",
      "type=<class 'type'>)\n",
      "\n",
      "METHODS\n",
      "=======\n",
      "\n",
      "bit_length\n",
      "~~~~~~~~~~\n",
      "int.bit_length() -> int\n",
      "\n",
      "Number of bits necessary to represent self in binary.\n",
      ">>> bin(37)\n",
      "'0b100101'\n",
      ">>> (37).bit_length()\n",
      "6\n",
      "\n",
      "conjugate\n",
      "~~~~~~~~~\n",
      "Returns self, the complex conjugate of any int.\n",
      "\n",
      "from_bytes\n",
      "~~~~~~~~~~\n",
      "int.from_bytes(bytes, byteorder, *, signed=False) -> int\n",
      "\n",
      "Return the integer represented by the given array of bytes.\n",
      "\n",
      "The bytes argument must be a bytes-like object (e.g. bytes or bytearray).\n",
      "\n",
      "The byteorder argument determines the byte order used to represent the\n",
      "integer.  If byteorder is 'big', the most significant byte is at the\n",
      "beginning of the byte array.  If byteorder is 'little', the most\n",
      "significant byte is at the end of the byte array.  To request the native\n",
      "byte order of the host system, use `sys.byteorder' as the byte order value.\n",
      "\n",
      "The signed keyword-only argument indicates whether two's complement is\n",
      "used to represent the integer.\n",
      "\n",
      "to_bytes\n",
      "~~~~~~~~\n",
      "int.to_bytes(length, byteorder, *, signed=False) -> bytes\n",
      "\n",
      "Return an array of bytes representing an integer.\n",
      "\n",
      "The integer is represented using length bytes.  An OverflowError is\n",
      "raised if the integer is not representable with the given number of\n",
      "bytes.\n",
      "\n",
      "The byteorder argument determines the byte order used to represent the\n",
      "integer.  If byteorder is 'big', the most significant byte is at the\n",
      "beginning of the byte array.  If byteorder is 'little', the most\n",
      "significant byte is at the end of the byte array.  To request the native\n",
      "byte order of the host system, use `sys.byteorder' as the byte order value.\n",
      "\n",
      "The signed keyword-only argument determines whether two's complement is\n",
      "used to represent the integer.  If signed is False and a negative integer\n",
      "is given, an OverflowError is raised.\n",
      "\n"
     ]
    }
   ],
   "source": [
    "all_doc(int)"
   ]
  },
  {
   "cell_type": "code",
   "execution_count": 47,
   "metadata": {
    "colab": {
     "base_uri": "https://localhost:8080/",
     "height": 374
    },
    "colab_type": "code",
    "executionInfo": {
     "elapsed": 1365,
     "status": "ok",
     "timestamp": 1595467911708,
     "user": {
      "displayName": "Jozeff KAPLAN",
      "photoUrl": "",
      "userId": "04250959772459181544"
     },
     "user_tz": 300
    },
    "id": "IzjGjJIzSXyP",
    "outputId": "454e4dcc-2cd5-46e4-d324-02ba2006e1b8"
   },
   "outputs": [
    {
     "name": "stdout",
     "output_type": "stream",
     "text": [
      "The Zen of Python, by Tim Peters\n",
      "\n",
      "Beautiful is better than ugly.\n",
      "Explicit is better than implicit.\n",
      "Simple is better than complex.\n",
      "Complex is better than complicated.\n",
      "Flat is better than nested.\n",
      "Sparse is better than dense.\n",
      "Readability counts.\n",
      "Special cases aren't special enough to break the rules.\n",
      "Although practicality beats purity.\n",
      "Errors should never pass silently.\n",
      "Unless explicitly silenced.\n",
      "In the face of ambiguity, refuse the temptation to guess.\n",
      "There should be one-- and preferably only one --obvious way to do it.\n",
      "Although that way may not be obvious at first unless you're Dutch.\n",
      "Now is better than never.\n",
      "Although never is often better than *right* now.\n",
      "If the implementation is hard to explain, it's a bad idea.\n",
      "If the implementation is easy to explain, it may be a good idea.\n",
      "Namespaces are one honking great idea -- let's do more of those!\n"
     ]
    }
   ],
   "source": [
    "import this"
   ]
  },
  {
   "cell_type": "code",
   "execution_count": 48,
   "metadata": {
    "colab": {
     "base_uri": "https://localhost:8080/",
     "height": 446
    },
    "colab_type": "code",
    "executionInfo": {
     "elapsed": 1007,
     "status": "ok",
     "timestamp": 1595468032759,
     "user": {
      "displayName": "Jozeff KAPLAN",
      "photoUrl": "",
      "userId": "04250959772459181544"
     },
     "user_tz": 300
    },
    "id": "D0vMbm-dTEvw",
    "outputId": "2ee7b3cd-9636-4568-dfeb-a9ca388bd1bd"
   },
   "outputs": [
    {
     "data": {
      "text/markdown": [
       "## The Zen of Python\n",
       "\n",
       "`import this`\n",
       "\n",
       "    The Zen of Python, by Tim Peters\n",
       "\n",
       "    Beautiful is better than ugly.\n",
       "    Explicit is better than implicit.\n",
       "    Simple is better than complex.\n",
       "    Complex is better than complicated.\n",
       "    Flat is better than nested.\n",
       "    Sparse is better than dense.\n",
       "    Readability counts.\n",
       "    Special cases aren't special enough to break the rules.\n",
       "    Although practicality beats purity.\n",
       "    Errors should never pass silently.\n",
       "    Unless explicitly silenced.\n",
       "    In the face of ambiguity, refuse the temptation to guess.\n",
       "    There should be one-- and preferably only one --obvious way to do it.\n",
       "    Although that way may not be obvious at first unless you're Dutch.\n",
       "    Now is better than never.\n",
       "    Although never is often better than *right* now.\n",
       "    If the implementation is hard to explain, it's a bad idea.\n",
       "    If the implementation is easy to explain, it may be a good idea.\n",
       "    Namespaces are one honking great idea -- let's do more of those!\n",
       "\n"
      ],
      "text/plain": [
       "<IPython.core.display.Markdown object>"
      ]
     },
     "metadata": {
      "tags": []
     },
     "output_type": "display_data"
    }
   ],
   "source": [
    "d()"
   ]
  },
  {
   "cell_type": "code",
   "execution_count": 49,
   "metadata": {
    "colab": {
     "base_uri": "https://localhost:8080/",
     "height": 374
    },
    "colab_type": "code",
    "executionInfo": {
     "elapsed": 1135,
     "status": "ok",
     "timestamp": 1595468045813,
     "user": {
      "displayName": "Jozeff KAPLAN",
      "photoUrl": "",
      "userId": "04250959772459181544"
     },
     "user_tz": 300
    },
    "id": "-C2w4FTHTiZt",
    "outputId": "c1ee4c68-f0e5-454b-99dd-8f3e0be6f984"
   },
   "outputs": [
    {
     "data": {
      "text/markdown": [
       "## Module 1: Introduction\n",
       "* Libraries for today: `numpy` (`np`), `pandas` (`pd`), `matplotlib`, `matplotlib.pyplot` (`plt`)\n",
       "\n",
       "* `np.random`, `rand`, `lognormal`, `choice`, `poisson`\n",
       "\n",
       "* Select from list `np.random.choice(list('ABCDE'), 10)`\n",
       "\n",
       "* Select from list, non-uniform prior `np.random.choice(list('ABCDE'), 10, p=[.4,.3,.2,.05,.05])`\n",
       "\n",
       "* Dictionaries and dictionary comprehension: count letters in a sentence, `f = {i: s.count(i) for i in set(s)}`; apply to random selection using `''.join()` or convert to `list`\n",
       "\n",
       "* Start by importing, very important!\n",
       "\n",
       "```python\n",
       "import numpy as np\n",
       "\n",
       "r_letters = np.random.choice(list('ABCDE'), 10)\n",
       "\n",
       "r_unif = np.random.rand(10)\n",
       "\n",
       "r_lognorm = np.random.lognormal(10, .2, 10)\n",
       "\n",
       "r_letters, r_unif, r_lognorm\n",
       "```\n",
       "\n"
      ],
      "text/plain": [
       "<IPython.core.display.Markdown object>"
      ]
     },
     "metadata": {
      "tags": []
     },
     "output_type": "display_data"
    }
   ],
   "source": [
    "d()"
   ]
  },
  {
   "cell_type": "code",
   "execution_count": 50,
   "metadata": {
    "colab": {},
    "colab_type": "code",
    "executionInfo": {
     "elapsed": 981,
     "status": "ok",
     "timestamp": 1595468090095,
     "user": {
      "displayName": "Jozeff KAPLAN",
      "photoUrl": "",
      "userId": "04250959772459181544"
     },
     "user_tz": 300
    },
    "id": "0cj-wfqNTljc"
   },
   "outputs": [],
   "source": [
    "import numpy as np"
   ]
  },
  {
   "cell_type": "code",
   "execution_count": 51,
   "metadata": {
    "colab": {
     "base_uri": "https://localhost:8080/",
     "height": 1000
    },
    "colab_type": "code",
    "executionInfo": {
     "elapsed": 918,
     "status": "ok",
     "timestamp": 1595468149788,
     "user": {
      "displayName": "Jozeff KAPLAN",
      "photoUrl": "",
      "userId": "04250959772459181544"
     },
     "user_tz": 300
    },
    "id": "mfe8sDR4TwYr",
    "outputId": "b4f34dfc-49e1-4bd3-a61f-0f43b597d071"
   },
   "outputs": [
    {
     "name": "stdout",
     "output_type": "stream",
     "text": [
      "ALLOW_THREADS                   AxisError                       BUFSIZE\n",
      "CLIP                            ComplexWarning                  DataSource\n",
      "ERR_CALL                        ERR_DEFAULT                     ERR_IGNORE\n",
      "ERR_LOG                         ERR_PRINT                       ERR_RAISE\n",
      "ERR_WARN                        FLOATING_POINT_SUPPORT          FPE_DIVIDEBYZERO\n",
      "FPE_INVALID                     FPE_OVERFLOW                    FPE_UNDERFLOW\n",
      "False_                          Inf                             Infinity\n",
      "MAXDIMS                         MAY_SHARE_BOUNDS                MAY_SHARE_EXACT\n",
      "MachAr                          ModuleDeprecationWarning        NAN\n",
      "NINF                            NZERO                           NaN\n",
      "PINF                            PZERO                           RAISE\n",
      "RankWarning                     SHIFT_DIVIDEBYZERO              SHIFT_INVALID\n",
      "SHIFT_OVERFLOW                  SHIFT_UNDERFLOW                 ScalarType\n",
      "Tester                          TooHardError                    True_\n",
      "UFUNC_BUFSIZE_DEFAULT           UFUNC_PYVALS_NAME\n",
      "VisibleDeprecationWarning       WRAP                            abs\n",
      "absolute                        absolute_import                 add\n",
      "add_docstring                   add_newdoc                      add_newdoc_ufunc\n",
      "alen                            all                             allclose\n",
      "alltrue                         amax                            amin\n",
      "angle                           any                             append\n",
      "apply_along_axis                apply_over_axes                 arange\n",
      "arccos                          arccosh                         arcsin\n",
      "arcsinh                         arctan                          arctan2\n",
      "arctanh                         argmax                          argmin\n",
      "argpartition                    argsort                         argwhere\n",
      "around                          array                           array2string\n",
      "array_equal                     array_equiv                     array_repr\n",
      "array_split                     array_str                       asanyarray\n",
      "asarray                         asarray_chkfinite\n",
      "ascontiguousarray               asfarray                        asfortranarray\n",
      "asmatrix                        asscalar                        atleast_1d\n",
      "atleast_2d                      atleast_3d                      average\n",
      "bartlett                        base_repr                       binary_repr\n",
      "bincount                        bitwise_and                     bitwise_not\n",
      "bitwise_or                      bitwise_xor                     blackman\n",
      "block                           bmat                            bool\n",
      "bool8                           bool_                           broadcast\n",
      "broadcast_arrays                broadcast_to                    busday_count\n",
      "busday_offset                   busdaycalendar                  byte\n",
      "byte_bounds                     bytes0                          bytes_\n",
      "c_                              can_cast                        cast\n",
      "cbrt                            cdouble                         ceil\n",
      "cfloat                          char                            character\n",
      "chararray                       choose                          clip\n",
      "clongdouble                     clongfloat                      column_stack\n",
      "common_type                     compare_chararrays              compat\n",
      "complex                         complex128                      complex256\n",
      "complex64                       complex_                        complexfloating\n",
      "compress                        concatenate                     conj\n",
      "conjugate                       convolve                        copy\n",
      "copysign                        copyto                          core\n",
      "corrcoef                        correlate                       cos\n",
      "cosh                            count_nonzero                   cov\n",
      "cross                           csingle                         ctypeslib\n",
      "cumprod                         cumproduct                      cumsum\n",
      "datetime64                      datetime_as_string              datetime_data\n",
      "deg2rad                         degrees                         delete\n",
      "deprecate                       deprecate_with_doc              diag\n",
      "diag_indices                    diag_indices_from               diagflat\n",
      "diagonal                        diff                            digitize\n",
      "disp                            divide                          division\n",
      "divmod                          dot                             double\n",
      "dsplit                          dstack                          dtype\n",
      "e                               ediff1d                         einsum\n",
      "einsum_path                     emath                           empty\n",
      "empty_like                      equal                           errstate\n",
      "euler_gamma                     exp                             exp2\n",
      "expand_dims                     expm1                           extract\n",
      "eye                             fabs\n",
      "fastCopyAndTranspose            fft                             fill_diagonal\n",
      "find_common_type                finfo                           fix\n",
      "flatiter                        flatnonzero                     flexible\n",
      "flip                            fliplr                          flipud\n",
      "float                           float128                        float16\n",
      "float32                         float64                         float_\n",
      "float_power                     floating                        floor\n",
      "floor_divide                    fmax                            fmin\n",
      "fmod                            format_float_positional\n",
      "format_float_scientific         format_parser                   frexp\n",
      "frombuffer                      fromfile                        fromfunction\n",
      "fromiter                        frompyfunc                      fromregex\n",
      "fromstring                      full                            full_like\n",
      "fv                              gcd                             generic\n",
      "genfromtxt                      geomspace                       get_array_wrap\n",
      "get_include                     get_printoptions                getbufsize\n",
      "geterr                          geterrcall                      geterrobj\n",
      "gradient                        greater                         greater_equal\n",
      "half                            hamming                         hanning\n",
      "heaviside                       histogram                       histogram2d\n",
      "histogram_bin_edges             histogramdd                     hsplit\n",
      "hstack                          hypot                           i0\n",
      "identity                        iinfo                           imag\n",
      "in1d                            index_exp                       indices\n",
      "inexact                         inf                             info\n",
      "infty                           inner                           insert\n",
      "int                             int0                            int16\n",
      "int32                           int64                           int8\n",
      "int_                            int_asbuffer                    intc\n",
      "integer                         interp                          intersect1d\n",
      "intp                            invert                          ipmt\n",
      "irr                             is_busday                       isclose\n",
      "iscomplex                       iscomplexobj                    isfinite\n",
      "isfortran                       isin                            isinf\n",
      "isnan                           isnat                           isneginf\n",
      "isposinf                        isreal                          isrealobj\n",
      "isscalar                        issctype                        issubclass_\n",
      "issubdtype                      issubsctype                     iterable\n",
      "ix_                             kaiser                          kron\n",
      "lcm                             ldexp                           left_shift\n",
      "less                            less_equal                      lexsort\n",
      "lib                             linalg                          linspace\n",
      "little_endian                   load                            loads\n",
      "loadtxt                         log                             log10\n",
      "log1p                           log2                            logaddexp\n",
      "logaddexp2                      logical_and                     logical_not\n",
      "logical_or                      logical_xor                     logspace\n",
      "long                            longcomplex                     longdouble\n",
      "longfloat                       longlong                        lookfor\n",
      "ma                              mafromtxt                       mask_indices\n",
      "mat                             math                            matmul\n",
      "matrix                          matrixlib                       max\n",
      "maximum                         maximum_sctype                  may_share_memory\n",
      "mean                            median                          memmap\n",
      "meshgrid                        mgrid                           min\n",
      "min_scalar_type                 minimum                         mintypecode\n",
      "mirr                            mod                             modf\n",
      "moveaxis                        msort                           multiply\n",
      "nan                             nan_to_num                      nanargmax\n",
      "nanargmin                       nancumprod                      nancumsum\n",
      "nanmax                          nanmean                         nanmedian\n",
      "nanmin                          nanpercentile                   nanprod\n",
      "nanquantile                     nanstd                          nansum\n",
      "nanvar                          nbytes                          ndarray\n",
      "ndenumerate                     ndfromtxt                       ndim\n",
      "ndindex                         nditer                          negative\n",
      "nested_iters                    newaxis                         nextafter\n",
      "nonzero                         not_equal                       nper\n",
      "npv                             numarray                        number\n",
      "obj2sctype                      object                          object0\n",
      "object_                         ogrid                           oldnumeric\n",
      "ones                            ones_like                       outer\n",
      "packbits                        pad                             partition\n",
      "percentile                      pi                              piecewise\n",
      "place                           pmt                             poly\n",
      "poly1d                          polyadd                         polyder\n",
      "polydiv                         polyfit                         polyint\n",
      "polymul                         polynomial                      polysub\n",
      "polyval                         positive                        power\n",
      "ppmt                            print_function                  printoptions\n",
      "prod                            product                         promote_types\n",
      "ptp                             put                             put_along_axis\n",
      "putmask                         pv                              quantile\n",
      "r_                              rad2deg                         radians\n",
      "random                          rate                            ravel\n",
      "ravel_multi_index               real                            real_if_close\n",
      "rec                             recarray                        recfromcsv\n",
      "recfromtxt                      reciprocal                      record\n",
      "remainder                       repeat                          require\n",
      "reshape                         resize                          result_type\n",
      "right_shift                     rint                            roll\n",
      "rollaxis                        roots                           rot90\n",
      "round                           round_                          row_stack\n",
      "s_                              safe_eval                       save\n",
      "savetxt                         savez                           savez_compressed\n",
      "sctype2char                     sctypeDict                      sctypeNA\n",
      "sctypes                         searchsorted                    select\n",
      "set_numeric_ops                 set_printoptions\n",
      "set_string_function             setbufsize                      setdiff1d\n",
      "seterr                          seterrcall                      seterrobj\n",
      "setxor1d                        shape                           shares_memory\n",
      "short                           show_config                     sign\n",
      "signbit                         signedinteger                   sin\n",
      "sinc                            single                          singlecomplex\n",
      "sinh                            size                            sometrue\n",
      "sort                            sort_complex                    source\n",
      "spacing                         split                           sqrt\n",
      "square                          squeeze                         stack\n",
      "std                             str                             str0\n",
      "str_                            string_                         subtract\n",
      "sum                             swapaxes                        sys\n",
      "take                            take_along_axis                 tan\n",
      "tanh                            tensordot                       test\n",
      "testing                         tile                            timedelta64\n",
      "trace                           tracemalloc_domain              transpose\n",
      "trapz                           tri                             tril\n",
      "tril_indices                    tril_indices_from               trim_zeros\n",
      "triu                            triu_indices\n",
      "triu_indices_from               true_divide                     trunc\n",
      "typeDict                        typeNA                          typecodes\n",
      "typename                        ubyte                           ufunc\n",
      "uint                            uint0                           uint16\n",
      "uint32                          uint64                          uint8\n",
      "uintc                           uintp                           ulonglong\n",
      "unicode                         unicode_                        union1d\n",
      "unique                          unpackbits                      unravel_index\n",
      "unsignedinteger                 unwrap                          ushort\n",
      "vander                          var                             vdot\n",
      "vectorize                       version                         void\n",
      "void0                           vsplit                          vstack\n",
      "warnings                        where                           who\n",
      "zeros                           zeros_like\n"
     ]
    }
   ],
   "source": [
    "sdir(np)"
   ]
  },
  {
   "cell_type": "code",
   "execution_count": 52,
   "metadata": {
    "colab": {},
    "colab_type": "code",
    "executionInfo": {
     "elapsed": 802,
     "status": "ok",
     "timestamp": 1595468197321,
     "user": {
      "displayName": "Jozeff KAPLAN",
      "photoUrl": "",
      "userId": "04250959772459181544"
     },
     "user_tz": 300
    },
    "id": "A-1Yc7XRT-_c"
   },
   "outputs": [],
   "source": [
    "np.random? #Help to the right"
   ]
  },
  {
   "cell_type": "code",
   "execution_count": 53,
   "metadata": {
    "colab": {
     "base_uri": "https://localhost:8080/",
     "height": 51
    },
    "colab_type": "code",
    "executionInfo": {
     "elapsed": 905,
     "status": "ok",
     "timestamp": 1595468282177,
     "user": {
      "displayName": "Jozeff KAPLAN",
      "photoUrl": "",
      "userId": "04250959772459181544"
     },
     "user_tz": 300
    },
    "id": "1V85-OkqUKn9",
    "outputId": "59878b74-4559-4b1e-c290-2e20f2275007"
   },
   "outputs": [
    {
     "data": {
      "text/plain": [
       "array([0.77605192, 0.85671013, 0.41523315, 0.79706314, 0.99762287,\n",
       "       0.51665879, 0.93302285, 0.15944478, 0.13263181, 0.41524819])"
      ]
     },
     "execution_count": 53,
     "metadata": {
      "tags": []
     },
     "output_type": "execute_result"
    }
   ],
   "source": [
    "np.random.rand(10) #generates random numbers between 0 and 1"
   ]
  },
  {
   "cell_type": "code",
   "execution_count": 54,
   "metadata": {
    "colab": {
     "base_uri": "https://localhost:8080/",
     "height": 34
    },
    "colab_type": "code",
    "executionInfo": {
     "elapsed": 1014,
     "status": "ok",
     "timestamp": 1595468485078,
     "user": {
      "displayName": "Jozeff KAPLAN",
      "photoUrl": "",
      "userId": "04250959772459181544"
     },
     "user_tz": 300
    },
    "id": "uf-4vxprUfUl",
    "outputId": "c89c7dd0-daf0-47c3-d780-0bc8ceba278a"
   },
   "outputs": [
    {
     "data": {
      "text/plain": [
       "array(['B', 'C', 'B', 'C', 'C', 'D', 'C', 'D', 'C', 'A'], dtype='<U1')"
      ]
     },
     "execution_count": 54,
     "metadata": {
      "tags": []
     },
     "output_type": "execute_result"
    }
   ],
   "source": [
    "r_letters = np.random.choice(list('ABCDE'), 10) # 10 random from the list\n",
    "r_letters"
   ]
  },
  {
   "cell_type": "code",
   "execution_count": 55,
   "metadata": {
    "colab": {
     "base_uri": "https://localhost:8080/",
     "height": 34
    },
    "colab_type": "code",
    "executionInfo": {
     "elapsed": 1069,
     "status": "ok",
     "timestamp": 1595468526033,
     "user": {
      "displayName": "Jozeff KAPLAN",
      "photoUrl": "",
      "userId": "04250959772459181544"
     },
     "user_tz": 300
    },
    "id": "T-V3URGwVQ1h",
    "outputId": "dcb71306-aa15-4ff1-e0a7-2178d25b13e4"
   },
   "outputs": [
    {
     "data": {
      "text/plain": [
       "array([4, 2, 5, 1, 5, 6, 5, 1, 1, 1])"
      ]
     },
     "execution_count": 55,
     "metadata": {
      "tags": []
     },
     "output_type": "execute_result"
    }
   ],
   "source": [
    "np.random.choice([1, 2, 4, 5, 6,], 10)"
   ]
  },
  {
   "cell_type": "code",
   "execution_count": 56,
   "metadata": {
    "colab": {
     "base_uri": "https://localhost:8080/",
     "height": 68
    },
    "colab_type": "code",
    "executionInfo": {
     "elapsed": 926,
     "status": "ok",
     "timestamp": 1595468650882,
     "user": {
      "displayName": "Jozeff KAPLAN",
      "photoUrl": "",
      "userId": "04250959772459181544"
     },
     "user_tz": 300
    },
    "id": "z_tgD3UhVa0A",
    "outputId": "b23ce8e7-faf6-43d5-b59d-b8e46c94ecb5"
   },
   "outputs": [
    {
     "data": {
      "text/plain": [
       "array([140.80478148, 240.18980234,  99.10032642, 125.52890684,\n",
       "       210.87706425, 207.60736978,  79.47762172,  82.43946277,\n",
       "       168.51627316, 199.16740341])"
      ]
     },
     "execution_count": 56,
     "metadata": {
      "tags": []
     },
     "output_type": "execute_result"
    }
   ],
   "source": [
    "np.random.lognormal(mean=5, sigma=0.5, size= 10) #Random lognormal"
   ]
  },
  {
   "cell_type": "code",
   "execution_count": 58,
   "metadata": {
    "colab": {
     "base_uri": "https://localhost:8080/",
     "height": 34
    },
    "colab_type": "code",
    "executionInfo": {
     "elapsed": 917,
     "status": "ok",
     "timestamp": 1595468891217,
     "user": {
      "displayName": "Jozeff KAPLAN",
      "photoUrl": "",
      "userId": "04250959772459181544"
     },
     "user_tz": 300
    },
    "id": "BhMEu2j2V5Uc",
    "outputId": "f340c200-d79a-4b48-b997-0bd9fcce5872"
   },
   "outputs": [
    {
     "data": {
      "text/plain": [
       "array(['C', 'B', 'D', 'A', 'B', 'D', 'B', 'C', 'B', 'E'], dtype='<U1')"
      ]
     },
     "execution_count": 58,
     "metadata": {
      "tags": []
     },
     "output_type": "execute_result"
    }
   ],
   "source": [
    "x= np.random.choice(list('ABCDE'), 10, p=[.1, .5, .15, .15, .1]) # 10 random from the list with weight\n",
    "x"
   ]
  },
  {
   "cell_type": "code",
   "execution_count": 59,
   "metadata": {
    "colab": {
     "base_uri": "https://localhost:8080/",
     "height": 34
    },
    "colab_type": "code",
    "executionInfo": {
     "elapsed": 998,
     "status": "ok",
     "timestamp": 1595468897696,
     "user": {
      "displayName": "Jozeff KAPLAN",
      "photoUrl": "",
      "userId": "04250959772459181544"
     },
     "user_tz": 300
    },
    "id": "5BB83zt0WfOk",
    "outputId": "a9bb9e39-c41b-4da4-ee64-7adfa3ed8e62"
   },
   "outputs": [
    {
     "data": {
      "text/plain": [
       "{'A': 1, 'B': 4, 'C': 2, 'D': 2, 'E': 1}"
      ]
     },
     "execution_count": 59,
     "metadata": {
      "tags": []
     },
     "output_type": "execute_result"
    }
   ],
   "source": [
    "letter(list(x))"
   ]
  },
  {
   "cell_type": "code",
   "execution_count": 60,
   "metadata": {
    "colab": {
     "base_uri": "https://localhost:8080/",
     "height": 158
    },
    "colab_type": "code",
    "executionInfo": {
     "elapsed": 1045,
     "status": "ok",
     "timestamp": 1595469138002,
     "user": {
      "displayName": "Jozeff KAPLAN",
      "photoUrl": "",
      "userId": "04250959772459181544"
     },
     "user_tz": 300
    },
    "id": "FRjxhV6EW1j-",
    "outputId": "f566359a-ee04-4eae-f992-091840b421c7"
   },
   "outputs": [
    {
     "data": {
      "text/markdown": [
       "## Exercise\n",
       "\n",
       "* Simulate random letters from ABCDEF...\n",
       "\n",
       "* Summarize by letter and check you get distribution you expect, convert sample to list using `list(...)`\n",
       "\n",
       "* Add a prior distribution\n",
       "\n",
       "* Summarize again and check you get distribution you expect\n",
       "\n",
       "\n"
      ],
      "text/plain": [
       "<IPython.core.display.Markdown object>"
      ]
     },
     "metadata": {
      "tags": []
     },
     "output_type": "display_data"
    }
   ],
   "source": [
    "d()"
   ]
  },
  {
   "cell_type": "code",
   "execution_count": 61,
   "metadata": {
    "colab": {
     "base_uri": "https://localhost:8080/",
     "height": 277
    },
    "colab_type": "code",
    "executionInfo": {
     "elapsed": 1069,
     "status": "ok",
     "timestamp": 1595469244740,
     "user": {
      "displayName": "Jozeff KAPLAN",
      "photoUrl": "",
      "userId": "04250959772459181544"
     },
     "user_tz": 300
    },
    "id": "6r-O167HXwOh",
    "outputId": "84278057-52f7-42a3-e8ec-945292c7ca83"
   },
   "outputs": [
    {
     "data": {
      "text/markdown": [
       "## solutions to exercise\n",
       "\n",
       "\n",
       "* Simulate random letters from ABCDEF...\n",
       "\n",
       "* Summarize by letter and check you get distribution you expect, convert sample to list using `list(...)`\n",
       "\n",
       "* Add a prior distribution\n",
       "\n",
       "* Summarize again and check you get distribution you expect\n",
       "\n",
       "\n",
       "\n",
       "```python\n",
       "\n",
       "letters = list(np.random.choice(list('ABCDE'), 500, p=[.4,.3,.2,.05,.05]))\n",
       "n = len(letters)\n",
       "\n",
       "freq = { i: letters.count(i) / n for i in 'ABCDE'}\n",
       "\n",
       "freq\n",
       "```\n",
       "\n"
      ],
      "text/plain": [
       "<IPython.core.display.Markdown object>"
      ]
     },
     "metadata": {
      "tags": []
     },
     "output_type": "display_data"
    }
   ],
   "source": [
    "d()"
   ]
  },
  {
   "cell_type": "code",
   "execution_count": 63,
   "metadata": {
    "colab": {
     "base_uri": "https://localhost:8080/",
     "height": 51
    },
    "colab_type": "code",
    "executionInfo": {
     "elapsed": 823,
     "status": "ok",
     "timestamp": 1595469642555,
     "user": {
      "displayName": "Jozeff KAPLAN",
      "photoUrl": "",
      "userId": "04250959772459181544"
     },
     "user_tz": 300
    },
    "id": "S_5Zpw3TYKSA",
    "outputId": "9e8f9da2-5d3a-4ee9-eed7-a39249c54481"
   },
   "outputs": [
    {
     "name": "stdout",
     "output_type": "stream",
     "text": [
      "5000\n",
      "{'A': 0.404, 'B': 0.3014, 'C': 0.1952, 'D': 0.0504, 'E': 0.049}\n"
     ]
    }
   ],
   "source": [
    "letters = list(np.random.choice(list('ABCDE'), 5000, p=[.4,.3,.2,.05,.05]))\n",
    "n = len(letters)\n",
    "print(n)\n",
    "freq = { i: letters.count(i) / n for i in 'ABCDE'}\n",
    "\n",
    "print(freq)"
   ]
  },
  {
   "cell_type": "code",
   "execution_count": 64,
   "metadata": {
    "colab": {
     "base_uri": "https://localhost:8080/",
     "height": 89
    },
    "colab_type": "code",
    "executionInfo": {
     "elapsed": 1389,
     "status": "ok",
     "timestamp": 1595469788682,
     "user": {
      "displayName": "Jozeff KAPLAN",
      "photoUrl": "",
      "userId": "04250959772459181544"
     },
     "user_tz": 300
    },
    "id": "UCmNAEslZkgu",
    "outputId": "57294111-043e-46cd-fda2-90fb22f955ae"
   },
   "outputs": [
    {
     "data": {
      "text/markdown": [
       "## Module 2: Create a DataFrame and Access Elements\n",
       "\n",
       "Finally, Pandas: your spreadsheet in Python.\n",
       "\n",
       "\n"
      ],
      "text/plain": [
       "<IPython.core.display.Markdown object>"
      ]
     },
     "metadata": {
      "tags": []
     },
     "output_type": "display_data"
    }
   ],
   "source": [
    "d()"
   ]
  },
  {
   "cell_type": "code",
   "execution_count": 65,
   "metadata": {
    "colab": {
     "base_uri": "https://localhost:8080/",
     "height": 340
    },
    "colab_type": "code",
    "executionInfo": {
     "elapsed": 1084,
     "status": "ok",
     "timestamp": 1595469926854,
     "user": {
      "displayName": "Jozeff KAPLAN",
      "photoUrl": "",
      "userId": "04250959772459181544"
     },
     "user_tz": 300
    },
    "id": "HmWA6si5aO_Y",
    "outputId": "0ae3de3c-276d-4be0-9f47-3a459ee0f9b3"
   },
   "outputs": [
    {
     "data": {
      "text/markdown": [
       "## Creating a DataFrame\n",
       "* Create from dictionary: keys become column names.\n",
       "\n",
       "* Create from list of lists\n",
       "\n",
       "* Allows mixed data types.\n",
       "workd\n",
       "* Nice Jupyter Lab output.\n",
       "\n",
       "* Row and column indexes in bold\n",
       "\n",
       "* Again, start with import!\n",
       "\n",
       "```python\n",
       "import pandas as pd\n",
       "\n",
       "df  = pd.DataFrame({'a': range(100, 110),\n",
       "                    'b' : np.random.choice(list('ABCDEF'), 10),\n",
       "                    'c' : np.random.rand(10),\n",
       "                    'd': pd.to_datetime('2020/07/05')+pd.to_timedelta(np.arange(10), unit='D')\n",
       "                    })\n",
       "df\n",
       "```\n",
       "\n"
      ],
      "text/plain": [
       "<IPython.core.display.Markdown object>"
      ]
     },
     "metadata": {
      "tags": []
     },
     "output_type": "display_data"
    }
   ],
   "source": [
    "d()"
   ]
  },
  {
   "cell_type": "code",
   "execution_count": 67,
   "metadata": {
    "colab": {},
    "colab_type": "code",
    "executionInfo": {
     "elapsed": 958,
     "status": "ok",
     "timestamp": 1595469986475,
     "user": {
      "displayName": "Jozeff KAPLAN",
      "photoUrl": "",
      "userId": "04250959772459181544"
     },
     "user_tz": 300
    },
    "id": "4r9jNBJQawzR"
   },
   "outputs": [],
   "source": [
    "import pandas as pd #pandas stands for panel dataset"
   ]
  },
  {
   "cell_type": "code",
   "execution_count": 68,
   "metadata": {
    "colab": {},
    "colab_type": "code",
    "executionInfo": {
     "elapsed": 1028,
     "status": "ok",
     "timestamp": 1595470125849,
     "user": {
      "displayName": "Jozeff KAPLAN",
      "photoUrl": "",
      "userId": "04250959772459181544"
     },
     "user_tz": 300
    },
    "id": "LAcJCHAHa0i4"
   },
   "outputs": [],
   "source": [
    "df  = pd.DataFrame({'a': range(100, 110),\n",
    "                    'b' : np.random.choice(list('ABCDEF'), 10),\n",
    "                    'c' : np.random.rand(10),\n",
    "                    'd': pd.to_datetime('2020/07/05')+pd.to_timedelta(np.arange(10), unit='D')\n",
    "                    }) #Note all of them have 10 elements "
   ]
  },
  {
   "cell_type": "code",
   "execution_count": 69,
   "metadata": {
    "colab": {
     "base_uri": "https://localhost:8080/",
     "height": 359
    },
    "colab_type": "code",
    "executionInfo": {
     "elapsed": 1163,
     "status": "ok",
     "timestamp": 1595470138443,
     "user": {
      "displayName": "Jozeff KAPLAN",
      "photoUrl": "",
      "userId": "04250959772459181544"
     },
     "user_tz": 300
    },
    "id": "5xRoZ6WVbhZy",
    "outputId": "5de6552d-5319-43d6-8d64-02554bd66dcf"
   },
   "outputs": [
    {
     "data": {
      "text/html": [
       "<div>\n",
       "<style scoped>\n",
       "    .dataframe tbody tr th:only-of-type {\n",
       "        vertical-align: middle;\n",
       "    }\n",
       "\n",
       "    .dataframe tbody tr th {\n",
       "        vertical-align: top;\n",
       "    }\n",
       "\n",
       "    .dataframe thead th {\n",
       "        text-align: right;\n",
       "    }\n",
       "</style>\n",
       "<table border=\"1\" class=\"dataframe\">\n",
       "  <thead>\n",
       "    <tr style=\"text-align: right;\">\n",
       "      <th></th>\n",
       "      <th>a</th>\n",
       "      <th>b</th>\n",
       "      <th>c</th>\n",
       "      <th>d</th>\n",
       "    </tr>\n",
       "  </thead>\n",
       "  <tbody>\n",
       "    <tr>\n",
       "      <th>0</th>\n",
       "      <td>100</td>\n",
       "      <td>E</td>\n",
       "      <td>0.532879</td>\n",
       "      <td>2020-07-05</td>\n",
       "    </tr>\n",
       "    <tr>\n",
       "      <th>1</th>\n",
       "      <td>101</td>\n",
       "      <td>B</td>\n",
       "      <td>0.645058</td>\n",
       "      <td>2020-07-06</td>\n",
       "    </tr>\n",
       "    <tr>\n",
       "      <th>2</th>\n",
       "      <td>102</td>\n",
       "      <td>E</td>\n",
       "      <td>0.012896</td>\n",
       "      <td>2020-07-07</td>\n",
       "    </tr>\n",
       "    <tr>\n",
       "      <th>3</th>\n",
       "      <td>103</td>\n",
       "      <td>F</td>\n",
       "      <td>0.508681</td>\n",
       "      <td>2020-07-08</td>\n",
       "    </tr>\n",
       "    <tr>\n",
       "      <th>4</th>\n",
       "      <td>104</td>\n",
       "      <td>D</td>\n",
       "      <td>0.738695</td>\n",
       "      <td>2020-07-09</td>\n",
       "    </tr>\n",
       "    <tr>\n",
       "      <th>5</th>\n",
       "      <td>105</td>\n",
       "      <td>F</td>\n",
       "      <td>0.758085</td>\n",
       "      <td>2020-07-10</td>\n",
       "    </tr>\n",
       "    <tr>\n",
       "      <th>6</th>\n",
       "      <td>106</td>\n",
       "      <td>C</td>\n",
       "      <td>0.289746</td>\n",
       "      <td>2020-07-11</td>\n",
       "    </tr>\n",
       "    <tr>\n",
       "      <th>7</th>\n",
       "      <td>107</td>\n",
       "      <td>A</td>\n",
       "      <td>0.023462</td>\n",
       "      <td>2020-07-12</td>\n",
       "    </tr>\n",
       "    <tr>\n",
       "      <th>8</th>\n",
       "      <td>108</td>\n",
       "      <td>D</td>\n",
       "      <td>0.185474</td>\n",
       "      <td>2020-07-13</td>\n",
       "    </tr>\n",
       "    <tr>\n",
       "      <th>9</th>\n",
       "      <td>109</td>\n",
       "      <td>B</td>\n",
       "      <td>0.444915</td>\n",
       "      <td>2020-07-14</td>\n",
       "    </tr>\n",
       "  </tbody>\n",
       "</table>\n",
       "</div>"
      ],
      "text/plain": [
       "     a  b         c          d\n",
       "0  100  E  0.532879 2020-07-05\n",
       "1  101  B  0.645058 2020-07-06\n",
       "2  102  E  0.012896 2020-07-07\n",
       "3  103  F  0.508681 2020-07-08\n",
       "4  104  D  0.738695 2020-07-09\n",
       "5  105  F  0.758085 2020-07-10\n",
       "6  106  C  0.289746 2020-07-11\n",
       "7  107  A  0.023462 2020-07-12\n",
       "8  108  D  0.185474 2020-07-13\n",
       "9  109  B  0.444915 2020-07-14"
      ]
     },
     "execution_count": 69,
     "metadata": {
      "tags": []
     },
     "output_type": "execute_result"
    }
   ],
   "source": [
    "df"
   ]
  },
  {
   "cell_type": "code",
   "execution_count": 70,
   "metadata": {
    "colab": {
     "base_uri": "https://localhost:8080/",
     "height": 204
    },
    "colab_type": "code",
    "executionInfo": {
     "elapsed": 1249,
     "status": "ok",
     "timestamp": 1595470188214,
     "user": {
      "displayName": "Jozeff KAPLAN",
      "photoUrl": "",
      "userId": "04250959772459181544"
     },
     "user_tz": 300
    },
    "id": "FKTNHWLrbkcg",
    "outputId": "b7ed5a43-53e7-487b-a2a8-1f27f58d6c4f"
   },
   "outputs": [
    {
     "name": "stdout",
     "output_type": "stream",
     "text": [
      "     a  b         c          d\n",
      "0  100  E  0.532879 2020-07-05\n",
      "1  101  B  0.645058 2020-07-06\n",
      "2  102  E  0.012896 2020-07-07\n",
      "3  103  F  0.508681 2020-07-08\n",
      "4  104  D  0.738695 2020-07-09\n",
      "5  105  F  0.758085 2020-07-10\n",
      "6  106  C  0.289746 2020-07-11\n",
      "7  107  A  0.023462 2020-07-12\n",
      "8  108  D  0.185474 2020-07-13\n",
      "9  109  B  0.444915 2020-07-14\n"
     ]
    }
   ],
   "source": [
    "print(df)"
   ]
  },
  {
   "cell_type": "code",
   "execution_count": 71,
   "metadata": {
    "colab": {
     "base_uri": "https://localhost:8080/",
     "height": 102
    },
    "colab_type": "code",
    "executionInfo": {
     "elapsed": 855,
     "status": "ok",
     "timestamp": 1595470254475,
     "user": {
      "displayName": "Jozeff KAPLAN",
      "photoUrl": "",
      "userId": "04250959772459181544"
     },
     "user_tz": 300
    },
    "id": "2diI9AWwbwkT",
    "outputId": "c62d6a91-833a-42b5-ce49-e7d442a1a6ad"
   },
   "outputs": [
    {
     "data": {
      "text/plain": [
       "a             int64\n",
       "b            object\n",
       "c           float64\n",
       "d    datetime64[ns]\n",
       "dtype: object"
      ]
     },
     "execution_count": 71,
     "metadata": {
      "tags": []
     },
     "output_type": "execute_result"
    }
   ],
   "source": [
    "df.dtypes"
   ]
  },
  {
   "cell_type": "code",
   "execution_count": 72,
   "metadata": {
    "colab": {
     "base_uri": "https://localhost:8080/",
     "height": 244
    },
    "colab_type": "code",
    "executionInfo": {
     "elapsed": 1165,
     "status": "ok",
     "timestamp": 1595470316550,
     "user": {
      "displayName": "Jozeff KAPLAN",
      "photoUrl": "",
      "userId": "04250959772459181544"
     },
     "user_tz": 300
    },
    "id": "rZeJO42acA2S",
    "outputId": "72942beb-726e-4f0f-b9fa-48ded5375d16"
   },
   "outputs": [
    {
     "data": {
      "text/markdown": [
       "## Accessing Data within a DataFrame\n",
       "\n",
       "* Access column as item and attribute\n",
       "\n",
       "* Access row or element using  `loc` for row, both\n",
       "\n",
       "* Access with logic: `df.c < .25`,  `query`\n",
       "\n",
       "* Slicing with `loc`, `df.loc[1:4, 'a':'c']` **includes endpoints**; no well defined notion of the *one before* the end\n",
       "\n",
       "* Integer indexing `iloc`\n",
       "\n",
       "* `query`\n",
       "\n",
       "* `display` vs. `print`; intermediate results vs. final result\n",
       "\n",
       "```python\n",
       "df['a'], df.a\n",
       "\n",
       "```\n",
       "\n"
      ],
      "text/plain": [
       "<IPython.core.display.Markdown object>"
      ]
     },
     "metadata": {
      "tags": []
     },
     "output_type": "display_data"
    }
   ],
   "source": [
    "d()"
   ]
  },
  {
   "cell_type": "code",
   "execution_count": 73,
   "metadata": {
    "colab": {
     "base_uri": "https://localhost:8080/",
     "height": 374
    },
    "colab_type": "code",
    "executionInfo": {
     "elapsed": 959,
     "status": "ok",
     "timestamp": 1595470356346,
     "user": {
      "displayName": "Jozeff KAPLAN",
      "photoUrl": "",
      "userId": "04250959772459181544"
     },
     "user_tz": 300
    },
    "id": "eaPQ_3DdcP7e",
    "outputId": "bfc536cf-0043-465d-fd9b-a57041902a9f"
   },
   "outputs": [
    {
     "data": {
      "text/plain": [
       "(0    100\n",
       " 1    101\n",
       " 2    102\n",
       " 3    103\n",
       " 4    104\n",
       " 5    105\n",
       " 6    106\n",
       " 7    107\n",
       " 8    108\n",
       " 9    109\n",
       " Name: a, dtype: int64, 0    100\n",
       " 1    101\n",
       " 2    102\n",
       " 3    103\n",
       " 4    104\n",
       " 5    105\n",
       " 6    106\n",
       " 7    107\n",
       " 8    108\n",
       " 9    109\n",
       " Name: a, dtype: int64)"
      ]
     },
     "execution_count": 73,
     "metadata": {
      "tags": []
     },
     "output_type": "execute_result"
    }
   ],
   "source": [
    "df['a'], df.a"
   ]
  },
  {
   "cell_type": "code",
   "execution_count": 74,
   "metadata": {
    "colab": {
     "base_uri": "https://localhost:8080/",
     "height": 81
    },
    "colab_type": "code",
    "executionInfo": {
     "elapsed": 805,
     "status": "ok",
     "timestamp": 1595470382456,
     "user": {
      "displayName": "Jozeff KAPLAN",
      "photoUrl": "",
      "userId": "04250959772459181544"
     },
     "user_tz": 300
    },
    "id": "gE-BsTDpcZr8",
    "outputId": "7fc93216-faff-4eb1-a944-bf0a87e56904"
   },
   "outputs": [
    {
     "data": {
      "text/markdown": [
       "## Accessing Data within a DataFrame: Row Index\n",
       "\n",
       "```python\n",
       "df.loc[3]\n",
       "```\n",
       "\n"
      ],
      "text/plain": [
       "<IPython.core.display.Markdown object>"
      ]
     },
     "metadata": {
      "tags": []
     },
     "output_type": "display_data"
    }
   ],
   "source": [
    "d()"
   ]
  },
  {
   "cell_type": "code",
   "execution_count": 77,
   "metadata": {
    "colab": {
     "base_uri": "https://localhost:8080/",
     "height": 102
    },
    "colab_type": "code",
    "executionInfo": {
     "elapsed": 800,
     "status": "ok",
     "timestamp": 1595470461041,
     "user": {
      "displayName": "Jozeff KAPLAN",
      "photoUrl": "",
      "userId": "04250959772459181544"
     },
     "user_tz": 300
    },
    "id": "ut82xClvcgG7",
    "outputId": "b6ee9c83-9a6f-4aac-b184-429809dd4e67"
   },
   "outputs": [
    {
     "data": {
      "text/plain": [
       "a                    103\n",
       "b                      F\n",
       "c               0.508681\n",
       "d    2020-07-08 00:00:00\n",
       "Name: 3, dtype: object"
      ]
     },
     "execution_count": 77,
     "metadata": {
      "tags": []
     },
     "output_type": "execute_result"
    }
   ],
   "source": [
    "df.loc[3] #uses the index - this returns the series"
   ]
  },
  {
   "cell_type": "code",
   "execution_count": 78,
   "metadata": {
    "colab": {
     "base_uri": "https://localhost:8080/",
     "height": 80
    },
    "colab_type": "code",
    "executionInfo": {
     "elapsed": 962,
     "status": "ok",
     "timestamp": 1595470470726,
     "user": {
      "displayName": "Jozeff KAPLAN",
      "photoUrl": "",
      "userId": "04250959772459181544"
     },
     "user_tz": 300
    },
    "id": "S0n781gncj7b",
    "outputId": "0f3424d5-619b-4625-ba39-8c66d4bf37e9"
   },
   "outputs": [
    {
     "data": {
      "text/html": [
       "<div>\n",
       "<style scoped>\n",
       "    .dataframe tbody tr th:only-of-type {\n",
       "        vertical-align: middle;\n",
       "    }\n",
       "\n",
       "    .dataframe tbody tr th {\n",
       "        vertical-align: top;\n",
       "    }\n",
       "\n",
       "    .dataframe thead th {\n",
       "        text-align: right;\n",
       "    }\n",
       "</style>\n",
       "<table border=\"1\" class=\"dataframe\">\n",
       "  <thead>\n",
       "    <tr style=\"text-align: right;\">\n",
       "      <th></th>\n",
       "      <th>a</th>\n",
       "      <th>b</th>\n",
       "      <th>c</th>\n",
       "      <th>d</th>\n",
       "    </tr>\n",
       "  </thead>\n",
       "  <tbody>\n",
       "    <tr>\n",
       "      <th>3</th>\n",
       "      <td>103</td>\n",
       "      <td>F</td>\n",
       "      <td>0.508681</td>\n",
       "      <td>2020-07-08</td>\n",
       "    </tr>\n",
       "  </tbody>\n",
       "</table>\n",
       "</div>"
      ],
      "text/plain": [
       "     a  b         c          d\n",
       "3  103  F  0.508681 2020-07-08"
      ]
     },
     "execution_count": 78,
     "metadata": {
      "tags": []
     },
     "output_type": "execute_result"
    }
   ],
   "source": [
    " df.loc[[3]] #uses the index - this returns the dataframe"
   ]
  },
  {
   "cell_type": "code",
   "execution_count": 79,
   "metadata": {
    "colab": {
     "base_uri": "https://localhost:8080/",
     "height": 204
    },
    "colab_type": "code",
    "executionInfo": {
     "elapsed": 939,
     "status": "ok",
     "timestamp": 1595470507395,
     "user": {
      "displayName": "Jozeff KAPLAN",
      "photoUrl": "",
      "userId": "04250959772459181544"
     },
     "user_tz": 300
    },
    "id": "KtAFsq58c1nA",
    "outputId": "d5840fc7-4248-4c32-d3af-e57cc16f7bc4"
   },
   "outputs": [
    {
     "data": {
      "text/plain": [
       "0    100\n",
       "1    101\n",
       "2    102\n",
       "3    103\n",
       "4    104\n",
       "5    105\n",
       "6    106\n",
       "7    107\n",
       "8    108\n",
       "9    109\n",
       "Name: a, dtype: int64"
      ]
     },
     "execution_count": 79,
     "metadata": {
      "tags": []
     },
     "output_type": "execute_result"
    }
   ],
   "source": [
    "df['a'] "
   ]
  },
  {
   "cell_type": "code",
   "execution_count": 80,
   "metadata": {
    "colab": {
     "base_uri": "https://localhost:8080/",
     "height": 81
    },
    "colab_type": "code",
    "executionInfo": {
     "elapsed": 1399,
     "status": "ok",
     "timestamp": 1595470607394,
     "user": {
      "displayName": "Jozeff KAPLAN",
      "photoUrl": "",
      "userId": "04250959772459181544"
     },
     "user_tz": 300
    },
    "id": "SV-_gvHIc-kN",
    "outputId": "9696061d-7a3b-4eac-f90f-9e0909436b27"
   },
   "outputs": [
    {
     "data": {
      "text/markdown": [
       "## Accessing Data Within a DataFrame: Row and Column Index\n",
       "\n",
       "```python\n",
       "df.loc[3, 'd']\n",
       "```\n",
       "\n"
      ],
      "text/plain": [
       "<IPython.core.display.Markdown object>"
      ]
     },
     "metadata": {
      "tags": []
     },
     "output_type": "display_data"
    }
   ],
   "source": [
    "d()"
   ]
  },
  {
   "cell_type": "code",
   "execution_count": 81,
   "metadata": {
    "colab": {
     "base_uri": "https://localhost:8080/",
     "height": 34
    },
    "colab_type": "code",
    "executionInfo": {
     "elapsed": 996,
     "status": "ok",
     "timestamp": 1595470666507,
     "user": {
      "displayName": "Jozeff KAPLAN",
      "photoUrl": "",
      "userId": "04250959772459181544"
     },
     "user_tz": 300
    },
    "id": "5wxwPQBCdW4V",
    "outputId": "8b7f3429-31cf-4e35-bdf4-4cf276adffae"
   },
   "outputs": [
    {
     "data": {
      "text/plain": [
       "Timestamp('2020-07-08 00:00:00')"
      ]
     },
     "execution_count": 81,
     "metadata": {
      "tags": []
     },
     "output_type": "execute_result"
    }
   ],
   "source": [
    "\n",
    "df.loc[3, 'd'] #row index 3 and column index 'd'"
   ]
  },
  {
   "cell_type": "code",
   "execution_count": 82,
   "metadata": {
    "colab": {
     "base_uri": "https://localhost:8080/",
     "height": 81
    },
    "colab_type": "code",
    "executionInfo": {
     "elapsed": 948,
     "status": "ok",
     "timestamp": 1595470682784,
     "user": {
      "displayName": "Jozeff KAPLAN",
      "photoUrl": "",
      "userId": "04250959772459181544"
     },
     "user_tz": 300
    },
    "id": "W3NXeiY8dlZe",
    "outputId": "da33658c-3f31-4a77-d45c-f1a91605110f"
   },
   "outputs": [
    {
     "data": {
      "text/markdown": [
       "## Accessing Data Within a DataFrame: Range of Rows\n",
       "\n",
       "```python\n",
       "df.loc[:3]\n",
       "```\n",
       "\n"
      ],
      "text/plain": [
       "<IPython.core.display.Markdown object>"
      ]
     },
     "metadata": {
      "tags": []
     },
     "output_type": "display_data"
    }
   ],
   "source": [
    "d()"
   ]
  },
  {
   "cell_type": "code",
   "execution_count": 83,
   "metadata": {
    "colab": {
     "base_uri": "https://localhost:8080/",
     "height": 173
    },
    "colab_type": "code",
    "executionInfo": {
     "elapsed": 1020,
     "status": "ok",
     "timestamp": 1595470705043,
     "user": {
      "displayName": "Jozeff KAPLAN",
      "photoUrl": "",
      "userId": "04250959772459181544"
     },
     "user_tz": 300
    },
    "id": "SA-kb4sRdpZF",
    "outputId": "e258c39f-6494-454e-b306-94447dd2e6d3"
   },
   "outputs": [
    {
     "data": {
      "text/html": [
       "<div>\n",
       "<style scoped>\n",
       "    .dataframe tbody tr th:only-of-type {\n",
       "        vertical-align: middle;\n",
       "    }\n",
       "\n",
       "    .dataframe tbody tr th {\n",
       "        vertical-align: top;\n",
       "    }\n",
       "\n",
       "    .dataframe thead th {\n",
       "        text-align: right;\n",
       "    }\n",
       "</style>\n",
       "<table border=\"1\" class=\"dataframe\">\n",
       "  <thead>\n",
       "    <tr style=\"text-align: right;\">\n",
       "      <th></th>\n",
       "      <th>a</th>\n",
       "      <th>b</th>\n",
       "      <th>c</th>\n",
       "      <th>d</th>\n",
       "    </tr>\n",
       "  </thead>\n",
       "  <tbody>\n",
       "    <tr>\n",
       "      <th>0</th>\n",
       "      <td>100</td>\n",
       "      <td>E</td>\n",
       "      <td>0.532879</td>\n",
       "      <td>2020-07-05</td>\n",
       "    </tr>\n",
       "    <tr>\n",
       "      <th>1</th>\n",
       "      <td>101</td>\n",
       "      <td>B</td>\n",
       "      <td>0.645058</td>\n",
       "      <td>2020-07-06</td>\n",
       "    </tr>\n",
       "    <tr>\n",
       "      <th>2</th>\n",
       "      <td>102</td>\n",
       "      <td>E</td>\n",
       "      <td>0.012896</td>\n",
       "      <td>2020-07-07</td>\n",
       "    </tr>\n",
       "    <tr>\n",
       "      <th>3</th>\n",
       "      <td>103</td>\n",
       "      <td>F</td>\n",
       "      <td>0.508681</td>\n",
       "      <td>2020-07-08</td>\n",
       "    </tr>\n",
       "  </tbody>\n",
       "</table>\n",
       "</div>"
      ],
      "text/plain": [
       "     a  b         c          d\n",
       "0  100  E  0.532879 2020-07-05\n",
       "1  101  B  0.645058 2020-07-06\n",
       "2  102  E  0.012896 2020-07-07\n",
       "3  103  F  0.508681 2020-07-08"
      ]
     },
     "execution_count": 83,
     "metadata": {
      "tags": []
     },
     "output_type": "execute_result"
    }
   ],
   "source": [
    "df.loc[:3]"
   ]
  },
  {
   "cell_type": "code",
   "execution_count": 86,
   "metadata": {
    "colab": {
     "base_uri": "https://localhost:8080/",
     "height": 204
    },
    "colab_type": "code",
    "executionInfo": {
     "elapsed": 804,
     "status": "ok",
     "timestamp": 1595470816959,
     "user": {
      "displayName": "Jozeff KAPLAN",
      "photoUrl": "",
      "userId": "04250959772459181544"
     },
     "user_tz": 300
    },
    "id": "0_gqtwfieEKK",
    "outputId": "287c9358-a3c3-44a5-94cc-fcf5160d9359"
   },
   "outputs": [
    {
     "data": {
      "text/plain": [
       "0    0.532879\n",
       "1    0.645058\n",
       "2    0.012896\n",
       "3    0.508681\n",
       "4    0.738695\n",
       "5    0.758085\n",
       "6    0.289746\n",
       "7    0.023462\n",
       "8    0.185474\n",
       "9    0.444915\n",
       "Name: c, dtype: float64"
      ]
     },
     "execution_count": 86,
     "metadata": {
      "tags": []
     },
     "output_type": "execute_result"
    }
   ],
   "source": [
    "df.loc[:,'c'] #all elements of the columns"
   ]
  },
  {
   "cell_type": "code",
   "execution_count": 84,
   "metadata": {
    "colab": {
     "base_uri": "https://localhost:8080/",
     "height": 81
    },
    "colab_type": "code",
    "executionInfo": {
     "elapsed": 671,
     "status": "ok",
     "timestamp": 1595470715543,
     "user": {
      "displayName": "Jozeff KAPLAN",
      "photoUrl": "",
      "userId": "04250959772459181544"
     },
     "user_tz": 300
    },
    "id": "UG0pi1sBdu0A",
    "outputId": "77652150-7210-43e8-89e2-7509de10ebb0"
   },
   "outputs": [
    {
     "data": {
      "text/markdown": [
       "## Accessing Data Within a DataFrame: Range of Rows\n",
       "\n",
       "```python\n",
       "df.iloc[::2]\n",
       "```\n",
       "\n"
      ],
      "text/plain": [
       "<IPython.core.display.Markdown object>"
      ]
     },
     "metadata": {
      "tags": []
     },
     "output_type": "display_data"
    }
   ],
   "source": [
    "d()"
   ]
  },
  {
   "cell_type": "code",
   "execution_count": 87,
   "metadata": {
    "colab": {
     "base_uri": "https://localhost:8080/",
     "height": 359
    },
    "colab_type": "code",
    "executionInfo": {
     "elapsed": 1025,
     "status": "ok",
     "timestamp": 1595470907803,
     "user": {
      "displayName": "Jozeff KAPLAN",
      "photoUrl": "",
      "userId": "04250959772459181544"
     },
     "user_tz": 300
    },
    "id": "AuGgpcCidxdV",
    "outputId": "30bc6e49-441f-4245-9b34-e35a9dcea8e9"
   },
   "outputs": [
    {
     "data": {
      "text/html": [
       "<div>\n",
       "<style scoped>\n",
       "    .dataframe tbody tr th:only-of-type {\n",
       "        vertical-align: middle;\n",
       "    }\n",
       "\n",
       "    .dataframe tbody tr th {\n",
       "        vertical-align: top;\n",
       "    }\n",
       "\n",
       "    .dataframe thead th {\n",
       "        text-align: right;\n",
       "    }\n",
       "</style>\n",
       "<table border=\"1\" class=\"dataframe\">\n",
       "  <thead>\n",
       "    <tr style=\"text-align: right;\">\n",
       "      <th></th>\n",
       "      <th>a</th>\n",
       "      <th>b</th>\n",
       "      <th>c</th>\n",
       "      <th>d</th>\n",
       "    </tr>\n",
       "  </thead>\n",
       "  <tbody>\n",
       "    <tr>\n",
       "      <th>9</th>\n",
       "      <td>109</td>\n",
       "      <td>B</td>\n",
       "      <td>0.444915</td>\n",
       "      <td>2020-07-14</td>\n",
       "    </tr>\n",
       "    <tr>\n",
       "      <th>8</th>\n",
       "      <td>108</td>\n",
       "      <td>D</td>\n",
       "      <td>0.185474</td>\n",
       "      <td>2020-07-13</td>\n",
       "    </tr>\n",
       "    <tr>\n",
       "      <th>7</th>\n",
       "      <td>107</td>\n",
       "      <td>A</td>\n",
       "      <td>0.023462</td>\n",
       "      <td>2020-07-12</td>\n",
       "    </tr>\n",
       "    <tr>\n",
       "      <th>6</th>\n",
       "      <td>106</td>\n",
       "      <td>C</td>\n",
       "      <td>0.289746</td>\n",
       "      <td>2020-07-11</td>\n",
       "    </tr>\n",
       "    <tr>\n",
       "      <th>5</th>\n",
       "      <td>105</td>\n",
       "      <td>F</td>\n",
       "      <td>0.758085</td>\n",
       "      <td>2020-07-10</td>\n",
       "    </tr>\n",
       "    <tr>\n",
       "      <th>4</th>\n",
       "      <td>104</td>\n",
       "      <td>D</td>\n",
       "      <td>0.738695</td>\n",
       "      <td>2020-07-09</td>\n",
       "    </tr>\n",
       "    <tr>\n",
       "      <th>3</th>\n",
       "      <td>103</td>\n",
       "      <td>F</td>\n",
       "      <td>0.508681</td>\n",
       "      <td>2020-07-08</td>\n",
       "    </tr>\n",
       "    <tr>\n",
       "      <th>2</th>\n",
       "      <td>102</td>\n",
       "      <td>E</td>\n",
       "      <td>0.012896</td>\n",
       "      <td>2020-07-07</td>\n",
       "    </tr>\n",
       "    <tr>\n",
       "      <th>1</th>\n",
       "      <td>101</td>\n",
       "      <td>B</td>\n",
       "      <td>0.645058</td>\n",
       "      <td>2020-07-06</td>\n",
       "    </tr>\n",
       "    <tr>\n",
       "      <th>0</th>\n",
       "      <td>100</td>\n",
       "      <td>E</td>\n",
       "      <td>0.532879</td>\n",
       "      <td>2020-07-05</td>\n",
       "    </tr>\n",
       "  </tbody>\n",
       "</table>\n",
       "</div>"
      ],
      "text/plain": [
       "     a  b         c          d\n",
       "9  109  B  0.444915 2020-07-14\n",
       "8  108  D  0.185474 2020-07-13\n",
       "7  107  A  0.023462 2020-07-12\n",
       "6  106  C  0.289746 2020-07-11\n",
       "5  105  F  0.758085 2020-07-10\n",
       "4  104  D  0.738695 2020-07-09\n",
       "3  103  F  0.508681 2020-07-08\n",
       "2  102  E  0.012896 2020-07-07\n",
       "1  101  B  0.645058 2020-07-06\n",
       "0  100  E  0.532879 2020-07-05"
      ]
     },
     "execution_count": 87,
     "metadata": {
      "tags": []
     },
     "output_type": "execute_result"
    }
   ],
   "source": [
    "df.iloc[::-1] #all rows in reverse order"
   ]
  },
  {
   "cell_type": "code",
   "execution_count": 88,
   "metadata": {
    "colab": {
     "base_uri": "https://localhost:8080/",
     "height": 204
    },
    "colab_type": "code",
    "executionInfo": {
     "elapsed": 1208,
     "status": "ok",
     "timestamp": 1595470968164,
     "user": {
      "displayName": "Jozeff KAPLAN",
      "photoUrl": "",
      "userId": "04250959772459181544"
     },
     "user_tz": 300
    },
    "id": "bKGAOAZId1B3",
    "outputId": "dbde801b-c8a7-45a6-dbf7-45f94124b505"
   },
   "outputs": [
    {
     "data": {
      "text/html": [
       "<div>\n",
       "<style scoped>\n",
       "    .dataframe tbody tr th:only-of-type {\n",
       "        vertical-align: middle;\n",
       "    }\n",
       "\n",
       "    .dataframe tbody tr th {\n",
       "        vertical-align: top;\n",
       "    }\n",
       "\n",
       "    .dataframe thead th {\n",
       "        text-align: right;\n",
       "    }\n",
       "</style>\n",
       "<table border=\"1\" class=\"dataframe\">\n",
       "  <thead>\n",
       "    <tr style=\"text-align: right;\">\n",
       "      <th></th>\n",
       "      <th>a</th>\n",
       "      <th>b</th>\n",
       "      <th>c</th>\n",
       "      <th>d</th>\n",
       "    </tr>\n",
       "  </thead>\n",
       "  <tbody>\n",
       "    <tr>\n",
       "      <th>0</th>\n",
       "      <td>100</td>\n",
       "      <td>E</td>\n",
       "      <td>0.532879</td>\n",
       "      <td>2020-07-05</td>\n",
       "    </tr>\n",
       "    <tr>\n",
       "      <th>2</th>\n",
       "      <td>102</td>\n",
       "      <td>E</td>\n",
       "      <td>0.012896</td>\n",
       "      <td>2020-07-07</td>\n",
       "    </tr>\n",
       "    <tr>\n",
       "      <th>4</th>\n",
       "      <td>104</td>\n",
       "      <td>D</td>\n",
       "      <td>0.738695</td>\n",
       "      <td>2020-07-09</td>\n",
       "    </tr>\n",
       "    <tr>\n",
       "      <th>6</th>\n",
       "      <td>106</td>\n",
       "      <td>C</td>\n",
       "      <td>0.289746</td>\n",
       "      <td>2020-07-11</td>\n",
       "    </tr>\n",
       "    <tr>\n",
       "      <th>8</th>\n",
       "      <td>108</td>\n",
       "      <td>D</td>\n",
       "      <td>0.185474</td>\n",
       "      <td>2020-07-13</td>\n",
       "    </tr>\n",
       "  </tbody>\n",
       "</table>\n",
       "</div>"
      ],
      "text/plain": [
       "     a  b         c          d\n",
       "0  100  E  0.532879 2020-07-05\n",
       "2  102  E  0.012896 2020-07-07\n",
       "4  104  D  0.738695 2020-07-09\n",
       "6  106  C  0.289746 2020-07-11\n",
       "8  108  D  0.185474 2020-07-13"
      ]
     },
     "execution_count": 88,
     "metadata": {
      "tags": []
     },
     "output_type": "execute_result"
    }
   ],
   "source": [
    "df.iloc[::2] #all rows starting from index 2"
   ]
  },
  {
   "cell_type": "code",
   "execution_count": 89,
   "metadata": {
    "colab": {
     "base_uri": "https://localhost:8080/",
     "height": 81
    },
    "colab_type": "code",
    "executionInfo": {
     "elapsed": 1358,
     "status": "ok",
     "timestamp": 1595471091858,
     "user": {
      "displayName": "Jozeff KAPLAN",
      "photoUrl": "",
      "userId": "04250959772459181544"
     },
     "user_tz": 300
    },
    "id": "DWndYlwMevAY",
    "outputId": "5ca01e23-6c3b-4fe8-db7a-fc574bb52e43"
   },
   "outputs": [
    {
     "data": {
      "text/markdown": [
       "## Accessing Data Within a DataFrame: Logic\n",
       "\n",
       "```python\n",
       "df.a < 105\n",
       "```\n",
       "\n"
      ],
      "text/plain": [
       "<IPython.core.display.Markdown object>"
      ]
     },
     "metadata": {
      "tags": []
     },
     "output_type": "display_data"
    }
   ],
   "source": [
    "d()"
   ]
  },
  {
   "cell_type": "code",
   "execution_count": 90,
   "metadata": {
    "colab": {
     "base_uri": "https://localhost:8080/",
     "height": 204
    },
    "colab_type": "code",
    "executionInfo": {
     "elapsed": 1638,
     "status": "ok",
     "timestamp": 1595471110486,
     "user": {
      "displayName": "Jozeff KAPLAN",
      "photoUrl": "",
      "userId": "04250959772459181544"
     },
     "user_tz": 300
    },
    "id": "yrxL9o0ZfNKb",
    "outputId": "690fa12b-c908-49d6-94b5-f20059a91550"
   },
   "outputs": [
    {
     "data": {
      "text/plain": [
       "0     True\n",
       "1     True\n",
       "2     True\n",
       "3     True\n",
       "4     True\n",
       "5    False\n",
       "6    False\n",
       "7    False\n",
       "8    False\n",
       "9    False\n",
       "Name: a, dtype: bool"
      ]
     },
     "execution_count": 90,
     "metadata": {
      "tags": []
     },
     "output_type": "execute_result"
    }
   ],
   "source": [
    "df.a < 105"
   ]
  },
  {
   "cell_type": "code",
   "execution_count": 91,
   "metadata": {
    "colab": {
     "base_uri": "https://localhost:8080/",
     "height": 81
    },
    "colab_type": "code",
    "executionInfo": {
     "elapsed": 1683,
     "status": "ok",
     "timestamp": 1595471157318,
     "user": {
      "displayName": "Jozeff KAPLAN",
      "photoUrl": "",
      "userId": "04250959772459181544"
     },
     "user_tz": 300
    },
    "id": "2i_lWlXnfRpd",
    "outputId": "21c698d1-eb96-441b-a4a3-8eecf0bdbf09"
   },
   "outputs": [
    {
     "data": {
      "text/markdown": [
       "## Accessing Data Within a DataFrame: Logic\n",
       "\n",
       "```python\n",
       "df.loc[df.a < 105]\n",
       "```\n",
       "\n"
      ],
      "text/plain": [
       "<IPython.core.display.Markdown object>"
      ]
     },
     "metadata": {
      "tags": []
     },
     "output_type": "display_data"
    }
   ],
   "source": [
    "d()"
   ]
  },
  {
   "cell_type": "code",
   "execution_count": 92,
   "metadata": {
    "colab": {
     "base_uri": "https://localhost:8080/",
     "height": 204
    },
    "colab_type": "code",
    "executionInfo": {
     "elapsed": 1071,
     "status": "ok",
     "timestamp": 1595471167210,
     "user": {
      "displayName": "Jozeff KAPLAN",
      "photoUrl": "",
      "userId": "04250959772459181544"
     },
     "user_tz": 300
    },
    "id": "TSMdwSb-fdEF",
    "outputId": "51025f19-6652-4eb4-da07-c6f7a984d32e"
   },
   "outputs": [
    {
     "data": {
      "text/html": [
       "<div>\n",
       "<style scoped>\n",
       "    .dataframe tbody tr th:only-of-type {\n",
       "        vertical-align: middle;\n",
       "    }\n",
       "\n",
       "    .dataframe tbody tr th {\n",
       "        vertical-align: top;\n",
       "    }\n",
       "\n",
       "    .dataframe thead th {\n",
       "        text-align: right;\n",
       "    }\n",
       "</style>\n",
       "<table border=\"1\" class=\"dataframe\">\n",
       "  <thead>\n",
       "    <tr style=\"text-align: right;\">\n",
       "      <th></th>\n",
       "      <th>a</th>\n",
       "      <th>b</th>\n",
       "      <th>c</th>\n",
       "      <th>d</th>\n",
       "    </tr>\n",
       "  </thead>\n",
       "  <tbody>\n",
       "    <tr>\n",
       "      <th>0</th>\n",
       "      <td>100</td>\n",
       "      <td>E</td>\n",
       "      <td>0.532879</td>\n",
       "      <td>2020-07-05</td>\n",
       "    </tr>\n",
       "    <tr>\n",
       "      <th>1</th>\n",
       "      <td>101</td>\n",
       "      <td>B</td>\n",
       "      <td>0.645058</td>\n",
       "      <td>2020-07-06</td>\n",
       "    </tr>\n",
       "    <tr>\n",
       "      <th>2</th>\n",
       "      <td>102</td>\n",
       "      <td>E</td>\n",
       "      <td>0.012896</td>\n",
       "      <td>2020-07-07</td>\n",
       "    </tr>\n",
       "    <tr>\n",
       "      <th>3</th>\n",
       "      <td>103</td>\n",
       "      <td>F</td>\n",
       "      <td>0.508681</td>\n",
       "      <td>2020-07-08</td>\n",
       "    </tr>\n",
       "    <tr>\n",
       "      <th>4</th>\n",
       "      <td>104</td>\n",
       "      <td>D</td>\n",
       "      <td>0.738695</td>\n",
       "      <td>2020-07-09</td>\n",
       "    </tr>\n",
       "  </tbody>\n",
       "</table>\n",
       "</div>"
      ],
      "text/plain": [
       "     a  b         c          d\n",
       "0  100  E  0.532879 2020-07-05\n",
       "1  101  B  0.645058 2020-07-06\n",
       "2  102  E  0.012896 2020-07-07\n",
       "3  103  F  0.508681 2020-07-08\n",
       "4  104  D  0.738695 2020-07-09"
      ]
     },
     "execution_count": 92,
     "metadata": {
      "tags": []
     },
     "output_type": "execute_result"
    }
   ],
   "source": [
    "df.loc[df.a < 105]"
   ]
  },
  {
   "cell_type": "code",
   "execution_count": 93,
   "metadata": {
    "colab": {
     "base_uri": "https://localhost:8080/",
     "height": 152
    },
    "colab_type": "code",
    "executionInfo": {
     "elapsed": 1022,
     "status": "ok",
     "timestamp": 1595471178163,
     "user": {
      "displayName": "Jozeff KAPLAN",
      "photoUrl": "",
      "userId": "04250959772459181544"
     },
     "user_tz": 300
    },
    "id": "ZfD-OQQFffoN",
    "outputId": "7dded781-6731-426f-8d20-4e56707b4824"
   },
   "outputs": [
    {
     "data": {
      "text/markdown": [
       "## Accessing Data Within a DataFrame: The Query Operator\n",
       "\n",
       "* Very powerful, very fast\n",
       "\n",
       "* SQL like\n",
       "\n",
       "* Access elements with @\n",
       "\n",
       "```python\n",
       "df.query(' .4 < c < .8 ')\n",
       "```\n",
       "\n"
      ],
      "text/plain": [
       "<IPython.core.display.Markdown object>"
      ]
     },
     "metadata": {
      "tags": []
     },
     "output_type": "display_data"
    }
   ],
   "source": [
    "d()"
   ]
  },
  {
   "cell_type": "code",
   "execution_count": 94,
   "metadata": {
    "colab": {
     "base_uri": "https://localhost:8080/",
     "height": 235
    },
    "colab_type": "code",
    "executionInfo": {
     "elapsed": 1680,
     "status": "ok",
     "timestamp": 1595471242687,
     "user": {
      "displayName": "Jozeff KAPLAN",
      "photoUrl": "",
      "userId": "04250959772459181544"
     },
     "user_tz": 300
    },
    "id": "Ir_2jlCffiTy",
    "outputId": "848d7848-2015-4b2e-9529-4880a112500d"
   },
   "outputs": [
    {
     "data": {
      "text/html": [
       "<div>\n",
       "<style scoped>\n",
       "    .dataframe tbody tr th:only-of-type {\n",
       "        vertical-align: middle;\n",
       "    }\n",
       "\n",
       "    .dataframe tbody tr th {\n",
       "        vertical-align: top;\n",
       "    }\n",
       "\n",
       "    .dataframe thead th {\n",
       "        text-align: right;\n",
       "    }\n",
       "</style>\n",
       "<table border=\"1\" class=\"dataframe\">\n",
       "  <thead>\n",
       "    <tr style=\"text-align: right;\">\n",
       "      <th></th>\n",
       "      <th>a</th>\n",
       "      <th>b</th>\n",
       "      <th>c</th>\n",
       "      <th>d</th>\n",
       "    </tr>\n",
       "  </thead>\n",
       "  <tbody>\n",
       "    <tr>\n",
       "      <th>0</th>\n",
       "      <td>100</td>\n",
       "      <td>E</td>\n",
       "      <td>0.532879</td>\n",
       "      <td>2020-07-05</td>\n",
       "    </tr>\n",
       "    <tr>\n",
       "      <th>1</th>\n",
       "      <td>101</td>\n",
       "      <td>B</td>\n",
       "      <td>0.645058</td>\n",
       "      <td>2020-07-06</td>\n",
       "    </tr>\n",
       "    <tr>\n",
       "      <th>3</th>\n",
       "      <td>103</td>\n",
       "      <td>F</td>\n",
       "      <td>0.508681</td>\n",
       "      <td>2020-07-08</td>\n",
       "    </tr>\n",
       "    <tr>\n",
       "      <th>4</th>\n",
       "      <td>104</td>\n",
       "      <td>D</td>\n",
       "      <td>0.738695</td>\n",
       "      <td>2020-07-09</td>\n",
       "    </tr>\n",
       "    <tr>\n",
       "      <th>5</th>\n",
       "      <td>105</td>\n",
       "      <td>F</td>\n",
       "      <td>0.758085</td>\n",
       "      <td>2020-07-10</td>\n",
       "    </tr>\n",
       "    <tr>\n",
       "      <th>9</th>\n",
       "      <td>109</td>\n",
       "      <td>B</td>\n",
       "      <td>0.444915</td>\n",
       "      <td>2020-07-14</td>\n",
       "    </tr>\n",
       "  </tbody>\n",
       "</table>\n",
       "</div>"
      ],
      "text/plain": [
       "     a  b         c          d\n",
       "0  100  E  0.532879 2020-07-05\n",
       "1  101  B  0.645058 2020-07-06\n",
       "3  103  F  0.508681 2020-07-08\n",
       "4  104  D  0.738695 2020-07-09\n",
       "5  105  F  0.758085 2020-07-10\n",
       "9  109  B  0.444915 2020-07-14"
      ]
     },
     "execution_count": 94,
     "metadata": {
      "tags": []
     },
     "output_type": "execute_result"
    }
   ],
   "source": [
    "df.query(' .4 < c < .8 ')"
   ]
  },
  {
   "cell_type": "code",
   "execution_count": 101,
   "metadata": {
    "colab": {
     "base_uri": "https://localhost:8080/",
     "height": 80
    },
    "colab_type": "code",
    "executionInfo": {
     "elapsed": 2390,
     "status": "ok",
     "timestamp": 1595471474078,
     "user": {
      "displayName": "Jozeff KAPLAN",
      "photoUrl": "",
      "userId": "04250959772459181544"
     },
     "user_tz": 300
    },
    "id": "p_4h9JbRfx40",
    "outputId": "23a7251c-3014-4bd7-c357-7f44f887e89a"
   },
   "outputs": [
    {
     "data": {
      "text/html": [
       "<div>\n",
       "<style scoped>\n",
       "    .dataframe tbody tr th:only-of-type {\n",
       "        vertical-align: middle;\n",
       "    }\n",
       "\n",
       "    .dataframe tbody tr th {\n",
       "        vertical-align: top;\n",
       "    }\n",
       "\n",
       "    .dataframe thead th {\n",
       "        text-align: right;\n",
       "    }\n",
       "</style>\n",
       "<table border=\"1\" class=\"dataframe\">\n",
       "  <thead>\n",
       "    <tr style=\"text-align: right;\">\n",
       "      <th></th>\n",
       "      <th>a</th>\n",
       "      <th>b</th>\n",
       "      <th>c</th>\n",
       "      <th>d</th>\n",
       "    </tr>\n",
       "  </thead>\n",
       "  <tbody>\n",
       "    <tr>\n",
       "      <th>4</th>\n",
       "      <td>104</td>\n",
       "      <td>D</td>\n",
       "      <td>0.738695</td>\n",
       "      <td>2020-07-09</td>\n",
       "    </tr>\n",
       "  </tbody>\n",
       "</table>\n",
       "</div>"
      ],
      "text/plain": [
       "     a  b         c          d\n",
       "4  104  D  0.738695 2020-07-09"
      ]
     },
     "execution_count": 101,
     "metadata": {
      "tags": []
     },
     "output_type": "execute_result"
    }
   ],
   "source": [
    "df.query(' c >= .5 and b == \"D\" ') "
   ]
  },
  {
   "cell_type": "code",
   "execution_count": 102,
   "metadata": {
    "colab": {
     "base_uri": "https://localhost:8080/",
     "height": 237
    },
    "colab_type": "code",
    "executionInfo": {
     "elapsed": 1384,
     "status": "ok",
     "timestamp": 1595471552206,
     "user": {
      "displayName": "Jozeff KAPLAN",
      "photoUrl": "",
      "userId": "04250959772459181544"
     },
     "user_tz": 300
    },
    "id": "OZJZN7mogHOT",
    "outputId": "95f0c446-04dc-4d84-d3e7-822ac87120a0"
   },
   "outputs": [
    {
     "data": {
      "text/markdown": [
       "## Add Data\n",
       "\n",
       "* Create new columns with math, from old columns\n",
       "\n",
       "* Create new row\n",
       "\n",
       "* Can't create on the fly like tidyverse\n",
       "\n",
       "```python\n",
       "\n",
       "df['E'] = df.a / df.c\n",
       "\n",
       "df.loc[100, :] = (110, 'Z', .11223344, pd.to_datetime('2020/11/03'), np.nan)\n",
       "\n",
       "display(df)\n",
       "```\n",
       "\n"
      ],
      "text/plain": [
       "<IPython.core.display.Markdown object>"
      ]
     },
     "metadata": {
      "tags": []
     },
     "output_type": "display_data"
    }
   ],
   "source": [
    "d()"
   ]
  },
  {
   "cell_type": "code",
   "execution_count": 103,
   "metadata": {
    "colab": {
     "base_uri": "https://localhost:8080/",
     "height": 359
    },
    "colab_type": "code",
    "executionInfo": {
     "elapsed": 967,
     "status": "ok",
     "timestamp": 1595471613826,
     "user": {
      "displayName": "Jozeff KAPLAN",
      "photoUrl": "",
      "userId": "04250959772459181544"
     },
     "user_tz": 300
    },
    "id": "W2jArHmLg9iv",
    "outputId": "e902c210-931d-41df-bb50-4e5a938bd6e9"
   },
   "outputs": [
    {
     "data": {
      "text/html": [
       "<div>\n",
       "<style scoped>\n",
       "    .dataframe tbody tr th:only-of-type {\n",
       "        vertical-align: middle;\n",
       "    }\n",
       "\n",
       "    .dataframe tbody tr th {\n",
       "        vertical-align: top;\n",
       "    }\n",
       "\n",
       "    .dataframe thead th {\n",
       "        text-align: right;\n",
       "    }\n",
       "</style>\n",
       "<table border=\"1\" class=\"dataframe\">\n",
       "  <thead>\n",
       "    <tr style=\"text-align: right;\">\n",
       "      <th></th>\n",
       "      <th>a</th>\n",
       "      <th>b</th>\n",
       "      <th>c</th>\n",
       "      <th>d</th>\n",
       "      <th>E</th>\n",
       "    </tr>\n",
       "  </thead>\n",
       "  <tbody>\n",
       "    <tr>\n",
       "      <th>0</th>\n",
       "      <td>100</td>\n",
       "      <td>E</td>\n",
       "      <td>0.532879</td>\n",
       "      <td>2020-07-05</td>\n",
       "      <td>187.659795</td>\n",
       "    </tr>\n",
       "    <tr>\n",
       "      <th>1</th>\n",
       "      <td>101</td>\n",
       "      <td>B</td>\n",
       "      <td>0.645058</td>\n",
       "      <td>2020-07-06</td>\n",
       "      <td>156.575042</td>\n",
       "    </tr>\n",
       "    <tr>\n",
       "      <th>2</th>\n",
       "      <td>102</td>\n",
       "      <td>E</td>\n",
       "      <td>0.012896</td>\n",
       "      <td>2020-07-07</td>\n",
       "      <td>7909.732129</td>\n",
       "    </tr>\n",
       "    <tr>\n",
       "      <th>3</th>\n",
       "      <td>103</td>\n",
       "      <td>F</td>\n",
       "      <td>0.508681</td>\n",
       "      <td>2020-07-08</td>\n",
       "      <td>202.484352</td>\n",
       "    </tr>\n",
       "    <tr>\n",
       "      <th>4</th>\n",
       "      <td>104</td>\n",
       "      <td>D</td>\n",
       "      <td>0.738695</td>\n",
       "      <td>2020-07-09</td>\n",
       "      <td>140.788805</td>\n",
       "    </tr>\n",
       "    <tr>\n",
       "      <th>5</th>\n",
       "      <td>105</td>\n",
       "      <td>F</td>\n",
       "      <td>0.758085</td>\n",
       "      <td>2020-07-10</td>\n",
       "      <td>138.506870</td>\n",
       "    </tr>\n",
       "    <tr>\n",
       "      <th>6</th>\n",
       "      <td>106</td>\n",
       "      <td>C</td>\n",
       "      <td>0.289746</td>\n",
       "      <td>2020-07-11</td>\n",
       "      <td>365.838062</td>\n",
       "    </tr>\n",
       "    <tr>\n",
       "      <th>7</th>\n",
       "      <td>107</td>\n",
       "      <td>A</td>\n",
       "      <td>0.023462</td>\n",
       "      <td>2020-07-12</td>\n",
       "      <td>4560.528619</td>\n",
       "    </tr>\n",
       "    <tr>\n",
       "      <th>8</th>\n",
       "      <td>108</td>\n",
       "      <td>D</td>\n",
       "      <td>0.185474</td>\n",
       "      <td>2020-07-13</td>\n",
       "      <td>582.291134</td>\n",
       "    </tr>\n",
       "    <tr>\n",
       "      <th>9</th>\n",
       "      <td>109</td>\n",
       "      <td>B</td>\n",
       "      <td>0.444915</td>\n",
       "      <td>2020-07-14</td>\n",
       "      <td>244.990503</td>\n",
       "    </tr>\n",
       "  </tbody>\n",
       "</table>\n",
       "</div>"
      ],
      "text/plain": [
       "     a  b         c          d            E\n",
       "0  100  E  0.532879 2020-07-05   187.659795\n",
       "1  101  B  0.645058 2020-07-06   156.575042\n",
       "2  102  E  0.012896 2020-07-07  7909.732129\n",
       "3  103  F  0.508681 2020-07-08   202.484352\n",
       "4  104  D  0.738695 2020-07-09   140.788805\n",
       "5  105  F  0.758085 2020-07-10   138.506870\n",
       "6  106  C  0.289746 2020-07-11   365.838062\n",
       "7  107  A  0.023462 2020-07-12  4560.528619\n",
       "8  108  D  0.185474 2020-07-13   582.291134\n",
       "9  109  B  0.444915 2020-07-14   244.990503"
      ]
     },
     "execution_count": 103,
     "metadata": {
      "tags": []
     },
     "output_type": "execute_result"
    }
   ],
   "source": [
    "df['E'] = df.a / df.c\n",
    "df"
   ]
  },
  {
   "cell_type": "code",
   "execution_count": 105,
   "metadata": {
    "colab": {
     "base_uri": "https://localhost:8080/",
     "height": 390
    },
    "colab_type": "code",
    "executionInfo": {
     "elapsed": 761,
     "status": "ok",
     "timestamp": 1595471715204,
     "user": {
      "displayName": "Jozeff KAPLAN",
      "photoUrl": "",
      "userId": "04250959772459181544"
     },
     "user_tz": 300
    },
    "id": "9rueT0SohMr2",
    "outputId": "99b9e22d-4cb5-4886-bd65-fe029a45f6ef"
   },
   "outputs": [
    {
     "data": {
      "text/html": [
       "<div>\n",
       "<style scoped>\n",
       "    .dataframe tbody tr th:only-of-type {\n",
       "        vertical-align: middle;\n",
       "    }\n",
       "\n",
       "    .dataframe tbody tr th {\n",
       "        vertical-align: top;\n",
       "    }\n",
       "\n",
       "    .dataframe thead th {\n",
       "        text-align: right;\n",
       "    }\n",
       "</style>\n",
       "<table border=\"1\" class=\"dataframe\">\n",
       "  <thead>\n",
       "    <tr style=\"text-align: right;\">\n",
       "      <th></th>\n",
       "      <th>a</th>\n",
       "      <th>b</th>\n",
       "      <th>c</th>\n",
       "      <th>d</th>\n",
       "      <th>E</th>\n",
       "    </tr>\n",
       "  </thead>\n",
       "  <tbody>\n",
       "    <tr>\n",
       "      <th>0</th>\n",
       "      <td>100.0</td>\n",
       "      <td>E</td>\n",
       "      <td>0.532879</td>\n",
       "      <td>2020-07-05</td>\n",
       "      <td>187.659795</td>\n",
       "    </tr>\n",
       "    <tr>\n",
       "      <th>1</th>\n",
       "      <td>101.0</td>\n",
       "      <td>B</td>\n",
       "      <td>0.645058</td>\n",
       "      <td>2020-07-06</td>\n",
       "      <td>156.575042</td>\n",
       "    </tr>\n",
       "    <tr>\n",
       "      <th>2</th>\n",
       "      <td>102.0</td>\n",
       "      <td>E</td>\n",
       "      <td>0.012896</td>\n",
       "      <td>2020-07-07</td>\n",
       "      <td>7909.732129</td>\n",
       "    </tr>\n",
       "    <tr>\n",
       "      <th>3</th>\n",
       "      <td>103.0</td>\n",
       "      <td>F</td>\n",
       "      <td>0.508681</td>\n",
       "      <td>2020-07-08</td>\n",
       "      <td>202.484352</td>\n",
       "    </tr>\n",
       "    <tr>\n",
       "      <th>4</th>\n",
       "      <td>104.0</td>\n",
       "      <td>D</td>\n",
       "      <td>0.738695</td>\n",
       "      <td>2020-07-09</td>\n",
       "      <td>140.788805</td>\n",
       "    </tr>\n",
       "    <tr>\n",
       "      <th>5</th>\n",
       "      <td>105.0</td>\n",
       "      <td>F</td>\n",
       "      <td>0.758085</td>\n",
       "      <td>2020-07-10</td>\n",
       "      <td>138.506870</td>\n",
       "    </tr>\n",
       "    <tr>\n",
       "      <th>6</th>\n",
       "      <td>106.0</td>\n",
       "      <td>C</td>\n",
       "      <td>0.289746</td>\n",
       "      <td>2020-07-11</td>\n",
       "      <td>365.838062</td>\n",
       "    </tr>\n",
       "    <tr>\n",
       "      <th>7</th>\n",
       "      <td>107.0</td>\n",
       "      <td>A</td>\n",
       "      <td>0.023462</td>\n",
       "      <td>2020-07-12</td>\n",
       "      <td>4560.528619</td>\n",
       "    </tr>\n",
       "    <tr>\n",
       "      <th>8</th>\n",
       "      <td>108.0</td>\n",
       "      <td>D</td>\n",
       "      <td>0.185474</td>\n",
       "      <td>2020-07-13</td>\n",
       "      <td>582.291134</td>\n",
       "    </tr>\n",
       "    <tr>\n",
       "      <th>9</th>\n",
       "      <td>109.0</td>\n",
       "      <td>B</td>\n",
       "      <td>0.444915</td>\n",
       "      <td>2020-07-14</td>\n",
       "      <td>244.990503</td>\n",
       "    </tr>\n",
       "    <tr>\n",
       "      <th>100</th>\n",
       "      <td>110.0</td>\n",
       "      <td>Z</td>\n",
       "      <td>0.112233</td>\n",
       "      <td>2020-11-03</td>\n",
       "      <td>NaN</td>\n",
       "    </tr>\n",
       "  </tbody>\n",
       "</table>\n",
       "</div>"
      ],
      "text/plain": [
       "         a  b         c          d            E\n",
       "0    100.0  E  0.532879 2020-07-05   187.659795\n",
       "1    101.0  B  0.645058 2020-07-06   156.575042\n",
       "2    102.0  E  0.012896 2020-07-07  7909.732129\n",
       "3    103.0  F  0.508681 2020-07-08   202.484352\n",
       "4    104.0  D  0.738695 2020-07-09   140.788805\n",
       "5    105.0  F  0.758085 2020-07-10   138.506870\n",
       "6    106.0  C  0.289746 2020-07-11   365.838062\n",
       "7    107.0  A  0.023462 2020-07-12  4560.528619\n",
       "8    108.0  D  0.185474 2020-07-13   582.291134\n",
       "9    109.0  B  0.444915 2020-07-14   244.990503\n",
       "100  110.0  Z  0.112233 2020-11-03          NaN"
      ]
     },
     "execution_count": 105,
     "metadata": {
      "tags": []
     },
     "output_type": "execute_result"
    }
   ],
   "source": [
    "df.loc[100, :] = (110, 'Z', .11223344, pd.to_datetime('2020/11/03'), np.nan)\n",
    "df"
   ]
  },
  {
   "cell_type": "code",
   "execution_count": 106,
   "metadata": {
    "colab": {
     "base_uri": "https://localhost:8080/",
     "height": 112
    },
    "colab_type": "code",
    "executionInfo": {
     "elapsed": 1723,
     "status": "ok",
     "timestamp": 1595471818997,
     "user": {
      "displayName": "Jozeff KAPLAN",
      "photoUrl": "",
      "userId": "04250959772459181544"
     },
     "user_tz": 300
    },
    "id": "6TRwU8RMhi9F",
    "outputId": "aa7a62cc-82ab-4429-9f82-0cfc2ce3485b"
   },
   "outputs": [
    {
     "data": {
      "text/markdown": [
       "## Exercise\n",
       "\n",
       "Add a column F equal to E * c, check it equals a\n",
       "\n",
       "Remember everything is case sensitive!\n",
       "\n"
      ],
      "text/plain": [
       "<IPython.core.display.Markdown object>"
      ]
     },
     "metadata": {
      "tags": []
     },
     "output_type": "display_data"
    }
   ],
   "source": [
    "d()"
   ]
  },
  {
   "cell_type": "code",
   "execution_count": 107,
   "metadata": {
    "colab": {
     "base_uri": "https://localhost:8080/",
     "height": 209
    },
    "colab_type": "code",
    "executionInfo": {
     "elapsed": 1035,
     "status": "ok",
     "timestamp": 1595471852791,
     "user": {
      "displayName": "Jozeff KAPLAN",
      "photoUrl": "",
      "userId": "04250959772459181544"
     },
     "user_tz": 300
    },
    "id": "5i2uomjTh-kq",
    "outputId": "0e4ae390-0eb9-4269-bf50-dd07fa98d1dc"
   },
   "outputs": [
    {
     "data": {
      "text/markdown": [
       "## Solution\n",
       "\n",
       "\n",
       "Add a column F equal to E * c, check it equals a\n",
       "\n",
       "Remember everything is case sensitive!\n",
       "\n",
       "\n",
       "\n",
       "```python\n",
       "\n",
       "df['F'] = df.E * df.c\n",
       "\n",
       "df.F == df.a\n",
       "\n",
       "```\n",
       "\n",
       "...wait, what?\n",
       "\n"
      ],
      "text/plain": [
       "<IPython.core.display.Markdown object>"
      ]
     },
     "metadata": {
      "tags": []
     },
     "output_type": "display_data"
    }
   ],
   "source": [
    "d()"
   ]
  },
  {
   "cell_type": "code",
   "execution_count": 108,
   "metadata": {
    "colab": {
     "base_uri": "https://localhost:8080/",
     "height": 390
    },
    "colab_type": "code",
    "executionInfo": {
     "elapsed": 775,
     "status": "ok",
     "timestamp": 1595471883989,
     "user": {
      "displayName": "Jozeff KAPLAN",
      "photoUrl": "",
      "userId": "04250959772459181544"
     },
     "user_tz": 300
    },
    "id": "ZeS28nlKiHA4",
    "outputId": "732b6f60-7308-4a31-93e0-393cde6fd0c2"
   },
   "outputs": [
    {
     "data": {
      "text/html": [
       "<div>\n",
       "<style scoped>\n",
       "    .dataframe tbody tr th:only-of-type {\n",
       "        vertical-align: middle;\n",
       "    }\n",
       "\n",
       "    .dataframe tbody tr th {\n",
       "        vertical-align: top;\n",
       "    }\n",
       "\n",
       "    .dataframe thead th {\n",
       "        text-align: right;\n",
       "    }\n",
       "</style>\n",
       "<table border=\"1\" class=\"dataframe\">\n",
       "  <thead>\n",
       "    <tr style=\"text-align: right;\">\n",
       "      <th></th>\n",
       "      <th>a</th>\n",
       "      <th>b</th>\n",
       "      <th>c</th>\n",
       "      <th>d</th>\n",
       "      <th>E</th>\n",
       "      <th>F</th>\n",
       "    </tr>\n",
       "  </thead>\n",
       "  <tbody>\n",
       "    <tr>\n",
       "      <th>0</th>\n",
       "      <td>100.0</td>\n",
       "      <td>E</td>\n",
       "      <td>0.532879</td>\n",
       "      <td>2020-07-05</td>\n",
       "      <td>187.659795</td>\n",
       "      <td>100.0</td>\n",
       "    </tr>\n",
       "    <tr>\n",
       "      <th>1</th>\n",
       "      <td>101.0</td>\n",
       "      <td>B</td>\n",
       "      <td>0.645058</td>\n",
       "      <td>2020-07-06</td>\n",
       "      <td>156.575042</td>\n",
       "      <td>101.0</td>\n",
       "    </tr>\n",
       "    <tr>\n",
       "      <th>2</th>\n",
       "      <td>102.0</td>\n",
       "      <td>E</td>\n",
       "      <td>0.012896</td>\n",
       "      <td>2020-07-07</td>\n",
       "      <td>7909.732129</td>\n",
       "      <td>102.0</td>\n",
       "    </tr>\n",
       "    <tr>\n",
       "      <th>3</th>\n",
       "      <td>103.0</td>\n",
       "      <td>F</td>\n",
       "      <td>0.508681</td>\n",
       "      <td>2020-07-08</td>\n",
       "      <td>202.484352</td>\n",
       "      <td>103.0</td>\n",
       "    </tr>\n",
       "    <tr>\n",
       "      <th>4</th>\n",
       "      <td>104.0</td>\n",
       "      <td>D</td>\n",
       "      <td>0.738695</td>\n",
       "      <td>2020-07-09</td>\n",
       "      <td>140.788805</td>\n",
       "      <td>104.0</td>\n",
       "    </tr>\n",
       "    <tr>\n",
       "      <th>5</th>\n",
       "      <td>105.0</td>\n",
       "      <td>F</td>\n",
       "      <td>0.758085</td>\n",
       "      <td>2020-07-10</td>\n",
       "      <td>138.506870</td>\n",
       "      <td>105.0</td>\n",
       "    </tr>\n",
       "    <tr>\n",
       "      <th>6</th>\n",
       "      <td>106.0</td>\n",
       "      <td>C</td>\n",
       "      <td>0.289746</td>\n",
       "      <td>2020-07-11</td>\n",
       "      <td>365.838062</td>\n",
       "      <td>106.0</td>\n",
       "    </tr>\n",
       "    <tr>\n",
       "      <th>7</th>\n",
       "      <td>107.0</td>\n",
       "      <td>A</td>\n",
       "      <td>0.023462</td>\n",
       "      <td>2020-07-12</td>\n",
       "      <td>4560.528619</td>\n",
       "      <td>107.0</td>\n",
       "    </tr>\n",
       "    <tr>\n",
       "      <th>8</th>\n",
       "      <td>108.0</td>\n",
       "      <td>D</td>\n",
       "      <td>0.185474</td>\n",
       "      <td>2020-07-13</td>\n",
       "      <td>582.291134</td>\n",
       "      <td>108.0</td>\n",
       "    </tr>\n",
       "    <tr>\n",
       "      <th>9</th>\n",
       "      <td>109.0</td>\n",
       "      <td>B</td>\n",
       "      <td>0.444915</td>\n",
       "      <td>2020-07-14</td>\n",
       "      <td>244.990503</td>\n",
       "      <td>109.0</td>\n",
       "    </tr>\n",
       "    <tr>\n",
       "      <th>100</th>\n",
       "      <td>110.0</td>\n",
       "      <td>Z</td>\n",
       "      <td>0.112233</td>\n",
       "      <td>2020-11-03</td>\n",
       "      <td>NaN</td>\n",
       "      <td>NaN</td>\n",
       "    </tr>\n",
       "  </tbody>\n",
       "</table>\n",
       "</div>"
      ],
      "text/plain": [
       "         a  b         c          d            E      F\n",
       "0    100.0  E  0.532879 2020-07-05   187.659795  100.0\n",
       "1    101.0  B  0.645058 2020-07-06   156.575042  101.0\n",
       "2    102.0  E  0.012896 2020-07-07  7909.732129  102.0\n",
       "3    103.0  F  0.508681 2020-07-08   202.484352  103.0\n",
       "4    104.0  D  0.738695 2020-07-09   140.788805  104.0\n",
       "5    105.0  F  0.758085 2020-07-10   138.506870  105.0\n",
       "6    106.0  C  0.289746 2020-07-11   365.838062  106.0\n",
       "7    107.0  A  0.023462 2020-07-12  4560.528619  107.0\n",
       "8    108.0  D  0.185474 2020-07-13   582.291134  108.0\n",
       "9    109.0  B  0.444915 2020-07-14   244.990503  109.0\n",
       "100  110.0  Z  0.112233 2020-11-03          NaN    NaN"
      ]
     },
     "execution_count": 108,
     "metadata": {
      "tags": []
     },
     "output_type": "execute_result"
    }
   ],
   "source": [
    "df['F'] = df.E * df.c\n",
    "df"
   ]
  },
  {
   "cell_type": "code",
   "execution_count": 109,
   "metadata": {
    "colab": {
     "base_uri": "https://localhost:8080/",
     "height": 221
    },
    "colab_type": "code",
    "executionInfo": {
     "elapsed": 1564,
     "status": "ok",
     "timestamp": 1595471902486,
     "user": {
      "displayName": "Jozeff KAPLAN",
      "photoUrl": "",
      "userId": "04250959772459181544"
     },
     "user_tz": 300
    },
    "id": "iE8WhWg4iOsY",
    "outputId": "3bb9dd48-172e-47de-e927-5ba055c24342"
   },
   "outputs": [
    {
     "data": {
      "text/plain": [
       "0       True\n",
       "1      False\n",
       "2       True\n",
       "3       True\n",
       "4       True\n",
       "5      False\n",
       "6       True\n",
       "7       True\n",
       "8       True\n",
       "9       True\n",
       "100    False\n",
       "dtype: bool"
      ]
     },
     "execution_count": 109,
     "metadata": {
      "tags": []
     },
     "output_type": "execute_result"
    }
   ],
   "source": [
    "df.F == df.a"
   ]
  },
  {
   "cell_type": "code",
   "execution_count": 112,
   "metadata": {
    "colab": {
     "base_uri": "https://localhost:8080/",
     "height": 34
    },
    "colab_type": "code",
    "executionInfo": {
     "elapsed": 584,
     "status": "ok",
     "timestamp": 1595472095851,
     "user": {
      "displayName": "Jozeff KAPLAN",
      "photoUrl": "",
      "userId": "04250959772459181544"
     },
     "user_tz": 300
    },
    "id": "jNr6U8kWiTAv",
    "outputId": "8f72b404-da06-44f7-e585-9756b1085374"
   },
   "outputs": [
    {
     "data": {
      "text/plain": [
       "(101.0, 100.99999999999999)"
      ]
     },
     "execution_count": 112,
     "metadata": {
      "tags": []
     },
     "output_type": "execute_result"
    }
   ],
   "source": [
    "df.loc[1,'a'], df.loc[1,'F']"
   ]
  },
  {
   "cell_type": "code",
   "execution_count": 114,
   "metadata": {
    "colab": {
     "base_uri": "https://localhost:8080/",
     "height": 550
    },
    "colab_type": "code",
    "executionInfo": {
     "elapsed": 981,
     "status": "ok",
     "timestamp": 1595472167581,
     "user": {
      "displayName": "Jozeff KAPLAN",
      "photoUrl": "",
      "userId": "04250959772459181544"
     },
     "user_tz": 300
    },
    "id": "bs39c6FAih3C",
    "outputId": "812b7fae-3d15-4380-ad35-f6b338e8a5be"
   },
   "outputs": [
    {
     "data": {
      "text/markdown": [
       "## Solution\n",
       "\n",
       "* Create function to take a string, make lower case, break it into words, and create a DataFrame with columns `word`  and `freq` counting word frequency\n",
       "\n",
       "* Reconsider your approach if you go beyond five lines of code...\n",
       "\n",
       "* *Optionally* make case independent, default arguments `case=False` argument\n",
       "\n",
       "* Optionally sort output by descending freq\n",
       "\n",
       "* Extra credit: strip out punctuation\n",
       "\n",
       "\n",
       "```python\n",
       "def word_count(s):\n",
       "    \"\"\"\n",
       "    always document here!\n",
       "    \"\"\"\n",
       "    word_list = s.lower().split()\n",
       "    df = pd.DataFrame([[i, word_list.count(i)] for i in set(word_list)], columns=['word', 'freq'])\n",
       "    return df\n",
       "\n",
       "def word_count_ex(s, excluded_chars='\",\\';:()[]!?@#$%&=\\\\.'):\n",
       "    \"\"\"\"\n",
       "    word counter with excluded characters\n",
       "    \"\"\"\n",
       "    for i in excluded_chars:\n",
       "        s = s.replace(i, ' ')\n",
       "    # which is kinda yucky\n",
       "    word_list = s.lower().split()\n",
       "    df = pd.DataFrame([[i, word_list.count(i)] for i in set(word_list)], columns=['word', 'freq'])\n",
       "    df['letters'] = df.word.str.len()\n",
       "    df = df.sort_values('letters', ascending=False)\n",
       "    return df\n",
       "```\n",
       "\n",
       "* Apply to `In[xx]`\n",
       "\n"
      ],
      "text/plain": [
       "<IPython.core.display.Markdown object>"
      ]
     },
     "metadata": {
      "tags": []
     },
     "output_type": "display_data"
    }
   ],
   "source": [
    "d()"
   ]
  },
  {
   "cell_type": "code",
   "execution_count": 115,
   "metadata": {
    "colab": {
     "base_uri": "https://localhost:8080/",
     "height": 452
    },
    "colab_type": "code",
    "executionInfo": {
     "elapsed": 934,
     "status": "ok",
     "timestamp": 1595472370149,
     "user": {
      "displayName": "Jozeff KAPLAN",
      "photoUrl": "",
      "userId": "04250959772459181544"
     },
     "user_tz": 300
    },
    "id": "XtdLlDRWjOls",
    "outputId": "297c46ad-2b1e-4509-b883-bcaba8b2a6d8"
   },
   "outputs": [
    {
     "data": {
      "text/html": [
       "<div>\n",
       "<style scoped>\n",
       "    .dataframe tbody tr th:only-of-type {\n",
       "        vertical-align: middle;\n",
       "    }\n",
       "\n",
       "    .dataframe tbody tr th {\n",
       "        vertical-align: top;\n",
       "    }\n",
       "\n",
       "    .dataframe thead th {\n",
       "        text-align: right;\n",
       "    }\n",
       "</style>\n",
       "<table border=\"1\" class=\"dataframe\">\n",
       "  <thead>\n",
       "    <tr style=\"text-align: right;\">\n",
       "      <th></th>\n",
       "      <th>word</th>\n",
       "      <th>freq</th>\n",
       "    </tr>\n",
       "  </thead>\n",
       "  <tbody>\n",
       "    <tr>\n",
       "      <th>0</th>\n",
       "      <td>water</td>\n",
       "      <td>1</td>\n",
       "    </tr>\n",
       "    <tr>\n",
       "      <th>1</th>\n",
       "      <td>jill</td>\n",
       "      <td>1</td>\n",
       "    </tr>\n",
       "    <tr>\n",
       "      <th>2</th>\n",
       "      <td>and</td>\n",
       "      <td>1</td>\n",
       "    </tr>\n",
       "    <tr>\n",
       "      <th>3</th>\n",
       "      <td>up</td>\n",
       "      <td>1</td>\n",
       "    </tr>\n",
       "    <tr>\n",
       "      <th>4</th>\n",
       "      <td>jack</td>\n",
       "      <td>1</td>\n",
       "    </tr>\n",
       "    <tr>\n",
       "      <th>5</th>\n",
       "      <td>of</td>\n",
       "      <td>1</td>\n",
       "    </tr>\n",
       "    <tr>\n",
       "      <th>6</th>\n",
       "      <td>went</td>\n",
       "      <td>1</td>\n",
       "    </tr>\n",
       "    <tr>\n",
       "      <th>7</th>\n",
       "      <td>the</td>\n",
       "      <td>1</td>\n",
       "    </tr>\n",
       "    <tr>\n",
       "      <th>8</th>\n",
       "      <td>hill</td>\n",
       "      <td>1</td>\n",
       "    </tr>\n",
       "    <tr>\n",
       "      <th>9</th>\n",
       "      <td>fetch</td>\n",
       "      <td>1</td>\n",
       "    </tr>\n",
       "    <tr>\n",
       "      <th>10</th>\n",
       "      <td>a</td>\n",
       "      <td>1</td>\n",
       "    </tr>\n",
       "    <tr>\n",
       "      <th>11</th>\n",
       "      <td>pail</td>\n",
       "      <td>1</td>\n",
       "    </tr>\n",
       "    <tr>\n",
       "      <th>12</th>\n",
       "      <td>to</td>\n",
       "      <td>1</td>\n",
       "    </tr>\n",
       "  </tbody>\n",
       "</table>\n",
       "</div>"
      ],
      "text/plain": [
       "     word  freq\n",
       "0   water     1\n",
       "1    jill     1\n",
       "2     and     1\n",
       "3      up     1\n",
       "4    jack     1\n",
       "5      of     1\n",
       "6    went     1\n",
       "7     the     1\n",
       "8    hill     1\n",
       "9   fetch     1\n",
       "10      a     1\n",
       "11   pail     1\n",
       "12     to     1"
      ]
     },
     "execution_count": 115,
     "metadata": {
      "tags": []
     },
     "output_type": "execute_result"
    }
   ],
   "source": [
    "def word_count(s):\n",
    "    \"\"\"\n",
    "    always document here! \n",
    "    Create function to take a string, \n",
    "    make lower case, \n",
    "    break it into words, \n",
    "    and create a DataFrame with columns word \n",
    "    and freq counting word frequency\n",
    "    \"\"\"\n",
    "    word_list = s.lower().split()\n",
    "    df = pd.DataFrame([[i, word_list.count(i)] for i in set(word_list)], columns=['word', 'freq'])\n",
    "    return df\n",
    "word_count(s)"
   ]
  },
  {
   "cell_type": "code",
   "execution_count": 117,
   "metadata": {
    "colab": {
     "base_uri": "https://localhost:8080/",
     "height": 49
    },
    "colab_type": "code",
    "executionInfo": {
     "elapsed": 1036,
     "status": "ok",
     "timestamp": 1595472866490,
     "user": {
      "displayName": "Jozeff KAPLAN",
      "photoUrl": "",
      "userId": "04250959772459181544"
     },
     "user_tz": 300
    },
    "id": "qGC52katkFUu",
    "outputId": "b08d2835-adb0-43a2-e2b0-0f053d300206"
   },
   "outputs": [
    {
     "data": {
      "text/html": [
       "<div>\n",
       "<style scoped>\n",
       "    .dataframe tbody tr th:only-of-type {\n",
       "        vertical-align: middle;\n",
       "    }\n",
       "\n",
       "    .dataframe tbody tr th {\n",
       "        vertical-align: top;\n",
       "    }\n",
       "\n",
       "    .dataframe thead th {\n",
       "        text-align: right;\n",
       "    }\n",
       "</style>\n",
       "<table border=\"1\" class=\"dataframe\">\n",
       "  <thead>\n",
       "    <tr style=\"text-align: right;\">\n",
       "      <th></th>\n",
       "      <th>word</th>\n",
       "      <th>freq</th>\n",
       "    </tr>\n",
       "  </thead>\n",
       "  <tbody>\n",
       "  </tbody>\n",
       "</table>\n",
       "</div>"
      ],
      "text/plain": [
       "Empty DataFrame\n",
       "Columns: [word, freq]\n",
       "Index: []"
      ]
     },
     "execution_count": 117,
     "metadata": {
      "tags": []
     },
     "output_type": "execute_result"
    }
   ],
   "source": [
    "def word_count2(s):\n",
    "    \"\"\"\n",
    "    always document here! \n",
    "    Create function to take a string, \n",
    "    make lower case, \n",
    "    break it into words, \n",
    "    and create a DataFrame with columns word \n",
    "    and freq counting word frequency\n",
    "    \"\"\"\n",
    "    word_list = s.lower().split()\n",
    "    df = pd.DataFrame({i: word_list.count(i) for i in set(word_list)}, columns=['word', 'freq'])\n",
    "    return df\n",
    "word_count2(s)"
   ]
  },
  {
   "cell_type": "code",
   "execution_count": 121,
   "metadata": {
    "colab": {
     "base_uri": "https://localhost:8080/",
     "height": 255
    },
    "colab_type": "code",
    "executionInfo": {
     "elapsed": 733,
     "status": "ok",
     "timestamp": 1595473114824,
     "user": {
      "displayName": "Jozeff KAPLAN",
      "photoUrl": "",
      "userId": "04250959772459181544"
     },
     "user_tz": 300
    },
    "id": "ioQuXOwSlX9X",
    "outputId": "651b0968-dccc-469e-9b22-416370319360"
   },
   "outputs": [
    {
     "data": {
      "text/plain": [
       "water    1\n",
       "jill     1\n",
       "and      1\n",
       "up       1\n",
       "jack     1\n",
       "of       1\n",
       "went     1\n",
       "the      1\n",
       "hill     1\n",
       "fetch    1\n",
       "a        1\n",
       "pail     1\n",
       "to       1\n",
       "dtype: int64"
      ]
     },
     "execution_count": 121,
     "metadata": {
      "tags": []
     },
     "output_type": "execute_result"
    }
   ],
   "source": [
    "word_list = s.lower().split()\n",
    "pd.Series({i: word_list.count(i) for i in set(word_list)})"
   ]
  },
  {
   "cell_type": "code",
   "execution_count": 122,
   "metadata": {
    "colab": {
     "base_uri": "https://localhost:8080/",
     "height": 452
    },
    "colab_type": "code",
    "executionInfo": {
     "elapsed": 1950,
     "status": "ok",
     "timestamp": 1595473247001,
     "user": {
      "displayName": "Jozeff KAPLAN",
      "photoUrl": "",
      "userId": "04250959772459181544"
     },
     "user_tz": 300
    },
    "id": "7GmD0BlLmVdZ",
    "outputId": "8dca0ab8-a885-487c-b428-b24e8bf1c29e"
   },
   "outputs": [
    {
     "data": {
      "text/html": [
       "<div>\n",
       "<style scoped>\n",
       "    .dataframe tbody tr th:only-of-type {\n",
       "        vertical-align: middle;\n",
       "    }\n",
       "\n",
       "    .dataframe tbody tr th {\n",
       "        vertical-align: top;\n",
       "    }\n",
       "\n",
       "    .dataframe thead th {\n",
       "        text-align: right;\n",
       "    }\n",
       "</style>\n",
       "<table border=\"1\" class=\"dataframe\">\n",
       "  <thead>\n",
       "    <tr style=\"text-align: right;\">\n",
       "      <th></th>\n",
       "      <th>word</th>\n",
       "      <th>freq</th>\n",
       "      <th>letters</th>\n",
       "    </tr>\n",
       "  </thead>\n",
       "  <tbody>\n",
       "    <tr>\n",
       "      <th>0</th>\n",
       "      <td>water</td>\n",
       "      <td>1</td>\n",
       "      <td>5</td>\n",
       "    </tr>\n",
       "    <tr>\n",
       "      <th>9</th>\n",
       "      <td>fetch</td>\n",
       "      <td>1</td>\n",
       "      <td>5</td>\n",
       "    </tr>\n",
       "    <tr>\n",
       "      <th>1</th>\n",
       "      <td>jill</td>\n",
       "      <td>1</td>\n",
       "      <td>4</td>\n",
       "    </tr>\n",
       "    <tr>\n",
       "      <th>4</th>\n",
       "      <td>jack</td>\n",
       "      <td>1</td>\n",
       "      <td>4</td>\n",
       "    </tr>\n",
       "    <tr>\n",
       "      <th>6</th>\n",
       "      <td>went</td>\n",
       "      <td>1</td>\n",
       "      <td>4</td>\n",
       "    </tr>\n",
       "    <tr>\n",
       "      <th>8</th>\n",
       "      <td>hill</td>\n",
       "      <td>1</td>\n",
       "      <td>4</td>\n",
       "    </tr>\n",
       "    <tr>\n",
       "      <th>11</th>\n",
       "      <td>pail</td>\n",
       "      <td>1</td>\n",
       "      <td>4</td>\n",
       "    </tr>\n",
       "    <tr>\n",
       "      <th>2</th>\n",
       "      <td>and</td>\n",
       "      <td>1</td>\n",
       "      <td>3</td>\n",
       "    </tr>\n",
       "    <tr>\n",
       "      <th>7</th>\n",
       "      <td>the</td>\n",
       "      <td>1</td>\n",
       "      <td>3</td>\n",
       "    </tr>\n",
       "    <tr>\n",
       "      <th>3</th>\n",
       "      <td>up</td>\n",
       "      <td>1</td>\n",
       "      <td>2</td>\n",
       "    </tr>\n",
       "    <tr>\n",
       "      <th>5</th>\n",
       "      <td>of</td>\n",
       "      <td>1</td>\n",
       "      <td>2</td>\n",
       "    </tr>\n",
       "    <tr>\n",
       "      <th>12</th>\n",
       "      <td>to</td>\n",
       "      <td>1</td>\n",
       "      <td>2</td>\n",
       "    </tr>\n",
       "    <tr>\n",
       "      <th>10</th>\n",
       "      <td>a</td>\n",
       "      <td>1</td>\n",
       "      <td>1</td>\n",
       "    </tr>\n",
       "  </tbody>\n",
       "</table>\n",
       "</div>"
      ],
      "text/plain": [
       "     word  freq  letters\n",
       "0   water     1        5\n",
       "9   fetch     1        5\n",
       "1    jill     1        4\n",
       "4    jack     1        4\n",
       "6    went     1        4\n",
       "8    hill     1        4\n",
       "11   pail     1        4\n",
       "2     and     1        3\n",
       "7     the     1        3\n",
       "3      up     1        2\n",
       "5      of     1        2\n",
       "12     to     1        2\n",
       "10      a     1        1"
      ]
     },
     "execution_count": 122,
     "metadata": {
      "tags": []
     },
     "output_type": "execute_result"
    }
   ],
   "source": [
    "def word_count_ex(s, excluded_chars='\",\\';:()[]!?@#$%&=\\\\.'):\n",
    "    \"\"\"\"\n",
    "    word counter with excluded characters\n",
    "    \"\"\"\n",
    "    for i in excluded_chars:\n",
    "        s = s.replace(i, ' ')\n",
    "    # which is kinda yucky\n",
    "    word_list = s.lower().split()\n",
    "    df = pd.DataFrame([[i, word_list.count(i)] for i in set(word_list)], columns=['word', 'freq'])\n",
    "    df['letters'] = df.word.str.len()\n",
    "    df = df.sort_values('letters', ascending=False)\n",
    "    return df\n",
    "#Apply to In[xx]\n",
    "word_count_ex(s)"
   ]
  },
  {
   "cell_type": "code",
   "execution_count": 123,
   "metadata": {
    "colab": {
     "base_uri": "https://localhost:8080/",
     "height": 64
    },
    "colab_type": "code",
    "executionInfo": {
     "elapsed": 1014,
     "status": "ok",
     "timestamp": 1595473262460,
     "user": {
      "displayName": "Jozeff KAPLAN",
      "photoUrl": "",
      "userId": "04250959772459181544"
     },
     "user_tz": 300
    },
    "id": "1KcFg7vmnbKR",
    "outputId": "36ac0dc3-e15b-40c2-c471-6ced1655ba71"
   },
   "outputs": [
    {
     "data": {
      "text/markdown": [
       "## Module 3: Requests (interlude) and Graphics\n",
       "\n"
      ],
      "text/plain": [
       "<IPython.core.display.Markdown object>"
      ]
     },
     "metadata": {
      "tags": []
     },
     "output_type": "display_data"
    }
   ],
   "source": [
    "d()"
   ]
  },
  {
   "cell_type": "code",
   "execution_count": 124,
   "metadata": {
    "colab": {
     "base_uri": "https://localhost:8080/",
     "height": 322
    },
    "colab_type": "code",
    "executionInfo": {
     "elapsed": 940,
     "status": "ok",
     "timestamp": 1595473273861,
     "user": {
      "displayName": "Jozeff KAPLAN",
      "photoUrl": "",
      "userId": "04250959772459181544"
     },
     "user_tz": 300
    },
    "id": "4S2-g_3anfKr",
    "outputId": "cb750142-5062-426d-ff3a-fe18f80936b1"
   },
   "outputs": [
    {
     "data": {
      "text/markdown": [
       "## Read Longer Document\n",
       "* read longer document, *The Declaration of Independence* (`di`)\n",
       "\n",
       "* `requests` library for Internet calls\n",
       "\n",
       "* create data frame of word count etc., using previous function\n",
       "\n",
       "```python\n",
       "import requests\n",
       "\n",
       "r = requests.get('http://www.mynl.com/RPM/di.txt')\n",
       "\n",
       "di = r.text\n",
       "\n",
       "print(di[:100])\n",
       "\n",
       "df = word_count_ex(di)\n",
       "\n",
       "df\n",
       "```\n",
       "\n"
      ],
      "text/plain": [
       "<IPython.core.display.Markdown object>"
      ]
     },
     "metadata": {
      "tags": []
     },
     "output_type": "display_data"
    }
   ],
   "source": [
    "d()"
   ]
  },
  {
   "cell_type": "code",
   "execution_count": 125,
   "metadata": {
    "colab": {
     "base_uri": "https://localhost:8080/",
     "height": 453
    },
    "colab_type": "code",
    "executionInfo": {
     "elapsed": 2027,
     "status": "ok",
     "timestamp": 1595473346244,
     "user": {
      "displayName": "Jozeff KAPLAN",
      "photoUrl": "",
      "userId": "04250959772459181544"
     },
     "user_tz": 300
    },
    "id": "w6tQAdD6nh9h",
    "outputId": "6fa8fa2c-f917-47d3-b19d-e0f3944e9ea8"
   },
   "outputs": [
    {
     "name": "stdout",
     "output_type": "stream",
     "text": [
      "Congress, July 4, 1776.\n",
      "The unanimous Declaration of the thirteen united States of America, When in\n"
     ]
    },
    {
     "data": {
      "text/html": [
       "<div>\n",
       "<style scoped>\n",
       "    .dataframe tbody tr th:only-of-type {\n",
       "        vertical-align: middle;\n",
       "    }\n",
       "\n",
       "    .dataframe tbody tr th {\n",
       "        vertical-align: top;\n",
       "    }\n",
       "\n",
       "    .dataframe thead th {\n",
       "        text-align: right;\n",
       "    }\n",
       "</style>\n",
       "<table border=\"1\" class=\"dataframe\">\n",
       "  <thead>\n",
       "    <tr style=\"text-align: right;\">\n",
       "      <th></th>\n",
       "      <th>word</th>\n",
       "      <th>freq</th>\n",
       "      <th>letters</th>\n",
       "    </tr>\n",
       "  </thead>\n",
       "  <tbody>\n",
       "    <tr>\n",
       "      <th>540</th>\n",
       "      <td>representatives</td>\n",
       "      <td>1</td>\n",
       "      <td>15</td>\n",
       "    </tr>\n",
       "    <tr>\n",
       "      <th>357</th>\n",
       "      <td>undistinguished</td>\n",
       "      <td>1</td>\n",
       "      <td>15</td>\n",
       "    </tr>\n",
       "    <tr>\n",
       "      <th>124</th>\n",
       "      <td>appropriations</td>\n",
       "      <td>1</td>\n",
       "      <td>14</td>\n",
       "    </tr>\n",
       "    <tr>\n",
       "      <th>275</th>\n",
       "      <td>unacknowledged</td>\n",
       "      <td>1</td>\n",
       "      <td>14</td>\n",
       "    </tr>\n",
       "    <tr>\n",
       "      <th>63</th>\n",
       "      <td>administration</td>\n",
       "      <td>1</td>\n",
       "      <td>14</td>\n",
       "    </tr>\n",
       "    <tr>\n",
       "      <th>...</th>\n",
       "      <td>...</td>\n",
       "      <td>...</td>\n",
       "      <td>...</td>\n",
       "    </tr>\n",
       "    <tr>\n",
       "      <th>508</th>\n",
       "      <td>us</td>\n",
       "      <td>11</td>\n",
       "      <td>2</td>\n",
       "    </tr>\n",
       "    <tr>\n",
       "      <th>86</th>\n",
       "      <td>of</td>\n",
       "      <td>78</td>\n",
       "      <td>2</td>\n",
       "    </tr>\n",
       "    <tr>\n",
       "      <th>315</th>\n",
       "      <td>a</td>\n",
       "      <td>16</td>\n",
       "      <td>1</td>\n",
       "    </tr>\n",
       "    <tr>\n",
       "      <th>211</th>\n",
       "      <td>s</td>\n",
       "      <td>1</td>\n",
       "      <td>1</td>\n",
       "    </tr>\n",
       "    <tr>\n",
       "      <th>377</th>\n",
       "      <td>4</td>\n",
       "      <td>1</td>\n",
       "      <td>1</td>\n",
       "    </tr>\n",
       "  </tbody>\n",
       "</table>\n",
       "<p>541 rows × 3 columns</p>\n",
       "</div>"
      ],
      "text/plain": [
       "                word  freq  letters\n",
       "540  representatives     1       15\n",
       "357  undistinguished     1       15\n",
       "124   appropriations     1       14\n",
       "275   unacknowledged     1       14\n",
       "63    administration     1       14\n",
       "..               ...   ...      ...\n",
       "508               us    11        2\n",
       "86                of    78        2\n",
       "315                a    16        1\n",
       "211                s     1        1\n",
       "377                4     1        1\n",
       "\n",
       "[541 rows x 3 columns]"
      ]
     },
     "execution_count": 125,
     "metadata": {
      "tags": []
     },
     "output_type": "execute_result"
    }
   ],
   "source": [
    "import requests\n",
    "\n",
    "r = requests.get('http://www.mynl.com/RPM/di.txt')\n",
    "\n",
    "di = r.text\n",
    "\n",
    "print(di[:100])\n",
    "\n",
    "df = word_count_ex(di)\n",
    "\n",
    "df"
   ]
  },
  {
   "cell_type": "code",
   "execution_count": 126,
   "metadata": {
    "colab": {
     "base_uri": "https://localhost:8080/",
     "height": 89
    },
    "colab_type": "code",
    "executionInfo": {
     "elapsed": 806,
     "status": "ok",
     "timestamp": 1595473409492,
     "user": {
      "displayName": "Jozeff KAPLAN",
      "photoUrl": "",
      "userId": "04250959772459181544"
     },
     "user_tz": 300
    },
    "id": "OpFHvNBKnzYp",
    "outputId": "e6828132-38aa-4d17-d582-920074be5551"
   },
   "outputs": [
    {
     "data": {
      "text/markdown": [
       "## Exercise\n",
       "\n",
       "Sort `df` by descending frequency\n",
       "\n"
      ],
      "text/plain": [
       "<IPython.core.display.Markdown object>"
      ]
     },
     "metadata": {
      "tags": []
     },
     "output_type": "display_data"
    }
   ],
   "source": [
    "d()"
   ]
  },
  {
   "cell_type": "code",
   "execution_count": 127,
   "metadata": {
    "colab": {
     "base_uri": "https://localhost:8080/",
     "height": 129
    },
    "colab_type": "code",
    "executionInfo": {
     "elapsed": 971,
     "status": "ok",
     "timestamp": 1595473432063,
     "user": {
      "displayName": "Jozeff KAPLAN",
      "photoUrl": "",
      "userId": "04250959772459181544"
     },
     "user_tz": 300
    },
    "id": "pKU-cR-moDHi",
    "outputId": "e203495d-9051-4cb7-bf28-63216a290f3f"
   },
   "outputs": [
    {
     "data": {
      "text/markdown": [
       "## Solution\n",
       "\n",
       "\n",
       "Sort `df` by descending frequency\n",
       "\n",
       "\n",
       "\n",
       "Often helpful to only show `head` or `tail`\n",
       "\n",
       "```python\n",
       "df.sort_values('freq', ascending=False).head(10)\n",
       "```\n",
       "\n"
      ],
      "text/plain": [
       "<IPython.core.display.Markdown object>"
      ]
     },
     "metadata": {
      "tags": []
     },
     "output_type": "display_data"
    }
   ],
   "source": [
    "d()"
   ]
  },
  {
   "cell_type": "code",
   "execution_count": 128,
   "metadata": {
    "colab": {
     "base_uri": "https://localhost:8080/",
     "height": 359
    },
    "colab_type": "code",
    "executionInfo": {
     "elapsed": 1772,
     "status": "ok",
     "timestamp": 1595473454457,
     "user": {
      "displayName": "Jozeff KAPLAN",
      "photoUrl": "",
      "userId": "04250959772459181544"
     },
     "user_tz": 300
    },
    "id": "2c2Z6QNMoIlH",
    "outputId": "86481466-b8cb-4a6b-df0c-734688b6837f"
   },
   "outputs": [
    {
     "data": {
      "text/html": [
       "<div>\n",
       "<style scoped>\n",
       "    .dataframe tbody tr th:only-of-type {\n",
       "        vertical-align: middle;\n",
       "    }\n",
       "\n",
       "    .dataframe tbody tr th {\n",
       "        vertical-align: top;\n",
       "    }\n",
       "\n",
       "    .dataframe thead th {\n",
       "        text-align: right;\n",
       "    }\n",
       "</style>\n",
       "<table border=\"1\" class=\"dataframe\">\n",
       "  <thead>\n",
       "    <tr style=\"text-align: right;\">\n",
       "      <th></th>\n",
       "      <th>word</th>\n",
       "      <th>freq</th>\n",
       "      <th>letters</th>\n",
       "    </tr>\n",
       "  </thead>\n",
       "  <tbody>\n",
       "    <tr>\n",
       "      <th>107</th>\n",
       "      <td>the</td>\n",
       "      <td>78</td>\n",
       "      <td>3</td>\n",
       "    </tr>\n",
       "    <tr>\n",
       "      <th>86</th>\n",
       "      <td>of</td>\n",
       "      <td>78</td>\n",
       "      <td>2</td>\n",
       "    </tr>\n",
       "    <tr>\n",
       "      <th>126</th>\n",
       "      <td>to</td>\n",
       "      <td>65</td>\n",
       "      <td>2</td>\n",
       "    </tr>\n",
       "    <tr>\n",
       "      <th>70</th>\n",
       "      <td>and</td>\n",
       "      <td>56</td>\n",
       "      <td>3</td>\n",
       "    </tr>\n",
       "    <tr>\n",
       "      <th>417</th>\n",
       "      <td>for</td>\n",
       "      <td>29</td>\n",
       "      <td>3</td>\n",
       "    </tr>\n",
       "    <tr>\n",
       "      <th>402</th>\n",
       "      <td>our</td>\n",
       "      <td>26</td>\n",
       "      <td>3</td>\n",
       "    </tr>\n",
       "    <tr>\n",
       "      <th>174</th>\n",
       "      <td>has</td>\n",
       "      <td>20</td>\n",
       "      <td>3</td>\n",
       "    </tr>\n",
       "    <tr>\n",
       "      <th>504</th>\n",
       "      <td>their</td>\n",
       "      <td>20</td>\n",
       "      <td>5</td>\n",
       "    </tr>\n",
       "    <tr>\n",
       "      <th>418</th>\n",
       "      <td>in</td>\n",
       "      <td>19</td>\n",
       "      <td>2</td>\n",
       "    </tr>\n",
       "    <tr>\n",
       "      <th>281</th>\n",
       "      <td>he</td>\n",
       "      <td>19</td>\n",
       "      <td>2</td>\n",
       "    </tr>\n",
       "  </tbody>\n",
       "</table>\n",
       "</div>"
      ],
      "text/plain": [
       "      word  freq  letters\n",
       "107    the    78        3\n",
       "86      of    78        2\n",
       "126     to    65        2\n",
       "70     and    56        3\n",
       "417    for    29        3\n",
       "402    our    26        3\n",
       "174    has    20        3\n",
       "504  their    20        5\n",
       "418     in    19        2\n",
       "281     he    19        2"
      ]
     },
     "execution_count": 128,
     "metadata": {
      "tags": []
     },
     "output_type": "execute_result"
    }
   ],
   "source": [
    "df.sort_values('freq', ascending=False).head(10)"
   ]
  },
  {
   "cell_type": "code",
   "execution_count": 130,
   "metadata": {
    "colab": {
     "base_uri": "https://localhost:8080/",
     "height": 1000
    },
    "colab_type": "code",
    "executionInfo": {
     "elapsed": 862,
     "status": "ok",
     "timestamp": 1595473603260,
     "user": {
      "displayName": "Jozeff KAPLAN",
      "photoUrl": "",
      "userId": "04250959772459181544"
     },
     "user_tz": 300
    },
    "id": "vw-1ZRGMoN3j",
    "outputId": "75080050-809e-424e-bc92-67266f1ca346"
   },
   "outputs": [
    {
     "data": {
      "text/html": [
       "<div>\n",
       "<style scoped>\n",
       "    .dataframe tbody tr th:only-of-type {\n",
       "        vertical-align: middle;\n",
       "    }\n",
       "\n",
       "    .dataframe tbody tr th {\n",
       "        vertical-align: top;\n",
       "    }\n",
       "\n",
       "    .dataframe thead th {\n",
       "        text-align: right;\n",
       "    }\n",
       "</style>\n",
       "<table border=\"1\" class=\"dataframe\">\n",
       "  <thead>\n",
       "    <tr style=\"text-align: right;\">\n",
       "      <th></th>\n",
       "      <th>word</th>\n",
       "      <th>freq</th>\n",
       "      <th>letters</th>\n",
       "    </tr>\n",
       "  </thead>\n",
       "  <tbody>\n",
       "    <tr>\n",
       "      <th>540</th>\n",
       "      <td>representatives</td>\n",
       "      <td>1</td>\n",
       "      <td>15</td>\n",
       "    </tr>\n",
       "    <tr>\n",
       "      <th>404</th>\n",
       "      <td>executioners</td>\n",
       "      <td>1</td>\n",
       "      <td>12</td>\n",
       "    </tr>\n",
       "    <tr>\n",
       "      <th>467</th>\n",
       "      <td>dissolutions</td>\n",
       "      <td>1</td>\n",
       "      <td>12</td>\n",
       "    </tr>\n",
       "    <tr>\n",
       "      <th>270</th>\n",
       "      <td>mercenaries</td>\n",
       "      <td>1</td>\n",
       "      <td>11</td>\n",
       "    </tr>\n",
       "    <tr>\n",
       "      <th>112</th>\n",
       "      <td>convulsions</td>\n",
       "      <td>1</td>\n",
       "      <td>11</td>\n",
       "    </tr>\n",
       "    <tr>\n",
       "      <th>164</th>\n",
       "      <td>oppressions</td>\n",
       "      <td>1</td>\n",
       "      <td>11</td>\n",
       "    </tr>\n",
       "    <tr>\n",
       "      <th>302</th>\n",
       "      <td>established</td>\n",
       "      <td>1</td>\n",
       "      <td>11</td>\n",
       "    </tr>\n",
       "    <tr>\n",
       "      <th>234</th>\n",
       "      <td>destruction</td>\n",
       "      <td>1</td>\n",
       "      <td>11</td>\n",
       "    </tr>\n",
       "    <tr>\n",
       "      <th>224</th>\n",
       "      <td>neighbouring</td>\n",
       "      <td>1</td>\n",
       "      <td>12</td>\n",
       "    </tr>\n",
       "    <tr>\n",
       "      <th>251</th>\n",
       "      <td>connections</td>\n",
       "      <td>1</td>\n",
       "      <td>11</td>\n",
       "    </tr>\n",
       "    <tr>\n",
       "      <th>285</th>\n",
       "      <td>legislation</td>\n",
       "      <td>1</td>\n",
       "      <td>11</td>\n",
       "    </tr>\n",
       "    <tr>\n",
       "      <th>294</th>\n",
       "      <td>obstructing</td>\n",
       "      <td>1</td>\n",
       "      <td>11</td>\n",
       "    </tr>\n",
       "    <tr>\n",
       "      <th>306</th>\n",
       "      <td>unalienable</td>\n",
       "      <td>1</td>\n",
       "      <td>11</td>\n",
       "    </tr>\n",
       "    <tr>\n",
       "      <th>362</th>\n",
       "      <td>inestimable</td>\n",
       "      <td>1</td>\n",
       "      <td>11</td>\n",
       "    </tr>\n",
       "    <tr>\n",
       "      <th>424</th>\n",
       "      <td>destructive</td>\n",
       "      <td>1</td>\n",
       "      <td>11</td>\n",
       "    </tr>\n",
       "    <tr>\n",
       "      <th>431</th>\n",
       "      <td>constrained</td>\n",
       "      <td>1</td>\n",
       "      <td>11</td>\n",
       "    </tr>\n",
       "    <tr>\n",
       "      <th>533</th>\n",
       "      <td>accordingly</td>\n",
       "      <td>1</td>\n",
       "      <td>11</td>\n",
       "    </tr>\n",
       "    <tr>\n",
       "      <th>269</th>\n",
       "      <td>introducing</td>\n",
       "      <td>1</td>\n",
       "      <td>11</td>\n",
       "    </tr>\n",
       "    <tr>\n",
       "      <th>393</th>\n",
       "      <td>annihilation</td>\n",
       "      <td>1</td>\n",
       "      <td>12</td>\n",
       "    </tr>\n",
       "    <tr>\n",
       "      <th>482</th>\n",
       "      <td>self-evident</td>\n",
       "      <td>1</td>\n",
       "      <td>12</td>\n",
       "    </tr>\n",
       "    <tr>\n",
       "      <th>323</th>\n",
       "      <td>constitution</td>\n",
       "      <td>1</td>\n",
       "      <td>12</td>\n",
       "    </tr>\n",
       "    <tr>\n",
       "      <th>357</th>\n",
       "      <td>undistinguished</td>\n",
       "      <td>1</td>\n",
       "      <td>15</td>\n",
       "    </tr>\n",
       "    <tr>\n",
       "      <th>124</th>\n",
       "      <td>appropriations</td>\n",
       "      <td>1</td>\n",
       "      <td>14</td>\n",
       "    </tr>\n",
       "    <tr>\n",
       "      <th>275</th>\n",
       "      <td>unacknowledged</td>\n",
       "      <td>1</td>\n",
       "      <td>14</td>\n",
       "    </tr>\n",
       "    <tr>\n",
       "      <th>63</th>\n",
       "      <td>administration</td>\n",
       "      <td>1</td>\n",
       "      <td>14</td>\n",
       "    </tr>\n",
       "    <tr>\n",
       "      <th>114</th>\n",
       "      <td>representation</td>\n",
       "      <td>1</td>\n",
       "      <td>14</td>\n",
       "    </tr>\n",
       "    <tr>\n",
       "      <th>69</th>\n",
       "      <td>representative</td>\n",
       "      <td>1</td>\n",
       "      <td>14</td>\n",
       "    </tr>\n",
       "    <tr>\n",
       "      <th>345</th>\n",
       "      <td>correspondence</td>\n",
       "      <td>1</td>\n",
       "      <td>14</td>\n",
       "    </tr>\n",
       "    <tr>\n",
       "      <th>312</th>\n",
       "      <td>insurrections</td>\n",
       "      <td>1</td>\n",
       "      <td>13</td>\n",
       "    </tr>\n",
       "    <tr>\n",
       "      <th>371</th>\n",
       "      <td>fundamentally</td>\n",
       "      <td>1</td>\n",
       "      <td>13</td>\n",
       "    </tr>\n",
       "    <tr>\n",
       "      <th>46</th>\n",
       "      <td>consanguinity</td>\n",
       "      <td>1</td>\n",
       "      <td>13</td>\n",
       "    </tr>\n",
       "    <tr>\n",
       "      <th>14</th>\n",
       "      <td>naturalization</td>\n",
       "      <td>1</td>\n",
       "      <td>14</td>\n",
       "    </tr>\n",
       "    <tr>\n",
       "      <th>41</th>\n",
       "      <td>unwarrantable</td>\n",
       "      <td>1</td>\n",
       "      <td>13</td>\n",
       "    </tr>\n",
       "    <tr>\n",
       "      <th>456</th>\n",
       "      <td>establishment</td>\n",
       "      <td>1</td>\n",
       "      <td>13</td>\n",
       "    </tr>\n",
       "    <tr>\n",
       "      <th>152</th>\n",
       "      <td>uncomfortable</td>\n",
       "      <td>1</td>\n",
       "      <td>13</td>\n",
       "    </tr>\n",
       "    <tr>\n",
       "      <th>24</th>\n",
       "      <td>magnanimity</td>\n",
       "      <td>1</td>\n",
       "      <td>11</td>\n",
       "    </tr>\n",
       "    <tr>\n",
       "      <th>349</th>\n",
       "      <td>accommodation</td>\n",
       "      <td>1</td>\n",
       "      <td>13</td>\n",
       "    </tr>\n",
       "    <tr>\n",
       "      <th>235</th>\n",
       "      <td>jurisdiction</td>\n",
       "      <td>2</td>\n",
       "      <td>12</td>\n",
       "    </tr>\n",
       "    <tr>\n",
       "      <th>59</th>\n",
       "      <td>legislature</td>\n",
       "      <td>2</td>\n",
       "      <td>11</td>\n",
       "    </tr>\n",
       "    <tr>\n",
       "      <th>511</th>\n",
       "      <td>establishing</td>\n",
       "      <td>2</td>\n",
       "      <td>12</td>\n",
       "    </tr>\n",
       "    <tr>\n",
       "      <th>201</th>\n",
       "      <td>legislatures</td>\n",
       "      <td>2</td>\n",
       "      <td>12</td>\n",
       "    </tr>\n",
       "    <tr>\n",
       "      <th>204</th>\n",
       "      <td>inhabitants</td>\n",
       "      <td>2</td>\n",
       "      <td>11</td>\n",
       "    </tr>\n",
       "    <tr>\n",
       "      <th>88</th>\n",
       "      <td>transporting</td>\n",
       "      <td>2</td>\n",
       "      <td>12</td>\n",
       "    </tr>\n",
       "    <tr>\n",
       "      <th>452</th>\n",
       "      <td>declaration</td>\n",
       "      <td>2</td>\n",
       "      <td>11</td>\n",
       "    </tr>\n",
       "    <tr>\n",
       "      <th>468</th>\n",
       "      <td>legislative</td>\n",
       "      <td>2</td>\n",
       "      <td>11</td>\n",
       "    </tr>\n",
       "    <tr>\n",
       "      <th>480</th>\n",
       "      <td>endeavoured</td>\n",
       "      <td>2</td>\n",
       "      <td>11</td>\n",
       "    </tr>\n",
       "    <tr>\n",
       "      <th>67</th>\n",
       "      <td>circumstances</td>\n",
       "      <td>2</td>\n",
       "      <td>13</td>\n",
       "    </tr>\n",
       "    <tr>\n",
       "      <th>466</th>\n",
       "      <td>usurpations</td>\n",
       "      <td>3</td>\n",
       "      <td>11</td>\n",
       "    </tr>\n",
       "    <tr>\n",
       "      <th>121</th>\n",
       "      <td>governments</td>\n",
       "      <td>3</td>\n",
       "      <td>11</td>\n",
       "    </tr>\n",
       "    <tr>\n",
       "      <th>62</th>\n",
       "      <td>independent</td>\n",
       "      <td>4</td>\n",
       "      <td>11</td>\n",
       "    </tr>\n",
       "  </tbody>\n",
       "</table>\n",
       "</div>"
      ],
      "text/plain": [
       "                word  freq  letters\n",
       "540  representatives     1       15\n",
       "404     executioners     1       12\n",
       "467     dissolutions     1       12\n",
       "270      mercenaries     1       11\n",
       "112      convulsions     1       11\n",
       "164      oppressions     1       11\n",
       "302      established     1       11\n",
       "234      destruction     1       11\n",
       "224     neighbouring     1       12\n",
       "251      connections     1       11\n",
       "285      legislation     1       11\n",
       "294      obstructing     1       11\n",
       "306      unalienable     1       11\n",
       "362      inestimable     1       11\n",
       "424      destructive     1       11\n",
       "431      constrained     1       11\n",
       "533      accordingly     1       11\n",
       "269      introducing     1       11\n",
       "393     annihilation     1       12\n",
       "482     self-evident     1       12\n",
       "323     constitution     1       12\n",
       "357  undistinguished     1       15\n",
       "124   appropriations     1       14\n",
       "275   unacknowledged     1       14\n",
       "63    administration     1       14\n",
       "114   representation     1       14\n",
       "69    representative     1       14\n",
       "345   correspondence     1       14\n",
       "312    insurrections     1       13\n",
       "371    fundamentally     1       13\n",
       "46     consanguinity     1       13\n",
       "14    naturalization     1       14\n",
       "41     unwarrantable     1       13\n",
       "456    establishment     1       13\n",
       "152    uncomfortable     1       13\n",
       "24       magnanimity     1       11\n",
       "349    accommodation     1       13\n",
       "235     jurisdiction     2       12\n",
       "59       legislature     2       11\n",
       "511     establishing     2       12\n",
       "201     legislatures     2       12\n",
       "204      inhabitants     2       11\n",
       "88      transporting     2       12\n",
       "452      declaration     2       11\n",
       "468      legislative     2       11\n",
       "480      endeavoured     2       11\n",
       "67     circumstances     2       13\n",
       "466      usurpations     3       11\n",
       "121      governments     3       11\n",
       "62       independent     4       11"
      ]
     },
     "execution_count": 130,
     "metadata": {
      "tags": []
     },
     "output_type": "execute_result"
    }
   ],
   "source": [
    "df.query('letters >10 ').sort_values('freq', ascending= True)\n"
   ]
  },
  {
   "cell_type": "code",
   "execution_count": 131,
   "metadata": {
    "colab": {
     "base_uri": "https://localhost:8080/",
     "height": 135
    },
    "colab_type": "code",
    "executionInfo": {
     "elapsed": 2482,
     "status": "ok",
     "timestamp": 1595473666891,
     "user": {
      "displayName": "Jozeff KAPLAN",
      "photoUrl": "",
      "userId": "04250959772459181544"
     },
     "user_tz": 300
    },
    "id": "JBj2zSzJotTs",
    "outputId": "8b5f163c-7590-4fc7-897b-ff5733f9f342"
   },
   "outputs": [
    {
     "data": {
      "text/markdown": [
       "## Exercise\n",
       "\n",
       "Show five most common words that occur at least 10 times and that have five or more letters, sorted descending order by frequency.\n",
       "\n",
       "Note use of `\\` for line continuation; nothing can appear after it!\n",
       "\n",
       "Indentation after first `df` is free-form.\n",
       "\n"
      ],
      "text/plain": [
       "<IPython.core.display.Markdown object>"
      ]
     },
     "metadata": {
      "tags": []
     },
     "output_type": "display_data"
    }
   ],
   "source": [
    "d()"
   ]
  },
  {
   "cell_type": "code",
   "execution_count": 132,
   "metadata": {
    "colab": {
     "base_uri": "https://localhost:8080/",
     "height": 186
    },
    "colab_type": "code",
    "executionInfo": {
     "elapsed": 850,
     "status": "ok",
     "timestamp": 1595473677024,
     "user": {
      "displayName": "Jozeff KAPLAN",
      "photoUrl": "",
      "userId": "04250959772459181544"
     },
     "user_tz": 300
    },
    "id": "NQ-HO7MEpBiI",
    "outputId": "509b717a-e463-4a8a-b823-de5b2a2dad98"
   },
   "outputs": [
    {
     "data": {
      "text/markdown": [
       "## Solution\n",
       "\n",
       "\n",
       "Show five most common words that occur at least 10 times and that have five or more letters, sorted descending order by frequency.\n",
       "\n",
       "Note use of `\\` for line continuation; nothing can appear after it!\n",
       "\n",
       "Indentation after first `df` is free-form.\n",
       "\n",
       "\n",
       "\n",
       "```python\n",
       "df.query(' freq >= 10 and letters >= 5 '). \\\n",
       "    sort_values('freq', ascending=False). \\\n",
       "    head(5)\n",
       "```\n",
       "\n",
       "\n"
      ],
      "text/plain": [
       "<IPython.core.display.Markdown object>"
      ]
     },
     "metadata": {
      "tags": []
     },
     "output_type": "display_data"
    }
   ],
   "source": [
    "d()"
   ]
  },
  {
   "cell_type": "code",
   "execution_count": 133,
   "metadata": {
    "colab": {
     "base_uri": "https://localhost:8080/",
     "height": 173
    },
    "colab_type": "code",
    "executionInfo": {
     "elapsed": 882,
     "status": "ok",
     "timestamp": 1595473703302,
     "user": {
      "displayName": "Jozeff KAPLAN",
      "photoUrl": "",
      "userId": "04250959772459181544"
     },
     "user_tz": 300
    },
    "id": "buPdLZW8pEQd",
    "outputId": "f5c6f223-17e2-4867-8b96-521b00474ec4"
   },
   "outputs": [
    {
     "data": {
      "text/html": [
       "<div>\n",
       "<style scoped>\n",
       "    .dataframe tbody tr th:only-of-type {\n",
       "        vertical-align: middle;\n",
       "    }\n",
       "\n",
       "    .dataframe tbody tr th {\n",
       "        vertical-align: top;\n",
       "    }\n",
       "\n",
       "    .dataframe thead th {\n",
       "        text-align: right;\n",
       "    }\n",
       "</style>\n",
       "<table border=\"1\" class=\"dataframe\">\n",
       "  <thead>\n",
       "    <tr style=\"text-align: right;\">\n",
       "      <th></th>\n",
       "      <th>word</th>\n",
       "      <th>freq</th>\n",
       "      <th>letters</th>\n",
       "    </tr>\n",
       "  </thead>\n",
       "  <tbody>\n",
       "    <tr>\n",
       "      <th>504</th>\n",
       "      <td>their</td>\n",
       "      <td>20</td>\n",
       "      <td>5</td>\n",
       "    </tr>\n",
       "    <tr>\n",
       "      <th>425</th>\n",
       "      <td>these</td>\n",
       "      <td>13</td>\n",
       "      <td>5</td>\n",
       "    </tr>\n",
       "    <tr>\n",
       "      <th>256</th>\n",
       "      <td>people</td>\n",
       "      <td>10</td>\n",
       "      <td>6</td>\n",
       "    </tr>\n",
       "    <tr>\n",
       "      <th>277</th>\n",
       "      <td>which</td>\n",
       "      <td>10</td>\n",
       "      <td>5</td>\n",
       "    </tr>\n",
       "  </tbody>\n",
       "</table>\n",
       "</div>"
      ],
      "text/plain": [
       "       word  freq  letters\n",
       "504   their    20        5\n",
       "425   these    13        5\n",
       "256  people    10        6\n",
       "277   which    10        5"
      ]
     },
     "execution_count": 133,
     "metadata": {
      "tags": []
     },
     "output_type": "execute_result"
    }
   ],
   "source": [
    "df.query(' freq >= 10 and letters >= 5 '). \\\n",
    "    sort_values('freq', ascending=False). \\\n",
    "    head(5)"
   ]
  },
  {
   "cell_type": "code",
   "execution_count": 134,
   "metadata": {
    "colab": {
     "base_uri": "https://localhost:8080/",
     "height": 277
    },
    "colab_type": "code",
    "executionInfo": {
     "elapsed": 2065,
     "status": "ok",
     "timestamp": 1595473761750,
     "user": {
      "displayName": "Jozeff KAPLAN",
      "photoUrl": "",
      "userId": "04250959772459181544"
     },
     "user_tz": 300
    },
    "id": "Eak7-9zppK1c",
    "outputId": "3a6d93c8-64c8-4999-910e-41e0a6abdf67"
   },
   "outputs": [
    {
     "data": {
      "text/markdown": [
       "## Graphics! The Bar Chart\n",
       "\n",
       "* Bar chart of word freq\n",
       "\n",
       "* `bar` for vertical and `barh` for horizontal\n",
       "\n",
       "* Subset to longer words using Exercise\n",
       "\n",
       "* Breakdown `set_index` statement\n",
       "\n",
       "```python\n",
       "bit = df.query(' freq >= 5 and letters >= 5 '). \\\n",
       "    sort_values('freq', ascending=False). \\\n",
       "    head(10). \\\n",
       "    set_index('word')\n",
       "\n",
       "display(bit)\n",
       "bit.plot(kind='bar', rot=315)\n",
       "```\n",
       "\n"
      ],
      "text/plain": [
       "<IPython.core.display.Markdown object>"
      ]
     },
     "metadata": {
      "tags": []
     },
     "output_type": "display_data"
    }
   ],
   "source": [
    "d()"
   ]
  },
  {
   "cell_type": "code",
   "execution_count": 135,
   "metadata": {
    "colab": {
     "base_uri": "https://localhost:8080/",
     "height": 359
    },
    "colab_type": "code",
    "executionInfo": {
     "elapsed": 2263,
     "status": "ok",
     "timestamp": 1595473909082,
     "user": {
      "displayName": "Jozeff KAPLAN",
      "photoUrl": "",
      "userId": "04250959772459181544"
     },
     "user_tz": 300
    },
    "id": "_tSdsFt3pY0E",
    "outputId": "a82f94ca-715f-4029-cb2f-2e068e1c2861"
   },
   "outputs": [
    {
     "data": {
      "text/html": [
       "<div>\n",
       "<style scoped>\n",
       "    .dataframe tbody tr th:only-of-type {\n",
       "        vertical-align: middle;\n",
       "    }\n",
       "\n",
       "    .dataframe tbody tr th {\n",
       "        vertical-align: top;\n",
       "    }\n",
       "\n",
       "    .dataframe thead th {\n",
       "        text-align: right;\n",
       "    }\n",
       "</style>\n",
       "<table border=\"1\" class=\"dataframe\">\n",
       "  <thead>\n",
       "    <tr style=\"text-align: right;\">\n",
       "      <th></th>\n",
       "      <th>freq</th>\n",
       "      <th>letters</th>\n",
       "    </tr>\n",
       "    <tr>\n",
       "      <th>word</th>\n",
       "      <th></th>\n",
       "      <th></th>\n",
       "    </tr>\n",
       "  </thead>\n",
       "  <tbody>\n",
       "    <tr>\n",
       "      <th>their</th>\n",
       "      <td>20</td>\n",
       "      <td>5</td>\n",
       "    </tr>\n",
       "    <tr>\n",
       "      <th>these</th>\n",
       "      <td>13</td>\n",
       "      <td>5</td>\n",
       "    </tr>\n",
       "    <tr>\n",
       "      <th>people</th>\n",
       "      <td>10</td>\n",
       "      <td>6</td>\n",
       "    </tr>\n",
       "    <tr>\n",
       "      <th>which</th>\n",
       "      <td>10</td>\n",
       "      <td>5</td>\n",
       "    </tr>\n",
       "    <tr>\n",
       "      <th>states</th>\n",
       "      <td>8</td>\n",
       "      <td>6</td>\n",
       "    </tr>\n",
       "    <tr>\n",
       "      <th>right</th>\n",
       "      <td>7</td>\n",
       "      <td>5</td>\n",
       "    </tr>\n",
       "    <tr>\n",
       "      <th>government</th>\n",
       "      <td>6</td>\n",
       "      <td>10</td>\n",
       "    </tr>\n",
       "    <tr>\n",
       "      <th>powers</th>\n",
       "      <td>5</td>\n",
       "      <td>6</td>\n",
       "    </tr>\n",
       "    <tr>\n",
       "      <th>among</th>\n",
       "      <td>5</td>\n",
       "      <td>5</td>\n",
       "    </tr>\n",
       "  </tbody>\n",
       "</table>\n",
       "</div>"
      ],
      "text/plain": [
       "            freq  letters\n",
       "word                     \n",
       "their         20        5\n",
       "these         13        5\n",
       "people        10        6\n",
       "which         10        5\n",
       "states         8        6\n",
       "right          7        5\n",
       "government     6       10\n",
       "powers         5        6\n",
       "among          5        5"
      ]
     },
     "metadata": {
      "tags": []
     },
     "output_type": "display_data"
    }
   ],
   "source": [
    "bit = df.query(' freq >= 5 and letters >= 5 '). \\\n",
    "    sort_values('freq', ascending=False). \\\n",
    "    head(10). \\\n",
    "    set_index('word')\n",
    "\n",
    "display(bit)\n"
   ]
  },
  {
   "cell_type": "code",
   "execution_count": 142,
   "metadata": {
    "colab": {
     "base_uri": "https://localhost:8080/",
     "height": 336
    },
    "colab_type": "code",
    "executionInfo": {
     "elapsed": 709,
     "status": "ok",
     "timestamp": 1595474281380,
     "user": {
      "displayName": "Jozeff KAPLAN",
      "photoUrl": "",
      "userId": "04250959772459181544"
     },
     "user_tz": 300
    },
    "id": "CCIsAukpp8ud",
    "outputId": "f1e73bcc-e4d8-49b9-efb3-ae01ce35c3b0"
   },
   "outputs": [
    {
     "data": {
      "text/plain": [
       "<matplotlib.axes._subplots.AxesSubplot at 0x7f0f75a61a58>"
      ]
     },
     "execution_count": 142,
     "metadata": {
      "tags": []
     },
     "output_type": "execute_result"
    },
    {
     "data": {
      "image/png": "[encoded data removed]",
      "text/plain": [
       "<Figure size 432x288 with 1 Axes>"
      ]
     },
     "metadata": {
      "needs_background": "light",
      "tags": []
     },
     "output_type": "display_data"
    }
   ],
   "source": [
    "bit.plot(kind='bar', rot=315)"
   ]
  },
  {
   "cell_type": "code",
   "execution_count": 143,
   "metadata": {
    "colab": {
     "base_uri": "https://localhost:8080/",
     "height": 336
    },
    "colab_type": "code",
    "executionInfo": {
     "elapsed": 1420,
     "status": "ok",
     "timestamp": 1595474360295,
     "user": {
      "displayName": "Jozeff KAPLAN",
      "photoUrl": "",
      "userId": "04250959772459181544"
     },
     "user_tz": 300
    },
    "id": "b0JUYNtwp_-o",
    "outputId": "1e1e7c73-edb9-43ae-b065-0d77e510d046"
   },
   "outputs": [
    {
     "data": {
      "text/plain": [
       "<matplotlib.axes._subplots.AxesSubplot at 0x7f0f759a83c8>"
      ]
     },
     "execution_count": 143,
     "metadata": {
      "tags": []
     },
     "output_type": "execute_result"
    },
    {
     "data": {
      "image/png": "[encoded data removed]",
      "text/plain": [
       "<Figure size 432x288 with 1 Axes>"
      ]
     },
     "metadata": {
      "needs_background": "light",
      "tags": []
     },
     "output_type": "display_data"
    }
   ],
   "source": [
    "bit['freq'].plot(kind='bar', rot=315)"
   ]
  },
  {
   "cell_type": "code",
   "execution_count": 144,
   "metadata": {
    "colab": {
     "base_uri": "https://localhost:8080/",
     "height": 81
    },
    "colab_type": "code",
    "executionInfo": {
     "elapsed": 677,
     "status": "ok",
     "timestamp": 1595474387132,
     "user": {
      "displayName": "Jozeff KAPLAN",
      "photoUrl": "",
      "userId": "04250959772459181544"
     },
     "user_tz": 300
    },
    "id": "JkxcsW9srrGn",
    "outputId": "fb40549d-fee4-4a5c-d585-e9c536feb94d"
   },
   "outputs": [
    {
     "data": {
      "text/markdown": [
       "## Just Plot Frequency, Not Letters\n",
       "\n",
       "```python\n",
       "bit['freq'].plot(kind='barh')\n",
       "```\n",
       "\n"
      ],
      "text/plain": [
       "<IPython.core.display.Markdown object>"
      ]
     },
     "metadata": {
      "tags": []
     },
     "output_type": "display_data"
    }
   ],
   "source": [
    "d()"
   ]
  },
  {
   "cell_type": "code",
   "execution_count": 150,
   "metadata": {
    "colab": {
     "base_uri": "https://localhost:8080/",
     "height": 298
    },
    "colab_type": "code",
    "executionInfo": {
     "elapsed": 986,
     "status": "ok",
     "timestamp": 1595474753162,
     "user": {
      "displayName": "Jozeff KAPLAN",
      "photoUrl": "",
      "userId": "04250959772459181544"
     },
     "user_tz": 300
    },
    "id": "kfqP1wGYrxqw",
    "outputId": "2f0113c0-ca30-4e01-b9ab-dfb5e56a904c"
   },
   "outputs": [
    {
     "data": {
      "text/plain": [
       "<matplotlib.axes._subplots.AxesSubplot at 0x7f0f758841d0>"
      ]
     },
     "execution_count": 150,
     "metadata": {
      "tags": []
     },
     "output_type": "execute_result"
    },
    {
     "data": {
      "image/png": "[encoded data removed]",
      "text/plain": [
       "<Figure size 432x288 with 1 Axes>"
      ]
     },
     "metadata": {
      "needs_background": "light",
      "tags": []
     },
     "output_type": "display_data"
    }
   ],
   "source": [
    "bit['freq'].plot(kind='barh', title = 'Horizontal Bar chart')"
   ]
  },
  {
   "cell_type": "code",
   "execution_count": 146,
   "metadata": {
    "colab": {
     "base_uri": "https://localhost:8080/",
     "height": 140
    },
    "colab_type": "code",
    "executionInfo": {
     "elapsed": 904,
     "status": "ok",
     "timestamp": 1595474409965,
     "user": {
      "displayName": "Jozeff KAPLAN",
      "photoUrl": "",
      "userId": "04250959772459181544"
     },
     "user_tz": 300
    },
    "id": "vu4Vdndxr0x_",
    "outputId": "67d5b09f-5cac-4f1c-f5f2-8677f7470a76"
   },
   "outputs": [
    {
     "data": {
      "text/markdown": [
       "## `[x]` vs `[[x]]` is the Same as R\n",
       "\n",
       "* `bit['freq']` returns a  Pandas `Series` object\n",
       "* `bit[['freq']]` returns a  Pandas `DataFrame` object\n",
       "\n",
       "```python\n",
       "display(bit['freq'])\n",
       "display(bit[['freq']])\n",
       "```\n",
       "\n"
      ],
      "text/plain": [
       "<IPython.core.display.Markdown object>"
      ]
     },
     "metadata": {
      "tags": []
     },
     "output_type": "display_data"
    }
   ],
   "source": [
    "d()"
   ]
  },
  {
   "cell_type": "code",
   "execution_count": 147,
   "metadata": {
    "colab": {
     "base_uri": "https://localhost:8080/",
     "height": 204
    },
    "colab_type": "code",
    "executionInfo": {
     "elapsed": 1064,
     "status": "ok",
     "timestamp": 1595474447271,
     "user": {
      "displayName": "Jozeff KAPLAN",
      "photoUrl": "",
      "userId": "04250959772459181544"
     },
     "user_tz": 300
    },
    "id": "a0rZUa0yr3Wq",
    "outputId": "6705e167-81b6-477b-bcb1-ee4bd359814a"
   },
   "outputs": [
    {
     "data": {
      "text/plain": [
       "word\n",
       "their         20\n",
       "these         13\n",
       "people        10\n",
       "which         10\n",
       "states         8\n",
       "right          7\n",
       "government     6\n",
       "powers         5\n",
       "among          5\n",
       "Name: freq, dtype: int64"
      ]
     },
     "metadata": {
      "tags": []
     },
     "output_type": "display_data"
    }
   ],
   "source": [
    "display(bit['freq'])"
   ]
  },
  {
   "cell_type": "code",
   "execution_count": 148,
   "metadata": {
    "colab": {
     "base_uri": "https://localhost:8080/",
     "height": 359
    },
    "colab_type": "code",
    "executionInfo": {
     "elapsed": 809,
     "status": "ok",
     "timestamp": 1595474470555,
     "user": {
      "displayName": "Jozeff KAPLAN",
      "photoUrl": "",
      "userId": "04250959772459181544"
     },
     "user_tz": 300
    },
    "id": "a5QvHuWWsAa5",
    "outputId": "6bfcbd29-8644-4847-a568-e88420f1ddff"
   },
   "outputs": [
    {
     "data": {
      "text/html": [
       "<div>\n",
       "<style scoped>\n",
       "    .dataframe tbody tr th:only-of-type {\n",
       "        vertical-align: middle;\n",
       "    }\n",
       "\n",
       "    .dataframe tbody tr th {\n",
       "        vertical-align: top;\n",
       "    }\n",
       "\n",
       "    .dataframe thead th {\n",
       "        text-align: right;\n",
       "    }\n",
       "</style>\n",
       "<table border=\"1\" class=\"dataframe\">\n",
       "  <thead>\n",
       "    <tr style=\"text-align: right;\">\n",
       "      <th></th>\n",
       "      <th>freq</th>\n",
       "    </tr>\n",
       "    <tr>\n",
       "      <th>word</th>\n",
       "      <th></th>\n",
       "    </tr>\n",
       "  </thead>\n",
       "  <tbody>\n",
       "    <tr>\n",
       "      <th>their</th>\n",
       "      <td>20</td>\n",
       "    </tr>\n",
       "    <tr>\n",
       "      <th>these</th>\n",
       "      <td>13</td>\n",
       "    </tr>\n",
       "    <tr>\n",
       "      <th>people</th>\n",
       "      <td>10</td>\n",
       "    </tr>\n",
       "    <tr>\n",
       "      <th>which</th>\n",
       "      <td>10</td>\n",
       "    </tr>\n",
       "    <tr>\n",
       "      <th>states</th>\n",
       "      <td>8</td>\n",
       "    </tr>\n",
       "    <tr>\n",
       "      <th>right</th>\n",
       "      <td>7</td>\n",
       "    </tr>\n",
       "    <tr>\n",
       "      <th>government</th>\n",
       "      <td>6</td>\n",
       "    </tr>\n",
       "    <tr>\n",
       "      <th>powers</th>\n",
       "      <td>5</td>\n",
       "    </tr>\n",
       "    <tr>\n",
       "      <th>among</th>\n",
       "      <td>5</td>\n",
       "    </tr>\n",
       "  </tbody>\n",
       "</table>\n",
       "</div>"
      ],
      "text/plain": [
       "            freq\n",
       "word            \n",
       "their         20\n",
       "these         13\n",
       "people        10\n",
       "which         10\n",
       "states         8\n",
       "right          7\n",
       "government     6\n",
       "powers         5\n",
       "among          5"
      ]
     },
     "metadata": {
      "tags": []
     },
     "output_type": "display_data"
    }
   ],
   "source": [
    "display(bit[['freq']])"
   ]
  },
  {
   "cell_type": "code",
   "execution_count": 149,
   "metadata": {
    "colab": {
     "base_uri": "https://localhost:8080/",
     "height": 106
    },
    "colab_type": "code",
    "executionInfo": {
     "elapsed": 1005,
     "status": "ok",
     "timestamp": 1595474640105,
     "user": {
      "displayName": "Jozeff KAPLAN",
      "photoUrl": "",
      "userId": "04250959772459181544"
     },
     "user_tz": 300
    },
    "id": "hWYFGoC2sGKH",
    "outputId": "fa74aec4-5958-4d50-a734-f2b3ecd45921"
   },
   "outputs": [
    {
     "data": {
      "text/markdown": [
       "## Scatter Plot\n",
       "* Scatter plot: frequency vs. number of letters\n",
       "\n",
       "```python\n",
       "df.plot(kind='scatter', x='letters', y='freq', marker='o', alpha=0.4)\n",
       "```\n",
       "\n"
      ],
      "text/plain": [
       "<IPython.core.display.Markdown object>"
      ]
     },
     "metadata": {
      "tags": []
     },
     "output_type": "display_data"
    }
   ],
   "source": [
    "d()"
   ]
  },
  {
   "cell_type": "code",
   "execution_count": 151,
   "metadata": {
    "colab": {
     "base_uri": "https://localhost:8080/",
     "height": 312
    },
    "colab_type": "code",
    "executionInfo": {
     "elapsed": 976,
     "status": "ok",
     "timestamp": 1595474767875,
     "user": {
      "displayName": "Jozeff KAPLAN",
      "photoUrl": "",
      "userId": "04250959772459181544"
     },
     "user_tz": 300
    },
    "id": "k5OSteFIsvgZ",
    "outputId": "949bf8b2-3463-4c40-986a-ab9c6705d13a"
   },
   "outputs": [
    {
     "data": {
      "text/plain": [
       "<matplotlib.axes._subplots.AxesSubplot at 0x7f0f7582de48>"
      ]
     },
     "execution_count": 151,
     "metadata": {
      "tags": []
     },
     "output_type": "execute_result"
    },
    {
     "data": {
      "image/png": "[encoded data removed]",
      "text/plain": [
       "<Figure size 432x288 with 1 Axes>"
      ]
     },
     "metadata": {
      "needs_background": "light",
      "tags": []
     },
     "output_type": "display_data"
    }
   ],
   "source": [
    "df.plot(kind='scatter', x='letters', y='freq', marker='o', alpha=0.4, title = 'Scatter Plot')"
   ]
  },
  {
   "cell_type": "code",
   "execution_count": 152,
   "metadata": {
    "colab": {
     "base_uri": "https://localhost:8080/",
     "height": 106
    },
    "colab_type": "code",
    "executionInfo": {
     "elapsed": 1064,
     "status": "ok",
     "timestamp": 1595474818968,
     "user": {
      "displayName": "Jozeff KAPLAN",
      "photoUrl": "",
      "userId": "04250959772459181544"
     },
     "user_tz": 300
    },
    "id": "zCdr2q_FtOsh",
    "outputId": "9e23c36a-08e0-480c-90a8-90a1d77d1008"
   },
   "outputs": [
    {
     "data": {
      "text/markdown": [
       "## Exercise\n",
       "* Jitter number of letters and re-plot, i.e., add a new column equal to the number of letters plus a small random number\n",
       "* Explore alpha, different markers, e.g., `'x'`, change marker size `s=2`\n",
       "\n"
      ],
      "text/plain": [
       "<IPython.core.display.Markdown object>"
      ]
     },
     "metadata": {
      "tags": []
     },
     "output_type": "display_data"
    }
   ],
   "source": [
    "d()"
   ]
  },
  {
   "cell_type": "code",
   "execution_count": 153,
   "metadata": {
    "colab": {
     "base_uri": "https://localhost:8080/",
     "height": 180
    },
    "colab_type": "code",
    "executionInfo": {
     "elapsed": 851,
     "status": "ok",
     "timestamp": 1595474835292,
     "user": {
      "displayName": "Jozeff KAPLAN",
      "photoUrl": "",
      "userId": "04250959772459181544"
     },
     "user_tz": 300
    },
    "id": "ZOMFIQ-_tbKy",
    "outputId": "05638795-6228-4bf0-aa65-16e815f3637b"
   },
   "outputs": [
    {
     "data": {
      "text/markdown": [
       "## Solutions\n",
       "\n",
       "* Jitter number of letters and re-plot, i.e., add a new column equal to the number of letters plus a small random number\n",
       "* Explore alpha, different markers, e.g., `'x'`, change marker size `s=2`\n",
       "\n",
       "\n",
       "\n",
       "`lw` sets the line width\n",
       "\n",
       "```python\n",
       "df['letters_j'] = df.letters + np.random.rand(len(df)) * .8 - 0.4\n",
       "df.plot(kind='scatter', x='letters_j', y='freq', marker='x', alpha=0.4)\n",
       "df.plot(kind='scatter', x='letters_j', y='freq', marker='x', s=10, lw=.25, alpha=0.8)\n",
       "```\n",
       "\n"
      ],
      "text/plain": [
       "<IPython.core.display.Markdown object>"
      ]
     },
     "metadata": {
      "tags": []
     },
     "output_type": "display_data"
    }
   ],
   "source": [
    "d()"
   ]
  },
  {
   "cell_type": "code",
   "execution_count": 154,
   "metadata": {
    "colab": {
     "base_uri": "https://localhost:8080/",
     "height": 560
    },
    "colab_type": "code",
    "executionInfo": {
     "elapsed": 1544,
     "status": "ok",
     "timestamp": 1595474853252,
     "user": {
      "displayName": "Jozeff KAPLAN",
      "photoUrl": "",
      "userId": "04250959772459181544"
     },
     "user_tz": 300
    },
    "id": "W0yMmuwatfMu",
    "outputId": "fadbdf10-75ca-4e74-bb4f-52f8d7f194f7"
   },
   "outputs": [
    {
     "data": {
      "text/plain": [
       "<matplotlib.axes._subplots.AxesSubplot at 0x7f0f75742278>"
      ]
     },
     "execution_count": 154,
     "metadata": {
      "tags": []
     },
     "output_type": "execute_result"
    },
    {
     "data": {
      "image/png": "[encoded data removed]",
      "text/plain": [
       "<Figure size 432x288 with 1 Axes>"
      ]
     },
     "metadata": {
      "needs_background": "light",
      "tags": []
     },
     "output_type": "display_data"
    },
    {
     "data": {
      "image/png": "[encoded data removed]",
      "text/plain": [
       "<Figure size 432x288 with 1 Axes>"
      ]
     },
     "metadata": {
      "needs_background": "light",
      "tags": []
     },
     "output_type": "display_data"
    }
   ],
   "source": [
    "df['letters_j'] = df.letters + np.random.rand(len(df)) * .8 - 0.4\n",
    "df.plot(kind='scatter', x='letters_j', y='freq', marker='x', alpha=0.4)\n",
    "df.plot(kind='scatter', x='letters_j', y='freq', marker='x', s=10, lw=.25, alpha=0.8)"
   ]
  },
  {
   "cell_type": "code",
   "execution_count": 155,
   "metadata": {
    "colab": {
     "base_uri": "https://localhost:8080/",
     "height": 149
    },
    "colab_type": "code",
    "executionInfo": {
     "elapsed": 915,
     "status": "ok",
     "timestamp": 1595474879330,
     "user": {
      "displayName": "Jozeff KAPLAN",
      "photoUrl": "",
      "userId": "04250959772459181544"
     },
     "user_tz": 300
    },
    "id": "zW7TIKEZtjad",
    "outputId": "2fc60821-0fad-4a66-c4e8-0485812e9706"
   },
   "outputs": [
    {
     "data": {
      "text/markdown": [
       "## Nicer Plots and Plot Decorations\n",
       "\n",
       "```python\n",
       "%config InlineBackend.figure_format = 'svg'\n",
       "\n",
       "ax = df.plot(kind='scatter', x='letters_j', y='freq', marker='x', s=10, lw=1)\n",
       "ax.grid()\n",
       "ax.set(title='My Title', xlabel='(Jitterd) Number of Letters', ylabel='Word Frequency')\n",
       "```\n",
       "\n"
      ],
      "text/plain": [
       "<IPython.core.display.Markdown object>"
      ]
     },
     "metadata": {
      "tags": []
     },
     "output_type": "display_data"
    }
   ],
   "source": [
    "d()"
   ]
  },
  {
   "cell_type": "code",
   "execution_count": 156,
   "metadata": {
    "colab": {
     "base_uri": "https://localhost:8080/",
     "height": 442
    },
    "colab_type": "code",
    "executionInfo": {
     "elapsed": 1100,
     "status": "ok",
     "timestamp": 1595474915973,
     "user": {
      "displayName": "Jozeff KAPLAN",
      "photoUrl": "",
      "userId": "04250959772459181544"
     },
     "user_tz": 300
    },
    "id": "kD_JB9_Ktp8N",
    "outputId": "f3ecad3b-f7ed-4d53-ea69-dcdee33fa111"
   },
   "outputs": [
    {
     "data": {
      "text/plain": [
       "[Text(0, 0.5, 'Word Frequency'),\n",
       " Text(0.5, 0, '(Jitterd) Number of Letters'),\n",
       " Text(0.5, 1.0, 'My Title')]"
      ]
     },
     "execution_count": 156,
     "metadata": {
      "tags": []
     },
     "output_type": "execute_result"
    },
    {
     "data": {
      "image/svg+xml": [
       "<?xml version=\"1.0\" encoding=\"utf-8\" standalone=\"no\"?>\n",
       "<!DOCTYPE svg PUBLIC \"-//W3C//DTD SVG 1.1//EN\"\n",
       "  \"http://www.w3.org/Graphics/SVG/1.1/DTD/svg11.dtd\">\n",
       "<!-- Created with matplotlib (https://matplotlib.org/) -->\n",
       "<svg height=\"277.314375pt\" version=\"1.1\" viewBox=\"0 0 387.542765 277.314375\" width=\"387.542765pt\" xmlns=\"http://www.w3.org/2000/svg\" xmlns:xlink=\"http://www.w3.org/1999/xlink\">\n",
       " <defs>\n",
       "  <style type=\"text/css\">\n",
       "*{stroke-linecap:butt;stroke-linejoin:round;}\n",
       "  </style>\n",
       " </defs>\n",
       " <g id=\"figure_1\">\n",
       "  <g id=\"patch_1\">\n",
       "   <path d=\"M 0 277.314375 \n",
       "L 387.542765 277.314375 \n",
       "L 387.542765 0 \n",
       "L 0 0 \n",
       "z\n",
       "\" style=\"fill:none;\"/>\n",
       "  </g>\n",
       "  <g id=\"axes_1\">\n",
       "   <g id=\"patch_2\">\n",
       "    <path d=\"M 40.603125 239.758125 \n",
       "L 375.403125 239.758125 \n",
       "L 375.403125 22.318125 \n",
       "L 40.603125 22.318125 \n",
       "z\n",
       "\" style=\"fill:#ffffff;\"/>\n",
       "   </g>\n",
       "   <g id=\"PathCollection_1\">\n",
       "    <defs>\n",
       "     <path d=\"M -1.581139 1.581139 \n",
       "L 1.581139 -1.581139 \n",
       "M -1.581139 -1.581139 \n",
       "L 1.581139 1.581139 \n",
       "\" id=\"m98834af16c\" style=\"stroke:#1f77b4;\"/>\n",
       "    </defs>\n",
       "    <g clip-path=\"url(#pfd7faee3bb)\">\n",
       "     <use style=\"fill:#1f77b4;stroke:#1f77b4;\" x=\"360.184943\" xlink:href=\"#m98834af16c\" y=\"229.874489\"/>\n",
       "     <use style=\"fill:#1f77b4;stroke:#1f77b4;\" x=\"348.863773\" xlink:href=\"#m98834af16c\" y=\"229.874489\"/>\n",
       "     <use style=\"fill:#1f77b4;stroke:#1f77b4;\" x=\"327.025778\" xlink:href=\"#m98834af16c\" y=\"229.874489\"/>\n",
       "     <use style=\"fill:#1f77b4;stroke:#1f77b4;\" x=\"323.642982\" xlink:href=\"#m98834af16c\" y=\"229.874489\"/>\n",
       "     <use style=\"fill:#1f77b4;stroke:#1f77b4;\" x=\"329.310611\" xlink:href=\"#m98834af16c\" y=\"229.874489\"/>\n",
       "     <use style=\"fill:#1f77b4;stroke:#1f77b4;\" x=\"325.087734\" xlink:href=\"#m98834af16c\" y=\"229.874489\"/>\n",
       "     <use style=\"fill:#1f77b4;stroke:#1f77b4;\" x=\"334.515699\" xlink:href=\"#m98834af16c\" y=\"229.874489\"/>\n",
       "     <use style=\"fill:#1f77b4;stroke:#1f77b4;\" x=\"328.003139\" xlink:href=\"#m98834af16c\" y=\"229.874489\"/>\n",
       "     <use style=\"fill:#1f77b4;stroke:#1f77b4;\" x=\"338.129408\" xlink:href=\"#m98834af16c\" y=\"229.874489\"/>\n",
       "     <use style=\"fill:#1f77b4;stroke:#1f77b4;\" x=\"314.345352\" xlink:href=\"#m98834af16c\" y=\"229.874489\"/>\n",
       "     <use style=\"fill:#1f77b4;stroke:#1f77b4;\" x=\"309.2138\" xlink:href=\"#m98834af16c\" y=\"229.874489\"/>\n",
       "     <use style=\"fill:#1f77b4;stroke:#1f77b4;\" x=\"301.775782\" xlink:href=\"#m98834af16c\" y=\"229.874489\"/>\n",
       "     <use style=\"fill:#1f77b4;stroke:#1f77b4;\" x=\"315.232461\" xlink:href=\"#m98834af16c\" y=\"229.874489\"/>\n",
       "     <use style=\"fill:#1f77b4;stroke:#1f77b4;\" x=\"317.463959\" xlink:href=\"#m98834af16c\" y=\"229.874489\"/>\n",
       "     <use style=\"fill:#1f77b4;stroke:#1f77b4;\" x=\"305.82942\" xlink:href=\"#m98834af16c\" y=\"229.874489\"/>\n",
       "     <use style=\"fill:#1f77b4;stroke:#1f77b4;\" x=\"315.334262\" xlink:href=\"#m98834af16c\" y=\"227.30731\"/>\n",
       "     <use style=\"fill:#1f77b4;stroke:#1f77b4;\" x=\"302.232584\" xlink:href=\"#m98834af16c\" y=\"229.874489\"/>\n",
       "     <use style=\"fill:#1f77b4;stroke:#1f77b4;\" x=\"286.410141\" xlink:href=\"#m98834af16c\" y=\"229.874489\"/>\n",
       "     <use style=\"fill:#1f77b4;stroke:#1f77b4;\" x=\"291.857509\" xlink:href=\"#m98834af16c\" y=\"227.30731\"/>\n",
       "     <use style=\"fill:#1f77b4;stroke:#1f77b4;\" x=\"290.253608\" xlink:href=\"#m98834af16c\" y=\"229.874489\"/>\n",
       "     <use style=\"fill:#1f77b4;stroke:#1f77b4;\" x=\"286.457244\" xlink:href=\"#m98834af16c\" y=\"229.874489\"/>\n",
       "     <use style=\"fill:#1f77b4;stroke:#1f77b4;\" x=\"297.286824\" xlink:href=\"#m98834af16c\" y=\"229.874489\"/>\n",
       "     <use style=\"fill:#1f77b4;stroke:#1f77b4;\" x=\"282.215188\" xlink:href=\"#m98834af16c\" y=\"227.30731\"/>\n",
       "     <use style=\"fill:#1f77b4;stroke:#1f77b4;\" x=\"295.303338\" xlink:href=\"#m98834af16c\" y=\"229.874489\"/>\n",
       "     <use style=\"fill:#1f77b4;stroke:#1f77b4;\" x=\"281.065799\" xlink:href=\"#m98834af16c\" y=\"229.874489\"/>\n",
       "     <use style=\"fill:#1f77b4;stroke:#1f77b4;\" x=\"285.638265\" xlink:href=\"#m98834af16c\" y=\"227.30731\"/>\n",
       "     <use style=\"fill:#1f77b4;stroke:#1f77b4;\" x=\"293.978978\" xlink:href=\"#m98834af16c\" y=\"227.30731\"/>\n",
       "     <use style=\"fill:#1f77b4;stroke:#1f77b4;\" x=\"272.446655\" xlink:href=\"#m98834af16c\" y=\"229.874489\"/>\n",
       "     <use style=\"fill:#1f77b4;stroke:#1f77b4;\" x=\"268.35338\" xlink:href=\"#m98834af16c\" y=\"224.740132\"/>\n",
       "     <use style=\"fill:#1f77b4;stroke:#1f77b4;\" x=\"263.752999\" xlink:href=\"#m98834af16c\" y=\"229.874489\"/>\n",
       "     <use style=\"fill:#1f77b4;stroke:#1f77b4;\" x=\"265.525846\" xlink:href=\"#m98834af16c\" y=\"227.30731\"/>\n",
       "     <use style=\"fill:#1f77b4;stroke:#1f77b4;\" x=\"260.192418\" xlink:href=\"#m98834af16c\" y=\"229.874489\"/>\n",
       "     <use style=\"fill:#1f77b4;stroke:#1f77b4;\" x=\"266.627219\" xlink:href=\"#m98834af16c\" y=\"229.874489\"/>\n",
       "     <use style=\"fill:#1f77b4;stroke:#1f77b4;\" x=\"264.912683\" xlink:href=\"#m98834af16c\" y=\"229.874489\"/>\n",
       "     <use style=\"fill:#1f77b4;stroke:#1f77b4;\" x=\"262.317614\" xlink:href=\"#m98834af16c\" y=\"229.874489\"/>\n",
       "     <use style=\"fill:#1f77b4;stroke:#1f77b4;\" x=\"268.264518\" xlink:href=\"#m98834af16c\" y=\"229.874489\"/>\n",
       "     <use style=\"fill:#1f77b4;stroke:#1f77b4;\" x=\"275.711688\" xlink:href=\"#m98834af16c\" y=\"229.874489\"/>\n",
       "     <use style=\"fill:#1f77b4;stroke:#1f77b4;\" x=\"275.41269\" xlink:href=\"#m98834af16c\" y=\"227.30731\"/>\n",
       "     <use style=\"fill:#1f77b4;stroke:#1f77b4;\" x=\"272.489572\" xlink:href=\"#m98834af16c\" y=\"229.874489\"/>\n",
       "     <use style=\"fill:#1f77b4;stroke:#1f77b4;\" x=\"265.817435\" xlink:href=\"#m98834af16c\" y=\"229.874489\"/>\n",
       "     <use style=\"fill:#1f77b4;stroke:#1f77b4;\" x=\"260.425485\" xlink:href=\"#m98834af16c\" y=\"229.874489\"/>\n",
       "     <use style=\"fill:#1f77b4;stroke:#1f77b4;\" x=\"272.800816\" xlink:href=\"#m98834af16c\" y=\"229.874489\"/>\n",
       "     <use style=\"fill:#1f77b4;stroke:#1f77b4;\" x=\"260.658916\" xlink:href=\"#m98834af16c\" y=\"227.30731\"/>\n",
       "     <use style=\"fill:#1f77b4;stroke:#1f77b4;\" x=\"270.448342\" xlink:href=\"#m98834af16c\" y=\"224.740132\"/>\n",
       "     <use style=\"fill:#1f77b4;stroke:#1f77b4;\" x=\"274.742587\" xlink:href=\"#m98834af16c\" y=\"227.30731\"/>\n",
       "     <use style=\"fill:#1f77b4;stroke:#1f77b4;\" x=\"268.433274\" xlink:href=\"#m98834af16c\" y=\"227.30731\"/>\n",
       "     <use style=\"fill:#1f77b4;stroke:#1f77b4;\" x=\"267.445452\" xlink:href=\"#m98834af16c\" y=\"229.874489\"/>\n",
       "     <use style=\"fill:#1f77b4;stroke:#1f77b4;\" x=\"275.31752\" xlink:href=\"#m98834af16c\" y=\"222.172954\"/>\n",
       "     <use style=\"fill:#1f77b4;stroke:#1f77b4;\" x=\"270.665684\" xlink:href=\"#m98834af16c\" y=\"229.874489\"/>\n",
       "     <use style=\"fill:#1f77b4;stroke:#1f77b4;\" x=\"266.406449\" xlink:href=\"#m98834af16c\" y=\"229.874489\"/>\n",
       "     <use style=\"fill:#1f77b4;stroke:#1f77b4;\" x=\"251.379513\" xlink:href=\"#m98834af16c\" y=\"229.874489\"/>\n",
       "     <use style=\"fill:#1f77b4;stroke:#1f77b4;\" x=\"238.283428\" xlink:href=\"#m98834af16c\" y=\"229.874489\"/>\n",
       "     <use style=\"fill:#1f77b4;stroke:#1f77b4;\" x=\"247.83688\" xlink:href=\"#m98834af16c\" y=\"229.874489\"/>\n",
       "     <use style=\"fill:#1f77b4;stroke:#1f77b4;\" x=\"251.568501\" xlink:href=\"#m98834af16c\" y=\"229.874489\"/>\n",
       "     <use style=\"fill:#1f77b4;stroke:#1f77b4;\" x=\"241.243628\" xlink:href=\"#m98834af16c\" y=\"229.874489\"/>\n",
       "     <use style=\"fill:#1f77b4;stroke:#1f77b4;\" x=\"243.632893\" xlink:href=\"#m98834af16c\" y=\"229.874489\"/>\n",
       "     <use style=\"fill:#1f77b4;stroke:#1f77b4;\" x=\"240.193187\" xlink:href=\"#m98834af16c\" y=\"229.874489\"/>\n",
       "     <use style=\"fill:#1f77b4;stroke:#1f77b4;\" x=\"240.722997\" xlink:href=\"#m98834af16c\" y=\"229.874489\"/>\n",
       "     <use style=\"fill:#1f77b4;stroke:#1f77b4;\" x=\"254.624709\" xlink:href=\"#m98834af16c\" y=\"229.874489\"/>\n",
       "     <use style=\"fill:#1f77b4;stroke:#1f77b4;\" x=\"253.852702\" xlink:href=\"#m98834af16c\" y=\"229.874489\"/>\n",
       "     <use style=\"fill:#1f77b4;stroke:#1f77b4;\" x=\"254.524861\" xlink:href=\"#m98834af16c\" y=\"229.874489\"/>\n",
       "     <use style=\"fill:#1f77b4;stroke:#1f77b4;\" x=\"241.942897\" xlink:href=\"#m98834af16c\" y=\"229.874489\"/>\n",
       "     <use style=\"fill:#1f77b4;stroke:#1f77b4;\" x=\"245.96361\" xlink:href=\"#m98834af16c\" y=\"229.874489\"/>\n",
       "     <use style=\"fill:#1f77b4;stroke:#1f77b4;\" x=\"254.280906\" xlink:href=\"#m98834af16c\" y=\"229.874489\"/>\n",
       "     <use style=\"fill:#1f77b4;stroke:#1f77b4;\" x=\"253.381557\" xlink:href=\"#m98834af16c\" y=\"217.038597\"/>\n",
       "     <use style=\"fill:#1f77b4;stroke:#1f77b4;\" x=\"246.838542\" xlink:href=\"#m98834af16c\" y=\"229.874489\"/>\n",
       "     <use style=\"fill:#1f77b4;stroke:#1f77b4;\" x=\"245.173069\" xlink:href=\"#m98834af16c\" y=\"229.874489\"/>\n",
       "     <use style=\"fill:#1f77b4;stroke:#1f77b4;\" x=\"244.967861\" xlink:href=\"#m98834af16c\" y=\"229.874489\"/>\n",
       "     <use style=\"fill:#1f77b4;stroke:#1f77b4;\" x=\"252.01756\" xlink:href=\"#m98834af16c\" y=\"229.874489\"/>\n",
       "     <use style=\"fill:#1f77b4;stroke:#1f77b4;\" x=\"247.865397\" xlink:href=\"#m98834af16c\" y=\"229.874489\"/>\n",
       "     <use style=\"fill:#1f77b4;stroke:#1f77b4;\" x=\"247.125251\" xlink:href=\"#m98834af16c\" y=\"229.874489\"/>\n",
       "     <use style=\"fill:#1f77b4;stroke:#1f77b4;\" x=\"244.117523\" xlink:href=\"#m98834af16c\" y=\"229.874489\"/>\n",
       "     <use style=\"fill:#1f77b4;stroke:#1f77b4;\" x=\"254.535213\" xlink:href=\"#m98834af16c\" y=\"229.874489\"/>\n",
       "     <use style=\"fill:#1f77b4;stroke:#1f77b4;\" x=\"243.627606\" xlink:href=\"#m98834af16c\" y=\"229.874489\"/>\n",
       "     <use style=\"fill:#1f77b4;stroke:#1f77b4;\" x=\"248.6354\" xlink:href=\"#m98834af16c\" y=\"229.874489\"/>\n",
       "     <use style=\"fill:#1f77b4;stroke:#1f77b4;\" x=\"249.196639\" xlink:href=\"#m98834af16c\" y=\"229.874489\"/>\n",
       "     <use style=\"fill:#1f77b4;stroke:#1f77b4;\" x=\"250.491071\" xlink:href=\"#m98834af16c\" y=\"227.30731\"/>\n",
       "     <use style=\"fill:#1f77b4;stroke:#1f77b4;\" x=\"240.434523\" xlink:href=\"#m98834af16c\" y=\"229.874489\"/>\n",
       "     <use style=\"fill:#1f77b4;stroke:#1f77b4;\" x=\"253.412917\" xlink:href=\"#m98834af16c\" y=\"229.874489\"/>\n",
       "     <use style=\"fill:#1f77b4;stroke:#1f77b4;\" x=\"246.26081\" xlink:href=\"#m98834af16c\" y=\"229.874489\"/>\n",
       "     <use style=\"fill:#1f77b4;stroke:#1f77b4;\" x=\"243.589788\" xlink:href=\"#m98834af16c\" y=\"229.874489\"/>\n",
       "     <use style=\"fill:#1f77b4;stroke:#1f77b4;\" x=\"242.26926\" xlink:href=\"#m98834af16c\" y=\"229.874489\"/>\n",
       "     <use style=\"fill:#1f77b4;stroke:#1f77b4;\" x=\"247.690087\" xlink:href=\"#m98834af16c\" y=\"229.874489\"/>\n",
       "     <use style=\"fill:#1f77b4;stroke:#1f77b4;\" x=\"251.65818\" xlink:href=\"#m98834af16c\" y=\"227.30731\"/>\n",
       "     <use style=\"fill:#1f77b4;stroke:#1f77b4;\" x=\"240.979439\" xlink:href=\"#m98834af16c\" y=\"229.874489\"/>\n",
       "     <use style=\"fill:#1f77b4;stroke:#1f77b4;\" x=\"251.621701\" xlink:href=\"#m98834af16c\" y=\"229.874489\"/>\n",
       "     <use style=\"fill:#1f77b4;stroke:#1f77b4;\" x=\"252.041351\" xlink:href=\"#m98834af16c\" y=\"224.740132\"/>\n",
       "     <use style=\"fill:#1f77b4;stroke:#1f77b4;\" x=\"238.981902\" xlink:href=\"#m98834af16c\" y=\"224.740132\"/>\n",
       "     <use style=\"fill:#1f77b4;stroke:#1f77b4;\" x=\"241.288588\" xlink:href=\"#m98834af16c\" y=\"227.30731\"/>\n",
       "     <use style=\"fill:#1f77b4;stroke:#1f77b4;\" x=\"243.274247\" xlink:href=\"#m98834af16c\" y=\"229.874489\"/>\n",
       "     <use style=\"fill:#1f77b4;stroke:#1f77b4;\" x=\"241.860308\" xlink:href=\"#m98834af16c\" y=\"229.874489\"/>\n",
       "     <use style=\"fill:#1f77b4;stroke:#1f77b4;\" x=\"238.561225\" xlink:href=\"#m98834af16c\" y=\"229.874489\"/>\n",
       "     <use style=\"fill:#1f77b4;stroke:#1f77b4;\" x=\"238.991528\" xlink:href=\"#m98834af16c\" y=\"229.874489\"/>\n",
       "     <use style=\"fill:#1f77b4;stroke:#1f77b4;\" x=\"244.824629\" xlink:href=\"#m98834af16c\" y=\"229.874489\"/>\n",
       "     <use style=\"fill:#1f77b4;stroke:#1f77b4;\" x=\"223.584968\" xlink:href=\"#m98834af16c\" y=\"229.874489\"/>\n",
       "     <use style=\"fill:#1f77b4;stroke:#1f77b4;\" x=\"218.470179\" xlink:href=\"#m98834af16c\" y=\"227.30731\"/>\n",
       "     <use style=\"fill:#1f77b4;stroke:#1f77b4;\" x=\"217.861923\" xlink:href=\"#m98834af16c\" y=\"229.874489\"/>\n",
       "     <use style=\"fill:#1f77b4;stroke:#1f77b4;\" x=\"225.551216\" xlink:href=\"#m98834af16c\" y=\"227.30731\"/>\n",
       "     <use style=\"fill:#1f77b4;stroke:#1f77b4;\" x=\"232.68529\" xlink:href=\"#m98834af16c\" y=\"229.874489\"/>\n",
       "     <use style=\"fill:#1f77b4;stroke:#1f77b4;\" x=\"223.966688\" xlink:href=\"#m98834af16c\" y=\"227.30731\"/>\n",
       "     <use style=\"fill:#1f77b4;stroke:#1f77b4;\" x=\"228.116709\" xlink:href=\"#m98834af16c\" y=\"229.874489\"/>\n",
       "     <use style=\"fill:#1f77b4;stroke:#1f77b4;\" x=\"216.436229\" xlink:href=\"#m98834af16c\" y=\"229.874489\"/>\n",
       "     <use style=\"fill:#1f77b4;stroke:#1f77b4;\" x=\"218.243027\" xlink:href=\"#m98834af16c\" y=\"229.874489\"/>\n",
       "     <use style=\"fill:#1f77b4;stroke:#1f77b4;\" x=\"226.73643\" xlink:href=\"#m98834af16c\" y=\"229.874489\"/>\n",
       "     <use style=\"fill:#1f77b4;stroke:#1f77b4;\" x=\"222.1184\" xlink:href=\"#m98834af16c\" y=\"229.874489\"/>\n",
       "     <use style=\"fill:#1f77b4;stroke:#1f77b4;\" x=\"228.700269\" xlink:href=\"#m98834af16c\" y=\"229.874489\"/>\n",
       "     <use style=\"fill:#1f77b4;stroke:#1f77b4;\" x=\"222.889053\" xlink:href=\"#m98834af16c\" y=\"227.30731\"/>\n",
       "     <use style=\"fill:#1f77b4;stroke:#1f77b4;\" x=\"230.622592\" xlink:href=\"#m98834af16c\" y=\"229.874489\"/>\n",
       "     <use style=\"fill:#1f77b4;stroke:#1f77b4;\" x=\"226.255465\" xlink:href=\"#m98834af16c\" y=\"229.874489\"/>\n",
       "     <use style=\"fill:#1f77b4;stroke:#1f77b4;\" x=\"224.671079\" xlink:href=\"#m98834af16c\" y=\"227.30731\"/>\n",
       "     <use style=\"fill:#1f77b4;stroke:#1f77b4;\" x=\"232.482837\" xlink:href=\"#m98834af16c\" y=\"229.874489\"/>\n",
       "     <use style=\"fill:#1f77b4;stroke:#1f77b4;\" x=\"217.658886\" xlink:href=\"#m98834af16c\" y=\"227.30731\"/>\n",
       "     <use style=\"fill:#1f77b4;stroke:#1f77b4;\" x=\"231.802547\" xlink:href=\"#m98834af16c\" y=\"229.874489\"/>\n",
       "     <use style=\"fill:#1f77b4;stroke:#1f77b4;\" x=\"223.665059\" xlink:href=\"#m98834af16c\" y=\"229.874489\"/>\n",
       "     <use style=\"fill:#1f77b4;stroke:#1f77b4;\" x=\"219.591299\" xlink:href=\"#m98834af16c\" y=\"229.874489\"/>\n",
       "     <use style=\"fill:#1f77b4;stroke:#1f77b4;\" x=\"225.161329\" xlink:href=\"#m98834af16c\" y=\"229.874489\"/>\n",
       "     <use style=\"fill:#1f77b4;stroke:#1f77b4;\" x=\"226.383173\" xlink:href=\"#m98834af16c\" y=\"229.874489\"/>\n",
       "     <use style=\"fill:#1f77b4;stroke:#1f77b4;\" x=\"231.480673\" xlink:href=\"#m98834af16c\" y=\"229.874489\"/>\n",
       "     <use style=\"fill:#1f77b4;stroke:#1f77b4;\" x=\"218.078681\" xlink:href=\"#m98834af16c\" y=\"229.874489\"/>\n",
       "     <use style=\"fill:#1f77b4;stroke:#1f77b4;\" x=\"232.170274\" xlink:href=\"#m98834af16c\" y=\"229.874489\"/>\n",
       "     <use style=\"fill:#1f77b4;stroke:#1f77b4;\" x=\"228.859365\" xlink:href=\"#m98834af16c\" y=\"229.874489\"/>\n",
       "     <use style=\"fill:#1f77b4;stroke:#1f77b4;\" x=\"226.914691\" xlink:href=\"#m98834af16c\" y=\"229.874489\"/>\n",
       "     <use style=\"fill:#1f77b4;stroke:#1f77b4;\" x=\"225.821538\" xlink:href=\"#m98834af16c\" y=\"229.874489\"/>\n",
       "     <use style=\"fill:#1f77b4;stroke:#1f77b4;\" x=\"227.149094\" xlink:href=\"#m98834af16c\" y=\"229.874489\"/>\n",
       "     <use style=\"fill:#1f77b4;stroke:#1f77b4;\" x=\"230.384407\" xlink:href=\"#m98834af16c\" y=\"229.874489\"/>\n",
       "     <use style=\"fill:#1f77b4;stroke:#1f77b4;\" x=\"226.742505\" xlink:href=\"#m98834af16c\" y=\"229.874489\"/>\n",
       "     <use style=\"fill:#1f77b4;stroke:#1f77b4;\" x=\"216.948979\" xlink:href=\"#m98834af16c\" y=\"229.874489\"/>\n",
       "     <use style=\"fill:#1f77b4;stroke:#1f77b4;\" x=\"225.81164\" xlink:href=\"#m98834af16c\" y=\"229.874489\"/>\n",
       "     <use style=\"fill:#1f77b4;stroke:#1f77b4;\" x=\"223.020553\" xlink:href=\"#m98834af16c\" y=\"229.874489\"/>\n",
       "     <use style=\"fill:#1f77b4;stroke:#1f77b4;\" x=\"218.840896\" xlink:href=\"#m98834af16c\" y=\"229.874489\"/>\n",
       "     <use style=\"fill:#1f77b4;stroke:#1f77b4;\" x=\"230.144548\" xlink:href=\"#m98834af16c\" y=\"229.874489\"/>\n",
       "     <use style=\"fill:#1f77b4;stroke:#1f77b4;\" x=\"222.066336\" xlink:href=\"#m98834af16c\" y=\"229.874489\"/>\n",
       "     <use style=\"fill:#1f77b4;stroke:#1f77b4;\" x=\"225.538095\" xlink:href=\"#m98834af16c\" y=\"229.874489\"/>\n",
       "     <use style=\"fill:#1f77b4;stroke:#1f77b4;\" x=\"224.678613\" xlink:href=\"#m98834af16c\" y=\"229.874489\"/>\n",
       "     <use style=\"fill:#1f77b4;stroke:#1f77b4;\" x=\"226.505435\" xlink:href=\"#m98834af16c\" y=\"229.874489\"/>\n",
       "     <use style=\"fill:#1f77b4;stroke:#1f77b4;\" x=\"225.756122\" xlink:href=\"#m98834af16c\" y=\"229.874489\"/>\n",
       "     <use style=\"fill:#1f77b4;stroke:#1f77b4;\" x=\"229.751649\" xlink:href=\"#m98834af16c\" y=\"229.874489\"/>\n",
       "     <use style=\"fill:#1f77b4;stroke:#1f77b4;\" x=\"226.782133\" xlink:href=\"#m98834af16c\" y=\"227.30731\"/>\n",
       "     <use style=\"fill:#1f77b4;stroke:#1f77b4;\" x=\"225.996529\" xlink:href=\"#m98834af16c\" y=\"227.30731\"/>\n",
       "     <use style=\"fill:#1f77b4;stroke:#1f77b4;\" x=\"231.925817\" xlink:href=\"#m98834af16c\" y=\"229.874489\"/>\n",
       "     <use style=\"fill:#1f77b4;stroke:#1f77b4;\" x=\"227.25206\" xlink:href=\"#m98834af16c\" y=\"229.874489\"/>\n",
       "     <use style=\"fill:#1f77b4;stroke:#1f77b4;\" x=\"232.444493\" xlink:href=\"#m98834af16c\" y=\"229.874489\"/>\n",
       "     <use style=\"fill:#1f77b4;stroke:#1f77b4;\" x=\"222.361617\" xlink:href=\"#m98834af16c\" y=\"227.30731\"/>\n",
       "     <use style=\"fill:#1f77b4;stroke:#1f77b4;\" x=\"216.976912\" xlink:href=\"#m98834af16c\" y=\"229.874489\"/>\n",
       "     <use style=\"fill:#1f77b4;stroke:#1f77b4;\" x=\"223.063137\" xlink:href=\"#m98834af16c\" y=\"229.874489\"/>\n",
       "     <use style=\"fill:#1f77b4;stroke:#1f77b4;\" x=\"224.939591\" xlink:href=\"#m98834af16c\" y=\"229.874489\"/>\n",
       "     <use style=\"fill:#1f77b4;stroke:#1f77b4;\" x=\"218.745366\" xlink:href=\"#m98834af16c\" y=\"229.874489\"/>\n",
       "     <use style=\"fill:#1f77b4;stroke:#1f77b4;\" x=\"208.897637\" xlink:href=\"#m98834af16c\" y=\"229.874489\"/>\n",
       "     <use style=\"fill:#1f77b4;stroke:#1f77b4;\" x=\"195.778449\" xlink:href=\"#m98834af16c\" y=\"229.874489\"/>\n",
       "     <use style=\"fill:#1f77b4;stroke:#1f77b4;\" x=\"209.123619\" xlink:href=\"#m98834af16c\" y=\"229.874489\"/>\n",
       "     <use style=\"fill:#1f77b4;stroke:#1f77b4;\" x=\"210.152065\" xlink:href=\"#m98834af16c\" y=\"229.874489\"/>\n",
       "     <use style=\"fill:#1f77b4;stroke:#1f77b4;\" x=\"202.624274\" xlink:href=\"#m98834af16c\" y=\"229.874489\"/>\n",
       "     <use style=\"fill:#1f77b4;stroke:#1f77b4;\" x=\"210.733263\" xlink:href=\"#m98834af16c\" y=\"229.874489\"/>\n",
       "     <use style=\"fill:#1f77b4;stroke:#1f77b4;\" x=\"201.330545\" xlink:href=\"#m98834af16c\" y=\"229.874489\"/>\n",
       "     <use style=\"fill:#1f77b4;stroke:#1f77b4;\" x=\"197.471714\" xlink:href=\"#m98834af16c\" y=\"229.874489\"/>\n",
       "     <use style=\"fill:#1f77b4;stroke:#1f77b4;\" x=\"208.831619\" xlink:href=\"#m98834af16c\" y=\"229.874489\"/>\n",
       "     <use style=\"fill:#1f77b4;stroke:#1f77b4;\" x=\"195.62098\" xlink:href=\"#m98834af16c\" y=\"229.874489\"/>\n",
       "     <use style=\"fill:#1f77b4;stroke:#1f77b4;\" x=\"203.794048\" xlink:href=\"#m98834af16c\" y=\"227.30731\"/>\n",
       "     <use style=\"fill:#1f77b4;stroke:#1f77b4;\" x=\"204.967903\" xlink:href=\"#m98834af16c\" y=\"229.874489\"/>\n",
       "     <use style=\"fill:#1f77b4;stroke:#1f77b4;\" x=\"203.918232\" xlink:href=\"#m98834af16c\" y=\"229.874489\"/>\n",
       "     <use style=\"fill:#1f77b4;stroke:#1f77b4;\" x=\"211.102621\" xlink:href=\"#m98834af16c\" y=\"229.874489\"/>\n",
       "     <use style=\"fill:#1f77b4;stroke:#1f77b4;\" x=\"201.02565\" xlink:href=\"#m98834af16c\" y=\"229.874489\"/>\n",
       "     <use style=\"fill:#1f77b4;stroke:#1f77b4;\" x=\"203.803582\" xlink:href=\"#m98834af16c\" y=\"229.874489\"/>\n",
       "     <use style=\"fill:#1f77b4;stroke:#1f77b4;\" x=\"197.811059\" xlink:href=\"#m98834af16c\" y=\"229.874489\"/>\n",
       "     <use style=\"fill:#1f77b4;stroke:#1f77b4;\" x=\"206.232986\" xlink:href=\"#m98834af16c\" y=\"229.874489\"/>\n",
       "     <use style=\"fill:#1f77b4;stroke:#1f77b4;\" x=\"197.062487\" xlink:href=\"#m98834af16c\" y=\"229.874489\"/>\n",
       "     <use style=\"fill:#1f77b4;stroke:#1f77b4;\" x=\"198.519816\" xlink:href=\"#m98834af16c\" y=\"229.874489\"/>\n",
       "     <use style=\"fill:#1f77b4;stroke:#1f77b4;\" x=\"202.489717\" xlink:href=\"#m98834af16c\" y=\"229.874489\"/>\n",
       "     <use style=\"fill:#1f77b4;stroke:#1f77b4;\" x=\"211.785097\" xlink:href=\"#m98834af16c\" y=\"229.874489\"/>\n",
       "     <use style=\"fill:#1f77b4;stroke:#1f77b4;\" x=\"211.717359\" xlink:href=\"#m98834af16c\" y=\"229.874489\"/>\n",
       "     <use style=\"fill:#1f77b4;stroke:#1f77b4;\" x=\"207.380678\" xlink:href=\"#m98834af16c\" y=\"229.874489\"/>\n",
       "     <use style=\"fill:#1f77b4;stroke:#1f77b4;\" x=\"207.877524\" xlink:href=\"#m98834af16c\" y=\"229.874489\"/>\n",
       "     <use style=\"fill:#1f77b4;stroke:#1f77b4;\" x=\"208.172216\" xlink:href=\"#m98834af16c\" y=\"229.874489\"/>\n",
       "     <use style=\"fill:#1f77b4;stroke:#1f77b4;\" x=\"200.425708\" xlink:href=\"#m98834af16c\" y=\"229.874489\"/>\n",
       "     <use style=\"fill:#1f77b4;stroke:#1f77b4;\" x=\"196.949882\" xlink:href=\"#m98834af16c\" y=\"229.874489\"/>\n",
       "     <use style=\"fill:#1f77b4;stroke:#1f77b4;\" x=\"203.121514\" xlink:href=\"#m98834af16c\" y=\"229.874489\"/>\n",
       "     <use style=\"fill:#1f77b4;stroke:#1f77b4;\" x=\"204.288765\" xlink:href=\"#m98834af16c\" y=\"229.874489\"/>\n",
       "     <use style=\"fill:#1f77b4;stroke:#1f77b4;\" x=\"203.776766\" xlink:href=\"#m98834af16c\" y=\"229.874489\"/>\n",
       "     <use style=\"fill:#1f77b4;stroke:#1f77b4;\" x=\"198.909321\" xlink:href=\"#m98834af16c\" y=\"229.874489\"/>\n",
       "     <use style=\"fill:#1f77b4;stroke:#1f77b4;\" x=\"204.043755\" xlink:href=\"#m98834af16c\" y=\"229.874489\"/>\n",
       "     <use style=\"fill:#1f77b4;stroke:#1f77b4;\" x=\"205.226226\" xlink:href=\"#m98834af16c\" y=\"229.874489\"/>\n",
       "     <use style=\"fill:#1f77b4;stroke:#1f77b4;\" x=\"205.025512\" xlink:href=\"#m98834af16c\" y=\"229.874489\"/>\n",
       "     <use style=\"fill:#1f77b4;stroke:#1f77b4;\" x=\"211.587888\" xlink:href=\"#m98834af16c\" y=\"227.30731\"/>\n",
       "     <use style=\"fill:#1f77b4;stroke:#1f77b4;\" x=\"201.045006\" xlink:href=\"#m98834af16c\" y=\"229.874489\"/>\n",
       "     <use style=\"fill:#1f77b4;stroke:#1f77b4;\" x=\"201.010245\" xlink:href=\"#m98834af16c\" y=\"229.874489\"/>\n",
       "     <use style=\"fill:#1f77b4;stroke:#1f77b4;\" x=\"198.310414\" xlink:href=\"#m98834af16c\" y=\"224.740132\"/>\n",
       "     <use style=\"fill:#1f77b4;stroke:#1f77b4;\" x=\"196.530808\" xlink:href=\"#m98834af16c\" y=\"229.874489\"/>\n",
       "     <use style=\"fill:#1f77b4;stroke:#1f77b4;\" x=\"209.25848\" xlink:href=\"#m98834af16c\" y=\"229.874489\"/>\n",
       "     <use style=\"fill:#1f77b4;stroke:#1f77b4;\" x=\"196.163014\" xlink:href=\"#m98834af16c\" y=\"224.740132\"/>\n",
       "     <use style=\"fill:#1f77b4;stroke:#1f77b4;\" x=\"198.271961\" xlink:href=\"#m98834af16c\" y=\"222.172954\"/>\n",
       "     <use style=\"fill:#1f77b4;stroke:#1f77b4;\" x=\"197.777708\" xlink:href=\"#m98834af16c\" y=\"229.874489\"/>\n",
       "     <use style=\"fill:#1f77b4;stroke:#1f77b4;\" x=\"201.149811\" xlink:href=\"#m98834af16c\" y=\"229.874489\"/>\n",
       "     <use style=\"fill:#1f77b4;stroke:#1f77b4;\" x=\"211.803602\" xlink:href=\"#m98834af16c\" y=\"229.874489\"/>\n",
       "     <use style=\"fill:#1f77b4;stroke:#1f77b4;\" x=\"204.27844\" xlink:href=\"#m98834af16c\" y=\"229.874489\"/>\n",
       "     <use style=\"fill:#1f77b4;stroke:#1f77b4;\" x=\"200.386713\" xlink:href=\"#m98834af16c\" y=\"229.874489\"/>\n",
       "     <use style=\"fill:#1f77b4;stroke:#1f77b4;\" x=\"195.534948\" xlink:href=\"#m98834af16c\" y=\"229.874489\"/>\n",
       "     <use style=\"fill:#1f77b4;stroke:#1f77b4;\" x=\"195.218583\" xlink:href=\"#m98834af16c\" y=\"229.874489\"/>\n",
       "     <use style=\"fill:#1f77b4;stroke:#1f77b4;\" x=\"196.106842\" xlink:href=\"#m98834af16c\" y=\"227.30731\"/>\n",
       "     <use style=\"fill:#1f77b4;stroke:#1f77b4;\" x=\"210.504743\" xlink:href=\"#m98834af16c\" y=\"229.874489\"/>\n",
       "     <use style=\"fill:#1f77b4;stroke:#1f77b4;\" x=\"211.118955\" xlink:href=\"#m98834af16c\" y=\"229.874489\"/>\n",
       "     <use style=\"fill:#1f77b4;stroke:#1f77b4;\" x=\"201.818246\" xlink:href=\"#m98834af16c\" y=\"229.874489\"/>\n",
       "     <use style=\"fill:#1f77b4;stroke:#1f77b4;\" x=\"209.085179\" xlink:href=\"#m98834af16c\" y=\"229.874489\"/>\n",
       "     <use style=\"fill:#1f77b4;stroke:#1f77b4;\" x=\"202.548742\" xlink:href=\"#m98834af16c\" y=\"229.874489\"/>\n",
       "     <use style=\"fill:#1f77b4;stroke:#1f77b4;\" x=\"207.059745\" xlink:href=\"#m98834af16c\" y=\"229.874489\"/>\n",
       "     <use style=\"fill:#1f77b4;stroke:#1f77b4;\" x=\"203.387427\" xlink:href=\"#m98834af16c\" y=\"229.874489\"/>\n",
       "     <use style=\"fill:#1f77b4;stroke:#1f77b4;\" x=\"210.977184\" xlink:href=\"#m98834af16c\" y=\"229.874489\"/>\n",
       "     <use style=\"fill:#1f77b4;stroke:#1f77b4;\" x=\"201.637447\" xlink:href=\"#m98834af16c\" y=\"229.874489\"/>\n",
       "     <use style=\"fill:#1f77b4;stroke:#1f77b4;\" x=\"198.418782\" xlink:href=\"#m98834af16c\" y=\"229.874489\"/>\n",
       "     <use style=\"fill:#1f77b4;stroke:#1f77b4;\" x=\"197.981169\" xlink:href=\"#m98834af16c\" y=\"229.874489\"/>\n",
       "     <use style=\"fill:#1f77b4;stroke:#1f77b4;\" x=\"188.885749\" xlink:href=\"#m98834af16c\" y=\"229.874489\"/>\n",
       "     <use style=\"fill:#1f77b4;stroke:#1f77b4;\" x=\"180.961051\" xlink:href=\"#m98834af16c\" y=\"229.874489\"/>\n",
       "     <use style=\"fill:#1f77b4;stroke:#1f77b4;\" x=\"175.006951\" xlink:href=\"#m98834af16c\" y=\"229.874489\"/>\n",
       "     <use style=\"fill:#1f77b4;stroke:#1f77b4;\" x=\"186.87331\" xlink:href=\"#m98834af16c\" y=\"229.874489\"/>\n",
       "     <use style=\"fill:#1f77b4;stroke:#1f77b4;\" x=\"185.470613\" xlink:href=\"#m98834af16c\" y=\"229.874489\"/>\n",
       "     <use style=\"fill:#1f77b4;stroke:#1f77b4;\" x=\"189.21415\" xlink:href=\"#m98834af16c\" y=\"229.874489\"/>\n",
       "     <use style=\"fill:#1f77b4;stroke:#1f77b4;\" x=\"178.79483\" xlink:href=\"#m98834af16c\" y=\"229.874489\"/>\n",
       "     <use style=\"fill:#1f77b4;stroke:#1f77b4;\" x=\"179.097525\" xlink:href=\"#m98834af16c\" y=\"229.874489\"/>\n",
       "     <use style=\"fill:#1f77b4;stroke:#1f77b4;\" x=\"190.533459\" xlink:href=\"#m98834af16c\" y=\"227.30731\"/>\n",
       "     <use style=\"fill:#1f77b4;stroke:#1f77b4;\" x=\"182.489867\" xlink:href=\"#m98834af16c\" y=\"229.874489\"/>\n",
       "     <use style=\"fill:#1f77b4;stroke:#1f77b4;\" x=\"188.522995\" xlink:href=\"#m98834af16c\" y=\"229.874489\"/>\n",
       "     <use style=\"fill:#1f77b4;stroke:#1f77b4;\" x=\"190.81424\" xlink:href=\"#m98834af16c\" y=\"229.874489\"/>\n",
       "     <use style=\"fill:#1f77b4;stroke:#1f77b4;\" x=\"178.584261\" xlink:href=\"#m98834af16c\" y=\"229.874489\"/>\n",
       "     <use style=\"fill:#1f77b4;stroke:#1f77b4;\" x=\"175.754254\" xlink:href=\"#m98834af16c\" y=\"227.30731\"/>\n",
       "     <use style=\"fill:#1f77b4;stroke:#1f77b4;\" x=\"176.331854\" xlink:href=\"#m98834af16c\" y=\"229.874489\"/>\n",
       "     <use style=\"fill:#1f77b4;stroke:#1f77b4;\" x=\"184.856057\" xlink:href=\"#m98834af16c\" y=\"227.30731\"/>\n",
       "     <use style=\"fill:#1f77b4;stroke:#1f77b4;\" x=\"190.545392\" xlink:href=\"#m98834af16c\" y=\"229.874489\"/>\n",
       "     <use style=\"fill:#1f77b4;stroke:#1f77b4;\" x=\"190.35721\" xlink:href=\"#m98834af16c\" y=\"229.874489\"/>\n",
       "     <use style=\"fill:#1f77b4;stroke:#1f77b4;\" x=\"177.801429\" xlink:href=\"#m98834af16c\" y=\"229.874489\"/>\n",
       "     <use style=\"fill:#1f77b4;stroke:#1f77b4;\" x=\"187.587665\" xlink:href=\"#m98834af16c\" y=\"229.874489\"/>\n",
       "     <use style=\"fill:#1f77b4;stroke:#1f77b4;\" x=\"182.805286\" xlink:href=\"#m98834af16c\" y=\"229.874489\"/>\n",
       "     <use style=\"fill:#1f77b4;stroke:#1f77b4;\" x=\"176.663774\" xlink:href=\"#m98834af16c\" y=\"229.874489\"/>\n",
       "     <use style=\"fill:#1f77b4;stroke:#1f77b4;\" x=\"182.204394\" xlink:href=\"#m98834af16c\" y=\"229.874489\"/>\n",
       "     <use style=\"fill:#1f77b4;stroke:#1f77b4;\" x=\"178.477083\" xlink:href=\"#m98834af16c\" y=\"229.874489\"/>\n",
       "     <use style=\"fill:#1f77b4;stroke:#1f77b4;\" x=\"187.173449\" xlink:href=\"#m98834af16c\" y=\"229.874489\"/>\n",
       "     <use style=\"fill:#1f77b4;stroke:#1f77b4;\" x=\"184.495592\" xlink:href=\"#m98834af16c\" y=\"224.740132\"/>\n",
       "     <use style=\"fill:#1f77b4;stroke:#1f77b4;\" x=\"178.339733\" xlink:href=\"#m98834af16c\" y=\"229.874489\"/>\n",
       "     <use style=\"fill:#1f77b4;stroke:#1f77b4;\" x=\"187.100364\" xlink:href=\"#m98834af16c\" y=\"229.874489\"/>\n",
       "     <use style=\"fill:#1f77b4;stroke:#1f77b4;\" x=\"176.148726\" xlink:href=\"#m98834af16c\" y=\"229.874489\"/>\n",
       "     <use style=\"fill:#1f77b4;stroke:#1f77b4;\" x=\"174.570896\" xlink:href=\"#m98834af16c\" y=\"229.874489\"/>\n",
       "     <use style=\"fill:#1f77b4;stroke:#1f77b4;\" x=\"181.111956\" xlink:href=\"#m98834af16c\" y=\"229.874489\"/>\n",
       "     <use style=\"fill:#1f77b4;stroke:#1f77b4;\" x=\"187.729975\" xlink:href=\"#m98834af16c\" y=\"229.874489\"/>\n",
       "     <use style=\"fill:#1f77b4;stroke:#1f77b4;\" x=\"186.555717\" xlink:href=\"#m98834af16c\" y=\"229.874489\"/>\n",
       "     <use style=\"fill:#1f77b4;stroke:#1f77b4;\" x=\"186.469414\" xlink:href=\"#m98834af16c\" y=\"229.874489\"/>\n",
       "     <use style=\"fill:#1f77b4;stroke:#1f77b4;\" x=\"189.30684\" xlink:href=\"#m98834af16c\" y=\"227.30731\"/>\n",
       "     <use style=\"fill:#1f77b4;stroke:#1f77b4;\" x=\"176.529346\" xlink:href=\"#m98834af16c\" y=\"229.874489\"/>\n",
       "     <use style=\"fill:#1f77b4;stroke:#1f77b4;\" x=\"178.439866\" xlink:href=\"#m98834af16c\" y=\"229.874489\"/>\n",
       "     <use style=\"fill:#1f77b4;stroke:#1f77b4;\" x=\"185.196602\" xlink:href=\"#m98834af16c\" y=\"229.874489\"/>\n",
       "     <use style=\"fill:#1f77b4;stroke:#1f77b4;\" x=\"190.086312\" xlink:href=\"#m98834af16c\" y=\"229.874489\"/>\n",
       "     <use style=\"fill:#1f77b4;stroke:#1f77b4;\" x=\"184.988587\" xlink:href=\"#m98834af16c\" y=\"229.874489\"/>\n",
       "     <use style=\"fill:#1f77b4;stroke:#1f77b4;\" x=\"190.372643\" xlink:href=\"#m98834af16c\" y=\"229.874489\"/>\n",
       "     <use style=\"fill:#1f77b4;stroke:#1f77b4;\" x=\"180.152385\" xlink:href=\"#m98834af16c\" y=\"229.874489\"/>\n",
       "     <use style=\"fill:#1f77b4;stroke:#1f77b4;\" x=\"186.794312\" xlink:href=\"#m98834af16c\" y=\"229.874489\"/>\n",
       "     <use style=\"fill:#1f77b4;stroke:#1f77b4;\" x=\"185.235408\" xlink:href=\"#m98834af16c\" y=\"227.30731\"/>\n",
       "     <use style=\"fill:#1f77b4;stroke:#1f77b4;\" x=\"177.716035\" xlink:href=\"#m98834af16c\" y=\"227.30731\"/>\n",
       "     <use style=\"fill:#1f77b4;stroke:#1f77b4;\" x=\"176.171897\" xlink:href=\"#m98834af16c\" y=\"229.874489\"/>\n",
       "     <use style=\"fill:#1f77b4;stroke:#1f77b4;\" x=\"177.951132\" xlink:href=\"#m98834af16c\" y=\"227.30731\"/>\n",
       "     <use style=\"fill:#1f77b4;stroke:#1f77b4;\" x=\"184.751241\" xlink:href=\"#m98834af16c\" y=\"229.874489\"/>\n",
       "     <use style=\"fill:#1f77b4;stroke:#1f77b4;\" x=\"175.825751\" xlink:href=\"#m98834af16c\" y=\"224.740132\"/>\n",
       "     <use style=\"fill:#1f77b4;stroke:#1f77b4;\" x=\"186.268229\" xlink:href=\"#m98834af16c\" y=\"224.740132\"/>\n",
       "     <use style=\"fill:#1f77b4;stroke:#1f77b4;\" x=\"184.501403\" xlink:href=\"#m98834af16c\" y=\"227.30731\"/>\n",
       "     <use style=\"fill:#1f77b4;stroke:#1f77b4;\" x=\"187.268066\" xlink:href=\"#m98834af16c\" y=\"227.30731\"/>\n",
       "     <use style=\"fill:#1f77b4;stroke:#1f77b4;\" x=\"176.778656\" xlink:href=\"#m98834af16c\" y=\"227.30731\"/>\n",
       "     <use style=\"fill:#1f77b4;stroke:#1f77b4;\" x=\"180.222997\" xlink:href=\"#m98834af16c\" y=\"229.874489\"/>\n",
       "     <use style=\"fill:#1f77b4;stroke:#1f77b4;\" x=\"177.442139\" xlink:href=\"#m98834af16c\" y=\"229.874489\"/>\n",
       "     <use style=\"fill:#1f77b4;stroke:#1f77b4;\" x=\"182.134645\" xlink:href=\"#m98834af16c\" y=\"227.30731\"/>\n",
       "     <use style=\"fill:#1f77b4;stroke:#1f77b4;\" x=\"178.873483\" xlink:href=\"#m98834af16c\" y=\"229.874489\"/>\n",
       "     <use style=\"fill:#1f77b4;stroke:#1f77b4;\" x=\"174.895705\" xlink:href=\"#m98834af16c\" y=\"229.874489\"/>\n",
       "     <use style=\"fill:#1f77b4;stroke:#1f77b4;\" x=\"182.609193\" xlink:href=\"#m98834af16c\" y=\"229.874489\"/>\n",
       "     <use style=\"fill:#1f77b4;stroke:#1f77b4;\" x=\"184.377532\" xlink:href=\"#m98834af16c\" y=\"229.874489\"/>\n",
       "     <use style=\"fill:#1f77b4;stroke:#1f77b4;\" x=\"189.427098\" xlink:href=\"#m98834af16c\" y=\"229.874489\"/>\n",
       "     <use style=\"fill:#1f77b4;stroke:#1f77b4;\" x=\"180.443321\" xlink:href=\"#m98834af16c\" y=\"229.874489\"/>\n",
       "     <use style=\"fill:#1f77b4;stroke:#1f77b4;\" x=\"183.624831\" xlink:href=\"#m98834af16c\" y=\"229.874489\"/>\n",
       "     <use style=\"fill:#1f77b4;stroke:#1f77b4;\" x=\"176.116962\" xlink:href=\"#m98834af16c\" y=\"229.874489\"/>\n",
       "     <use style=\"fill:#1f77b4;stroke:#1f77b4;\" x=\"176.877761\" xlink:href=\"#m98834af16c\" y=\"229.874489\"/>\n",
       "     <use style=\"fill:#1f77b4;stroke:#1f77b4;\" x=\"182.828156\" xlink:href=\"#m98834af16c\" y=\"224.740132\"/>\n",
       "     <use style=\"fill:#1f77b4;stroke:#1f77b4;\" x=\"184.809123\" xlink:href=\"#m98834af16c\" y=\"229.874489\"/>\n",
       "     <use style=\"fill:#1f77b4;stroke:#1f77b4;\" x=\"181.534851\" xlink:href=\"#m98834af16c\" y=\"229.874489\"/>\n",
       "     <use style=\"fill:#1f77b4;stroke:#1f77b4;\" x=\"185.326706\" xlink:href=\"#m98834af16c\" y=\"224.740132\"/>\n",
       "     <use style=\"fill:#1f77b4;stroke:#1f77b4;\" x=\"186.816694\" xlink:href=\"#m98834af16c\" y=\"227.30731\"/>\n",
       "     <use style=\"fill:#1f77b4;stroke:#1f77b4;\" x=\"189.337931\" xlink:href=\"#m98834af16c\" y=\"229.874489\"/>\n",
       "     <use style=\"fill:#1f77b4;stroke:#1f77b4;\" x=\"190.621475\" xlink:href=\"#m98834af16c\" y=\"229.874489\"/>\n",
       "     <use style=\"fill:#1f77b4;stroke:#1f77b4;\" x=\"182.620374\" xlink:href=\"#m98834af16c\" y=\"229.874489\"/>\n",
       "     <use style=\"fill:#1f77b4;stroke:#1f77b4;\" x=\"184.970738\" xlink:href=\"#m98834af16c\" y=\"229.874489\"/>\n",
       "     <use style=\"fill:#1f77b4;stroke:#1f77b4;\" x=\"186.911985\" xlink:href=\"#m98834af16c\" y=\"229.874489\"/>\n",
       "     <use style=\"fill:#1f77b4;stroke:#1f77b4;\" x=\"180.180708\" xlink:href=\"#m98834af16c\" y=\"229.874489\"/>\n",
       "     <use style=\"fill:#1f77b4;stroke:#1f77b4;\" x=\"168.174013\" xlink:href=\"#m98834af16c\" y=\"229.874489\"/>\n",
       "     <use style=\"fill:#1f77b4;stroke:#1f77b4;\" x=\"162.650232\" xlink:href=\"#m98834af16c\" y=\"229.874489\"/>\n",
       "     <use style=\"fill:#1f77b4;stroke:#1f77b4;\" x=\"168.470691\" xlink:href=\"#m98834af16c\" y=\"229.874489\"/>\n",
       "     <use style=\"fill:#1f77b4;stroke:#1f77b4;\" x=\"165.793711\" xlink:href=\"#m98834af16c\" y=\"229.874489\"/>\n",
       "     <use style=\"fill:#1f77b4;stroke:#1f77b4;\" x=\"154.151204\" xlink:href=\"#m98834af16c\" y=\"227.30731\"/>\n",
       "     <use style=\"fill:#1f77b4;stroke:#1f77b4;\" x=\"160.028874\" xlink:href=\"#m98834af16c\" y=\"229.874489\"/>\n",
       "     <use style=\"fill:#1f77b4;stroke:#1f77b4;\" x=\"159.461376\" xlink:href=\"#m98834af16c\" y=\"229.874489\"/>\n",
       "     <use style=\"fill:#1f77b4;stroke:#1f77b4;\" x=\"161.255891\" xlink:href=\"#m98834af16c\" y=\"227.30731\"/>\n",
       "     <use style=\"fill:#1f77b4;stroke:#1f77b4;\" x=\"161.368367\" xlink:href=\"#m98834af16c\" y=\"229.874489\"/>\n",
       "     <use style=\"fill:#1f77b4;stroke:#1f77b4;\" x=\"158.813031\" xlink:href=\"#m98834af16c\" y=\"229.874489\"/>\n",
       "     <use style=\"fill:#1f77b4;stroke:#1f77b4;\" x=\"160.395698\" xlink:href=\"#m98834af16c\" y=\"229.874489\"/>\n",
       "     <use style=\"fill:#1f77b4;stroke:#1f77b4;\" x=\"153.264148\" xlink:href=\"#m98834af16c\" y=\"227.30731\"/>\n",
       "     <use style=\"fill:#1f77b4;stroke:#1f77b4;\" x=\"167.461909\" xlink:href=\"#m98834af16c\" y=\"229.874489\"/>\n",
       "     <use style=\"fill:#1f77b4;stroke:#1f77b4;\" x=\"155.994161\" xlink:href=\"#m98834af16c\" y=\"229.874489\"/>\n",
       "     <use style=\"fill:#1f77b4;stroke:#1f77b4;\" x=\"163.565003\" xlink:href=\"#m98834af16c\" y=\"211.904241\"/>\n",
       "     <use style=\"fill:#1f77b4;stroke:#1f77b4;\" x=\"159.577444\" xlink:href=\"#m98834af16c\" y=\"229.874489\"/>\n",
       "     <use style=\"fill:#1f77b4;stroke:#1f77b4;\" x=\"156.581032\" xlink:href=\"#m98834af16c\" y=\"229.874489\"/>\n",
       "     <use style=\"fill:#1f77b4;stroke:#1f77b4;\" x=\"168.558513\" xlink:href=\"#m98834af16c\" y=\"229.874489\"/>\n",
       "     <use style=\"fill:#1f77b4;stroke:#1f77b4;\" x=\"154.236407\" xlink:href=\"#m98834af16c\" y=\"229.874489\"/>\n",
       "     <use style=\"fill:#1f77b4;stroke:#1f77b4;\" x=\"156.613827\" xlink:href=\"#m98834af16c\" y=\"229.874489\"/>\n",
       "     <use style=\"fill:#1f77b4;stroke:#1f77b4;\" x=\"162.659819\" xlink:href=\"#m98834af16c\" y=\"229.874489\"/>\n",
       "     <use style=\"fill:#1f77b4;stroke:#1f77b4;\" x=\"157.961611\" xlink:href=\"#m98834af16c\" y=\"229.874489\"/>\n",
       "     <use style=\"fill:#1f77b4;stroke:#1f77b4;\" x=\"168.85308\" xlink:href=\"#m98834af16c\" y=\"229.874489\"/>\n",
       "     <use style=\"fill:#1f77b4;stroke:#1f77b4;\" x=\"164.038921\" xlink:href=\"#m98834af16c\" y=\"229.874489\"/>\n",
       "     <use style=\"fill:#1f77b4;stroke:#1f77b4;\" x=\"156.678364\" xlink:href=\"#m98834af16c\" y=\"229.874489\"/>\n",
       "     <use style=\"fill:#1f77b4;stroke:#1f77b4;\" x=\"153.155839\" xlink:href=\"#m98834af16c\" y=\"229.874489\"/>\n",
       "     <use style=\"fill:#1f77b4;stroke:#1f77b4;\" x=\"166.704059\" xlink:href=\"#m98834af16c\" y=\"229.874489\"/>\n",
       "     <use style=\"fill:#1f77b4;stroke:#1f77b4;\" x=\"159.822532\" xlink:href=\"#m98834af16c\" y=\"229.874489\"/>\n",
       "     <use style=\"fill:#1f77b4;stroke:#1f77b4;\" x=\"168.767784\" xlink:href=\"#m98834af16c\" y=\"229.874489\"/>\n",
       "     <use style=\"fill:#1f77b4;stroke:#1f77b4;\" x=\"160.613259\" xlink:href=\"#m98834af16c\" y=\"229.874489\"/>\n",
       "     <use style=\"fill:#1f77b4;stroke:#1f77b4;\" x=\"161.627707\" xlink:href=\"#m98834af16c\" y=\"229.874489\"/>\n",
       "     <use style=\"fill:#1f77b4;stroke:#1f77b4;\" x=\"167.380304\" xlink:href=\"#m98834af16c\" y=\"229.874489\"/>\n",
       "     <use style=\"fill:#1f77b4;stroke:#1f77b4;\" x=\"163.925003\" xlink:href=\"#m98834af16c\" y=\"229.874489\"/>\n",
       "     <use style=\"fill:#1f77b4;stroke:#1f77b4;\" x=\"158.023084\" xlink:href=\"#m98834af16c\" y=\"229.874489\"/>\n",
       "     <use style=\"fill:#1f77b4;stroke:#1f77b4;\" x=\"162.159047\" xlink:href=\"#m98834af16c\" y=\"224.740132\"/>\n",
       "     <use style=\"fill:#1f77b4;stroke:#1f77b4;\" x=\"159.596511\" xlink:href=\"#m98834af16c\" y=\"229.874489\"/>\n",
       "     <use style=\"fill:#1f77b4;stroke:#1f77b4;\" x=\"157.014138\" xlink:href=\"#m98834af16c\" y=\"229.874489\"/>\n",
       "     <use style=\"fill:#1f77b4;stroke:#1f77b4;\" x=\"166.861659\" xlink:href=\"#m98834af16c\" y=\"229.874489\"/>\n",
       "     <use style=\"fill:#1f77b4;stroke:#1f77b4;\" x=\"161.001708\" xlink:href=\"#m98834af16c\" y=\"229.874489\"/>\n",
       "     <use style=\"fill:#1f77b4;stroke:#1f77b4;\" x=\"161.664191\" xlink:href=\"#m98834af16c\" y=\"229.874489\"/>\n",
       "     <use style=\"fill:#1f77b4;stroke:#1f77b4;\" x=\"165.727696\" xlink:href=\"#m98834af16c\" y=\"227.30731\"/>\n",
       "     <use style=\"fill:#1f77b4;stroke:#1f77b4;\" x=\"161.640322\" xlink:href=\"#m98834af16c\" y=\"227.30731\"/>\n",
       "     <use style=\"fill:#1f77b4;stroke:#1f77b4;\" x=\"154.907396\" xlink:href=\"#m98834af16c\" y=\"227.30731\"/>\n",
       "     <use style=\"fill:#1f77b4;stroke:#1f77b4;\" x=\"169.292651\" xlink:href=\"#m98834af16c\" y=\"229.874489\"/>\n",
       "     <use style=\"fill:#1f77b4;stroke:#1f77b4;\" x=\"166.565695\" xlink:href=\"#m98834af16c\" y=\"229.874489\"/>\n",
       "     <use style=\"fill:#1f77b4;stroke:#1f77b4;\" x=\"163.07781\" xlink:href=\"#m98834af16c\" y=\"219.605776\"/>\n",
       "     <use style=\"fill:#1f77b4;stroke:#1f77b4;\" x=\"168.700823\" xlink:href=\"#m98834af16c\" y=\"229.874489\"/>\n",
       "     <use style=\"fill:#1f77b4;stroke:#1f77b4;\" x=\"161.246994\" xlink:href=\"#m98834af16c\" y=\"222.172954\"/>\n",
       "     <use style=\"fill:#1f77b4;stroke:#1f77b4;\" x=\"160.153983\" xlink:href=\"#m98834af16c\" y=\"229.874489\"/>\n",
       "     <use style=\"fill:#1f77b4;stroke:#1f77b4;\" x=\"168.631121\" xlink:href=\"#m98834af16c\" y=\"229.874489\"/>\n",
       "     <use style=\"fill:#1f77b4;stroke:#1f77b4;\" x=\"153.584038\" xlink:href=\"#m98834af16c\" y=\"227.30731\"/>\n",
       "     <use style=\"fill:#1f77b4;stroke:#1f77b4;\" x=\"159.034315\" xlink:href=\"#m98834af16c\" y=\"227.30731\"/>\n",
       "     <use style=\"fill:#1f77b4;stroke:#1f77b4;\" x=\"159.2966\" xlink:href=\"#m98834af16c\" y=\"227.30731\"/>\n",
       "     <use style=\"fill:#1f77b4;stroke:#1f77b4;\" x=\"165.913187\" xlink:href=\"#m98834af16c\" y=\"229.874489\"/>\n",
       "     <use style=\"fill:#1f77b4;stroke:#1f77b4;\" x=\"166.437587\" xlink:href=\"#m98834af16c\" y=\"222.172954\"/>\n",
       "     <use style=\"fill:#1f77b4;stroke:#1f77b4;\" x=\"166.883781\" xlink:href=\"#m98834af16c\" y=\"229.874489\"/>\n",
       "     <use style=\"fill:#1f77b4;stroke:#1f77b4;\" x=\"152.622261\" xlink:href=\"#m98834af16c\" y=\"206.769884\"/>\n",
       "     <use style=\"fill:#1f77b4;stroke:#1f77b4;\" x=\"157.063094\" xlink:href=\"#m98834af16c\" y=\"229.874489\"/>\n",
       "     <use style=\"fill:#1f77b4;stroke:#1f77b4;\" x=\"163.514433\" xlink:href=\"#m98834af16c\" y=\"229.874489\"/>\n",
       "     <use style=\"fill:#1f77b4;stroke:#1f77b4;\" x=\"158.741144\" xlink:href=\"#m98834af16c\" y=\"229.874489\"/>\n",
       "     <use style=\"fill:#1f77b4;stroke:#1f77b4;\" x=\"164.676332\" xlink:href=\"#m98834af16c\" y=\"229.874489\"/>\n",
       "     <use style=\"fill:#1f77b4;stroke:#1f77b4;\" x=\"159.660076\" xlink:href=\"#m98834af16c\" y=\"229.874489\"/>\n",
       "     <use style=\"fill:#1f77b4;stroke:#1f77b4;\" x=\"160.196289\" xlink:href=\"#m98834af16c\" y=\"224.740132\"/>\n",
       "     <use style=\"fill:#1f77b4;stroke:#1f77b4;\" x=\"168.710457\" xlink:href=\"#m98834af16c\" y=\"229.874489\"/>\n",
       "     <use style=\"fill:#1f77b4;stroke:#1f77b4;\" x=\"152.927036\" xlink:href=\"#m98834af16c\" y=\"227.30731\"/>\n",
       "     <use style=\"fill:#1f77b4;stroke:#1f77b4;\" x=\"166.320119\" xlink:href=\"#m98834af16c\" y=\"224.740132\"/>\n",
       "     <use style=\"fill:#1f77b4;stroke:#1f77b4;\" x=\"159.171032\" xlink:href=\"#m98834af16c\" y=\"229.874489\"/>\n",
       "     <use style=\"fill:#1f77b4;stroke:#1f77b4;\" x=\"159.93279\" xlink:href=\"#m98834af16c\" y=\"229.874489\"/>\n",
       "     <use style=\"fill:#1f77b4;stroke:#1f77b4;\" x=\"156.68744\" xlink:href=\"#m98834af16c\" y=\"229.874489\"/>\n",
       "     <use style=\"fill:#1f77b4;stroke:#1f77b4;\" x=\"159.709691\" xlink:href=\"#m98834af16c\" y=\"229.874489\"/>\n",
       "     <use style=\"fill:#1f77b4;stroke:#1f77b4;\" x=\"165.460451\" xlink:href=\"#m98834af16c\" y=\"229.874489\"/>\n",
       "     <use style=\"fill:#1f77b4;stroke:#1f77b4;\" x=\"166.897938\" xlink:href=\"#m98834af16c\" y=\"229.874489\"/>\n",
       "     <use style=\"fill:#1f77b4;stroke:#1f77b4;\" x=\"163.484131\" xlink:href=\"#m98834af16c\" y=\"229.874489\"/>\n",
       "     <use style=\"fill:#1f77b4;stroke:#1f77b4;\" x=\"152.794664\" xlink:href=\"#m98834af16c\" y=\"229.874489\"/>\n",
       "     <use style=\"fill:#1f77b4;stroke:#1f77b4;\" x=\"152.806193\" xlink:href=\"#m98834af16c\" y=\"229.874489\"/>\n",
       "     <use style=\"fill:#1f77b4;stroke:#1f77b4;\" x=\"146.871061\" xlink:href=\"#m98834af16c\" y=\"229.874489\"/>\n",
       "     <use style=\"fill:#1f77b4;stroke:#1f77b4;\" x=\"132.570387\" xlink:href=\"#m98834af16c\" y=\"229.874489\"/>\n",
       "     <use style=\"fill:#1f77b4;stroke:#1f77b4;\" x=\"143.379739\" xlink:href=\"#m98834af16c\" y=\"229.874489\"/>\n",
       "     <use style=\"fill:#1f77b4;stroke:#1f77b4;\" x=\"135.667095\" xlink:href=\"#m98834af16c\" y=\"229.874489\"/>\n",
       "     <use style=\"fill:#1f77b4;stroke:#1f77b4;\" x=\"132.052329\" xlink:href=\"#m98834af16c\" y=\"219.605776\"/>\n",
       "     <use style=\"fill:#1f77b4;stroke:#1f77b4;\" x=\"133.959458\" xlink:href=\"#m98834af16c\" y=\"224.740132\"/>\n",
       "     <use style=\"fill:#1f77b4;stroke:#1f77b4;\" x=\"140.621499\" xlink:href=\"#m98834af16c\" y=\"229.874489\"/>\n",
       "     <use style=\"fill:#1f77b4;stroke:#1f77b4;\" x=\"147.767465\" xlink:href=\"#m98834af16c\" y=\"227.30731\"/>\n",
       "     <use style=\"fill:#1f77b4;stroke:#1f77b4;\" x=\"144.095029\" xlink:href=\"#m98834af16c\" y=\"227.30731\"/>\n",
       "     <use style=\"fill:#1f77b4;stroke:#1f77b4;\" x=\"147.889304\" xlink:href=\"#m98834af16c\" y=\"222.172954\"/>\n",
       "     <use style=\"fill:#1f77b4;stroke:#1f77b4;\" x=\"131.924972\" xlink:href=\"#m98834af16c\" y=\"229.874489\"/>\n",
       "     <use style=\"fill:#1f77b4;stroke:#1f77b4;\" x=\"132.108165\" xlink:href=\"#m98834af16c\" y=\"199.068349\"/>\n",
       "     <use style=\"fill:#1f77b4;stroke:#1f77b4;\" x=\"146.020222\" xlink:href=\"#m98834af16c\" y=\"229.874489\"/>\n",
       "     <use style=\"fill:#1f77b4;stroke:#1f77b4;\" x=\"142.711444\" xlink:href=\"#m98834af16c\" y=\"229.874489\"/>\n",
       "     <use style=\"fill:#1f77b4;stroke:#1f77b4;\" x=\"147.546752\" xlink:href=\"#m98834af16c\" y=\"229.874489\"/>\n",
       "     <use style=\"fill:#1f77b4;stroke:#1f77b4;\" x=\"142.286937\" xlink:href=\"#m98834af16c\" y=\"229.874489\"/>\n",
       "     <use style=\"fill:#1f77b4;stroke:#1f77b4;\" x=\"134.046998\" xlink:href=\"#m98834af16c\" y=\"227.30731\"/>\n",
       "     <use style=\"fill:#1f77b4;stroke:#1f77b4;\" x=\"132.360752\" xlink:href=\"#m98834af16c\" y=\"229.874489\"/>\n",
       "     <use style=\"fill:#1f77b4;stroke:#1f77b4;\" x=\"145.851876\" xlink:href=\"#m98834af16c\" y=\"229.874489\"/>\n",
       "     <use style=\"fill:#1f77b4;stroke:#1f77b4;\" x=\"134.170944\" xlink:href=\"#m98834af16c\" y=\"229.874489\"/>\n",
       "     <use style=\"fill:#1f77b4;stroke:#1f77b4;\" x=\"132.434042\" xlink:href=\"#m98834af16c\" y=\"229.874489\"/>\n",
       "     <use style=\"fill:#1f77b4;stroke:#1f77b4;\" x=\"142.190067\" xlink:href=\"#m98834af16c\" y=\"227.30731\"/>\n",
       "     <use style=\"fill:#1f77b4;stroke:#1f77b4;\" x=\"138.24078\" xlink:href=\"#m98834af16c\" y=\"229.874489\"/>\n",
       "     <use style=\"fill:#1f77b4;stroke:#1f77b4;\" x=\"145.154953\" xlink:href=\"#m98834af16c\" y=\"229.874489\"/>\n",
       "     <use style=\"fill:#1f77b4;stroke:#1f77b4;\" x=\"133.661264\" xlink:href=\"#m98834af16c\" y=\"229.874489\"/>\n",
       "     <use style=\"fill:#1f77b4;stroke:#1f77b4;\" x=\"134.690027\" xlink:href=\"#m98834af16c\" y=\"229.874489\"/>\n",
       "     <use style=\"fill:#1f77b4;stroke:#1f77b4;\" x=\"133.694327\" xlink:href=\"#m98834af16c\" y=\"229.874489\"/>\n",
       "     <use style=\"fill:#1f77b4;stroke:#1f77b4;\" x=\"141.604166\" xlink:href=\"#m98834af16c\" y=\"229.874489\"/>\n",
       "     <use style=\"fill:#1f77b4;stroke:#1f77b4;\" x=\"134.748385\" xlink:href=\"#m98834af16c\" y=\"229.874489\"/>\n",
       "     <use style=\"fill:#1f77b4;stroke:#1f77b4;\" x=\"139.594894\" xlink:href=\"#m98834af16c\" y=\"229.874489\"/>\n",
       "     <use style=\"fill:#1f77b4;stroke:#1f77b4;\" x=\"132.702067\" xlink:href=\"#m98834af16c\" y=\"229.874489\"/>\n",
       "     <use style=\"fill:#1f77b4;stroke:#1f77b4;\" x=\"136.257166\" xlink:href=\"#m98834af16c\" y=\"229.874489\"/>\n",
       "     <use style=\"fill:#1f77b4;stroke:#1f77b4;\" x=\"147.778895\" xlink:href=\"#m98834af16c\" y=\"227.30731\"/>\n",
       "     <use style=\"fill:#1f77b4;stroke:#1f77b4;\" x=\"145.070807\" xlink:href=\"#m98834af16c\" y=\"229.874489\"/>\n",
       "     <use style=\"fill:#1f77b4;stroke:#1f77b4;\" x=\"137.102193\" xlink:href=\"#m98834af16c\" y=\"229.874489\"/>\n",
       "     <use style=\"fill:#1f77b4;stroke:#1f77b4;\" x=\"142.362732\" xlink:href=\"#m98834af16c\" y=\"229.874489\"/>\n",
       "     <use style=\"fill:#1f77b4;stroke:#1f77b4;\" x=\"133.71489\" xlink:href=\"#m98834af16c\" y=\"229.874489\"/>\n",
       "     <use style=\"fill:#1f77b4;stroke:#1f77b4;\" x=\"143.526979\" xlink:href=\"#m98834af16c\" y=\"229.874489\"/>\n",
       "     <use style=\"fill:#1f77b4;stroke:#1f77b4;\" x=\"146.174344\" xlink:href=\"#m98834af16c\" y=\"227.30731\"/>\n",
       "     <use style=\"fill:#1f77b4;stroke:#1f77b4;\" x=\"141.062463\" xlink:href=\"#m98834af16c\" y=\"214.471419\"/>\n",
       "     <use style=\"fill:#1f77b4;stroke:#1f77b4;\" x=\"134.680432\" xlink:href=\"#m98834af16c\" y=\"229.874489\"/>\n",
       "     <use style=\"fill:#1f77b4;stroke:#1f77b4;\" x=\"144.760369\" xlink:href=\"#m98834af16c\" y=\"229.874489\"/>\n",
       "     <use style=\"fill:#1f77b4;stroke:#1f77b4;\" x=\"144.450424\" xlink:href=\"#m98834af16c\" y=\"229.874489\"/>\n",
       "     <use style=\"fill:#1f77b4;stroke:#1f77b4;\" x=\"141.214945\" xlink:href=\"#m98834af16c\" y=\"224.740132\"/>\n",
       "     <use style=\"fill:#1f77b4;stroke:#1f77b4;\" x=\"143.958313\" xlink:href=\"#m98834af16c\" y=\"227.30731\"/>\n",
       "     <use style=\"fill:#1f77b4;stroke:#1f77b4;\" x=\"132.994373\" xlink:href=\"#m98834af16c\" y=\"227.30731\"/>\n",
       "     <use style=\"fill:#1f77b4;stroke:#1f77b4;\" x=\"142.555857\" xlink:href=\"#m98834af16c\" y=\"224.740132\"/>\n",
       "     <use style=\"fill:#1f77b4;stroke:#1f77b4;\" x=\"140.24479\" xlink:href=\"#m98834af16c\" y=\"229.874489\"/>\n",
       "     <use style=\"fill:#1f77b4;stroke:#1f77b4;\" x=\"142.369277\" xlink:href=\"#m98834af16c\" y=\"227.30731\"/>\n",
       "     <use style=\"fill:#1f77b4;stroke:#1f77b4;\" x=\"134.578301\" xlink:href=\"#m98834af16c\" y=\"229.874489\"/>\n",
       "     <use style=\"fill:#1f77b4;stroke:#1f77b4;\" x=\"133.365878\" xlink:href=\"#m98834af16c\" y=\"229.874489\"/>\n",
       "     <use style=\"fill:#1f77b4;stroke:#1f77b4;\" x=\"145.827232\" xlink:href=\"#m98834af16c\" y=\"229.874489\"/>\n",
       "     <use style=\"fill:#1f77b4;stroke:#1f77b4;\" x=\"141.924319\" xlink:href=\"#m98834af16c\" y=\"229.874489\"/>\n",
       "     <use style=\"fill:#1f77b4;stroke:#1f77b4;\" x=\"141.793805\" xlink:href=\"#m98834af16c\" y=\"229.874489\"/>\n",
       "     <use style=\"fill:#1f77b4;stroke:#1f77b4;\" x=\"139.693612\" xlink:href=\"#m98834af16c\" y=\"229.874489\"/>\n",
       "     <use style=\"fill:#1f77b4;stroke:#1f77b4;\" x=\"143.581465\" xlink:href=\"#m98834af16c\" y=\"227.30731\"/>\n",
       "     <use style=\"fill:#1f77b4;stroke:#1f77b4;\" x=\"144.634314\" xlink:href=\"#m98834af16c\" y=\"229.874489\"/>\n",
       "     <use style=\"fill:#1f77b4;stroke:#1f77b4;\" x=\"148.183161\" xlink:href=\"#m98834af16c\" y=\"224.740132\"/>\n",
       "     <use style=\"fill:#1f77b4;stroke:#1f77b4;\" x=\"141.552231\" xlink:href=\"#m98834af16c\" y=\"206.769884\"/>\n",
       "     <use style=\"fill:#1f77b4;stroke:#1f77b4;\" x=\"137.953817\" xlink:href=\"#m98834af16c\" y=\"227.30731\"/>\n",
       "     <use style=\"fill:#1f77b4;stroke:#1f77b4;\" x=\"134.091343\" xlink:href=\"#m98834af16c\" y=\"229.874489\"/>\n",
       "     <use style=\"fill:#1f77b4;stroke:#1f77b4;\" x=\"144.181968\" xlink:href=\"#m98834af16c\" y=\"181.098101\"/>\n",
       "     <use style=\"fill:#1f77b4;stroke:#1f77b4;\" x=\"140.876971\" xlink:href=\"#m98834af16c\" y=\"229.874489\"/>\n",
       "     <use style=\"fill:#1f77b4;stroke:#1f77b4;\" x=\"146.473409\" xlink:href=\"#m98834af16c\" y=\"229.874489\"/>\n",
       "     <use style=\"fill:#1f77b4;stroke:#1f77b4;\" x=\"141.509066\" xlink:href=\"#m98834af16c\" y=\"229.874489\"/>\n",
       "     <use style=\"fill:#1f77b4;stroke:#1f77b4;\" x=\"145.632183\" xlink:href=\"#m98834af16c\" y=\"227.30731\"/>\n",
       "     <use style=\"fill:#1f77b4;stroke:#1f77b4;\" x=\"136.601628\" xlink:href=\"#m98834af16c\" y=\"229.874489\"/>\n",
       "     <use style=\"fill:#1f77b4;stroke:#1f77b4;\" x=\"125.94876\" xlink:href=\"#m98834af16c\" y=\"229.874489\"/>\n",
       "     <use style=\"fill:#1f77b4;stroke:#1f77b4;\" x=\"123.38481\" xlink:href=\"#m98834af16c\" y=\"229.874489\"/>\n",
       "     <use style=\"fill:#1f77b4;stroke:#1f77b4;\" x=\"118.505572\" xlink:href=\"#m98834af16c\" y=\"229.874489\"/>\n",
       "     <use style=\"fill:#1f77b4;stroke:#1f77b4;\" x=\"123.020786\" xlink:href=\"#m98834af16c\" y=\"219.605776\"/>\n",
       "     <use style=\"fill:#1f77b4;stroke:#1f77b4;\" x=\"119.863922\" xlink:href=\"#m98834af16c\" y=\"229.874489\"/>\n",
       "     <use style=\"fill:#1f77b4;stroke:#1f77b4;\" x=\"118.411503\" xlink:href=\"#m98834af16c\" y=\"229.874489\"/>\n",
       "     <use style=\"fill:#1f77b4;stroke:#1f77b4;\" x=\"124.701794\" xlink:href=\"#m98834af16c\" y=\"229.874489\"/>\n",
       "     <use style=\"fill:#1f77b4;stroke:#1f77b4;\" x=\"117.666466\" xlink:href=\"#m98834af16c\" y=\"204.202706\"/>\n",
       "     <use style=\"fill:#1f77b4;stroke:#1f77b4;\" x=\"112.078539\" xlink:href=\"#m98834af16c\" y=\"227.30731\"/>\n",
       "     <use style=\"fill:#1f77b4;stroke:#1f77b4;\" x=\"126.067203\" xlink:href=\"#m98834af16c\" y=\"224.740132\"/>\n",
       "     <use style=\"fill:#1f77b4;stroke:#1f77b4;\" x=\"122.539428\" xlink:href=\"#m98834af16c\" y=\"193.933993\"/>\n",
       "     <use style=\"fill:#1f77b4;stroke:#1f77b4;\" x=\"118.240544\" xlink:href=\"#m98834af16c\" y=\"229.874489\"/>\n",
       "     <use style=\"fill:#1f77b4;stroke:#1f77b4;\" x=\"112.763338\" xlink:href=\"#m98834af16c\" y=\"227.30731\"/>\n",
       "     <use style=\"fill:#1f77b4;stroke:#1f77b4;\" x=\"120.101385\" xlink:href=\"#m98834af16c\" y=\"229.874489\"/>\n",
       "     <use style=\"fill:#1f77b4;stroke:#1f77b4;\" x=\"111.497074\" xlink:href=\"#m98834af16c\" y=\"227.30731\"/>\n",
       "     <use style=\"fill:#1f77b4;stroke:#1f77b4;\" x=\"126.931834\" xlink:href=\"#m98834af16c\" y=\"224.740132\"/>\n",
       "     <use style=\"fill:#1f77b4;stroke:#1f77b4;\" x=\"116.181329\" xlink:href=\"#m98834af16c\" y=\"227.30731\"/>\n",
       "     <use style=\"fill:#1f77b4;stroke:#1f77b4;\" x=\"126.849582\" xlink:href=\"#m98834af16c\" y=\"227.30731\"/>\n",
       "     <use style=\"fill:#1f77b4;stroke:#1f77b4;\" x=\"114.504884\" xlink:href=\"#m98834af16c\" y=\"204.202706\"/>\n",
       "     <use style=\"fill:#1f77b4;stroke:#1f77b4;\" x=\"112.317145\" xlink:href=\"#m98834af16c\" y=\"229.874489\"/>\n",
       "     <use style=\"fill:#1f77b4;stroke:#1f77b4;\" x=\"121.756359\" xlink:href=\"#m98834af16c\" y=\"229.874489\"/>\n",
       "     <use style=\"fill:#1f77b4;stroke:#1f77b4;\" x=\"121.498995\" xlink:href=\"#m98834af16c\" y=\"229.874489\"/>\n",
       "     <use style=\"fill:#1f77b4;stroke:#1f77b4;\" x=\"122.423533\" xlink:href=\"#m98834af16c\" y=\"229.874489\"/>\n",
       "     <use style=\"fill:#1f77b4;stroke:#1f77b4;\" x=\"113.495317\" xlink:href=\"#m98834af16c\" y=\"229.874489\"/>\n",
       "     <use style=\"fill:#1f77b4;stroke:#1f77b4;\" x=\"111.248098\" xlink:href=\"#m98834af16c\" y=\"229.874489\"/>\n",
       "     <use style=\"fill:#1f77b4;stroke:#1f77b4;\" x=\"119.931691\" xlink:href=\"#m98834af16c\" y=\"229.874489\"/>\n",
       "     <use style=\"fill:#1f77b4;stroke:#1f77b4;\" x=\"121.49081\" xlink:href=\"#m98834af16c\" y=\"229.874489\"/>\n",
       "     <use style=\"fill:#1f77b4;stroke:#1f77b4;\" x=\"123.782981\" xlink:href=\"#m98834af16c\" y=\"229.874489\"/>\n",
       "     <use style=\"fill:#1f77b4;stroke:#1f77b4;\" x=\"116.458155\" xlink:href=\"#m98834af16c\" y=\"229.874489\"/>\n",
       "     <use style=\"fill:#1f77b4;stroke:#1f77b4;\" x=\"123.149954\" xlink:href=\"#m98834af16c\" y=\"224.740132\"/>\n",
       "     <use style=\"fill:#1f77b4;stroke:#1f77b4;\" x=\"126.743232\" xlink:href=\"#m98834af16c\" y=\"229.874489\"/>\n",
       "     <use style=\"fill:#1f77b4;stroke:#1f77b4;\" x=\"123.921836\" xlink:href=\"#m98834af16c\" y=\"227.30731\"/>\n",
       "     <use style=\"fill:#1f77b4;stroke:#1f77b4;\" x=\"115.801995\" xlink:href=\"#m98834af16c\" y=\"229.874489\"/>\n",
       "     <use style=\"fill:#1f77b4;stroke:#1f77b4;\" x=\"125.950549\" xlink:href=\"#m98834af16c\" y=\"229.874489\"/>\n",
       "     <use style=\"fill:#1f77b4;stroke:#1f77b4;\" x=\"118.671825\" xlink:href=\"#m98834af16c\" y=\"227.30731\"/>\n",
       "     <use style=\"fill:#1f77b4;stroke:#1f77b4;\" x=\"116.633288\" xlink:href=\"#m98834af16c\" y=\"229.874489\"/>\n",
       "     <use style=\"fill:#1f77b4;stroke:#1f77b4;\" x=\"120.242948\" xlink:href=\"#m98834af16c\" y=\"224.740132\"/>\n",
       "     <use style=\"fill:#1f77b4;stroke:#1f77b4;\" x=\"124.974262\" xlink:href=\"#m98834af16c\" y=\"217.038597\"/>\n",
       "     <use style=\"fill:#1f77b4;stroke:#1f77b4;\" x=\"121.264925\" xlink:href=\"#m98834af16c\" y=\"224.740132\"/>\n",
       "     <use style=\"fill:#1f77b4;stroke:#1f77b4;\" x=\"123.695611\" xlink:href=\"#m98834af16c\" y=\"209.337062\"/>\n",
       "     <use style=\"fill:#1f77b4;stroke:#1f77b4;\" x=\"114.502329\" xlink:href=\"#m98834af16c\" y=\"229.874489\"/>\n",
       "     <use style=\"fill:#1f77b4;stroke:#1f77b4;\" x=\"112.83673\" xlink:href=\"#m98834af16c\" y=\"227.30731\"/>\n",
       "     <use style=\"fill:#1f77b4;stroke:#1f77b4;\" x=\"123.545201\" xlink:href=\"#m98834af16c\" y=\"224.740132\"/>\n",
       "     <use style=\"fill:#1f77b4;stroke:#1f77b4;\" x=\"117.249813\" xlink:href=\"#m98834af16c\" y=\"219.605776\"/>\n",
       "     <use style=\"fill:#1f77b4;stroke:#1f77b4;\" x=\"119.328379\" xlink:href=\"#m98834af16c\" y=\"229.874489\"/>\n",
       "     <use style=\"fill:#1f77b4;stroke:#1f77b4;\" x=\"111.635885\" xlink:href=\"#m98834af16c\" y=\"209.337062\"/>\n",
       "     <use style=\"fill:#1f77b4;stroke:#1f77b4;\" x=\"119.098122\" xlink:href=\"#m98834af16c\" y=\"229.874489\"/>\n",
       "     <use style=\"fill:#1f77b4;stroke:#1f77b4;\" x=\"113.828792\" xlink:href=\"#m98834af16c\" y=\"219.605776\"/>\n",
       "     <use style=\"fill:#1f77b4;stroke:#1f77b4;\" x=\"111.037442\" xlink:href=\"#m98834af16c\" y=\"227.30731\"/>\n",
       "     <use style=\"fill:#1f77b4;stroke:#1f77b4;\" x=\"111.763187\" xlink:href=\"#m98834af16c\" y=\"229.874489\"/>\n",
       "     <use style=\"fill:#1f77b4;stroke:#1f77b4;\" x=\"115.380735\" xlink:href=\"#m98834af16c\" y=\"222.172954\"/>\n",
       "     <use style=\"fill:#1f77b4;stroke:#1f77b4;\" x=\"117.481674\" xlink:href=\"#m98834af16c\" y=\"229.874489\"/>\n",
       "     <use style=\"fill:#1f77b4;stroke:#1f77b4;\" x=\"116.293774\" xlink:href=\"#m98834af16c\" y=\"214.471419\"/>\n",
       "     <use style=\"fill:#1f77b4;stroke:#1f77b4;\" x=\"115.55369\" xlink:href=\"#m98834af16c\" y=\"229.874489\"/>\n",
       "     <use style=\"fill:#1f77b4;stroke:#1f77b4;\" x=\"121.446142\" xlink:href=\"#m98834af16c\" y=\"229.874489\"/>\n",
       "     <use style=\"fill:#1f77b4;stroke:#1f77b4;\" x=\"111.950311\" xlink:href=\"#m98834af16c\" y=\"229.874489\"/>\n",
       "     <use style=\"fill:#1f77b4;stroke:#1f77b4;\" x=\"121.858331\" xlink:href=\"#m98834af16c\" y=\"229.874489\"/>\n",
       "     <use style=\"fill:#1f77b4;stroke:#1f77b4;\" x=\"117.743702\" xlink:href=\"#m98834af16c\" y=\"222.172954\"/>\n",
       "     <use style=\"fill:#1f77b4;stroke:#1f77b4;\" x=\"121.06033\" xlink:href=\"#m98834af16c\" y=\"227.30731\"/>\n",
       "     <use style=\"fill:#1f77b4;stroke:#1f77b4;\" x=\"109.976757\" xlink:href=\"#m98834af16c\" y=\"229.874489\"/>\n",
       "     <use style=\"fill:#1f77b4;stroke:#1f77b4;\" x=\"125.775945\" xlink:href=\"#m98834af16c\" y=\"229.874489\"/>\n",
       "     <use style=\"fill:#1f77b4;stroke:#1f77b4;\" x=\"122.243669\" xlink:href=\"#m98834af16c\" y=\"229.874489\"/>\n",
       "     <use style=\"fill:#1f77b4;stroke:#1f77b4;\" x=\"117.210557\" xlink:href=\"#m98834af16c\" y=\"227.30731\"/>\n",
       "     <use style=\"fill:#1f77b4;stroke:#1f77b4;\" x=\"115.757837\" xlink:href=\"#m98834af16c\" y=\"229.874489\"/>\n",
       "     <use style=\"fill:#1f77b4;stroke:#1f77b4;\" x=\"110.449236\" xlink:href=\"#m98834af16c\" y=\"229.874489\"/>\n",
       "     <use style=\"fill:#1f77b4;stroke:#1f77b4;\" x=\"109.995682\" xlink:href=\"#m98834af16c\" y=\"229.874489\"/>\n",
       "     <use style=\"fill:#1f77b4;stroke:#1f77b4;\" x=\"89.41121\" xlink:href=\"#m98834af16c\" y=\"229.874489\"/>\n",
       "     <use style=\"fill:#1f77b4;stroke:#1f77b4;\" x=\"90.208581\" xlink:href=\"#m98834af16c\" y=\"229.874489\"/>\n",
       "     <use style=\"fill:#1f77b4;stroke:#1f77b4;\" x=\"103.984726\" xlink:href=\"#m98834af16c\" y=\"229.874489\"/>\n",
       "     <use style=\"fill:#1f77b4;stroke:#1f77b4;\" x=\"89.893622\" xlink:href=\"#m98834af16c\" y=\"209.337062\"/>\n",
       "     <use style=\"fill:#1f77b4;stroke:#1f77b4;\" x=\"101.05771\" xlink:href=\"#m98834af16c\" y=\"222.172954\"/>\n",
       "     <use style=\"fill:#1f77b4;stroke:#1f77b4;\" x=\"100.839659\" xlink:href=\"#m98834af16c\" y=\"229.874489\"/>\n",
       "     <use style=\"fill:#1f77b4;stroke:#1f77b4;\" x=\"99.736445\" xlink:href=\"#m98834af16c\" y=\"227.30731\"/>\n",
       "     <use style=\"fill:#1f77b4;stroke:#1f77b4;\" x=\"98.252145\" xlink:href=\"#m98834af16c\" y=\"227.30731\"/>\n",
       "     <use style=\"fill:#1f77b4;stroke:#1f77b4;\" x=\"99.028869\" xlink:href=\"#m98834af16c\" y=\"229.874489\"/>\n",
       "     <use style=\"fill:#1f77b4;stroke:#1f77b4;\" x=\"101.151931\" xlink:href=\"#m98834af16c\" y=\"229.874489\"/>\n",
       "     <use style=\"fill:#1f77b4;stroke:#1f77b4;\" x=\"102.046682\" xlink:href=\"#m98834af16c\" y=\"206.769884\"/>\n",
       "     <use style=\"fill:#1f77b4;stroke:#1f77b4;\" x=\"100.063933\" xlink:href=\"#m98834af16c\" y=\"181.098101\"/>\n",
       "     <use style=\"fill:#1f77b4;stroke:#1f77b4;\" x=\"99.538259\" xlink:href=\"#m98834af16c\" y=\"227.30731\"/>\n",
       "     <use style=\"fill:#1f77b4;stroke:#1f77b4;\" x=\"91.724104\" xlink:href=\"#m98834af16c\" y=\"209.337062\"/>\n",
       "     <use style=\"fill:#1f77b4;stroke:#1f77b4;\" x=\"92.116479\" xlink:href=\"#m98834af16c\" y=\"88.679683\"/>\n",
       "     <use style=\"fill:#1f77b4;stroke:#1f77b4;\" x=\"90.043731\" xlink:href=\"#m98834af16c\" y=\"227.30731\"/>\n",
       "     <use style=\"fill:#1f77b4;stroke:#1f77b4;\" x=\"91.994528\" xlink:href=\"#m98834af16c\" y=\"229.874489\"/>\n",
       "     <use style=\"fill:#1f77b4;stroke:#1f77b4;\" x=\"95.584502\" xlink:href=\"#m98834af16c\" y=\"229.874489\"/>\n",
       "     <use style=\"fill:#1f77b4;stroke:#1f77b4;\" x=\"101.738445\" xlink:href=\"#m98834af16c\" y=\"32.201761\"/>\n",
       "     <use style=\"fill:#1f77b4;stroke:#1f77b4;\" x=\"97.556911\" xlink:href=\"#m98834af16c\" y=\"229.874489\"/>\n",
       "     <use style=\"fill:#1f77b4;stroke:#1f77b4;\" x=\"96.339413\" xlink:href=\"#m98834af16c\" y=\"157.993497\"/>\n",
       "     <use style=\"fill:#1f77b4;stroke:#1f77b4;\" x=\"97.401979\" xlink:href=\"#m98834af16c\" y=\"227.30731\"/>\n",
       "     <use style=\"fill:#1f77b4;stroke:#1f77b4;\" x=\"96.829509\" xlink:href=\"#m98834af16c\" y=\"165.695032\"/>\n",
       "     <use style=\"fill:#1f77b4;stroke:#1f77b4;\" x=\"98.489034\" xlink:href=\"#m98834af16c\" y=\"229.874489\"/>\n",
       "     <use style=\"fill:#1f77b4;stroke:#1f77b4;\" x=\"102.709979\" xlink:href=\"#m98834af16c\" y=\"229.874489\"/>\n",
       "     <use style=\"fill:#1f77b4;stroke:#1f77b4;\" x=\"93.877492\" xlink:href=\"#m98834af16c\" y=\"229.874489\"/>\n",
       "     <use style=\"fill:#1f77b4;stroke:#1f77b4;\" x=\"102.274088\" xlink:href=\"#m98834af16c\" y=\"224.740132\"/>\n",
       "     <use style=\"fill:#1f77b4;stroke:#1f77b4;\" x=\"102.910542\" xlink:href=\"#m98834af16c\" y=\"224.740132\"/>\n",
       "     <use style=\"fill:#1f77b4;stroke:#1f77b4;\" x=\"72.017951\" xlink:href=\"#m98834af16c\" y=\"222.172954\"/>\n",
       "     <use style=\"fill:#1f77b4;stroke:#1f77b4;\" x=\"71.796264\" xlink:href=\"#m98834af16c\" y=\"183.66528\"/>\n",
       "     <use style=\"fill:#1f77b4;stroke:#1f77b4;\" x=\"74.191971\" xlink:href=\"#m98834af16c\" y=\"211.904241\"/>\n",
       "     <use style=\"fill:#1f77b4;stroke:#1f77b4;\" x=\"76.552449\" xlink:href=\"#m98834af16c\" y=\"224.740132\"/>\n",
       "     <use style=\"fill:#1f77b4;stroke:#1f77b4;\" x=\"73.951055\" xlink:href=\"#m98834af16c\" y=\"222.172954\"/>\n",
       "     <use style=\"fill:#1f77b4;stroke:#1f77b4;\" x=\"69.980893\" xlink:href=\"#m98834af16c\" y=\"217.038597\"/>\n",
       "     <use style=\"fill:#1f77b4;stroke:#1f77b4;\" x=\"84.130735\" xlink:href=\"#m98834af16c\" y=\"227.30731\"/>\n",
       "     <use style=\"fill:#1f77b4;stroke:#1f77b4;\" x=\"76.10979\" xlink:href=\"#m98834af16c\" y=\"206.769884\"/>\n",
       "     <use style=\"fill:#1f77b4;stroke:#1f77b4;\" x=\"68.230774\" xlink:href=\"#m98834af16c\" y=\"204.202706\"/>\n",
       "     <use style=\"fill:#1f77b4;stroke:#1f77b4;\" x=\"77.796537\" xlink:href=\"#m98834af16c\" y=\"209.337062\"/>\n",
       "     <use style=\"fill:#1f77b4;stroke:#1f77b4;\" x=\"70.714485\" xlink:href=\"#m98834af16c\" y=\"183.66528\"/>\n",
       "     <use style=\"fill:#1f77b4;stroke:#1f77b4;\" x=\"79.024347\" xlink:href=\"#m98834af16c\" y=\"219.605776\"/>\n",
       "     <use style=\"fill:#1f77b4;stroke:#1f77b4;\" x=\"83.366361\" xlink:href=\"#m98834af16c\" y=\"199.068349\"/>\n",
       "     <use style=\"fill:#1f77b4;stroke:#1f77b4;\" x=\"74.250702\" xlink:href=\"#m98834af16c\" y=\"227.30731\"/>\n",
       "     <use style=\"fill:#1f77b4;stroke:#1f77b4;\" x=\"76.071045\" xlink:href=\"#m98834af16c\" y=\"65.575079\"/>\n",
       "     <use style=\"fill:#1f77b4;stroke:#1f77b4;\" x=\"82.311045\" xlink:href=\"#m98834af16c\" y=\"204.202706\"/>\n",
       "     <use style=\"fill:#1f77b4;stroke:#1f77b4;\" x=\"81.47003\" xlink:href=\"#m98834af16c\" y=\"32.201761\"/>\n",
       "     <use style=\"fill:#1f77b4;stroke:#1f77b4;\" x=\"55.821307\" xlink:href=\"#m98834af16c\" y=\"191.366814\"/>\n",
       "     <use style=\"fill:#1f77b4;stroke:#1f77b4;\" x=\"60.993244\" xlink:href=\"#m98834af16c\" y=\"229.874489\"/>\n",
       "     <use style=\"fill:#1f77b4;stroke:#1f77b4;\" x=\"58.691281\" xlink:href=\"#m98834af16c\" y=\"229.874489\"/>\n",
       "    </g>\n",
       "   </g>\n",
       "   <g id=\"matplotlib.axis_1\">\n",
       "    <g id=\"xtick_1\">\n",
       "     <g id=\"line2d_1\">\n",
       "      <path clip-path=\"url(#pfd7faee3bb)\" d=\"M 75.856851 239.758125 \n",
       "L 75.856851 22.318125 \n",
       "\" style=\"fill:none;stroke:#b0b0b0;stroke-linecap:square;stroke-width:0.8;\"/>\n",
       "     </g>\n",
       "     <g id=\"line2d_2\">\n",
       "      <defs>\n",
       "       <path d=\"M 0 0 \n",
       "L 0 3.5 \n",
       "\" id=\"m2a274a472f\" style=\"stroke:#000000;stroke-width:0.8;\"/>\n",
       "      </defs>\n",
       "      <g>\n",
       "       <use style=\"stroke:#000000;stroke-width:0.8;\" x=\"75.856851\" xlink:href=\"#m2a274a472f\" y=\"239.758125\"/>\n",
       "      </g>\n",
       "     </g>\n",
       "     <g id=\"text_1\">\n",
       "      <!-- 2 -->\n",
       "      <defs>\n",
       "       <path d=\"M 19.1875 8.296875 \n",
       "L 53.609375 8.296875 \n",
       "L 53.609375 0 \n",
       "L 7.328125 0 \n",
       "L 7.328125 8.296875 \n",
       "Q 12.9375 14.109375 22.625 23.890625 \n",
       "Q 32.328125 33.6875 34.8125 36.53125 \n",
       "Q 39.546875 41.84375 41.421875 45.53125 \n",
       "Q 43.3125 49.21875 43.3125 52.78125 \n",
       "Q 43.3125 58.59375 39.234375 62.25 \n",
       "Q 35.15625 65.921875 28.609375 65.921875 \n",
       "Q 23.96875 65.921875 18.8125 64.3125 \n",
       "Q 13.671875 62.703125 7.8125 59.421875 \n",
       "L 7.8125 69.390625 \n",
       "Q 13.765625 71.78125 18.9375 73 \n",
       "Q 24.125 74.21875 28.421875 74.21875 \n",
       "Q 39.75 74.21875 46.484375 68.546875 \n",
       "Q 53.21875 62.890625 53.21875 53.421875 \n",
       "Q 53.21875 48.921875 51.53125 44.890625 \n",
       "Q 49.859375 40.875 45.40625 35.40625 \n",
       "Q 44.1875 33.984375 37.640625 27.21875 \n",
       "Q 31.109375 20.453125 19.1875 8.296875 \n",
       "z\n",
       "\" id=\"DejaVuSans-50\"/>\n",
       "      </defs>\n",
       "      <g transform=\"translate(72.675601 254.356562)scale(0.1 -0.1)\">\n",
       "       <use xlink:href=\"#DejaVuSans-50\"/>\n",
       "      </g>\n",
       "     </g>\n",
       "    </g>\n",
       "    <g id=\"xtick_2\">\n",
       "     <g id=\"line2d_3\">\n",
       "      <path clip-path=\"url(#pfd7faee3bb)\" d=\"M 118.44591 239.758125 \n",
       "L 118.44591 22.318125 \n",
       "\" style=\"fill:none;stroke:#b0b0b0;stroke-linecap:square;stroke-width:0.8;\"/>\n",
       "     </g>\n",
       "     <g id=\"line2d_4\">\n",
       "      <g>\n",
       "       <use style=\"stroke:#000000;stroke-width:0.8;\" x=\"118.44591\" xlink:href=\"#m2a274a472f\" y=\"239.758125\"/>\n",
       "      </g>\n",
       "     </g>\n",
       "     <g id=\"text_2\">\n",
       "      <!-- 4 -->\n",
       "      <defs>\n",
       "       <path d=\"M 37.796875 64.3125 \n",
       "L 12.890625 25.390625 \n",
       "L 37.796875 25.390625 \n",
       "z\n",
       "M 35.203125 72.90625 \n",
       "L 47.609375 72.90625 \n",
       "L 47.609375 25.390625 \n",
       "L 58.015625 25.390625 \n",
       "L 58.015625 17.1875 \n",
       "L 47.609375 17.1875 \n",
       "L 47.609375 0 \n",
       "L 37.796875 0 \n",
       "L 37.796875 17.1875 \n",
       "L 4.890625 17.1875 \n",
       "L 4.890625 26.703125 \n",
       "z\n",
       "\" id=\"DejaVuSans-52\"/>\n",
       "      </defs>\n",
       "      <g transform=\"translate(115.26466 254.356562)scale(0.1 -0.1)\">\n",
       "       <use xlink:href=\"#DejaVuSans-52\"/>\n",
       "      </g>\n",
       "     </g>\n",
       "    </g>\n",
       "    <g id=\"xtick_3\">\n",
       "     <g id=\"line2d_5\">\n",
       "      <path clip-path=\"url(#pfd7faee3bb)\" d=\"M 161.034969 239.758125 \n",
       "L 161.034969 22.318125 \n",
       "\" style=\"fill:none;stroke:#b0b0b0;stroke-linecap:square;stroke-width:0.8;\"/>\n",
       "     </g>\n",
       "     <g id=\"line2d_6\">\n",
       "      <g>\n",
       "       <use style=\"stroke:#000000;stroke-width:0.8;\" x=\"161.034969\" xlink:href=\"#m2a274a472f\" y=\"239.758125\"/>\n",
       "      </g>\n",
       "     </g>\n",
       "     <g id=\"text_3\">\n",
       "      <!-- 6 -->\n",
       "      <defs>\n",
       "       <path d=\"M 33.015625 40.375 \n",
       "Q 26.375 40.375 22.484375 35.828125 \n",
       "Q 18.609375 31.296875 18.609375 23.390625 \n",
       "Q 18.609375 15.53125 22.484375 10.953125 \n",
       "Q 26.375 6.390625 33.015625 6.390625 \n",
       "Q 39.65625 6.390625 43.53125 10.953125 \n",
       "Q 47.40625 15.53125 47.40625 23.390625 \n",
       "Q 47.40625 31.296875 43.53125 35.828125 \n",
       "Q 39.65625 40.375 33.015625 40.375 \n",
       "z\n",
       "M 52.59375 71.296875 \n",
       "L 52.59375 62.3125 \n",
       "Q 48.875 64.0625 45.09375 64.984375 \n",
       "Q 41.3125 65.921875 37.59375 65.921875 \n",
       "Q 27.828125 65.921875 22.671875 59.328125 \n",
       "Q 17.53125 52.734375 16.796875 39.40625 \n",
       "Q 19.671875 43.65625 24.015625 45.921875 \n",
       "Q 28.375 48.1875 33.59375 48.1875 \n",
       "Q 44.578125 48.1875 50.953125 41.515625 \n",
       "Q 57.328125 34.859375 57.328125 23.390625 \n",
       "Q 57.328125 12.15625 50.6875 5.359375 \n",
       "Q 44.046875 -1.421875 33.015625 -1.421875 \n",
       "Q 20.359375 -1.421875 13.671875 8.265625 \n",
       "Q 6.984375 17.96875 6.984375 36.375 \n",
       "Q 6.984375 53.65625 15.1875 63.9375 \n",
       "Q 23.390625 74.21875 37.203125 74.21875 \n",
       "Q 40.921875 74.21875 44.703125 73.484375 \n",
       "Q 48.484375 72.75 52.59375 71.296875 \n",
       "z\n",
       "\" id=\"DejaVuSans-54\"/>\n",
       "      </defs>\n",
       "      <g transform=\"translate(157.853719 254.356562)scale(0.1 -0.1)\">\n",
       "       <use xlink:href=\"#DejaVuSans-54\"/>\n",
       "      </g>\n",
       "     </g>\n",
       "    </g>\n",
       "    <g id=\"xtick_4\">\n",
       "     <g id=\"line2d_7\">\n",
       "      <path clip-path=\"url(#pfd7faee3bb)\" d=\"M 203.624029 239.758125 \n",
       "L 203.624029 22.318125 \n",
       "\" style=\"fill:none;stroke:#b0b0b0;stroke-linecap:square;stroke-width:0.8;\"/>\n",
       "     </g>\n",
       "     <g id=\"line2d_8\">\n",
       "      <g>\n",
       "       <use style=\"stroke:#000000;stroke-width:0.8;\" x=\"203.624029\" xlink:href=\"#m2a274a472f\" y=\"239.758125\"/>\n",
       "      </g>\n",
       "     </g>\n",
       "     <g id=\"text_4\">\n",
       "      <!-- 8 -->\n",
       "      <defs>\n",
       "       <path d=\"M 31.78125 34.625 \n",
       "Q 24.75 34.625 20.71875 30.859375 \n",
       "Q 16.703125 27.09375 16.703125 20.515625 \n",
       "Q 16.703125 13.921875 20.71875 10.15625 \n",
       "Q 24.75 6.390625 31.78125 6.390625 \n",
       "Q 38.8125 6.390625 42.859375 10.171875 \n",
       "Q 46.921875 13.96875 46.921875 20.515625 \n",
       "Q 46.921875 27.09375 42.890625 30.859375 \n",
       "Q 38.875 34.625 31.78125 34.625 \n",
       "z\n",
       "M 21.921875 38.8125 \n",
       "Q 15.578125 40.375 12.03125 44.71875 \n",
       "Q 8.5 49.078125 8.5 55.328125 \n",
       "Q 8.5 64.0625 14.71875 69.140625 \n",
       "Q 20.953125 74.21875 31.78125 74.21875 \n",
       "Q 42.671875 74.21875 48.875 69.140625 \n",
       "Q 55.078125 64.0625 55.078125 55.328125 \n",
       "Q 55.078125 49.078125 51.53125 44.71875 \n",
       "Q 48 40.375 41.703125 38.8125 \n",
       "Q 48.828125 37.15625 52.796875 32.3125 \n",
       "Q 56.78125 27.484375 56.78125 20.515625 \n",
       "Q 56.78125 9.90625 50.3125 4.234375 \n",
       "Q 43.84375 -1.421875 31.78125 -1.421875 \n",
       "Q 19.734375 -1.421875 13.25 4.234375 \n",
       "Q 6.78125 9.90625 6.78125 20.515625 \n",
       "Q 6.78125 27.484375 10.78125 32.3125 \n",
       "Q 14.796875 37.15625 21.921875 38.8125 \n",
       "z\n",
       "M 18.3125 54.390625 \n",
       "Q 18.3125 48.734375 21.84375 45.5625 \n",
       "Q 25.390625 42.390625 31.78125 42.390625 \n",
       "Q 38.140625 42.390625 41.71875 45.5625 \n",
       "Q 45.3125 48.734375 45.3125 54.390625 \n",
       "Q 45.3125 60.0625 41.71875 63.234375 \n",
       "Q 38.140625 66.40625 31.78125 66.40625 \n",
       "Q 25.390625 66.40625 21.84375 63.234375 \n",
       "Q 18.3125 60.0625 18.3125 54.390625 \n",
       "z\n",
       "\" id=\"DejaVuSans-56\"/>\n",
       "      </defs>\n",
       "      <g transform=\"translate(200.442779 254.356562)scale(0.1 -0.1)\">\n",
       "       <use xlink:href=\"#DejaVuSans-56\"/>\n",
       "      </g>\n",
       "     </g>\n",
       "    </g>\n",
       "    <g id=\"xtick_5\">\n",
       "     <g id=\"line2d_9\">\n",
       "      <path clip-path=\"url(#pfd7faee3bb)\" d=\"M 246.213088 239.758125 \n",
       "L 246.213088 22.318125 \n",
       "\" style=\"fill:none;stroke:#b0b0b0;stroke-linecap:square;stroke-width:0.8;\"/>\n",
       "     </g>\n",
       "     <g id=\"line2d_10\">\n",
       "      <g>\n",
       "       <use style=\"stroke:#000000;stroke-width:0.8;\" x=\"246.213088\" xlink:href=\"#m2a274a472f\" y=\"239.758125\"/>\n",
       "      </g>\n",
       "     </g>\n",
       "     <g id=\"text_5\">\n",
       "      <!-- 10 -->\n",
       "      <defs>\n",
       "       <path d=\"M 12.40625 8.296875 \n",
       "L 28.515625 8.296875 \n",
       "L 28.515625 63.921875 \n",
       "L 10.984375 60.40625 \n",
       "L 10.984375 69.390625 \n",
       "L 28.421875 72.90625 \n",
       "L 38.28125 72.90625 \n",
       "L 38.28125 8.296875 \n",
       "L 54.390625 8.296875 \n",
       "L 54.390625 0 \n",
       "L 12.40625 0 \n",
       "z\n",
       "\" id=\"DejaVuSans-49\"/>\n",
       "       <path d=\"M 31.78125 66.40625 \n",
       "Q 24.171875 66.40625 20.328125 58.90625 \n",
       "Q 16.5 51.421875 16.5 36.375 \n",
       "Q 16.5 21.390625 20.328125 13.890625 \n",
       "Q 24.171875 6.390625 31.78125 6.390625 \n",
       "Q 39.453125 6.390625 43.28125 13.890625 \n",
       "Q 47.125 21.390625 47.125 36.375 \n",
       "Q 47.125 51.421875 43.28125 58.90625 \n",
       "Q 39.453125 66.40625 31.78125 66.40625 \n",
       "z\n",
       "M 31.78125 74.21875 \n",
       "Q 44.046875 74.21875 50.515625 64.515625 \n",
       "Q 56.984375 54.828125 56.984375 36.375 \n",
       "Q 56.984375 17.96875 50.515625 8.265625 \n",
       "Q 44.046875 -1.421875 31.78125 -1.421875 \n",
       "Q 19.53125 -1.421875 13.0625 8.265625 \n",
       "Q 6.59375 17.96875 6.59375 36.375 \n",
       "Q 6.59375 54.828125 13.0625 64.515625 \n",
       "Q 19.53125 74.21875 31.78125 74.21875 \n",
       "z\n",
       "\" id=\"DejaVuSans-48\"/>\n",
       "      </defs>\n",
       "      <g transform=\"translate(239.850588 254.356562)scale(0.1 -0.1)\">\n",
       "       <use xlink:href=\"#DejaVuSans-49\"/>\n",
       "       <use x=\"63.623047\" xlink:href=\"#DejaVuSans-48\"/>\n",
       "      </g>\n",
       "     </g>\n",
       "    </g>\n",
       "    <g id=\"xtick_6\">\n",
       "     <g id=\"line2d_11\">\n",
       "      <path clip-path=\"url(#pfd7faee3bb)\" d=\"M 288.802147 239.758125 \n",
       "L 288.802147 22.318125 \n",
       "\" style=\"fill:none;stroke:#b0b0b0;stroke-linecap:square;stroke-width:0.8;\"/>\n",
       "     </g>\n",
       "     <g id=\"line2d_12\">\n",
       "      <g>\n",
       "       <use style=\"stroke:#000000;stroke-width:0.8;\" x=\"288.802147\" xlink:href=\"#m2a274a472f\" y=\"239.758125\"/>\n",
       "      </g>\n",
       "     </g>\n",
       "     <g id=\"text_6\">\n",
       "      <!-- 12 -->\n",
       "      <g transform=\"translate(282.439647 254.356562)scale(0.1 -0.1)\">\n",
       "       <use xlink:href=\"#DejaVuSans-49\"/>\n",
       "       <use x=\"63.623047\" xlink:href=\"#DejaVuSans-50\"/>\n",
       "      </g>\n",
       "     </g>\n",
       "    </g>\n",
       "    <g id=\"xtick_7\">\n",
       "     <g id=\"line2d_13\">\n",
       "      <path clip-path=\"url(#pfd7faee3bb)\" d=\"M 331.391206 239.758125 \n",
       "L 331.391206 22.318125 \n",
       "\" style=\"fill:none;stroke:#b0b0b0;stroke-linecap:square;stroke-width:0.8;\"/>\n",
       "     </g>\n",
       "     <g id=\"line2d_14\">\n",
       "      <g>\n",
       "       <use style=\"stroke:#000000;stroke-width:0.8;\" x=\"331.391206\" xlink:href=\"#m2a274a472f\" y=\"239.758125\"/>\n",
       "      </g>\n",
       "     </g>\n",
       "     <g id=\"text_7\">\n",
       "      <!-- 14 -->\n",
       "      <g transform=\"translate(325.028706 254.356562)scale(0.1 -0.1)\">\n",
       "       <use xlink:href=\"#DejaVuSans-49\"/>\n",
       "       <use x=\"63.623047\" xlink:href=\"#DejaVuSans-52\"/>\n",
       "      </g>\n",
       "     </g>\n",
       "    </g>\n",
       "    <g id=\"xtick_8\">\n",
       "     <g id=\"line2d_15\">\n",
       "      <path clip-path=\"url(#pfd7faee3bb)\" d=\"M 373.980265 239.758125 \n",
       "L 373.980265 22.318125 \n",
       "\" style=\"fill:none;stroke:#b0b0b0;stroke-linecap:square;stroke-width:0.8;\"/>\n",
       "     </g>\n",
       "     <g id=\"line2d_16\">\n",
       "      <g>\n",
       "       <use style=\"stroke:#000000;stroke-width:0.8;\" x=\"373.980265\" xlink:href=\"#m2a274a472f\" y=\"239.758125\"/>\n",
       "      </g>\n",
       "     </g>\n",
       "     <g id=\"text_8\">\n",
       "      <!-- 16 -->\n",
       "      <g transform=\"translate(367.617765 254.356562)scale(0.1 -0.1)\">\n",
       "       <use xlink:href=\"#DejaVuSans-49\"/>\n",
       "       <use x=\"63.623047\" xlink:href=\"#DejaVuSans-54\"/>\n",
       "      </g>\n",
       "     </g>\n",
       "    </g>\n",
       "    <g id=\"text_9\">\n",
       "     <!-- (Jitterd) Number of Letters -->\n",
       "     <defs>\n",
       "      <path d=\"M 31 75.875 \n",
       "Q 24.46875 64.65625 21.28125 53.65625 \n",
       "Q 18.109375 42.671875 18.109375 31.390625 \n",
       "Q 18.109375 20.125 21.3125 9.0625 \n",
       "Q 24.515625 -2 31 -13.1875 \n",
       "L 23.1875 -13.1875 \n",
       "Q 15.875 -1.703125 12.234375 9.375 \n",
       "Q 8.59375 20.453125 8.59375 31.390625 \n",
       "Q 8.59375 42.28125 12.203125 53.3125 \n",
       "Q 15.828125 64.359375 23.1875 75.875 \n",
       "z\n",
       "\" id=\"DejaVuSans-40\"/>\n",
       "      <path d=\"M 9.8125 72.90625 \n",
       "L 19.671875 72.90625 \n",
       "L 19.671875 5.078125 \n",
       "Q 19.671875 -8.109375 14.671875 -14.0625 \n",
       "Q 9.671875 -20.015625 -1.421875 -20.015625 \n",
       "L -5.171875 -20.015625 \n",
       "L -5.171875 -11.71875 \n",
       "L -2.09375 -11.71875 \n",
       "Q 4.4375 -11.71875 7.125 -8.046875 \n",
       "Q 9.8125 -4.390625 9.8125 5.078125 \n",
       "z\n",
       "\" id=\"DejaVuSans-74\"/>\n",
       "      <path d=\"M 9.421875 54.6875 \n",
       "L 18.40625 54.6875 \n",
       "L 18.40625 0 \n",
       "L 9.421875 0 \n",
       "z\n",
       "M 9.421875 75.984375 \n",
       "L 18.40625 75.984375 \n",
       "L 18.40625 64.59375 \n",
       "L 9.421875 64.59375 \n",
       "z\n",
       "\" id=\"DejaVuSans-105\"/>\n",
       "      <path d=\"M 18.3125 70.21875 \n",
       "L 18.3125 54.6875 \n",
       "L 36.8125 54.6875 \n",
       "L 36.8125 47.703125 \n",
       "L 18.3125 47.703125 \n",
       "L 18.3125 18.015625 \n",
       "Q 18.3125 11.328125 20.140625 9.421875 \n",
       "Q 21.96875 7.515625 27.59375 7.515625 \n",
       "L 36.8125 7.515625 \n",
       "L 36.8125 0 \n",
       "L 27.59375 0 \n",
       "Q 17.1875 0 13.234375 3.875 \n",
       "Q 9.28125 7.765625 9.28125 18.015625 \n",
       "L 9.28125 47.703125 \n",
       "L 2.6875 47.703125 \n",
       "L 2.6875 54.6875 \n",
       "L 9.28125 54.6875 \n",
       "L 9.28125 70.21875 \n",
       "z\n",
       "\" id=\"DejaVuSans-116\"/>\n",
       "      <path d=\"M 56.203125 29.59375 \n",
       "L 56.203125 25.203125 \n",
       "L 14.890625 25.203125 \n",
       "Q 15.484375 15.921875 20.484375 11.0625 \n",
       "Q 25.484375 6.203125 34.421875 6.203125 \n",
       "Q 39.59375 6.203125 44.453125 7.46875 \n",
       "Q 49.3125 8.734375 54.109375 11.28125 \n",
       "L 54.109375 2.78125 \n",
       "Q 49.265625 0.734375 44.1875 -0.34375 \n",
       "Q 39.109375 -1.421875 33.890625 -1.421875 \n",
       "Q 20.796875 -1.421875 13.15625 6.1875 \n",
       "Q 5.515625 13.8125 5.515625 26.8125 \n",
       "Q 5.515625 40.234375 12.765625 48.109375 \n",
       "Q 20.015625 56 32.328125 56 \n",
       "Q 43.359375 56 49.78125 48.890625 \n",
       "Q 56.203125 41.796875 56.203125 29.59375 \n",
       "z\n",
       "M 47.21875 32.234375 \n",
       "Q 47.125 39.59375 43.09375 43.984375 \n",
       "Q 39.0625 48.390625 32.421875 48.390625 \n",
       "Q 24.90625 48.390625 20.390625 44.140625 \n",
       "Q 15.875 39.890625 15.1875 32.171875 \n",
       "z\n",
       "\" id=\"DejaVuSans-101\"/>\n",
       "      <path d=\"M 41.109375 46.296875 \n",
       "Q 39.59375 47.171875 37.8125 47.578125 \n",
       "Q 36.03125 48 33.890625 48 \n",
       "Q 26.265625 48 22.1875 43.046875 \n",
       "Q 18.109375 38.09375 18.109375 28.8125 \n",
       "L 18.109375 0 \n",
       "L 9.078125 0 \n",
       "L 9.078125 54.6875 \n",
       "L 18.109375 54.6875 \n",
       "L 18.109375 46.1875 \n",
       "Q 20.953125 51.171875 25.484375 53.578125 \n",
       "Q 30.03125 56 36.53125 56 \n",
       "Q 37.453125 56 38.578125 55.875 \n",
       "Q 39.703125 55.765625 41.0625 55.515625 \n",
       "z\n",
       "\" id=\"DejaVuSans-114\"/>\n",
       "      <path d=\"M 45.40625 46.390625 \n",
       "L 45.40625 75.984375 \n",
       "L 54.390625 75.984375 \n",
       "L 54.390625 0 \n",
       "L 45.40625 0 \n",
       "L 45.40625 8.203125 \n",
       "Q 42.578125 3.328125 38.25 0.953125 \n",
       "Q 33.9375 -1.421875 27.875 -1.421875 \n",
       "Q 17.96875 -1.421875 11.734375 6.484375 \n",
       "Q 5.515625 14.40625 5.515625 27.296875 \n",
       "Q 5.515625 40.1875 11.734375 48.09375 \n",
       "Q 17.96875 56 27.875 56 \n",
       "Q 33.9375 56 38.25 53.625 \n",
       "Q 42.578125 51.265625 45.40625 46.390625 \n",
       "z\n",
       "M 14.796875 27.296875 \n",
       "Q 14.796875 17.390625 18.875 11.75 \n",
       "Q 22.953125 6.109375 30.078125 6.109375 \n",
       "Q 37.203125 6.109375 41.296875 11.75 \n",
       "Q 45.40625 17.390625 45.40625 27.296875 \n",
       "Q 45.40625 37.203125 41.296875 42.84375 \n",
       "Q 37.203125 48.484375 30.078125 48.484375 \n",
       "Q 22.953125 48.484375 18.875 42.84375 \n",
       "Q 14.796875 37.203125 14.796875 27.296875 \n",
       "z\n",
       "\" id=\"DejaVuSans-100\"/>\n",
       "      <path d=\"M 8.015625 75.875 \n",
       "L 15.828125 75.875 \n",
       "Q 23.140625 64.359375 26.78125 53.3125 \n",
       "Q 30.421875 42.28125 30.421875 31.390625 \n",
       "Q 30.421875 20.453125 26.78125 9.375 \n",
       "Q 23.140625 -1.703125 15.828125 -13.1875 \n",
       "L 8.015625 -13.1875 \n",
       "Q 14.5 -2 17.703125 9.0625 \n",
       "Q 20.90625 20.125 20.90625 31.390625 \n",
       "Q 20.90625 42.671875 17.703125 53.65625 \n",
       "Q 14.5 64.65625 8.015625 75.875 \n",
       "z\n",
       "\" id=\"DejaVuSans-41\"/>\n",
       "      <path id=\"DejaVuSans-32\"/>\n",
       "      <path d=\"M 9.8125 72.90625 \n",
       "L 23.09375 72.90625 \n",
       "L 55.421875 11.921875 \n",
       "L 55.421875 72.90625 \n",
       "L 64.984375 72.90625 \n",
       "L 64.984375 0 \n",
       "L 51.703125 0 \n",
       "L 19.390625 60.984375 \n",
       "L 19.390625 0 \n",
       "L 9.8125 0 \n",
       "z\n",
       "\" id=\"DejaVuSans-78\"/>\n",
       "      <path d=\"M 8.5 21.578125 \n",
       "L 8.5 54.6875 \n",
       "L 17.484375 54.6875 \n",
       "L 17.484375 21.921875 \n",
       "Q 17.484375 14.15625 20.5 10.265625 \n",
       "Q 23.53125 6.390625 29.59375 6.390625 \n",
       "Q 36.859375 6.390625 41.078125 11.03125 \n",
       "Q 45.3125 15.671875 45.3125 23.6875 \n",
       "L 45.3125 54.6875 \n",
       "L 54.296875 54.6875 \n",
       "L 54.296875 0 \n",
       "L 45.3125 0 \n",
       "L 45.3125 8.40625 \n",
       "Q 42.046875 3.421875 37.71875 1 \n",
       "Q 33.40625 -1.421875 27.6875 -1.421875 \n",
       "Q 18.265625 -1.421875 13.375 4.4375 \n",
       "Q 8.5 10.296875 8.5 21.578125 \n",
       "z\n",
       "M 31.109375 56 \n",
       "z\n",
       "\" id=\"DejaVuSans-117\"/>\n",
       "      <path d=\"M 52 44.1875 \n",
       "Q 55.375 50.25 60.0625 53.125 \n",
       "Q 64.75 56 71.09375 56 \n",
       "Q 79.640625 56 84.28125 50.015625 \n",
       "Q 88.921875 44.046875 88.921875 33.015625 \n",
       "L 88.921875 0 \n",
       "L 79.890625 0 \n",
       "L 79.890625 32.71875 \n",
       "Q 79.890625 40.578125 77.09375 44.375 \n",
       "Q 74.3125 48.1875 68.609375 48.1875 \n",
       "Q 61.625 48.1875 57.5625 43.546875 \n",
       "Q 53.515625 38.921875 53.515625 30.90625 \n",
       "L 53.515625 0 \n",
       "L 44.484375 0 \n",
       "L 44.484375 32.71875 \n",
       "Q 44.484375 40.625 41.703125 44.40625 \n",
       "Q 38.921875 48.1875 33.109375 48.1875 \n",
       "Q 26.21875 48.1875 22.15625 43.53125 \n",
       "Q 18.109375 38.875 18.109375 30.90625 \n",
       "L 18.109375 0 \n",
       "L 9.078125 0 \n",
       "L 9.078125 54.6875 \n",
       "L 18.109375 54.6875 \n",
       "L 18.109375 46.1875 \n",
       "Q 21.1875 51.21875 25.484375 53.609375 \n",
       "Q 29.78125 56 35.6875 56 \n",
       "Q 41.65625 56 45.828125 52.96875 \n",
       "Q 50 49.953125 52 44.1875 \n",
       "z\n",
       "\" id=\"DejaVuSans-109\"/>\n",
       "      <path d=\"M 48.6875 27.296875 \n",
       "Q 48.6875 37.203125 44.609375 42.84375 \n",
       "Q 40.53125 48.484375 33.40625 48.484375 \n",
       "Q 26.265625 48.484375 22.1875 42.84375 \n",
       "Q 18.109375 37.203125 18.109375 27.296875 \n",
       "Q 18.109375 17.390625 22.1875 11.75 \n",
       "Q 26.265625 6.109375 33.40625 6.109375 \n",
       "Q 40.53125 6.109375 44.609375 11.75 \n",
       "Q 48.6875 17.390625 48.6875 27.296875 \n",
       "z\n",
       "M 18.109375 46.390625 \n",
       "Q 20.953125 51.265625 25.265625 53.625 \n",
       "Q 29.59375 56 35.59375 56 \n",
       "Q 45.5625 56 51.78125 48.09375 \n",
       "Q 58.015625 40.1875 58.015625 27.296875 \n",
       "Q 58.015625 14.40625 51.78125 6.484375 \n",
       "Q 45.5625 -1.421875 35.59375 -1.421875 \n",
       "Q 29.59375 -1.421875 25.265625 0.953125 \n",
       "Q 20.953125 3.328125 18.109375 8.203125 \n",
       "L 18.109375 0 \n",
       "L 9.078125 0 \n",
       "L 9.078125 75.984375 \n",
       "L 18.109375 75.984375 \n",
       "z\n",
       "\" id=\"DejaVuSans-98\"/>\n",
       "      <path d=\"M 30.609375 48.390625 \n",
       "Q 23.390625 48.390625 19.1875 42.75 \n",
       "Q 14.984375 37.109375 14.984375 27.296875 \n",
       "Q 14.984375 17.484375 19.15625 11.84375 \n",
       "Q 23.34375 6.203125 30.609375 6.203125 \n",
       "Q 37.796875 6.203125 41.984375 11.859375 \n",
       "Q 46.1875 17.53125 46.1875 27.296875 \n",
       "Q 46.1875 37.015625 41.984375 42.703125 \n",
       "Q 37.796875 48.390625 30.609375 48.390625 \n",
       "z\n",
       "M 30.609375 56 \n",
       "Q 42.328125 56 49.015625 48.375 \n",
       "Q 55.71875 40.765625 55.71875 27.296875 \n",
       "Q 55.71875 13.875 49.015625 6.21875 \n",
       "Q 42.328125 -1.421875 30.609375 -1.421875 \n",
       "Q 18.84375 -1.421875 12.171875 6.21875 \n",
       "Q 5.515625 13.875 5.515625 27.296875 \n",
       "Q 5.515625 40.765625 12.171875 48.375 \n",
       "Q 18.84375 56 30.609375 56 \n",
       "z\n",
       "\" id=\"DejaVuSans-111\"/>\n",
       "      <path d=\"M 37.109375 75.984375 \n",
       "L 37.109375 68.5 \n",
       "L 28.515625 68.5 \n",
       "Q 23.6875 68.5 21.796875 66.546875 \n",
       "Q 19.921875 64.59375 19.921875 59.515625 \n",
       "L 19.921875 54.6875 \n",
       "L 34.71875 54.6875 \n",
       "L 34.71875 47.703125 \n",
       "L 19.921875 47.703125 \n",
       "L 19.921875 0 \n",
       "L 10.890625 0 \n",
       "L 10.890625 47.703125 \n",
       "L 2.296875 47.703125 \n",
       "L 2.296875 54.6875 \n",
       "L 10.890625 54.6875 \n",
       "L 10.890625 58.5 \n",
       "Q 10.890625 67.625 15.140625 71.796875 \n",
       "Q 19.390625 75.984375 28.609375 75.984375 \n",
       "z\n",
       "\" id=\"DejaVuSans-102\"/>\n",
       "      <path d=\"M 9.8125 72.90625 \n",
       "L 19.671875 72.90625 \n",
       "L 19.671875 8.296875 \n",
       "L 55.171875 8.296875 \n",
       "L 55.171875 0 \n",
       "L 9.8125 0 \n",
       "z\n",
       "\" id=\"DejaVuSans-76\"/>\n",
       "      <path d=\"M 44.28125 53.078125 \n",
       "L 44.28125 44.578125 \n",
       "Q 40.484375 46.53125 36.375 47.5 \n",
       "Q 32.28125 48.484375 27.875 48.484375 \n",
       "Q 21.1875 48.484375 17.84375 46.4375 \n",
       "Q 14.5 44.390625 14.5 40.28125 \n",
       "Q 14.5 37.15625 16.890625 35.375 \n",
       "Q 19.28125 33.59375 26.515625 31.984375 \n",
       "L 29.59375 31.296875 \n",
       "Q 39.15625 29.25 43.1875 25.515625 \n",
       "Q 47.21875 21.78125 47.21875 15.09375 \n",
       "Q 47.21875 7.46875 41.1875 3.015625 \n",
       "Q 35.15625 -1.421875 24.609375 -1.421875 \n",
       "Q 20.21875 -1.421875 15.453125 -0.5625 \n",
       "Q 10.6875 0.296875 5.421875 2 \n",
       "L 5.421875 11.28125 \n",
       "Q 10.40625 8.6875 15.234375 7.390625 \n",
       "Q 20.0625 6.109375 24.8125 6.109375 \n",
       "Q 31.15625 6.109375 34.5625 8.28125 \n",
       "Q 37.984375 10.453125 37.984375 14.40625 \n",
       "Q 37.984375 18.0625 35.515625 20.015625 \n",
       "Q 33.0625 21.96875 24.703125 23.78125 \n",
       "L 21.578125 24.515625 \n",
       "Q 13.234375 26.265625 9.515625 29.90625 \n",
       "Q 5.8125 33.546875 5.8125 39.890625 \n",
       "Q 5.8125 47.609375 11.28125 51.796875 \n",
       "Q 16.75 56 26.8125 56 \n",
       "Q 31.78125 56 36.171875 55.265625 \n",
       "Q 40.578125 54.546875 44.28125 53.078125 \n",
       "z\n",
       "\" id=\"DejaVuSans-115\"/>\n",
       "     </defs>\n",
       "     <g transform=\"translate(141.99375 268.034687)scale(0.1 -0.1)\">\n",
       "      <use xlink:href=\"#DejaVuSans-40\"/>\n",
       "      <use x=\"39.013672\" xlink:href=\"#DejaVuSans-74\"/>\n",
       "      <use x=\"68.505859\" xlink:href=\"#DejaVuSans-105\"/>\n",
       "      <use x=\"96.289062\" xlink:href=\"#DejaVuSans-116\"/>\n",
       "      <use x=\"135.498047\" xlink:href=\"#DejaVuSans-116\"/>\n",
       "      <use x=\"174.707031\" xlink:href=\"#DejaVuSans-101\"/>\n",
       "      <use x=\"236.230469\" xlink:href=\"#DejaVuSans-114\"/>\n",
       "      <use x=\"275.59375\" xlink:href=\"#DejaVuSans-100\"/>\n",
       "      <use x=\"339.070312\" xlink:href=\"#DejaVuSans-41\"/>\n",
       "      <use x=\"378.083984\" xlink:href=\"#DejaVuSans-32\"/>\n",
       "      <use x=\"409.871094\" xlink:href=\"#DejaVuSans-78\"/>\n",
       "      <use x=\"484.675781\" xlink:href=\"#DejaVuSans-117\"/>\n",
       "      <use x=\"548.054688\" xlink:href=\"#DejaVuSans-109\"/>\n",
       "      <use x=\"645.466797\" xlink:href=\"#DejaVuSans-98\"/>\n",
       "      <use x=\"708.943359\" xlink:href=\"#DejaVuSans-101\"/>\n",
       "      <use x=\"770.466797\" xlink:href=\"#DejaVuSans-114\"/>\n",
       "      <use x=\"811.580078\" xlink:href=\"#DejaVuSans-32\"/>\n",
       "      <use x=\"843.367188\" xlink:href=\"#DejaVuSans-111\"/>\n",
       "      <use x=\"904.548828\" xlink:href=\"#DejaVuSans-102\"/>\n",
       "      <use x=\"939.753906\" xlink:href=\"#DejaVuSans-32\"/>\n",
       "      <use x=\"971.541016\" xlink:href=\"#DejaVuSans-76\"/>\n",
       "      <use x=\"1025.503906\" xlink:href=\"#DejaVuSans-101\"/>\n",
       "      <use x=\"1087.027344\" xlink:href=\"#DejaVuSans-116\"/>\n",
       "      <use x=\"1126.236328\" xlink:href=\"#DejaVuSans-116\"/>\n",
       "      <use x=\"1165.445312\" xlink:href=\"#DejaVuSans-101\"/>\n",
       "      <use x=\"1226.96875\" xlink:href=\"#DejaVuSans-114\"/>\n",
       "      <use x=\"1268.082031\" xlink:href=\"#DejaVuSans-115\"/>\n",
       "     </g>\n",
       "    </g>\n",
       "   </g>\n",
       "   <g id=\"matplotlib.axis_2\">\n",
       "    <g id=\"ytick_1\">\n",
       "     <g id=\"line2d_17\">\n",
       "      <path clip-path=\"url(#pfd7faee3bb)\" d=\"M 40.603125 232.441667 \n",
       "L 375.403125 232.441667 \n",
       "\" style=\"fill:none;stroke:#b0b0b0;stroke-linecap:square;stroke-width:0.8;\"/>\n",
       "     </g>\n",
       "     <g id=\"line2d_18\">\n",
       "      <defs>\n",
       "       <path d=\"M 0 0 \n",
       "L -3.5 0 \n",
       "\" id=\"m2b644be9c1\" style=\"stroke:#000000;stroke-width:0.8;\"/>\n",
       "      </defs>\n",
       "      <g>\n",
       "       <use style=\"stroke:#000000;stroke-width:0.8;\" x=\"40.603125\" xlink:href=\"#m2b644be9c1\" y=\"232.441667\"/>\n",
       "      </g>\n",
       "     </g>\n",
       "     <g id=\"text_10\">\n",
       "      <!-- 0 -->\n",
       "      <g transform=\"translate(27.240625 236.240886)scale(0.1 -0.1)\">\n",
       "       <use xlink:href=\"#DejaVuSans-48\"/>\n",
       "      </g>\n",
       "     </g>\n",
       "    </g>\n",
       "    <g id=\"ytick_2\">\n",
       "     <g id=\"line2d_19\">\n",
       "      <path clip-path=\"url(#pfd7faee3bb)\" d=\"M 40.603125 206.769884 \n",
       "L 375.403125 206.769884 \n",
       "\" style=\"fill:none;stroke:#b0b0b0;stroke-linecap:square;stroke-width:0.8;\"/>\n",
       "     </g>\n",
       "     <g id=\"line2d_20\">\n",
       "      <g>\n",
       "       <use style=\"stroke:#000000;stroke-width:0.8;\" x=\"40.603125\" xlink:href=\"#m2b644be9c1\" y=\"206.769884\"/>\n",
       "      </g>\n",
       "     </g>\n",
       "     <g id=\"text_11\">\n",
       "      <!-- 10 -->\n",
       "      <g transform=\"translate(20.878125 210.569103)scale(0.1 -0.1)\">\n",
       "       <use xlink:href=\"#DejaVuSans-49\"/>\n",
       "       <use x=\"63.623047\" xlink:href=\"#DejaVuSans-48\"/>\n",
       "      </g>\n",
       "     </g>\n",
       "    </g>\n",
       "    <g id=\"ytick_3\">\n",
       "     <g id=\"line2d_21\">\n",
       "      <path clip-path=\"url(#pfd7faee3bb)\" d=\"M 40.603125 181.098101 \n",
       "L 375.403125 181.098101 \n",
       "\" style=\"fill:none;stroke:#b0b0b0;stroke-linecap:square;stroke-width:0.8;\"/>\n",
       "     </g>\n",
       "     <g id=\"line2d_22\">\n",
       "      <g>\n",
       "       <use style=\"stroke:#000000;stroke-width:0.8;\" x=\"40.603125\" xlink:href=\"#m2b644be9c1\" y=\"181.098101\"/>\n",
       "      </g>\n",
       "     </g>\n",
       "     <g id=\"text_12\">\n",
       "      <!-- 20 -->\n",
       "      <g transform=\"translate(20.878125 184.89732)scale(0.1 -0.1)\">\n",
       "       <use xlink:href=\"#DejaVuSans-50\"/>\n",
       "       <use x=\"63.623047\" xlink:href=\"#DejaVuSans-48\"/>\n",
       "      </g>\n",
       "     </g>\n",
       "    </g>\n",
       "    <g id=\"ytick_4\">\n",
       "     <g id=\"line2d_23\">\n",
       "      <path clip-path=\"url(#pfd7faee3bb)\" d=\"M 40.603125 155.426319 \n",
       "L 375.403125 155.426319 \n",
       "\" style=\"fill:none;stroke:#b0b0b0;stroke-linecap:square;stroke-width:0.8;\"/>\n",
       "     </g>\n",
       "     <g id=\"line2d_24\">\n",
       "      <g>\n",
       "       <use style=\"stroke:#000000;stroke-width:0.8;\" x=\"40.603125\" xlink:href=\"#m2b644be9c1\" y=\"155.426319\"/>\n",
       "      </g>\n",
       "     </g>\n",
       "     <g id=\"text_13\">\n",
       "      <!-- 30 -->\n",
       "      <defs>\n",
       "       <path d=\"M 40.578125 39.3125 \n",
       "Q 47.65625 37.796875 51.625 33 \n",
       "Q 55.609375 28.21875 55.609375 21.1875 \n",
       "Q 55.609375 10.40625 48.1875 4.484375 \n",
       "Q 40.765625 -1.421875 27.09375 -1.421875 \n",
       "Q 22.515625 -1.421875 17.65625 -0.515625 \n",
       "Q 12.796875 0.390625 7.625 2.203125 \n",
       "L 7.625 11.71875 \n",
       "Q 11.71875 9.328125 16.59375 8.109375 \n",
       "Q 21.484375 6.890625 26.8125 6.890625 \n",
       "Q 36.078125 6.890625 40.9375 10.546875 \n",
       "Q 45.796875 14.203125 45.796875 21.1875 \n",
       "Q 45.796875 27.640625 41.28125 31.265625 \n",
       "Q 36.765625 34.90625 28.71875 34.90625 \n",
       "L 20.21875 34.90625 \n",
       "L 20.21875 43.015625 \n",
       "L 29.109375 43.015625 \n",
       "Q 36.375 43.015625 40.234375 45.921875 \n",
       "Q 44.09375 48.828125 44.09375 54.296875 \n",
       "Q 44.09375 59.90625 40.109375 62.90625 \n",
       "Q 36.140625 65.921875 28.71875 65.921875 \n",
       "Q 24.65625 65.921875 20.015625 65.03125 \n",
       "Q 15.375 64.15625 9.8125 62.3125 \n",
       "L 9.8125 71.09375 \n",
       "Q 15.4375 72.65625 20.34375 73.4375 \n",
       "Q 25.25 74.21875 29.59375 74.21875 \n",
       "Q 40.828125 74.21875 47.359375 69.109375 \n",
       "Q 53.90625 64.015625 53.90625 55.328125 \n",
       "Q 53.90625 49.265625 50.4375 45.09375 \n",
       "Q 46.96875 40.921875 40.578125 39.3125 \n",
       "z\n",
       "\" id=\"DejaVuSans-51\"/>\n",
       "      </defs>\n",
       "      <g transform=\"translate(20.878125 159.225537)scale(0.1 -0.1)\">\n",
       "       <use xlink:href=\"#DejaVuSans-51\"/>\n",
       "       <use x=\"63.623047\" xlink:href=\"#DejaVuSans-48\"/>\n",
       "      </g>\n",
       "     </g>\n",
       "    </g>\n",
       "    <g id=\"ytick_5\">\n",
       "     <g id=\"line2d_25\">\n",
       "      <path clip-path=\"url(#pfd7faee3bb)\" d=\"M 40.603125 129.754536 \n",
       "L 375.403125 129.754536 \n",
       "\" style=\"fill:none;stroke:#b0b0b0;stroke-linecap:square;stroke-width:0.8;\"/>\n",
       "     </g>\n",
       "     <g id=\"line2d_26\">\n",
       "      <g>\n",
       "       <use style=\"stroke:#000000;stroke-width:0.8;\" x=\"40.603125\" xlink:href=\"#m2b644be9c1\" y=\"129.754536\"/>\n",
       "      </g>\n",
       "     </g>\n",
       "     <g id=\"text_14\">\n",
       "      <!-- 40 -->\n",
       "      <g transform=\"translate(20.878125 133.553755)scale(0.1 -0.1)\">\n",
       "       <use xlink:href=\"#DejaVuSans-52\"/>\n",
       "       <use x=\"63.623047\" xlink:href=\"#DejaVuSans-48\"/>\n",
       "      </g>\n",
       "     </g>\n",
       "    </g>\n",
       "    <g id=\"ytick_6\">\n",
       "     <g id=\"line2d_27\">\n",
       "      <path clip-path=\"url(#pfd7faee3bb)\" d=\"M 40.603125 104.082753 \n",
       "L 375.403125 104.082753 \n",
       "\" style=\"fill:none;stroke:#b0b0b0;stroke-linecap:square;stroke-width:0.8;\"/>\n",
       "     </g>\n",
       "     <g id=\"line2d_28\">\n",
       "      <g>\n",
       "       <use style=\"stroke:#000000;stroke-width:0.8;\" x=\"40.603125\" xlink:href=\"#m2b644be9c1\" y=\"104.082753\"/>\n",
       "      </g>\n",
       "     </g>\n",
       "     <g id=\"text_15\">\n",
       "      <!-- 50 -->\n",
       "      <defs>\n",
       "       <path d=\"M 10.796875 72.90625 \n",
       "L 49.515625 72.90625 \n",
       "L 49.515625 64.59375 \n",
       "L 19.828125 64.59375 \n",
       "L 19.828125 46.734375 \n",
       "Q 21.96875 47.46875 24.109375 47.828125 \n",
       "Q 26.265625 48.1875 28.421875 48.1875 \n",
       "Q 40.625 48.1875 47.75 41.5 \n",
       "Q 54.890625 34.8125 54.890625 23.390625 \n",
       "Q 54.890625 11.625 47.5625 5.09375 \n",
       "Q 40.234375 -1.421875 26.90625 -1.421875 \n",
       "Q 22.3125 -1.421875 17.546875 -0.640625 \n",
       "Q 12.796875 0.140625 7.71875 1.703125 \n",
       "L 7.71875 11.625 \n",
       "Q 12.109375 9.234375 16.796875 8.0625 \n",
       "Q 21.484375 6.890625 26.703125 6.890625 \n",
       "Q 35.15625 6.890625 40.078125 11.328125 \n",
       "Q 45.015625 15.765625 45.015625 23.390625 \n",
       "Q 45.015625 31 40.078125 35.4375 \n",
       "Q 35.15625 39.890625 26.703125 39.890625 \n",
       "Q 22.75 39.890625 18.8125 39.015625 \n",
       "Q 14.890625 38.140625 10.796875 36.28125 \n",
       "z\n",
       "\" id=\"DejaVuSans-53\"/>\n",
       "      </defs>\n",
       "      <g transform=\"translate(20.878125 107.881972)scale(0.1 -0.1)\">\n",
       "       <use xlink:href=\"#DejaVuSans-53\"/>\n",
       "       <use x=\"63.623047\" xlink:href=\"#DejaVuSans-48\"/>\n",
       "      </g>\n",
       "     </g>\n",
       "    </g>\n",
       "    <g id=\"ytick_7\">\n",
       "     <g id=\"line2d_29\">\n",
       "      <path clip-path=\"url(#pfd7faee3bb)\" d=\"M 40.603125 78.41097 \n",
       "L 375.403125 78.41097 \n",
       "\" style=\"fill:none;stroke:#b0b0b0;stroke-linecap:square;stroke-width:0.8;\"/>\n",
       "     </g>\n",
       "     <g id=\"line2d_30\">\n",
       "      <g>\n",
       "       <use style=\"stroke:#000000;stroke-width:0.8;\" x=\"40.603125\" xlink:href=\"#m2b644be9c1\" y=\"78.41097\"/>\n",
       "      </g>\n",
       "     </g>\n",
       "     <g id=\"text_16\">\n",
       "      <!-- 60 -->\n",
       "      <g transform=\"translate(20.878125 82.210189)scale(0.1 -0.1)\">\n",
       "       <use xlink:href=\"#DejaVuSans-54\"/>\n",
       "       <use x=\"63.623047\" xlink:href=\"#DejaVuSans-48\"/>\n",
       "      </g>\n",
       "     </g>\n",
       "    </g>\n",
       "    <g id=\"ytick_8\">\n",
       "     <g id=\"line2d_31\">\n",
       "      <path clip-path=\"url(#pfd7faee3bb)\" d=\"M 40.603125 52.739188 \n",
       "L 375.403125 52.739188 \n",
       "\" style=\"fill:none;stroke:#b0b0b0;stroke-linecap:square;stroke-width:0.8;\"/>\n",
       "     </g>\n",
       "     <g id=\"line2d_32\">\n",
       "      <g>\n",
       "       <use style=\"stroke:#000000;stroke-width:0.8;\" x=\"40.603125\" xlink:href=\"#m2b644be9c1\" y=\"52.739188\"/>\n",
       "      </g>\n",
       "     </g>\n",
       "     <g id=\"text_17\">\n",
       "      <!-- 70 -->\n",
       "      <defs>\n",
       "       <path d=\"M 8.203125 72.90625 \n",
       "L 55.078125 72.90625 \n",
       "L 55.078125 68.703125 \n",
       "L 28.609375 0 \n",
       "L 18.3125 0 \n",
       "L 43.21875 64.59375 \n",
       "L 8.203125 64.59375 \n",
       "z\n",
       "\" id=\"DejaVuSans-55\"/>\n",
       "      </defs>\n",
       "      <g transform=\"translate(20.878125 56.538406)scale(0.1 -0.1)\">\n",
       "       <use xlink:href=\"#DejaVuSans-55\"/>\n",
       "       <use x=\"63.623047\" xlink:href=\"#DejaVuSans-48\"/>\n",
       "      </g>\n",
       "     </g>\n",
       "    </g>\n",
       "    <g id=\"ytick_9\">\n",
       "     <g id=\"line2d_33\">\n",
       "      <path clip-path=\"url(#pfd7faee3bb)\" d=\"M 40.603125 27.067405 \n",
       "L 375.403125 27.067405 \n",
       "\" style=\"fill:none;stroke:#b0b0b0;stroke-linecap:square;stroke-width:0.8;\"/>\n",
       "     </g>\n",
       "     <g id=\"line2d_34\">\n",
       "      <g>\n",
       "       <use style=\"stroke:#000000;stroke-width:0.8;\" x=\"40.603125\" xlink:href=\"#m2b644be9c1\" y=\"27.067405\"/>\n",
       "      </g>\n",
       "     </g>\n",
       "     <g id=\"text_18\">\n",
       "      <!-- 80 -->\n",
       "      <g transform=\"translate(20.878125 30.866624)scale(0.1 -0.1)\">\n",
       "       <use xlink:href=\"#DejaVuSans-56\"/>\n",
       "       <use x=\"63.623047\" xlink:href=\"#DejaVuSans-48\"/>\n",
       "      </g>\n",
       "     </g>\n",
       "    </g>\n",
       "    <g id=\"text_19\">\n",
       "     <!-- Word Frequency -->\n",
       "     <defs>\n",
       "      <path d=\"M 3.328125 72.90625 \n",
       "L 13.28125 72.90625 \n",
       "L 28.609375 11.28125 \n",
       "L 43.890625 72.90625 \n",
       "L 54.984375 72.90625 \n",
       "L 70.3125 11.28125 \n",
       "L 85.59375 72.90625 \n",
       "L 95.609375 72.90625 \n",
       "L 77.296875 0 \n",
       "L 64.890625 0 \n",
       "L 49.515625 63.28125 \n",
       "L 33.984375 0 \n",
       "L 21.578125 0 \n",
       "z\n",
       "\" id=\"DejaVuSans-87\"/>\n",
       "      <path d=\"M 9.8125 72.90625 \n",
       "L 51.703125 72.90625 \n",
       "L 51.703125 64.59375 \n",
       "L 19.671875 64.59375 \n",
       "L 19.671875 43.109375 \n",
       "L 48.578125 43.109375 \n",
       "L 48.578125 34.8125 \n",
       "L 19.671875 34.8125 \n",
       "L 19.671875 0 \n",
       "L 9.8125 0 \n",
       "z\n",
       "\" id=\"DejaVuSans-70\"/>\n",
       "      <path d=\"M 14.796875 27.296875 \n",
       "Q 14.796875 17.390625 18.875 11.75 \n",
       "Q 22.953125 6.109375 30.078125 6.109375 \n",
       "Q 37.203125 6.109375 41.296875 11.75 \n",
       "Q 45.40625 17.390625 45.40625 27.296875 \n",
       "Q 45.40625 37.203125 41.296875 42.84375 \n",
       "Q 37.203125 48.484375 30.078125 48.484375 \n",
       "Q 22.953125 48.484375 18.875 42.84375 \n",
       "Q 14.796875 37.203125 14.796875 27.296875 \n",
       "z\n",
       "M 45.40625 8.203125 \n",
       "Q 42.578125 3.328125 38.25 0.953125 \n",
       "Q 33.9375 -1.421875 27.875 -1.421875 \n",
       "Q 17.96875 -1.421875 11.734375 6.484375 \n",
       "Q 5.515625 14.40625 5.515625 27.296875 \n",
       "Q 5.515625 40.1875 11.734375 48.09375 \n",
       "Q 17.96875 56 27.875 56 \n",
       "Q 33.9375 56 38.25 53.625 \n",
       "Q 42.578125 51.265625 45.40625 46.390625 \n",
       "L 45.40625 54.6875 \n",
       "L 54.390625 54.6875 \n",
       "L 54.390625 -20.796875 \n",
       "L 45.40625 -20.796875 \n",
       "z\n",
       "\" id=\"DejaVuSans-113\"/>\n",
       "      <path d=\"M 54.890625 33.015625 \n",
       "L 54.890625 0 \n",
       "L 45.90625 0 \n",
       "L 45.90625 32.71875 \n",
       "Q 45.90625 40.484375 42.875 44.328125 \n",
       "Q 39.84375 48.1875 33.796875 48.1875 \n",
       "Q 26.515625 48.1875 22.3125 43.546875 \n",
       "Q 18.109375 38.921875 18.109375 30.90625 \n",
       "L 18.109375 0 \n",
       "L 9.078125 0 \n",
       "L 9.078125 54.6875 \n",
       "L 18.109375 54.6875 \n",
       "L 18.109375 46.1875 \n",
       "Q 21.34375 51.125 25.703125 53.5625 \n",
       "Q 30.078125 56 35.796875 56 \n",
       "Q 45.21875 56 50.046875 50.171875 \n",
       "Q 54.890625 44.34375 54.890625 33.015625 \n",
       "z\n",
       "\" id=\"DejaVuSans-110\"/>\n",
       "      <path d=\"M 48.78125 52.59375 \n",
       "L 48.78125 44.1875 \n",
       "Q 44.96875 46.296875 41.140625 47.34375 \n",
       "Q 37.3125 48.390625 33.40625 48.390625 \n",
       "Q 24.65625 48.390625 19.8125 42.84375 \n",
       "Q 14.984375 37.3125 14.984375 27.296875 \n",
       "Q 14.984375 17.28125 19.8125 11.734375 \n",
       "Q 24.65625 6.203125 33.40625 6.203125 \n",
       "Q 37.3125 6.203125 41.140625 7.25 \n",
       "Q 44.96875 8.296875 48.78125 10.40625 \n",
       "L 48.78125 2.09375 \n",
       "Q 45.015625 0.34375 40.984375 -0.53125 \n",
       "Q 36.96875 -1.421875 32.421875 -1.421875 \n",
       "Q 20.0625 -1.421875 12.78125 6.34375 \n",
       "Q 5.515625 14.109375 5.515625 27.296875 \n",
       "Q 5.515625 40.671875 12.859375 48.328125 \n",
       "Q 20.21875 56 33.015625 56 \n",
       "Q 37.15625 56 41.109375 55.140625 \n",
       "Q 45.0625 54.296875 48.78125 52.59375 \n",
       "z\n",
       "\" id=\"DejaVuSans-99\"/>\n",
       "      <path d=\"M 32.171875 -5.078125 \n",
       "Q 28.375 -14.84375 24.75 -17.8125 \n",
       "Q 21.140625 -20.796875 15.09375 -20.796875 \n",
       "L 7.90625 -20.796875 \n",
       "L 7.90625 -13.28125 \n",
       "L 13.1875 -13.28125 \n",
       "Q 16.890625 -13.28125 18.9375 -11.515625 \n",
       "Q 21 -9.765625 23.484375 -3.21875 \n",
       "L 25.09375 0.875 \n",
       "L 2.984375 54.6875 \n",
       "L 12.5 54.6875 \n",
       "L 29.59375 11.921875 \n",
       "L 46.6875 54.6875 \n",
       "L 56.203125 54.6875 \n",
       "z\n",
       "\" id=\"DejaVuSans-121\"/>\n",
       "     </defs>\n",
       "     <g transform=\"translate(14.798438 171.308437)rotate(-90)scale(0.1 -0.1)\">\n",
       "      <use xlink:href=\"#DejaVuSans-87\"/>\n",
       "      <use x=\"93.001953\" xlink:href=\"#DejaVuSans-111\"/>\n",
       "      <use x=\"154.183594\" xlink:href=\"#DejaVuSans-114\"/>\n",
       "      <use x=\"193.546875\" xlink:href=\"#DejaVuSans-100\"/>\n",
       "      <use x=\"257.023438\" xlink:href=\"#DejaVuSans-32\"/>\n",
       "      <use x=\"288.810547\" xlink:href=\"#DejaVuSans-70\"/>\n",
       "      <use x=\"339.080078\" xlink:href=\"#DejaVuSans-114\"/>\n",
       "      <use x=\"377.943359\" xlink:href=\"#DejaVuSans-101\"/>\n",
       "      <use x=\"439.466797\" xlink:href=\"#DejaVuSans-113\"/>\n",
       "      <use x=\"502.943359\" xlink:href=\"#DejaVuSans-117\"/>\n",
       "      <use x=\"566.322266\" xlink:href=\"#DejaVuSans-101\"/>\n",
       "      <use x=\"627.845703\" xlink:href=\"#DejaVuSans-110\"/>\n",
       "      <use x=\"691.224609\" xlink:href=\"#DejaVuSans-99\"/>\n",
       "      <use x=\"746.205078\" xlink:href=\"#DejaVuSans-121\"/>\n",
       "     </g>\n",
       "    </g>\n",
       "   </g>\n",
       "   <g id=\"patch_3\">\n",
       "    <path d=\"M 40.603125 239.758125 \n",
       "L 40.603125 22.318125 \n",
       "\" style=\"fill:none;stroke:#000000;stroke-linecap:square;stroke-linejoin:miter;stroke-width:0.8;\"/>\n",
       "   </g>\n",
       "   <g id=\"patch_4\">\n",
       "    <path d=\"M 375.403125 239.758125 \n",
       "L 375.403125 22.318125 \n",
       "\" style=\"fill:none;stroke:#000000;stroke-linecap:square;stroke-linejoin:miter;stroke-width:0.8;\"/>\n",
       "   </g>\n",
       "   <g id=\"patch_5\">\n",
       "    <path d=\"M 40.603125 239.758125 \n",
       "L 375.403125 239.758125 \n",
       "\" style=\"fill:none;stroke:#000000;stroke-linecap:square;stroke-linejoin:miter;stroke-width:0.8;\"/>\n",
       "   </g>\n",
       "   <g id=\"patch_6\">\n",
       "    <path d=\"M 40.603125 22.318125 \n",
       "L 375.403125 22.318125 \n",
       "\" style=\"fill:none;stroke:#000000;stroke-linecap:square;stroke-linejoin:miter;stroke-width:0.8;\"/>\n",
       "   </g>\n",
       "   <g id=\"text_20\">\n",
       "    <!-- My Title -->\n",
       "    <defs>\n",
       "     <path d=\"M 9.8125 72.90625 \n",
       "L 24.515625 72.90625 \n",
       "L 43.109375 23.296875 \n",
       "L 61.8125 72.90625 \n",
       "L 76.515625 72.90625 \n",
       "L 76.515625 0 \n",
       "L 66.890625 0 \n",
       "L 66.890625 64.015625 \n",
       "L 48.09375 14.015625 \n",
       "L 38.1875 14.015625 \n",
       "L 19.390625 64.015625 \n",
       "L 19.390625 0 \n",
       "L 9.8125 0 \n",
       "z\n",
       "\" id=\"DejaVuSans-77\"/>\n",
       "     <path d=\"M -0.296875 72.90625 \n",
       "L 61.375 72.90625 \n",
       "L 61.375 64.59375 \n",
       "L 35.5 64.59375 \n",
       "L 35.5 0 \n",
       "L 25.59375 0 \n",
       "L 25.59375 64.59375 \n",
       "L -0.296875 64.59375 \n",
       "z\n",
       "\" id=\"DejaVuSans-84\"/>\n",
       "     <path d=\"M 9.421875 75.984375 \n",
       "L 18.40625 75.984375 \n",
       "L 18.40625 0 \n",
       "L 9.421875 0 \n",
       "z\n",
       "\" id=\"DejaVuSans-108\"/>\n",
       "    </defs>\n",
       "    <g transform=\"translate(184.513125 16.318125)scale(0.12 -0.12)\">\n",
       "     <use xlink:href=\"#DejaVuSans-77\"/>\n",
       "     <use x=\"86.279297\" xlink:href=\"#DejaVuSans-121\"/>\n",
       "     <use x=\"145.458984\" xlink:href=\"#DejaVuSans-32\"/>\n",
       "     <use x=\"177.246094\" xlink:href=\"#DejaVuSans-84\"/>\n",
       "     <use x=\"235.205078\" xlink:href=\"#DejaVuSans-105\"/>\n",
       "     <use x=\"262.988281\" xlink:href=\"#DejaVuSans-116\"/>\n",
       "     <use x=\"302.197266\" xlink:href=\"#DejaVuSans-108\"/>\n",
       "     <use x=\"329.980469\" xlink:href=\"#DejaVuSans-101\"/>\n",
       "    </g>\n",
       "   </g>\n",
       "  </g>\n",
       " </g>\n",
       " <defs>\n",
       "  <clipPath id=\"pfd7faee3bb\">\n",
       "   <rect height=\"217.44\" width=\"334.8\" x=\"40.603125\" y=\"22.318125\"/>\n",
       "  </clipPath>\n",
       " </defs>\n",
       "</svg>\n"
      ],
      "text/plain": [
       "<Figure size 432x288 with 1 Axes>"
      ]
     },
     "metadata": {
      "needs_background": "light",
      "tags": []
     },
     "output_type": "display_data"
    }
   ],
   "source": [
    "%config InlineBackend.figure_format = 'svg' #to get a nicer plot\n",
    "\n",
    "ax = df.plot(kind='scatter', x='letters_j', y='freq', marker='x', s=10, lw=1)\n",
    "ax.grid()\n",
    "ax.set(title='My Title', xlabel='(Jitterd) Number of Letters', ylabel='Word Frequency')"
   ]
  },
  {
   "cell_type": "code",
   "execution_count": 157,
   "metadata": {
    "colab": {
     "base_uri": "https://localhost:8080/",
     "height": 204
    },
    "colab_type": "code",
    "executionInfo": {
     "elapsed": 1035,
     "status": "ok",
     "timestamp": 1595474955823,
     "user": {
      "displayName": "Jozeff KAPLAN",
      "photoUrl": "",
      "userId": "04250959772459181544"
     },
     "user_tz": 300
    },
    "id": "OxqpFXUZty01",
    "outputId": "0b39ed4a-090e-47b5-949a-831033023a0d"
   },
   "outputs": [
    {
     "data": {
      "text/markdown": [
       "## Extended Exercise\n",
       "* Create data frame with [100+] claims, loss=lognormal(10,1), kind=randomly selected from A-E, open=random 0,1\n",
       "\n",
       "* 30% chance claim closed (`choice` or `np.random.binomial(1, 0.3, n)`)`\n",
       "\n",
       "* Name index claim_index\n",
       "\n",
       "* Create new column log_loss using np.log()\n",
       "\n",
       "* `df = pd.DataFrame({'loss': something, ... })`\n",
       "\n",
       "* Extra credit: make the mean vary by kind\n",
       "\n"
      ],
      "text/plain": [
       "<IPython.core.display.Markdown object>"
      ]
     },
     "metadata": {
      "tags": []
     },
     "output_type": "display_data"
    }
   ],
   "source": [
    "d()"
   ]
  },
  {
   "cell_type": "code",
   "execution_count": 158,
   "metadata": {
    "colab": {
     "base_uri": "https://localhost:8080/",
     "height": 308
    },
    "colab_type": "code",
    "executionInfo": {
     "elapsed": 862,
     "status": "ok",
     "timestamp": 1595474974190,
     "user": {
      "displayName": "Jozeff KAPLAN",
      "photoUrl": "",
      "userId": "04250959772459181544"
     },
     "user_tz": 300
    },
    "id": "QQsFBsg2t8lK",
    "outputId": "c33f3f80-592f-4ab3-8a4b-743b3cb86a0a"
   },
   "outputs": [
    {
     "data": {
      "text/markdown": [
       "###  CAS 2020 Python Workshop: Session II Pandas\n",
       "1.  **Session Descriptions**\n",
       "2.  **Session II Agenda: `pandas`**\n",
       "4.  **Recall from Session 1: lists and indexing**\n",
       "9.  **Handy Utility Functions**\n",
       "12.  **The Zen of Python**\n",
       "13.  **Module 1: Introduction**\n",
       "16.  **Module 2: Create a DataFrame and Access Elements**\n",
       "32.  **Module 3: Requests (interlude) and Graphics**\n",
       "47.  **Module 4: Grouping and More Charting**\n",
       "64.  **Module 5:  The CAS Loss Reserve Database**\n",
       "71.  **Module 6: Make A Triangle!**\n",
       "75.  **THE END**\n",
       "\n",
       "At position 45 of 74;   61% complete."
      ],
      "text/plain": [
       "<IPython.core.display.Markdown object>"
      ]
     },
     "metadata": {
      "tags": []
     },
     "output_type": "display_data"
    }
   ],
   "source": [
    "d.toc()"
   ]
  },
  {
   "cell_type": "code",
   "execution_count": 159,
   "metadata": {
    "colab": {
     "base_uri": "https://localhost:8080/",
     "height": 374
    },
    "colab_type": "code",
    "executionInfo": {
     "elapsed": 869,
     "status": "ok",
     "timestamp": 1595474991668,
     "user": {
      "displayName": "Jozeff KAPLAN",
      "photoUrl": "",
      "userId": "04250959772459181544"
     },
     "user_tz": 300
    },
    "id": "rN4R5zaBuBHF",
    "outputId": "5956a9fc-46ed-458b-9b56-dd0ecc7e0409"
   },
   "outputs": [
    {
     "data": {
      "text/markdown": [
       "## Solution to extended exercise\n",
       "\n",
       "* Create data frame with [100+] claims, loss=lognormal(10,1), kind=randomly selected from A-E, open=random 0,1\n",
       "\n",
       "* 30% chance claim closed (`choice` or `np.random.binomial(1, 0.3, n)`)`\n",
       "\n",
       "* Name index claim_index\n",
       "\n",
       "* Create new column log_loss using np.log()\n",
       "\n",
       "* `df = pd.DataFrame({'loss': something, ... })`\n",
       "\n",
       "* Extra credit: make the mean vary by kind\n",
       "\n",
       "\n",
       "```python\n",
       "n = 1000\n",
       "df = pd.DataFrame({'loss': np.random.lognormal(10,1,n),\n",
       "                   'kind': np.random.choice(list('ABCDE'), n),\n",
       "                   'open': np.random.binomial(1, 0.3, n)})\n",
       "df.loc[df.kind==\"A\", \"loss\"] *= 1.95\n",
       "df.loc[df.kind==\"B\", \"loss\"] *= 1.45\n",
       "df.loc[df.kind==\"D\", \"loss\"] *= 0.95\n",
       "df.loc[df.kind==\"E\", \"loss\"] *= 0.65\n",
       "df['log_loss'] = np.log(df.loss)\n",
       "df.head(10)\n",
       "```\n",
       "\n"
      ],
      "text/plain": [
       "<IPython.core.display.Markdown object>"
      ]
     },
     "metadata": {
      "tags": []
     },
     "output_type": "display_data"
    }
   ],
   "source": [
    "d()"
   ]
  },
  {
   "cell_type": "code",
   "execution_count": 164,
   "metadata": {
    "colab": {
     "base_uri": "https://localhost:8080/",
     "height": 359
    },
    "colab_type": "code",
    "executionInfo": {
     "elapsed": 718,
     "status": "ok",
     "timestamp": 1595476188923,
     "user": {
      "displayName": "Jozeff KAPLAN",
      "photoUrl": "",
      "userId": "04250959772459181544"
     },
     "user_tz": 300
    },
    "id": "97QxV6vXuFYM",
    "outputId": "4dd443ba-f07b-466a-8d00-5ecac5fddcb2"
   },
   "outputs": [
    {
     "data": {
      "text/html": [
       "<div>\n",
       "<style scoped>\n",
       "    .dataframe tbody tr th:only-of-type {\n",
       "        vertical-align: middle;\n",
       "    }\n",
       "\n",
       "    .dataframe tbody tr th {\n",
       "        vertical-align: top;\n",
       "    }\n",
       "\n",
       "    .dataframe thead th {\n",
       "        text-align: right;\n",
       "    }\n",
       "</style>\n",
       "<table border=\"1\" class=\"dataframe\">\n",
       "  <thead>\n",
       "    <tr style=\"text-align: right;\">\n",
       "      <th></th>\n",
       "      <th>loss</th>\n",
       "      <th>kind</th>\n",
       "      <th>open</th>\n",
       "      <th>log_loss</th>\n",
       "    </tr>\n",
       "  </thead>\n",
       "  <tbody>\n",
       "    <tr>\n",
       "      <th>0</th>\n",
       "      <td>68082.793461</td>\n",
       "      <td>pd</td>\n",
       "      <td>closed</td>\n",
       "      <td>11.128480</td>\n",
       "    </tr>\n",
       "    <tr>\n",
       "      <th>1</th>\n",
       "      <td>156500.421450</td>\n",
       "      <td>coll</td>\n",
       "      <td>closed</td>\n",
       "      <td>11.960814</td>\n",
       "    </tr>\n",
       "    <tr>\n",
       "      <th>2</th>\n",
       "      <td>19893.165329</td>\n",
       "      <td>coll</td>\n",
       "      <td>open</td>\n",
       "      <td>9.898132</td>\n",
       "    </tr>\n",
       "    <tr>\n",
       "      <th>3</th>\n",
       "      <td>104043.337131</td>\n",
       "      <td>pd</td>\n",
       "      <td>closed</td>\n",
       "      <td>11.552563</td>\n",
       "    </tr>\n",
       "    <tr>\n",
       "      <th>4</th>\n",
       "      <td>38655.600153</td>\n",
       "      <td>comp</td>\n",
       "      <td>open</td>\n",
       "      <td>10.562447</td>\n",
       "    </tr>\n",
       "    <tr>\n",
       "      <th>5</th>\n",
       "      <td>73203.432512</td>\n",
       "      <td>comp</td>\n",
       "      <td>closed</td>\n",
       "      <td>11.200998</td>\n",
       "    </tr>\n",
       "    <tr>\n",
       "      <th>6</th>\n",
       "      <td>190572.098708</td>\n",
       "      <td>pd</td>\n",
       "      <td>closed</td>\n",
       "      <td>12.157786</td>\n",
       "    </tr>\n",
       "    <tr>\n",
       "      <th>7</th>\n",
       "      <td>204899.476024</td>\n",
       "      <td>liab</td>\n",
       "      <td>closed</td>\n",
       "      <td>12.230275</td>\n",
       "    </tr>\n",
       "    <tr>\n",
       "      <th>8</th>\n",
       "      <td>25429.088284</td>\n",
       "      <td>comp</td>\n",
       "      <td>closed</td>\n",
       "      <td>10.143649</td>\n",
       "    </tr>\n",
       "    <tr>\n",
       "      <th>9</th>\n",
       "      <td>43672.880615</td>\n",
       "      <td>pd</td>\n",
       "      <td>closed</td>\n",
       "      <td>10.684483</td>\n",
       "    </tr>\n",
       "  </tbody>\n",
       "</table>\n",
       "</div>"
      ],
      "text/plain": [
       "            loss  kind    open   log_loss\n",
       "0   68082.793461    pd  closed  11.128480\n",
       "1  156500.421450  coll  closed  11.960814\n",
       "2   19893.165329  coll    open   9.898132\n",
       "3  104043.337131    pd  closed  11.552563\n",
       "4   38655.600153  comp    open  10.562447\n",
       "5   73203.432512  comp  closed  11.200998\n",
       "6  190572.098708    pd  closed  12.157786\n",
       "7  204899.476024  liab  closed  12.230275\n",
       "8   25429.088284  comp  closed  10.143649\n",
       "9   43672.880615    pd  closed  10.684483"
      ]
     },
     "execution_count": 164,
     "metadata": {
      "tags": []
     },
     "output_type": "execute_result"
    }
   ],
   "source": [
    "n_claims = 1000 #np.random.binomial(1, 0.3, n_claims)\n",
    "df = pd.DataFrame({'loss': np.random.lognormal(10,1,n_claims),\n",
    "                   'kind': np.random.choice(['liab','pd', 'comp', 'coll','oth'] , n_claims, p=[.1, .5, .175, .175, .05]),\n",
    "                   'open': np.random.choice(['open','closed'], n_claims, p=[.3, .7])})\n",
    "df.loc[df.kind==\"liab\", \"loss\"] *= 10.95 #multiplies each simulated loss by\n",
    "df.loc[df.kind==\"pd\", \"loss\"] *= 2.45\n",
    "df.loc[df.kind==\"comp\", \"loss\"] *= 0.95\n",
    "df.loc[df.kind==\"coll\", \"loss\"] *= 3.65\n",
    "df['log_loss'] = np.log(df.loss)\n",
    "df.head(10)"
   ]
  },
  {
   "cell_type": "code",
   "execution_count": 165,
   "metadata": {
    "colab": {
     "base_uri": "https://localhost:8080/",
     "height": 68
    },
    "colab_type": "code",
    "executionInfo": {
     "elapsed": 904,
     "status": "ok",
     "timestamp": 1595476308834,
     "user": {
      "displayName": "Jozeff KAPLAN",
      "photoUrl": "",
      "userId": "04250959772459181544"
     },
     "user_tz": 300
    },
    "id": "8CornH0_xCM8",
    "outputId": "d098950d-439d-4375-8e5f-cccaf65464a5"
   },
   "outputs": [
    {
     "data": {
      "text/plain": [
       "loss        105349.989149\n",
       "log_loss        10.907835\n",
       "dtype: float64"
      ]
     },
     "execution_count": 165,
     "metadata": {
      "tags": []
     },
     "output_type": "execute_result"
    }
   ],
   "source": [
    "df.mean()"
   ]
  },
  {
   "cell_type": "code",
   "execution_count": 176,
   "metadata": {
    "colab": {
     "base_uri": "https://localhost:8080/",
     "height": 235
    },
    "colab_type": "code",
    "executionInfo": {
     "elapsed": 839,
     "status": "ok",
     "timestamp": 1595477064048,
     "user": {
      "displayName": "Jozeff KAPLAN",
      "photoUrl": "",
      "userId": "04250959772459181544"
     },
     "user_tz": 300
    },
    "id": "ClKhVJZQzG2m",
    "outputId": "f0ab37d3-a4a7-423d-d5ef-217e4601ec6b"
   },
   "outputs": [
    {
     "data": {
      "text/html": [
       "<div>\n",
       "<style scoped>\n",
       "    .dataframe tbody tr th:only-of-type {\n",
       "        vertical-align: middle;\n",
       "    }\n",
       "\n",
       "    .dataframe tbody tr th {\n",
       "        vertical-align: top;\n",
       "    }\n",
       "\n",
       "    .dataframe thead th {\n",
       "        text-align: right;\n",
       "    }\n",
       "</style>\n",
       "<table border=\"1\" class=\"dataframe\">\n",
       "  <thead>\n",
       "    <tr style=\"text-align: right;\">\n",
       "      <th></th>\n",
       "      <th>loss</th>\n",
       "      <th>log_loss</th>\n",
       "    </tr>\n",
       "    <tr>\n",
       "      <th>kind</th>\n",
       "      <th></th>\n",
       "      <th></th>\n",
       "    </tr>\n",
       "  </thead>\n",
       "  <tbody>\n",
       "    <tr>\n",
       "      <th>coll</th>\n",
       "      <td>125303.65</td>\n",
       "      <td>11.24</td>\n",
       "    </tr>\n",
       "    <tr>\n",
       "      <th>comp</th>\n",
       "      <td>34801.37</td>\n",
       "      <td>10.04</td>\n",
       "    </tr>\n",
       "    <tr>\n",
       "      <th>liab</th>\n",
       "      <td>333637.65</td>\n",
       "      <td>12.32</td>\n",
       "    </tr>\n",
       "    <tr>\n",
       "      <th>oth</th>\n",
       "      <td>31185.89</td>\n",
       "      <td>9.94</td>\n",
       "    </tr>\n",
       "    <tr>\n",
       "      <th>pd</th>\n",
       "      <td>81290.75</td>\n",
       "      <td>10.87</td>\n",
       "    </tr>\n",
       "  </tbody>\n",
       "</table>\n",
       "</div>"
      ],
      "text/plain": [
       "           loss  log_loss\n",
       "kind                     \n",
       "coll  125303.65     11.24\n",
       "comp   34801.37     10.04\n",
       "liab  333637.65     12.32\n",
       "oth    31185.89      9.94\n",
       "pd     81290.75     10.87"
      ]
     },
     "execution_count": 176,
     "metadata": {
      "tags": []
     },
     "output_type": "execute_result"
    }
   ],
   "source": [
    "#pd.set_option('precision', 2)\n",
    "df.groupby('kind').mean()"
   ]
  },
  {
   "cell_type": "code",
   "execution_count": 179,
   "metadata": {
    "colab": {
     "base_uri": "https://localhost:8080/",
     "height": 390
    },
    "colab_type": "code",
    "executionInfo": {
     "elapsed": 825,
     "status": "ok",
     "timestamp": 1595477183793,
     "user": {
      "displayName": "Jozeff KAPLAN",
      "photoUrl": "",
      "userId": "04250959772459181544"
     },
     "user_tz": 300
    },
    "id": "0yD-FO35zW6q",
    "outputId": "51893fc8-1324-4bc2-b5fb-52d4763418b1"
   },
   "outputs": [
    {
     "data": {
      "text/html": [
       "<div>\n",
       "<style scoped>\n",
       "    .dataframe tbody tr th:only-of-type {\n",
       "        vertical-align: middle;\n",
       "    }\n",
       "\n",
       "    .dataframe tbody tr th {\n",
       "        vertical-align: top;\n",
       "    }\n",
       "\n",
       "    .dataframe thead th {\n",
       "        text-align: right;\n",
       "    }\n",
       "</style>\n",
       "<table border=\"1\" class=\"dataframe\">\n",
       "  <thead>\n",
       "    <tr style=\"text-align: right;\">\n",
       "      <th></th>\n",
       "      <th></th>\n",
       "      <th>loss</th>\n",
       "      <th>log_loss</th>\n",
       "    </tr>\n",
       "    <tr>\n",
       "      <th>kind</th>\n",
       "      <th>open</th>\n",
       "      <th></th>\n",
       "      <th></th>\n",
       "    </tr>\n",
       "  </thead>\n",
       "  <tbody>\n",
       "    <tr>\n",
       "      <th rowspan=\"2\" valign=\"top\">coll</th>\n",
       "      <th>closed</th>\n",
       "      <td>134143.08</td>\n",
       "      <td>11.26</td>\n",
       "    </tr>\n",
       "    <tr>\n",
       "      <th>open</th>\n",
       "      <td>108115.86</td>\n",
       "      <td>11.22</td>\n",
       "    </tr>\n",
       "    <tr>\n",
       "      <th rowspan=\"2\" valign=\"top\">comp</th>\n",
       "      <th>closed</th>\n",
       "      <td>34933.21</td>\n",
       "      <td>10.03</td>\n",
       "    </tr>\n",
       "    <tr>\n",
       "      <th>open</th>\n",
       "      <td>34402.57</td>\n",
       "      <td>10.08</td>\n",
       "    </tr>\n",
       "    <tr>\n",
       "      <th rowspan=\"2\" valign=\"top\">liab</th>\n",
       "      <th>closed</th>\n",
       "      <td>336991.80</td>\n",
       "      <td>12.33</td>\n",
       "    </tr>\n",
       "    <tr>\n",
       "      <th>open</th>\n",
       "      <td>326436.07</td>\n",
       "      <td>12.31</td>\n",
       "    </tr>\n",
       "    <tr>\n",
       "      <th rowspan=\"2\" valign=\"top\">oth</th>\n",
       "      <th>closed</th>\n",
       "      <td>35123.18</td>\n",
       "      <td>10.10</td>\n",
       "    </tr>\n",
       "    <tr>\n",
       "      <th>open</th>\n",
       "      <td>24405.01</td>\n",
       "      <td>9.67</td>\n",
       "    </tr>\n",
       "    <tr>\n",
       "      <th rowspan=\"2\" valign=\"top\">pd</th>\n",
       "      <th>closed</th>\n",
       "      <td>82707.50</td>\n",
       "      <td>10.86</td>\n",
       "    </tr>\n",
       "    <tr>\n",
       "      <th>open</th>\n",
       "      <td>78124.92</td>\n",
       "      <td>10.91</td>\n",
       "    </tr>\n",
       "  </tbody>\n",
       "</table>\n",
       "</div>"
      ],
      "text/plain": [
       "                  loss  log_loss\n",
       "kind open                       \n",
       "coll closed  134143.08     11.26\n",
       "     open    108115.86     11.22\n",
       "comp closed   34933.21     10.03\n",
       "     open     34402.57     10.08\n",
       "liab closed  336991.80     12.33\n",
       "     open    326436.07     12.31\n",
       "oth  closed   35123.18     10.10\n",
       "     open     24405.01      9.67\n",
       "pd   closed   82707.50     10.86\n",
       "     open     78124.92     10.91"
      ]
     },
     "execution_count": 179,
     "metadata": {
      "tags": []
     },
     "output_type": "execute_result"
    }
   ],
   "source": [
    "df.groupby(['kind','open']).mean()"
   ]
  },
  {
   "cell_type": "code",
   "execution_count": 183,
   "metadata": {
    "colab": {
     "base_uri": "https://localhost:8080/",
     "height": 266
    },
    "colab_type": "code",
    "executionInfo": {
     "elapsed": 959,
     "status": "ok",
     "timestamp": 1595477313592,
     "user": {
      "displayName": "Jozeff KAPLAN",
      "photoUrl": "",
      "userId": "04250959772459181544"
     },
     "user_tz": 300
    },
    "id": "6MVHMZzc1PaT",
    "outputId": "e0548702-9529-4fab-f33c-c14bae6f0f3b"
   },
   "outputs": [
    {
     "data": {
      "text/html": [
       "<div>\n",
       "<style scoped>\n",
       "    .dataframe tbody tr th:only-of-type {\n",
       "        vertical-align: middle;\n",
       "    }\n",
       "\n",
       "    .dataframe tbody tr th {\n",
       "        vertical-align: top;\n",
       "    }\n",
       "\n",
       "    .dataframe thead tr th {\n",
       "        text-align: left;\n",
       "    }\n",
       "\n",
       "    .dataframe thead tr:last-of-type th {\n",
       "        text-align: right;\n",
       "    }\n",
       "</style>\n",
       "<table border=\"1\" class=\"dataframe\">\n",
       "  <thead>\n",
       "    <tr>\n",
       "      <th></th>\n",
       "      <th colspan=\"2\" halign=\"left\">loss</th>\n",
       "      <th colspan=\"2\" halign=\"left\">log_loss</th>\n",
       "    </tr>\n",
       "    <tr>\n",
       "      <th>open</th>\n",
       "      <th>closed</th>\n",
       "      <th>open</th>\n",
       "      <th>closed</th>\n",
       "      <th>open</th>\n",
       "    </tr>\n",
       "    <tr>\n",
       "      <th>kind</th>\n",
       "      <th></th>\n",
       "      <th></th>\n",
       "      <th></th>\n",
       "      <th></th>\n",
       "    </tr>\n",
       "  </thead>\n",
       "  <tbody>\n",
       "    <tr>\n",
       "      <th>coll</th>\n",
       "      <td>134143.08</td>\n",
       "      <td>108115.86</td>\n",
       "      <td>11.26</td>\n",
       "      <td>11.22</td>\n",
       "    </tr>\n",
       "    <tr>\n",
       "      <th>comp</th>\n",
       "      <td>34933.21</td>\n",
       "      <td>34402.57</td>\n",
       "      <td>10.03</td>\n",
       "      <td>10.08</td>\n",
       "    </tr>\n",
       "    <tr>\n",
       "      <th>liab</th>\n",
       "      <td>336991.80</td>\n",
       "      <td>326436.07</td>\n",
       "      <td>12.33</td>\n",
       "      <td>12.31</td>\n",
       "    </tr>\n",
       "    <tr>\n",
       "      <th>oth</th>\n",
       "      <td>35123.18</td>\n",
       "      <td>24405.01</td>\n",
       "      <td>10.10</td>\n",
       "      <td>9.67</td>\n",
       "    </tr>\n",
       "    <tr>\n",
       "      <th>pd</th>\n",
       "      <td>82707.50</td>\n",
       "      <td>78124.92</td>\n",
       "      <td>10.86</td>\n",
       "      <td>10.91</td>\n",
       "    </tr>\n",
       "  </tbody>\n",
       "</table>\n",
       "</div>"
      ],
      "text/plain": [
       "           loss            log_loss       \n",
       "open     closed       open   closed   open\n",
       "kind                                      \n",
       "coll  134143.08  108115.86    11.26  11.22\n",
       "comp   34933.21   34402.57    10.03  10.08\n",
       "liab  336991.80  326436.07    12.33  12.31\n",
       "oth    35123.18   24405.01    10.10   9.67\n",
       "pd     82707.50   78124.92    10.86  10.91"
      ]
     },
     "execution_count": 183,
     "metadata": {
      "tags": []
     },
     "output_type": "execute_result"
    }
   ],
   "source": [
    "df.groupby(['kind','open']).mean().unstack(1)"
   ]
  },
  {
   "cell_type": "code",
   "execution_count": 187,
   "metadata": {
    "colab": {
     "base_uri": "https://localhost:8080/",
     "height": 266
    },
    "colab_type": "code",
    "executionInfo": {
     "elapsed": 804,
     "status": "ok",
     "timestamp": 1595477581049,
     "user": {
      "displayName": "Jozeff KAPLAN",
      "photoUrl": "",
      "userId": "04250959772459181544"
     },
     "user_tz": 300
    },
    "id": "9BIK8anq2h6V",
    "outputId": "05ac6e4c-51e4-4919-b0e2-5cb08505d83d"
   },
   "outputs": [
    {
     "data": {
      "text/html": [
       "<div>\n",
       "<style scoped>\n",
       "    .dataframe tbody tr th:only-of-type {\n",
       "        vertical-align: middle;\n",
       "    }\n",
       "\n",
       "    .dataframe tbody tr th {\n",
       "        vertical-align: top;\n",
       "    }\n",
       "\n",
       "    .dataframe thead tr th {\n",
       "        text-align: left;\n",
       "    }\n",
       "\n",
       "    .dataframe thead tr:last-of-type th {\n",
       "        text-align: right;\n",
       "    }\n",
       "</style>\n",
       "<table border=\"1\" class=\"dataframe\">\n",
       "  <thead>\n",
       "    <tr>\n",
       "      <th></th>\n",
       "      <th colspan=\"2\" halign=\"left\">loss</th>\n",
       "    </tr>\n",
       "    <tr>\n",
       "      <th>open</th>\n",
       "      <th>closed</th>\n",
       "      <th>open</th>\n",
       "    </tr>\n",
       "    <tr>\n",
       "      <th>kind</th>\n",
       "      <th></th>\n",
       "      <th></th>\n",
       "    </tr>\n",
       "  </thead>\n",
       "  <tbody>\n",
       "    <tr>\n",
       "      <th>coll</th>\n",
       "      <td>134143.08</td>\n",
       "      <td>108115.86</td>\n",
       "    </tr>\n",
       "    <tr>\n",
       "      <th>comp</th>\n",
       "      <td>34933.21</td>\n",
       "      <td>34402.57</td>\n",
       "    </tr>\n",
       "    <tr>\n",
       "      <th>liab</th>\n",
       "      <td>336991.80</td>\n",
       "      <td>326436.07</td>\n",
       "    </tr>\n",
       "    <tr>\n",
       "      <th>oth</th>\n",
       "      <td>35123.18</td>\n",
       "      <td>24405.01</td>\n",
       "    </tr>\n",
       "    <tr>\n",
       "      <th>pd</th>\n",
       "      <td>82707.50</td>\n",
       "      <td>78124.92</td>\n",
       "    </tr>\n",
       "  </tbody>\n",
       "</table>\n",
       "</div>"
      ],
      "text/plain": [
       "           loss           \n",
       "open     closed       open\n",
       "kind                      \n",
       "coll  134143.08  108115.86\n",
       "comp   34933.21   34402.57\n",
       "liab  336991.80  326436.07\n",
       "oth    35123.18   24405.01\n",
       "pd     82707.50   78124.92"
      ]
     },
     "execution_count": 187,
     "metadata": {
      "tags": []
     },
     "output_type": "execute_result"
    }
   ],
   "source": [
    "df.iloc[:,:-1].groupby(['kind','open']).mean().unstack(1)"
   ]
  },
  {
   "cell_type": "code",
   "execution_count": 189,
   "metadata": {
    "colab": {
     "base_uri": "https://localhost:8080/",
     "height": 423
    },
    "colab_type": "code",
    "executionInfo": {
     "elapsed": 860,
     "status": "ok",
     "timestamp": 1595477655363,
     "user": {
      "displayName": "Jozeff KAPLAN",
      "photoUrl": "",
      "userId": "04250959772459181544"
     },
     "user_tz": 300
    },
    "id": "tXlWi2t93S2d",
    "outputId": "9554f715-32ab-4db9-ba9f-772e0fe73dc9"
   },
   "outputs": [
    {
     "data": {
      "text/plain": [
       "array([[<matplotlib.axes._subplots.AxesSubplot object at 0x7f0f760d2f98>]],\n",
       "      dtype=object)"
      ]
     },
     "execution_count": 189,
     "metadata": {
      "tags": []
     },
     "output_type": "execute_result"
    },
    {
     "data": {
      "image/svg+xml": [
       "<?xml version=\"1.0\" encoding=\"utf-8\" standalone=\"no\"?>\n",
       "<!DOCTYPE svg PUBLIC \"-//W3C//DTD SVG 1.1//EN\"\n",
       "  \"http://www.w3.org/Graphics/SVG/1.1/DTD/svg11.dtd\">\n",
       "<!-- Created with matplotlib (https://matplotlib.org/) -->\n",
       "<svg height=\"276.314375pt\" version=\"1.1\" viewBox=\"0 0 375.2875 276.314375\" width=\"375.2875pt\" xmlns=\"http://www.w3.org/2000/svg\" xmlns:xlink=\"http://www.w3.org/1999/xlink\">\n",
       " <defs>\n",
       "  <style type=\"text/css\">\n",
       "*{stroke-linecap:butt;stroke-linejoin:round;}\n",
       "  </style>\n",
       " </defs>\n",
       " <g id=\"figure_1\">\n",
       "  <g id=\"patch_1\">\n",
       "   <path d=\"M 0 276.314375 \n",
       "L 375.2875 276.314375 \n",
       "L 375.2875 0 \n",
       "L 0 0 \n",
       "z\n",
       "\" style=\"fill:none;\"/>\n",
       "  </g>\n",
       "  <g id=\"axes_1\">\n",
       "   <g id=\"patch_2\">\n",
       "    <path d=\"M 33.2875 239.758125 \n",
       "L 368.0875 239.758125 \n",
       "L 368.0875 22.318125 \n",
       "L 33.2875 22.318125 \n",
       "z\n",
       "\" style=\"fill:#ffffff;\"/>\n",
       "   </g>\n",
       "   <g id=\"patch_3\">\n",
       "    <path clip-path=\"url(#p13269709db)\" d=\"M 48.505682 239.758125 \n",
       "L 78.942045 239.758125 \n",
       "L 78.942045 32.672411 \n",
       "L 48.505682 32.672411 \n",
       "z\n",
       "\" style=\"fill:#1f77b4;\"/>\n",
       "   </g>\n",
       "   <g id=\"patch_4\">\n",
       "    <path clip-path=\"url(#p13269709db)\" d=\"M 78.942045 239.758125 \n",
       "L 109.378409 239.758125 \n",
       "L 109.378409 213.437878 \n",
       "L 78.942045 213.437878 \n",
       "z\n",
       "\" style=\"fill:#1f77b4;\"/>\n",
       "   </g>\n",
       "   <g id=\"patch_5\">\n",
       "    <path clip-path=\"url(#p13269709db)\" d=\"M 109.378409 239.758125 \n",
       "L 139.814773 239.758125 \n",
       "L 139.814773 233.55052 \n",
       "L 109.378409 233.55052 \n",
       "z\n",
       "\" style=\"fill:#1f77b4;\"/>\n",
       "   </g>\n",
       "   <g id=\"patch_6\">\n",
       "    <path clip-path=\"url(#p13269709db)\" d=\"M 139.814773 239.758125 \n",
       "L 170.251136 239.758125 \n",
       "L 170.251136 236.281866 \n",
       "L 139.814773 236.281866 \n",
       "z\n",
       "\" style=\"fill:#1f77b4;\"/>\n",
       "   </g>\n",
       "   <g id=\"patch_7\">\n",
       "    <path clip-path=\"url(#p13269709db)\" d=\"M 170.251136 239.758125 \n",
       "L 200.6875 239.758125 \n",
       "L 200.6875 237.771691 \n",
       "L 170.251136 237.771691 \n",
       "z\n",
       "\" style=\"fill:#1f77b4;\"/>\n",
       "   </g>\n",
       "   <g id=\"patch_8\">\n",
       "    <path clip-path=\"url(#p13269709db)\" d=\"M 200.6875 239.758125 \n",
       "L 231.123864 239.758125 \n",
       "L 231.123864 238.764908 \n",
       "L 200.6875 238.764908 \n",
       "z\n",
       "\" style=\"fill:#1f77b4;\"/>\n",
       "   </g>\n",
       "   <g id=\"patch_9\">\n",
       "    <path clip-path=\"url(#p13269709db)\" d=\"M 231.123864 239.758125 \n",
       "L 261.560227 239.758125 \n",
       "L 261.560227 239.013212 \n",
       "L 231.123864 239.013212 \n",
       "z\n",
       "\" style=\"fill:#1f77b4;\"/>\n",
       "   </g>\n",
       "   <g id=\"patch_10\">\n",
       "    <path clip-path=\"url(#p13269709db)\" d=\"M 261.560227 239.758125 \n",
       "L 291.996591 239.758125 \n",
       "L 291.996591 239.013212 \n",
       "L 261.560227 239.013212 \n",
       "z\n",
       "\" style=\"fill:#1f77b4;\"/>\n",
       "   </g>\n",
       "   <g id=\"patch_11\">\n",
       "    <path clip-path=\"url(#p13269709db)\" d=\"M 291.996591 239.758125 \n",
       "L 322.432955 239.758125 \n",
       "L 322.432955 239.261517 \n",
       "L 291.996591 239.261517 \n",
       "z\n",
       "\" style=\"fill:#1f77b4;\"/>\n",
       "   </g>\n",
       "   <g id=\"patch_12\">\n",
       "    <path clip-path=\"url(#p13269709db)\" d=\"M 322.432955 239.758125 \n",
       "L 352.869318 239.758125 \n",
       "L 352.869318 239.509821 \n",
       "L 322.432955 239.509821 \n",
       "z\n",
       "\" style=\"fill:#1f77b4;\"/>\n",
       "   </g>\n",
       "   <g id=\"matplotlib.axis_1\">\n",
       "    <g id=\"xtick_1\">\n",
       "     <g id=\"line2d_1\">\n",
       "      <path clip-path=\"url(#p13269709db)\" d=\"M 48.250441 239.758125 \n",
       "L 48.250441 22.318125 \n",
       "\" style=\"fill:none;stroke:#b0b0b0;stroke-linecap:square;stroke-width:0.8;\"/>\n",
       "     </g>\n",
       "     <g id=\"line2d_2\">\n",
       "      <defs>\n",
       "       <path d=\"M 0 0 \n",
       "L 0 3.5 \n",
       "\" id=\"m96add71981\" style=\"stroke:#000000;stroke-width:0.8;\"/>\n",
       "      </defs>\n",
       "      <g>\n",
       "       <use style=\"stroke:#000000;stroke-width:0.8;\" x=\"48.250441\" xlink:href=\"#m96add71981\" y=\"239.758125\"/>\n",
       "      </g>\n",
       "     </g>\n",
       "     <g id=\"text_1\">\n",
       "      <!-- 0.0 -->\n",
       "      <defs>\n",
       "       <path d=\"M 31.78125 66.40625 \n",
       "Q 24.171875 66.40625 20.328125 58.90625 \n",
       "Q 16.5 51.421875 16.5 36.375 \n",
       "Q 16.5 21.390625 20.328125 13.890625 \n",
       "Q 24.171875 6.390625 31.78125 6.390625 \n",
       "Q 39.453125 6.390625 43.28125 13.890625 \n",
       "Q 47.125 21.390625 47.125 36.375 \n",
       "Q 47.125 51.421875 43.28125 58.90625 \n",
       "Q 39.453125 66.40625 31.78125 66.40625 \n",
       "z\n",
       "M 31.78125 74.21875 \n",
       "Q 44.046875 74.21875 50.515625 64.515625 \n",
       "Q 56.984375 54.828125 56.984375 36.375 \n",
       "Q 56.984375 17.96875 50.515625 8.265625 \n",
       "Q 44.046875 -1.421875 31.78125 -1.421875 \n",
       "Q 19.53125 -1.421875 13.0625 8.265625 \n",
       "Q 6.59375 17.96875 6.59375 36.375 \n",
       "Q 6.59375 54.828125 13.0625 64.515625 \n",
       "Q 19.53125 74.21875 31.78125 74.21875 \n",
       "z\n",
       "\" id=\"DejaVuSans-48\"/>\n",
       "       <path d=\"M 10.6875 12.40625 \n",
       "L 21 12.40625 \n",
       "L 21 0 \n",
       "L 10.6875 0 \n",
       "z\n",
       "\" id=\"DejaVuSans-46\"/>\n",
       "      </defs>\n",
       "      <g transform=\"translate(40.298879 254.356562)scale(0.1 -0.1)\">\n",
       "       <use xlink:href=\"#DejaVuSans-48\"/>\n",
       "       <use x=\"63.623047\" xlink:href=\"#DejaVuSans-46\"/>\n",
       "       <use x=\"95.410156\" xlink:href=\"#DejaVuSans-48\"/>\n",
       "      </g>\n",
       "     </g>\n",
       "    </g>\n",
       "    <g id=\"xtick_2\">\n",
       "     <g id=\"line2d_3\">\n",
       "      <path clip-path=\"url(#p13269709db)\" d=\"M 86.083584 239.758125 \n",
       "L 86.083584 22.318125 \n",
       "\" style=\"fill:none;stroke:#b0b0b0;stroke-linecap:square;stroke-width:0.8;\"/>\n",
       "     </g>\n",
       "     <g id=\"line2d_4\">\n",
       "      <g>\n",
       "       <use style=\"stroke:#000000;stroke-width:0.8;\" x=\"86.083584\" xlink:href=\"#m96add71981\" y=\"239.758125\"/>\n",
       "      </g>\n",
       "     </g>\n",
       "     <g id=\"text_2\">\n",
       "      <!-- 0.2 -->\n",
       "      <defs>\n",
       "       <path d=\"M 19.1875 8.296875 \n",
       "L 53.609375 8.296875 \n",
       "L 53.609375 0 \n",
       "L 7.328125 0 \n",
       "L 7.328125 8.296875 \n",
       "Q 12.9375 14.109375 22.625 23.890625 \n",
       "Q 32.328125 33.6875 34.8125 36.53125 \n",
       "Q 39.546875 41.84375 41.421875 45.53125 \n",
       "Q 43.3125 49.21875 43.3125 52.78125 \n",
       "Q 43.3125 58.59375 39.234375 62.25 \n",
       "Q 35.15625 65.921875 28.609375 65.921875 \n",
       "Q 23.96875 65.921875 18.8125 64.3125 \n",
       "Q 13.671875 62.703125 7.8125 59.421875 \n",
       "L 7.8125 69.390625 \n",
       "Q 13.765625 71.78125 18.9375 73 \n",
       "Q 24.125 74.21875 28.421875 74.21875 \n",
       "Q 39.75 74.21875 46.484375 68.546875 \n",
       "Q 53.21875 62.890625 53.21875 53.421875 \n",
       "Q 53.21875 48.921875 51.53125 44.890625 \n",
       "Q 49.859375 40.875 45.40625 35.40625 \n",
       "Q 44.1875 33.984375 37.640625 27.21875 \n",
       "Q 31.109375 20.453125 19.1875 8.296875 \n",
       "z\n",
       "\" id=\"DejaVuSans-50\"/>\n",
       "      </defs>\n",
       "      <g transform=\"translate(78.132021 254.356562)scale(0.1 -0.1)\">\n",
       "       <use xlink:href=\"#DejaVuSans-48\"/>\n",
       "       <use x=\"63.623047\" xlink:href=\"#DejaVuSans-46\"/>\n",
       "       <use x=\"95.410156\" xlink:href=\"#DejaVuSans-50\"/>\n",
       "      </g>\n",
       "     </g>\n",
       "    </g>\n",
       "    <g id=\"xtick_3\">\n",
       "     <g id=\"line2d_5\">\n",
       "      <path clip-path=\"url(#p13269709db)\" d=\"M 123.916726 239.758125 \n",
       "L 123.916726 22.318125 \n",
       "\" style=\"fill:none;stroke:#b0b0b0;stroke-linecap:square;stroke-width:0.8;\"/>\n",
       "     </g>\n",
       "     <g id=\"line2d_6\">\n",
       "      <g>\n",
       "       <use style=\"stroke:#000000;stroke-width:0.8;\" x=\"123.916726\" xlink:href=\"#m96add71981\" y=\"239.758125\"/>\n",
       "      </g>\n",
       "     </g>\n",
       "     <g id=\"text_3\">\n",
       "      <!-- 0.4 -->\n",
       "      <defs>\n",
       "       <path d=\"M 37.796875 64.3125 \n",
       "L 12.890625 25.390625 \n",
       "L 37.796875 25.390625 \n",
       "z\n",
       "M 35.203125 72.90625 \n",
       "L 47.609375 72.90625 \n",
       "L 47.609375 25.390625 \n",
       "L 58.015625 25.390625 \n",
       "L 58.015625 17.1875 \n",
       "L 47.609375 17.1875 \n",
       "L 47.609375 0 \n",
       "L 37.796875 0 \n",
       "L 37.796875 17.1875 \n",
       "L 4.890625 17.1875 \n",
       "L 4.890625 26.703125 \n",
       "z\n",
       "\" id=\"DejaVuSans-52\"/>\n",
       "      </defs>\n",
       "      <g transform=\"translate(115.965164 254.356562)scale(0.1 -0.1)\">\n",
       "       <use xlink:href=\"#DejaVuSans-48\"/>\n",
       "       <use x=\"63.623047\" xlink:href=\"#DejaVuSans-46\"/>\n",
       "       <use x=\"95.410156\" xlink:href=\"#DejaVuSans-52\"/>\n",
       "      </g>\n",
       "     </g>\n",
       "    </g>\n",
       "    <g id=\"xtick_4\">\n",
       "     <g id=\"line2d_7\">\n",
       "      <path clip-path=\"url(#p13269709db)\" d=\"M 161.749869 239.758125 \n",
       "L 161.749869 22.318125 \n",
       "\" style=\"fill:none;stroke:#b0b0b0;stroke-linecap:square;stroke-width:0.8;\"/>\n",
       "     </g>\n",
       "     <g id=\"line2d_8\">\n",
       "      <g>\n",
       "       <use style=\"stroke:#000000;stroke-width:0.8;\" x=\"161.749869\" xlink:href=\"#m96add71981\" y=\"239.758125\"/>\n",
       "      </g>\n",
       "     </g>\n",
       "     <g id=\"text_4\">\n",
       "      <!-- 0.6 -->\n",
       "      <defs>\n",
       "       <path d=\"M 33.015625 40.375 \n",
       "Q 26.375 40.375 22.484375 35.828125 \n",
       "Q 18.609375 31.296875 18.609375 23.390625 \n",
       "Q 18.609375 15.53125 22.484375 10.953125 \n",
       "Q 26.375 6.390625 33.015625 6.390625 \n",
       "Q 39.65625 6.390625 43.53125 10.953125 \n",
       "Q 47.40625 15.53125 47.40625 23.390625 \n",
       "Q 47.40625 31.296875 43.53125 35.828125 \n",
       "Q 39.65625 40.375 33.015625 40.375 \n",
       "z\n",
       "M 52.59375 71.296875 \n",
       "L 52.59375 62.3125 \n",
       "Q 48.875 64.0625 45.09375 64.984375 \n",
       "Q 41.3125 65.921875 37.59375 65.921875 \n",
       "Q 27.828125 65.921875 22.671875 59.328125 \n",
       "Q 17.53125 52.734375 16.796875 39.40625 \n",
       "Q 19.671875 43.65625 24.015625 45.921875 \n",
       "Q 28.375 48.1875 33.59375 48.1875 \n",
       "Q 44.578125 48.1875 50.953125 41.515625 \n",
       "Q 57.328125 34.859375 57.328125 23.390625 \n",
       "Q 57.328125 12.15625 50.6875 5.359375 \n",
       "Q 44.046875 -1.421875 33.015625 -1.421875 \n",
       "Q 20.359375 -1.421875 13.671875 8.265625 \n",
       "Q 6.984375 17.96875 6.984375 36.375 \n",
       "Q 6.984375 53.65625 15.1875 63.9375 \n",
       "Q 23.390625 74.21875 37.203125 74.21875 \n",
       "Q 40.921875 74.21875 44.703125 73.484375 \n",
       "Q 48.484375 72.75 52.59375 71.296875 \n",
       "z\n",
       "\" id=\"DejaVuSans-54\"/>\n",
       "      </defs>\n",
       "      <g transform=\"translate(153.798306 254.356562)scale(0.1 -0.1)\">\n",
       "       <use xlink:href=\"#DejaVuSans-48\"/>\n",
       "       <use x=\"63.623047\" xlink:href=\"#DejaVuSans-46\"/>\n",
       "       <use x=\"95.410156\" xlink:href=\"#DejaVuSans-54\"/>\n",
       "      </g>\n",
       "     </g>\n",
       "    </g>\n",
       "    <g id=\"xtick_5\">\n",
       "     <g id=\"line2d_9\">\n",
       "      <path clip-path=\"url(#p13269709db)\" d=\"M 199.583011 239.758125 \n",
       "L 199.583011 22.318125 \n",
       "\" style=\"fill:none;stroke:#b0b0b0;stroke-linecap:square;stroke-width:0.8;\"/>\n",
       "     </g>\n",
       "     <g id=\"line2d_10\">\n",
       "      <g>\n",
       "       <use style=\"stroke:#000000;stroke-width:0.8;\" x=\"199.583011\" xlink:href=\"#m96add71981\" y=\"239.758125\"/>\n",
       "      </g>\n",
       "     </g>\n",
       "     <g id=\"text_5\">\n",
       "      <!-- 0.8 -->\n",
       "      <defs>\n",
       "       <path d=\"M 31.78125 34.625 \n",
       "Q 24.75 34.625 20.71875 30.859375 \n",
       "Q 16.703125 27.09375 16.703125 20.515625 \n",
       "Q 16.703125 13.921875 20.71875 10.15625 \n",
       "Q 24.75 6.390625 31.78125 6.390625 \n",
       "Q 38.8125 6.390625 42.859375 10.171875 \n",
       "Q 46.921875 13.96875 46.921875 20.515625 \n",
       "Q 46.921875 27.09375 42.890625 30.859375 \n",
       "Q 38.875 34.625 31.78125 34.625 \n",
       "z\n",
       "M 21.921875 38.8125 \n",
       "Q 15.578125 40.375 12.03125 44.71875 \n",
       "Q 8.5 49.078125 8.5 55.328125 \n",
       "Q 8.5 64.0625 14.71875 69.140625 \n",
       "Q 20.953125 74.21875 31.78125 74.21875 \n",
       "Q 42.671875 74.21875 48.875 69.140625 \n",
       "Q 55.078125 64.0625 55.078125 55.328125 \n",
       "Q 55.078125 49.078125 51.53125 44.71875 \n",
       "Q 48 40.375 41.703125 38.8125 \n",
       "Q 48.828125 37.15625 52.796875 32.3125 \n",
       "Q 56.78125 27.484375 56.78125 20.515625 \n",
       "Q 56.78125 9.90625 50.3125 4.234375 \n",
       "Q 43.84375 -1.421875 31.78125 -1.421875 \n",
       "Q 19.734375 -1.421875 13.25 4.234375 \n",
       "Q 6.78125 9.90625 6.78125 20.515625 \n",
       "Q 6.78125 27.484375 10.78125 32.3125 \n",
       "Q 14.796875 37.15625 21.921875 38.8125 \n",
       "z\n",
       "M 18.3125 54.390625 \n",
       "Q 18.3125 48.734375 21.84375 45.5625 \n",
       "Q 25.390625 42.390625 31.78125 42.390625 \n",
       "Q 38.140625 42.390625 41.71875 45.5625 \n",
       "Q 45.3125 48.734375 45.3125 54.390625 \n",
       "Q 45.3125 60.0625 41.71875 63.234375 \n",
       "Q 38.140625 66.40625 31.78125 66.40625 \n",
       "Q 25.390625 66.40625 21.84375 63.234375 \n",
       "Q 18.3125 60.0625 18.3125 54.390625 \n",
       "z\n",
       "\" id=\"DejaVuSans-56\"/>\n",
       "      </defs>\n",
       "      <g transform=\"translate(191.631449 254.356562)scale(0.1 -0.1)\">\n",
       "       <use xlink:href=\"#DejaVuSans-48\"/>\n",
       "       <use x=\"63.623047\" xlink:href=\"#DejaVuSans-46\"/>\n",
       "       <use x=\"95.410156\" xlink:href=\"#DejaVuSans-56\"/>\n",
       "      </g>\n",
       "     </g>\n",
       "    </g>\n",
       "    <g id=\"xtick_6\">\n",
       "     <g id=\"line2d_11\">\n",
       "      <path clip-path=\"url(#p13269709db)\" d=\"M 237.416154 239.758125 \n",
       "L 237.416154 22.318125 \n",
       "\" style=\"fill:none;stroke:#b0b0b0;stroke-linecap:square;stroke-width:0.8;\"/>\n",
       "     </g>\n",
       "     <g id=\"line2d_12\">\n",
       "      <g>\n",
       "       <use style=\"stroke:#000000;stroke-width:0.8;\" x=\"237.416154\" xlink:href=\"#m96add71981\" y=\"239.758125\"/>\n",
       "      </g>\n",
       "     </g>\n",
       "     <g id=\"text_6\">\n",
       "      <!-- 1.0 -->\n",
       "      <defs>\n",
       "       <path d=\"M 12.40625 8.296875 \n",
       "L 28.515625 8.296875 \n",
       "L 28.515625 63.921875 \n",
       "L 10.984375 60.40625 \n",
       "L 10.984375 69.390625 \n",
       "L 28.421875 72.90625 \n",
       "L 38.28125 72.90625 \n",
       "L 38.28125 8.296875 \n",
       "L 54.390625 8.296875 \n",
       "L 54.390625 0 \n",
       "L 12.40625 0 \n",
       "z\n",
       "\" id=\"DejaVuSans-49\"/>\n",
       "      </defs>\n",
       "      <g transform=\"translate(229.464592 254.356562)scale(0.1 -0.1)\">\n",
       "       <use xlink:href=\"#DejaVuSans-49\"/>\n",
       "       <use x=\"63.623047\" xlink:href=\"#DejaVuSans-46\"/>\n",
       "       <use x=\"95.410156\" xlink:href=\"#DejaVuSans-48\"/>\n",
       "      </g>\n",
       "     </g>\n",
       "    </g>\n",
       "    <g id=\"xtick_7\">\n",
       "     <g id=\"line2d_13\">\n",
       "      <path clip-path=\"url(#p13269709db)\" d=\"M 275.249297 239.758125 \n",
       "L 275.249297 22.318125 \n",
       "\" style=\"fill:none;stroke:#b0b0b0;stroke-linecap:square;stroke-width:0.8;\"/>\n",
       "     </g>\n",
       "     <g id=\"line2d_14\">\n",
       "      <g>\n",
       "       <use style=\"stroke:#000000;stroke-width:0.8;\" x=\"275.249297\" xlink:href=\"#m96add71981\" y=\"239.758125\"/>\n",
       "      </g>\n",
       "     </g>\n",
       "     <g id=\"text_7\">\n",
       "      <!-- 1.2 -->\n",
       "      <g transform=\"translate(267.297734 254.356562)scale(0.1 -0.1)\">\n",
       "       <use xlink:href=\"#DejaVuSans-49\"/>\n",
       "       <use x=\"63.623047\" xlink:href=\"#DejaVuSans-46\"/>\n",
       "       <use x=\"95.410156\" xlink:href=\"#DejaVuSans-50\"/>\n",
       "      </g>\n",
       "     </g>\n",
       "    </g>\n",
       "    <g id=\"xtick_8\">\n",
       "     <g id=\"line2d_15\">\n",
       "      <path clip-path=\"url(#p13269709db)\" d=\"M 313.082439 239.758125 \n",
       "L 313.082439 22.318125 \n",
       "\" style=\"fill:none;stroke:#b0b0b0;stroke-linecap:square;stroke-width:0.8;\"/>\n",
       "     </g>\n",
       "     <g id=\"line2d_16\">\n",
       "      <g>\n",
       "       <use style=\"stroke:#000000;stroke-width:0.8;\" x=\"313.082439\" xlink:href=\"#m96add71981\" y=\"239.758125\"/>\n",
       "      </g>\n",
       "     </g>\n",
       "     <g id=\"text_8\">\n",
       "      <!-- 1.4 -->\n",
       "      <g transform=\"translate(305.130877 254.356562)scale(0.1 -0.1)\">\n",
       "       <use xlink:href=\"#DejaVuSans-49\"/>\n",
       "       <use x=\"63.623047\" xlink:href=\"#DejaVuSans-46\"/>\n",
       "       <use x=\"95.410156\" xlink:href=\"#DejaVuSans-52\"/>\n",
       "      </g>\n",
       "     </g>\n",
       "    </g>\n",
       "    <g id=\"xtick_9\">\n",
       "     <g id=\"line2d_17\">\n",
       "      <path clip-path=\"url(#p13269709db)\" d=\"M 350.915582 239.758125 \n",
       "L 350.915582 22.318125 \n",
       "\" style=\"fill:none;stroke:#b0b0b0;stroke-linecap:square;stroke-width:0.8;\"/>\n",
       "     </g>\n",
       "     <g id=\"line2d_18\">\n",
       "      <g>\n",
       "       <use style=\"stroke:#000000;stroke-width:0.8;\" x=\"350.915582\" xlink:href=\"#m96add71981\" y=\"239.758125\"/>\n",
       "      </g>\n",
       "     </g>\n",
       "     <g id=\"text_9\">\n",
       "      <!-- 1.6 -->\n",
       "      <g transform=\"translate(342.964019 254.356562)scale(0.1 -0.1)\">\n",
       "       <use xlink:href=\"#DejaVuSans-49\"/>\n",
       "       <use x=\"63.623047\" xlink:href=\"#DejaVuSans-46\"/>\n",
       "       <use x=\"95.410156\" xlink:href=\"#DejaVuSans-54\"/>\n",
       "      </g>\n",
       "     </g>\n",
       "    </g>\n",
       "    <g id=\"text_10\">\n",
       "     <!-- 1e6 -->\n",
       "     <defs>\n",
       "      <path d=\"M 56.203125 29.59375 \n",
       "L 56.203125 25.203125 \n",
       "L 14.890625 25.203125 \n",
       "Q 15.484375 15.921875 20.484375 11.0625 \n",
       "Q 25.484375 6.203125 34.421875 6.203125 \n",
       "Q 39.59375 6.203125 44.453125 7.46875 \n",
       "Q 49.3125 8.734375 54.109375 11.28125 \n",
       "L 54.109375 2.78125 \n",
       "Q 49.265625 0.734375 44.1875 -0.34375 \n",
       "Q 39.109375 -1.421875 33.890625 -1.421875 \n",
       "Q 20.796875 -1.421875 13.15625 6.1875 \n",
       "Q 5.515625 13.8125 5.515625 26.8125 \n",
       "Q 5.515625 40.234375 12.765625 48.109375 \n",
       "Q 20.015625 56 32.328125 56 \n",
       "Q 43.359375 56 49.78125 48.890625 \n",
       "Q 56.203125 41.796875 56.203125 29.59375 \n",
       "z\n",
       "M 47.21875 32.234375 \n",
       "Q 47.125 39.59375 43.09375 43.984375 \n",
       "Q 39.0625 48.390625 32.421875 48.390625 \n",
       "Q 24.90625 48.390625 20.390625 44.140625 \n",
       "Q 15.875 39.890625 15.1875 32.171875 \n",
       "z\n",
       "\" id=\"DejaVuSans-101\"/>\n",
       "     </defs>\n",
       "     <g transform=\"translate(349.209375 267.034687)scale(0.1 -0.1)\">\n",
       "      <use xlink:href=\"#DejaVuSans-49\"/>\n",
       "      <use x=\"63.623047\" xlink:href=\"#DejaVuSans-101\"/>\n",
       "      <use x=\"125.146484\" xlink:href=\"#DejaVuSans-54\"/>\n",
       "     </g>\n",
       "    </g>\n",
       "   </g>\n",
       "   <g id=\"matplotlib.axis_2\">\n",
       "    <g id=\"ytick_1\">\n",
       "     <g id=\"line2d_19\">\n",
       "      <path clip-path=\"url(#p13269709db)\" d=\"M 33.2875 239.758125 \n",
       "L 368.0875 239.758125 \n",
       "\" style=\"fill:none;stroke:#b0b0b0;stroke-linecap:square;stroke-width:0.8;\"/>\n",
       "     </g>\n",
       "     <g id=\"line2d_20\">\n",
       "      <defs>\n",
       "       <path d=\"M 0 0 \n",
       "L -3.5 0 \n",
       "\" id=\"m36bc484e5a\" style=\"stroke:#000000;stroke-width:0.8;\"/>\n",
       "      </defs>\n",
       "      <g>\n",
       "       <use style=\"stroke:#000000;stroke-width:0.8;\" x=\"33.2875\" xlink:href=\"#m36bc484e5a\" y=\"239.758125\"/>\n",
       "      </g>\n",
       "     </g>\n",
       "     <g id=\"text_11\">\n",
       "      <!-- 0 -->\n",
       "      <g transform=\"translate(19.925 243.557344)scale(0.1 -0.1)\">\n",
       "       <use xlink:href=\"#DejaVuSans-48\"/>\n",
       "      </g>\n",
       "     </g>\n",
       "    </g>\n",
       "    <g id=\"ytick_2\">\n",
       "     <g id=\"line2d_21\">\n",
       "      <path clip-path=\"url(#p13269709db)\" d=\"M 33.2875 214.927704 \n",
       "L 368.0875 214.927704 \n",
       "\" style=\"fill:none;stroke:#b0b0b0;stroke-linecap:square;stroke-width:0.8;\"/>\n",
       "     </g>\n",
       "     <g id=\"line2d_22\">\n",
       "      <g>\n",
       "       <use style=\"stroke:#000000;stroke-width:0.8;\" x=\"33.2875\" xlink:href=\"#m36bc484e5a\" y=\"214.927704\"/>\n",
       "      </g>\n",
       "     </g>\n",
       "     <g id=\"text_12\">\n",
       "      <!-- 100 -->\n",
       "      <g transform=\"translate(7.2 218.726922)scale(0.1 -0.1)\">\n",
       "       <use xlink:href=\"#DejaVuSans-49\"/>\n",
       "       <use x=\"63.623047\" xlink:href=\"#DejaVuSans-48\"/>\n",
       "       <use x=\"127.246094\" xlink:href=\"#DejaVuSans-48\"/>\n",
       "      </g>\n",
       "     </g>\n",
       "    </g>\n",
       "    <g id=\"ytick_3\">\n",
       "     <g id=\"line2d_23\">\n",
       "      <path clip-path=\"url(#p13269709db)\" d=\"M 33.2875 190.097282 \n",
       "L 368.0875 190.097282 \n",
       "\" style=\"fill:none;stroke:#b0b0b0;stroke-linecap:square;stroke-width:0.8;\"/>\n",
       "     </g>\n",
       "     <g id=\"line2d_24\">\n",
       "      <g>\n",
       "       <use style=\"stroke:#000000;stroke-width:0.8;\" x=\"33.2875\" xlink:href=\"#m36bc484e5a\" y=\"190.097282\"/>\n",
       "      </g>\n",
       "     </g>\n",
       "     <g id=\"text_13\">\n",
       "      <!-- 200 -->\n",
       "      <g transform=\"translate(7.2 193.896501)scale(0.1 -0.1)\">\n",
       "       <use xlink:href=\"#DejaVuSans-50\"/>\n",
       "       <use x=\"63.623047\" xlink:href=\"#DejaVuSans-48\"/>\n",
       "       <use x=\"127.246094\" xlink:href=\"#DejaVuSans-48\"/>\n",
       "      </g>\n",
       "     </g>\n",
       "    </g>\n",
       "    <g id=\"ytick_4\">\n",
       "     <g id=\"line2d_25\">\n",
       "      <path clip-path=\"url(#p13269709db)\" d=\"M 33.2875 165.266861 \n",
       "L 368.0875 165.266861 \n",
       "\" style=\"fill:none;stroke:#b0b0b0;stroke-linecap:square;stroke-width:0.8;\"/>\n",
       "     </g>\n",
       "     <g id=\"line2d_26\">\n",
       "      <g>\n",
       "       <use style=\"stroke:#000000;stroke-width:0.8;\" x=\"33.2875\" xlink:href=\"#m36bc484e5a\" y=\"165.266861\"/>\n",
       "      </g>\n",
       "     </g>\n",
       "     <g id=\"text_14\">\n",
       "      <!-- 300 -->\n",
       "      <defs>\n",
       "       <path d=\"M 40.578125 39.3125 \n",
       "Q 47.65625 37.796875 51.625 33 \n",
       "Q 55.609375 28.21875 55.609375 21.1875 \n",
       "Q 55.609375 10.40625 48.1875 4.484375 \n",
       "Q 40.765625 -1.421875 27.09375 -1.421875 \n",
       "Q 22.515625 -1.421875 17.65625 -0.515625 \n",
       "Q 12.796875 0.390625 7.625 2.203125 \n",
       "L 7.625 11.71875 \n",
       "Q 11.71875 9.328125 16.59375 8.109375 \n",
       "Q 21.484375 6.890625 26.8125 6.890625 \n",
       "Q 36.078125 6.890625 40.9375 10.546875 \n",
       "Q 45.796875 14.203125 45.796875 21.1875 \n",
       "Q 45.796875 27.640625 41.28125 31.265625 \n",
       "Q 36.765625 34.90625 28.71875 34.90625 \n",
       "L 20.21875 34.90625 \n",
       "L 20.21875 43.015625 \n",
       "L 29.109375 43.015625 \n",
       "Q 36.375 43.015625 40.234375 45.921875 \n",
       "Q 44.09375 48.828125 44.09375 54.296875 \n",
       "Q 44.09375 59.90625 40.109375 62.90625 \n",
       "Q 36.140625 65.921875 28.71875 65.921875 \n",
       "Q 24.65625 65.921875 20.015625 65.03125 \n",
       "Q 15.375 64.15625 9.8125 62.3125 \n",
       "L 9.8125 71.09375 \n",
       "Q 15.4375 72.65625 20.34375 73.4375 \n",
       "Q 25.25 74.21875 29.59375 74.21875 \n",
       "Q 40.828125 74.21875 47.359375 69.109375 \n",
       "Q 53.90625 64.015625 53.90625 55.328125 \n",
       "Q 53.90625 49.265625 50.4375 45.09375 \n",
       "Q 46.96875 40.921875 40.578125 39.3125 \n",
       "z\n",
       "\" id=\"DejaVuSans-51\"/>\n",
       "      </defs>\n",
       "      <g transform=\"translate(7.2 169.06608)scale(0.1 -0.1)\">\n",
       "       <use xlink:href=\"#DejaVuSans-51\"/>\n",
       "       <use x=\"63.623047\" xlink:href=\"#DejaVuSans-48\"/>\n",
       "       <use x=\"127.246094\" xlink:href=\"#DejaVuSans-48\"/>\n",
       "      </g>\n",
       "     </g>\n",
       "    </g>\n",
       "    <g id=\"ytick_5\">\n",
       "     <g id=\"line2d_27\">\n",
       "      <path clip-path=\"url(#p13269709db)\" d=\"M 33.2875 140.436439 \n",
       "L 368.0875 140.436439 \n",
       "\" style=\"fill:none;stroke:#b0b0b0;stroke-linecap:square;stroke-width:0.8;\"/>\n",
       "     </g>\n",
       "     <g id=\"line2d_28\">\n",
       "      <g>\n",
       "       <use style=\"stroke:#000000;stroke-width:0.8;\" x=\"33.2875\" xlink:href=\"#m36bc484e5a\" y=\"140.436439\"/>\n",
       "      </g>\n",
       "     </g>\n",
       "     <g id=\"text_15\">\n",
       "      <!-- 400 -->\n",
       "      <g transform=\"translate(7.2 144.235658)scale(0.1 -0.1)\">\n",
       "       <use xlink:href=\"#DejaVuSans-52\"/>\n",
       "       <use x=\"63.623047\" xlink:href=\"#DejaVuSans-48\"/>\n",
       "       <use x=\"127.246094\" xlink:href=\"#DejaVuSans-48\"/>\n",
       "      </g>\n",
       "     </g>\n",
       "    </g>\n",
       "    <g id=\"ytick_6\">\n",
       "     <g id=\"line2d_29\">\n",
       "      <path clip-path=\"url(#p13269709db)\" d=\"M 33.2875 115.606018 \n",
       "L 368.0875 115.606018 \n",
       "\" style=\"fill:none;stroke:#b0b0b0;stroke-linecap:square;stroke-width:0.8;\"/>\n",
       "     </g>\n",
       "     <g id=\"line2d_30\">\n",
       "      <g>\n",
       "       <use style=\"stroke:#000000;stroke-width:0.8;\" x=\"33.2875\" xlink:href=\"#m36bc484e5a\" y=\"115.606018\"/>\n",
       "      </g>\n",
       "     </g>\n",
       "     <g id=\"text_16\">\n",
       "      <!-- 500 -->\n",
       "      <defs>\n",
       "       <path d=\"M 10.796875 72.90625 \n",
       "L 49.515625 72.90625 \n",
       "L 49.515625 64.59375 \n",
       "L 19.828125 64.59375 \n",
       "L 19.828125 46.734375 \n",
       "Q 21.96875 47.46875 24.109375 47.828125 \n",
       "Q 26.265625 48.1875 28.421875 48.1875 \n",
       "Q 40.625 48.1875 47.75 41.5 \n",
       "Q 54.890625 34.8125 54.890625 23.390625 \n",
       "Q 54.890625 11.625 47.5625 5.09375 \n",
       "Q 40.234375 -1.421875 26.90625 -1.421875 \n",
       "Q 22.3125 -1.421875 17.546875 -0.640625 \n",
       "Q 12.796875 0.140625 7.71875 1.703125 \n",
       "L 7.71875 11.625 \n",
       "Q 12.109375 9.234375 16.796875 8.0625 \n",
       "Q 21.484375 6.890625 26.703125 6.890625 \n",
       "Q 35.15625 6.890625 40.078125 11.328125 \n",
       "Q 45.015625 15.765625 45.015625 23.390625 \n",
       "Q 45.015625 31 40.078125 35.4375 \n",
       "Q 35.15625 39.890625 26.703125 39.890625 \n",
       "Q 22.75 39.890625 18.8125 39.015625 \n",
       "Q 14.890625 38.140625 10.796875 36.28125 \n",
       "z\n",
       "\" id=\"DejaVuSans-53\"/>\n",
       "      </defs>\n",
       "      <g transform=\"translate(7.2 119.405237)scale(0.1 -0.1)\">\n",
       "       <use xlink:href=\"#DejaVuSans-53\"/>\n",
       "       <use x=\"63.623047\" xlink:href=\"#DejaVuSans-48\"/>\n",
       "       <use x=\"127.246094\" xlink:href=\"#DejaVuSans-48\"/>\n",
       "      </g>\n",
       "     </g>\n",
       "    </g>\n",
       "    <g id=\"ytick_7\">\n",
       "     <g id=\"line2d_31\">\n",
       "      <path clip-path=\"url(#p13269709db)\" d=\"M 33.2875 90.775597 \n",
       "L 368.0875 90.775597 \n",
       "\" style=\"fill:none;stroke:#b0b0b0;stroke-linecap:square;stroke-width:0.8;\"/>\n",
       "     </g>\n",
       "     <g id=\"line2d_32\">\n",
       "      <g>\n",
       "       <use style=\"stroke:#000000;stroke-width:0.8;\" x=\"33.2875\" xlink:href=\"#m36bc484e5a\" y=\"90.775597\"/>\n",
       "      </g>\n",
       "     </g>\n",
       "     <g id=\"text_17\">\n",
       "      <!-- 600 -->\n",
       "      <g transform=\"translate(7.2 94.574815)scale(0.1 -0.1)\">\n",
       "       <use xlink:href=\"#DejaVuSans-54\"/>\n",
       "       <use x=\"63.623047\" xlink:href=\"#DejaVuSans-48\"/>\n",
       "       <use x=\"127.246094\" xlink:href=\"#DejaVuSans-48\"/>\n",
       "      </g>\n",
       "     </g>\n",
       "    </g>\n",
       "    <g id=\"ytick_8\">\n",
       "     <g id=\"line2d_33\">\n",
       "      <path clip-path=\"url(#p13269709db)\" d=\"M 33.2875 65.945175 \n",
       "L 368.0875 65.945175 \n",
       "\" style=\"fill:none;stroke:#b0b0b0;stroke-linecap:square;stroke-width:0.8;\"/>\n",
       "     </g>\n",
       "     <g id=\"line2d_34\">\n",
       "      <g>\n",
       "       <use style=\"stroke:#000000;stroke-width:0.8;\" x=\"33.2875\" xlink:href=\"#m36bc484e5a\" y=\"65.945175\"/>\n",
       "      </g>\n",
       "     </g>\n",
       "     <g id=\"text_18\">\n",
       "      <!-- 700 -->\n",
       "      <defs>\n",
       "       <path d=\"M 8.203125 72.90625 \n",
       "L 55.078125 72.90625 \n",
       "L 55.078125 68.703125 \n",
       "L 28.609375 0 \n",
       "L 18.3125 0 \n",
       "L 43.21875 64.59375 \n",
       "L 8.203125 64.59375 \n",
       "z\n",
       "\" id=\"DejaVuSans-55\"/>\n",
       "      </defs>\n",
       "      <g transform=\"translate(7.2 69.744394)scale(0.1 -0.1)\">\n",
       "       <use xlink:href=\"#DejaVuSans-55\"/>\n",
       "       <use x=\"63.623047\" xlink:href=\"#DejaVuSans-48\"/>\n",
       "       <use x=\"127.246094\" xlink:href=\"#DejaVuSans-48\"/>\n",
       "      </g>\n",
       "     </g>\n",
       "    </g>\n",
       "    <g id=\"ytick_9\">\n",
       "     <g id=\"line2d_35\">\n",
       "      <path clip-path=\"url(#p13269709db)\" d=\"M 33.2875 41.114754 \n",
       "L 368.0875 41.114754 \n",
       "\" style=\"fill:none;stroke:#b0b0b0;stroke-linecap:square;stroke-width:0.8;\"/>\n",
       "     </g>\n",
       "     <g id=\"line2d_36\">\n",
       "      <g>\n",
       "       <use style=\"stroke:#000000;stroke-width:0.8;\" x=\"33.2875\" xlink:href=\"#m36bc484e5a\" y=\"41.114754\"/>\n",
       "      </g>\n",
       "     </g>\n",
       "     <g id=\"text_19\">\n",
       "      <!-- 800 -->\n",
       "      <g transform=\"translate(7.2 44.913973)scale(0.1 -0.1)\">\n",
       "       <use xlink:href=\"#DejaVuSans-56\"/>\n",
       "       <use x=\"63.623047\" xlink:href=\"#DejaVuSans-48\"/>\n",
       "       <use x=\"127.246094\" xlink:href=\"#DejaVuSans-48\"/>\n",
       "      </g>\n",
       "     </g>\n",
       "    </g>\n",
       "   </g>\n",
       "   <g id=\"patch_13\">\n",
       "    <path d=\"M 33.2875 239.758125 \n",
       "L 33.2875 22.318125 \n",
       "\" style=\"fill:none;stroke:#000000;stroke-linecap:square;stroke-linejoin:miter;stroke-width:0.8;\"/>\n",
       "   </g>\n",
       "   <g id=\"patch_14\">\n",
       "    <path d=\"M 368.0875 239.758125 \n",
       "L 368.0875 22.318125 \n",
       "\" style=\"fill:none;stroke:#000000;stroke-linecap:square;stroke-linejoin:miter;stroke-width:0.8;\"/>\n",
       "   </g>\n",
       "   <g id=\"patch_15\">\n",
       "    <path d=\"M 33.2875 239.758125 \n",
       "L 368.0875 239.758125 \n",
       "\" style=\"fill:none;stroke:#000000;stroke-linecap:square;stroke-linejoin:miter;stroke-width:0.8;\"/>\n",
       "   </g>\n",
       "   <g id=\"patch_16\">\n",
       "    <path d=\"M 33.2875 22.318125 \n",
       "L 368.0875 22.318125 \n",
       "\" style=\"fill:none;stroke:#000000;stroke-linecap:square;stroke-linejoin:miter;stroke-width:0.8;\"/>\n",
       "   </g>\n",
       "   <g id=\"text_20\">\n",
       "    <!-- loss -->\n",
       "    <defs>\n",
       "     <path d=\"M 9.421875 75.984375 \n",
       "L 18.40625 75.984375 \n",
       "L 18.40625 0 \n",
       "L 9.421875 0 \n",
       "z\n",
       "\" id=\"DejaVuSans-108\"/>\n",
       "     <path d=\"M 30.609375 48.390625 \n",
       "Q 23.390625 48.390625 19.1875 42.75 \n",
       "Q 14.984375 37.109375 14.984375 27.296875 \n",
       "Q 14.984375 17.484375 19.15625 11.84375 \n",
       "Q 23.34375 6.203125 30.609375 6.203125 \n",
       "Q 37.796875 6.203125 41.984375 11.859375 \n",
       "Q 46.1875 17.53125 46.1875 27.296875 \n",
       "Q 46.1875 37.015625 41.984375 42.703125 \n",
       "Q 37.796875 48.390625 30.609375 48.390625 \n",
       "z\n",
       "M 30.609375 56 \n",
       "Q 42.328125 56 49.015625 48.375 \n",
       "Q 55.71875 40.765625 55.71875 27.296875 \n",
       "Q 55.71875 13.875 49.015625 6.21875 \n",
       "Q 42.328125 -1.421875 30.609375 -1.421875 \n",
       "Q 18.84375 -1.421875 12.171875 6.21875 \n",
       "Q 5.515625 13.875 5.515625 27.296875 \n",
       "Q 5.515625 40.765625 12.171875 48.375 \n",
       "Q 18.84375 56 30.609375 56 \n",
       "z\n",
       "\" id=\"DejaVuSans-111\"/>\n",
       "     <path d=\"M 44.28125 53.078125 \n",
       "L 44.28125 44.578125 \n",
       "Q 40.484375 46.53125 36.375 47.5 \n",
       "Q 32.28125 48.484375 27.875 48.484375 \n",
       "Q 21.1875 48.484375 17.84375 46.4375 \n",
       "Q 14.5 44.390625 14.5 40.28125 \n",
       "Q 14.5 37.15625 16.890625 35.375 \n",
       "Q 19.28125 33.59375 26.515625 31.984375 \n",
       "L 29.59375 31.296875 \n",
       "Q 39.15625 29.25 43.1875 25.515625 \n",
       "Q 47.21875 21.78125 47.21875 15.09375 \n",
       "Q 47.21875 7.46875 41.1875 3.015625 \n",
       "Q 35.15625 -1.421875 24.609375 -1.421875 \n",
       "Q 20.21875 -1.421875 15.453125 -0.5625 \n",
       "Q 10.6875 0.296875 5.421875 2 \n",
       "L 5.421875 11.28125 \n",
       "Q 10.40625 8.6875 15.234375 7.390625 \n",
       "Q 20.0625 6.109375 24.8125 6.109375 \n",
       "Q 31.15625 6.109375 34.5625 8.28125 \n",
       "Q 37.984375 10.453125 37.984375 14.40625 \n",
       "Q 37.984375 18.0625 35.515625 20.015625 \n",
       "Q 33.0625 21.96875 24.703125 23.78125 \n",
       "L 21.578125 24.515625 \n",
       "Q 13.234375 26.265625 9.515625 29.90625 \n",
       "Q 5.8125 33.546875 5.8125 39.890625 \n",
       "Q 5.8125 47.609375 11.28125 51.796875 \n",
       "Q 16.75 56 26.8125 56 \n",
       "Q 31.78125 56 36.171875 55.265625 \n",
       "Q 40.578125 54.546875 44.28125 53.078125 \n",
       "z\n",
       "\" id=\"DejaVuSans-115\"/>\n",
       "    </defs>\n",
       "    <g transform=\"translate(189.098125 16.318125)scale(0.12 -0.12)\">\n",
       "     <use xlink:href=\"#DejaVuSans-108\"/>\n",
       "     <use x=\"27.783203\" xlink:href=\"#DejaVuSans-111\"/>\n",
       "     <use x=\"88.964844\" xlink:href=\"#DejaVuSans-115\"/>\n",
       "     <use x=\"141.064453\" xlink:href=\"#DejaVuSans-115\"/>\n",
       "    </g>\n",
       "   </g>\n",
       "  </g>\n",
       " </g>\n",
       " <defs>\n",
       "  <clipPath id=\"p13269709db\">\n",
       "   <rect height=\"217.44\" width=\"334.8\" x=\"33.2875\" y=\"22.318125\"/>\n",
       "  </clipPath>\n",
       " </defs>\n",
       "</svg>\n"
      ],
      "text/plain": [
       "<Figure size 432x288 with 1 Axes>"
      ]
     },
     "metadata": {
      "needs_background": "light",
      "tags": []
     },
     "output_type": "display_data"
    }
   ],
   "source": [
    "df.iloc[:,:-1].hist()\n"
   ]
  },
  {
   "cell_type": "code",
   "execution_count": 191,
   "metadata": {
    "colab": {
     "base_uri": "https://localhost:8080/",
     "height": 423
    },
    "colab_type": "code",
    "executionInfo": {
     "elapsed": 1017,
     "status": "ok",
     "timestamp": 1595477716396,
     "user": {
      "displayName": "Jozeff KAPLAN",
      "photoUrl": "",
      "userId": "04250959772459181544"
     },
     "user_tz": 300
    },
    "id": "xVP4n_934NZB",
    "outputId": "ae233c0d-64a7-45b5-9c7d-f809c5ed005e"
   },
   "outputs": [
    {
     "data": {
      "text/plain": [
       "array([[<matplotlib.axes._subplots.AxesSubplot object at 0x7f0f755cebe0>]],\n",
       "      dtype=object)"
      ]
     },
     "execution_count": 191,
     "metadata": {
      "tags": []
     },
     "output_type": "execute_result"
    },
    {
     "data": {
      "image/svg+xml": [
       "<?xml version=\"1.0\" encoding=\"utf-8\" standalone=\"no\"?>\n",
       "<!DOCTYPE svg PUBLIC \"-//W3C//DTD SVG 1.1//EN\"\n",
       "  \"http://www.w3.org/Graphics/SVG/1.1/DTD/svg11.dtd\">\n",
       "<!-- Created with matplotlib (https://matplotlib.org/) -->\n",
       "<svg height=\"276.314375pt\" version=\"1.1\" viewBox=\"0 0 375.2875 276.314375\" width=\"375.2875pt\" xmlns=\"http://www.w3.org/2000/svg\" xmlns:xlink=\"http://www.w3.org/1999/xlink\">\n",
       " <defs>\n",
       "  <style type=\"text/css\">\n",
       "*{stroke-linecap:butt;stroke-linejoin:round;}\n",
       "  </style>\n",
       " </defs>\n",
       " <g id=\"figure_1\">\n",
       "  <g id=\"patch_1\">\n",
       "   <path d=\"M 0 276.314375 \n",
       "L 375.2875 276.314375 \n",
       "L 375.2875 0 \n",
       "L 0 0 \n",
       "z\n",
       "\" style=\"fill:none;\"/>\n",
       "  </g>\n",
       "  <g id=\"axes_1\">\n",
       "   <g id=\"patch_2\">\n",
       "    <path d=\"M 33.2875 239.758125 \n",
       "L 368.0875 239.758125 \n",
       "L 368.0875 22.318125 \n",
       "L 33.2875 22.318125 \n",
       "z\n",
       "\" style=\"fill:#ffffff;\"/>\n",
       "   </g>\n",
       "   <g id=\"patch_3\">\n",
       "    <path clip-path=\"url(#pbc6e38768a)\" d=\"M 48.505682 239.758125 \n",
       "L 63.723864 239.758125 \n",
       "L 63.723864 32.672411 \n",
       "L 48.505682 32.672411 \n",
       "z\n",
       "\" style=\"fill:#1f77b4;\"/>\n",
       "   </g>\n",
       "   <g id=\"patch_4\">\n",
       "    <path clip-path=\"url(#pbc6e38768a)\" d=\"M 63.723864 239.758125 \n",
       "L 78.942045 239.758125 \n",
       "L 78.942045 181.136938 \n",
       "L 63.723864 181.136938 \n",
       "z\n",
       "\" style=\"fill:#1f77b4;\"/>\n",
       "   </g>\n",
       "   <g id=\"patch_5\">\n",
       "    <path clip-path=\"url(#pbc6e38768a)\" d=\"M 78.942045 239.758125 \n",
       "L 94.160227 239.758125 \n",
       "L 94.160227 214.907839 \n",
       "L 78.942045 214.907839 \n",
       "z\n",
       "\" style=\"fill:#1f77b4;\"/>\n",
       "   </g>\n",
       "   <g id=\"patch_6\">\n",
       "    <path clip-path=\"url(#pbc6e38768a)\" d=\"M 94.160227 239.758125 \n",
       "L 109.378409 239.758125 \n",
       "L 109.378409 230.83751 \n",
       "L 94.160227 230.83751 \n",
       "z\n",
       "\" style=\"fill:#1f77b4;\"/>\n",
       "   </g>\n",
       "   <g id=\"patch_7\">\n",
       "    <path clip-path=\"url(#pbc6e38768a)\" d=\"M 109.378409 239.758125 \n",
       "L 124.596591 239.758125 \n",
       "L 124.596591 234.979224 \n",
       "L 109.378409 234.979224 \n",
       "z\n",
       "\" style=\"fill:#1f77b4;\"/>\n",
       "   </g>\n",
       "   <g id=\"patch_8\">\n",
       "    <path clip-path=\"url(#pbc6e38768a)\" d=\"M 124.596591 239.758125 \n",
       "L 139.814773 239.758125 \n",
       "L 139.814773 236.572191 \n",
       "L 124.596591 236.572191 \n",
       "z\n",
       "\" style=\"fill:#1f77b4;\"/>\n",
       "   </g>\n",
       "   <g id=\"patch_9\">\n",
       "    <path clip-path=\"url(#pbc6e38768a)\" d=\"M 139.814773 239.758125 \n",
       "L 155.032955 239.758125 \n",
       "L 155.032955 236.572191 \n",
       "L 139.814773 236.572191 \n",
       "z\n",
       "\" style=\"fill:#1f77b4;\"/>\n",
       "   </g>\n",
       "   <g id=\"patch_10\">\n",
       "    <path clip-path=\"url(#pbc6e38768a)\" d=\"M 155.032955 239.758125 \n",
       "L 170.251136 239.758125 \n",
       "L 170.251136 238.483751 \n",
       "L 155.032955 238.483751 \n",
       "z\n",
       "\" style=\"fill:#1f77b4;\"/>\n",
       "   </g>\n",
       "   <g id=\"patch_11\">\n",
       "    <path clip-path=\"url(#pbc6e38768a)\" d=\"M 170.251136 239.758125 \n",
       "L 185.469318 239.758125 \n",
       "L 185.469318 238.165158 \n",
       "L 170.251136 238.165158 \n",
       "z\n",
       "\" style=\"fill:#1f77b4;\"/>\n",
       "   </g>\n",
       "   <g id=\"patch_12\">\n",
       "    <path clip-path=\"url(#pbc6e38768a)\" d=\"M 185.469318 239.758125 \n",
       "L 200.6875 239.758125 \n",
       "L 200.6875 238.802345 \n",
       "L 185.469318 238.802345 \n",
       "z\n",
       "\" style=\"fill:#1f77b4;\"/>\n",
       "   </g>\n",
       "   <g id=\"patch_13\">\n",
       "    <path clip-path=\"url(#pbc6e38768a)\" d=\"M 200.6875 239.758125 \n",
       "L 215.905682 239.758125 \n",
       "L 215.905682 239.439532 \n",
       "L 200.6875 239.439532 \n",
       "z\n",
       "\" style=\"fill:#1f77b4;\"/>\n",
       "   </g>\n",
       "   <g id=\"patch_14\">\n",
       "    <path clip-path=\"url(#pbc6e38768a)\" d=\"M 215.905682 239.758125 \n",
       "L 231.123864 239.758125 \n",
       "L 231.123864 238.802345 \n",
       "L 215.905682 238.802345 \n",
       "z\n",
       "\" style=\"fill:#1f77b4;\"/>\n",
       "   </g>\n",
       "   <g id=\"patch_15\">\n",
       "    <path clip-path=\"url(#pbc6e38768a)\" d=\"M 231.123864 239.758125 \n",
       "L 246.342045 239.758125 \n",
       "L 246.342045 238.802345 \n",
       "L 231.123864 238.802345 \n",
       "z\n",
       "\" style=\"fill:#1f77b4;\"/>\n",
       "   </g>\n",
       "   <g id=\"patch_16\">\n",
       "    <path clip-path=\"url(#pbc6e38768a)\" d=\"M 246.342045 239.758125 \n",
       "L 261.560227 239.758125 \n",
       "L 261.560227 239.758125 \n",
       "L 246.342045 239.758125 \n",
       "z\n",
       "\" style=\"fill:#1f77b4;\"/>\n",
       "   </g>\n",
       "   <g id=\"patch_17\">\n",
       "    <path clip-path=\"url(#pbc6e38768a)\" d=\"M 261.560227 239.758125 \n",
       "L 276.778409 239.758125 \n",
       "L 276.778409 239.439532 \n",
       "L 261.560227 239.439532 \n",
       "z\n",
       "\" style=\"fill:#1f77b4;\"/>\n",
       "   </g>\n",
       "   <g id=\"patch_18\">\n",
       "    <path clip-path=\"url(#pbc6e38768a)\" d=\"M 276.778409 239.758125 \n",
       "L 291.996591 239.758125 \n",
       "L 291.996591 239.120938 \n",
       "L 276.778409 239.120938 \n",
       "z\n",
       "\" style=\"fill:#1f77b4;\"/>\n",
       "   </g>\n",
       "   <g id=\"patch_19\">\n",
       "    <path clip-path=\"url(#pbc6e38768a)\" d=\"M 291.996591 239.758125 \n",
       "L 307.214773 239.758125 \n",
       "L 307.214773 239.758125 \n",
       "L 291.996591 239.758125 \n",
       "z\n",
       "\" style=\"fill:#1f77b4;\"/>\n",
       "   </g>\n",
       "   <g id=\"patch_20\">\n",
       "    <path clip-path=\"url(#pbc6e38768a)\" d=\"M 307.214773 239.758125 \n",
       "L 322.432955 239.758125 \n",
       "L 322.432955 239.120938 \n",
       "L 307.214773 239.120938 \n",
       "z\n",
       "\" style=\"fill:#1f77b4;\"/>\n",
       "   </g>\n",
       "   <g id=\"patch_21\">\n",
       "    <path clip-path=\"url(#pbc6e38768a)\" d=\"M 322.432955 239.758125 \n",
       "L 337.651136 239.758125 \n",
       "L 337.651136 239.758125 \n",
       "L 322.432955 239.758125 \n",
       "z\n",
       "\" style=\"fill:#1f77b4;\"/>\n",
       "   </g>\n",
       "   <g id=\"patch_22\">\n",
       "    <path clip-path=\"url(#pbc6e38768a)\" d=\"M 337.651136 239.758125 \n",
       "L 352.869318 239.758125 \n",
       "L 352.869318 239.439532 \n",
       "L 337.651136 239.439532 \n",
       "z\n",
       "\" style=\"fill:#1f77b4;\"/>\n",
       "   </g>\n",
       "   <g id=\"matplotlib.axis_1\">\n",
       "    <g id=\"xtick_1\">\n",
       "     <g id=\"line2d_1\">\n",
       "      <path clip-path=\"url(#pbc6e38768a)\" d=\"M 48.250441 239.758125 \n",
       "L 48.250441 22.318125 \n",
       "\" style=\"fill:none;stroke:#b0b0b0;stroke-linecap:square;stroke-width:0.8;\"/>\n",
       "     </g>\n",
       "     <g id=\"line2d_2\">\n",
       "      <defs>\n",
       "       <path d=\"M 0 0 \n",
       "L 0 3.5 \n",
       "\" id=\"m6405256b34\" style=\"stroke:#000000;stroke-width:0.8;\"/>\n",
       "      </defs>\n",
       "      <g>\n",
       "       <use style=\"stroke:#000000;stroke-width:0.8;\" x=\"48.250441\" xlink:href=\"#m6405256b34\" y=\"239.758125\"/>\n",
       "      </g>\n",
       "     </g>\n",
       "     <g id=\"text_1\">\n",
       "      <!-- 0.0 -->\n",
       "      <defs>\n",
       "       <path d=\"M 31.78125 66.40625 \n",
       "Q 24.171875 66.40625 20.328125 58.90625 \n",
       "Q 16.5 51.421875 16.5 36.375 \n",
       "Q 16.5 21.390625 20.328125 13.890625 \n",
       "Q 24.171875 6.390625 31.78125 6.390625 \n",
       "Q 39.453125 6.390625 43.28125 13.890625 \n",
       "Q 47.125 21.390625 47.125 36.375 \n",
       "Q 47.125 51.421875 43.28125 58.90625 \n",
       "Q 39.453125 66.40625 31.78125 66.40625 \n",
       "z\n",
       "M 31.78125 74.21875 \n",
       "Q 44.046875 74.21875 50.515625 64.515625 \n",
       "Q 56.984375 54.828125 56.984375 36.375 \n",
       "Q 56.984375 17.96875 50.515625 8.265625 \n",
       "Q 44.046875 -1.421875 31.78125 -1.421875 \n",
       "Q 19.53125 -1.421875 13.0625 8.265625 \n",
       "Q 6.59375 17.96875 6.59375 36.375 \n",
       "Q 6.59375 54.828125 13.0625 64.515625 \n",
       "Q 19.53125 74.21875 31.78125 74.21875 \n",
       "z\n",
       "\" id=\"DejaVuSans-48\"/>\n",
       "       <path d=\"M 10.6875 12.40625 \n",
       "L 21 12.40625 \n",
       "L 21 0 \n",
       "L 10.6875 0 \n",
       "z\n",
       "\" id=\"DejaVuSans-46\"/>\n",
       "      </defs>\n",
       "      <g transform=\"translate(40.298879 254.356562)scale(0.1 -0.1)\">\n",
       "       <use xlink:href=\"#DejaVuSans-48\"/>\n",
       "       <use x=\"63.623047\" xlink:href=\"#DejaVuSans-46\"/>\n",
       "       <use x=\"95.410156\" xlink:href=\"#DejaVuSans-48\"/>\n",
       "      </g>\n",
       "     </g>\n",
       "    </g>\n",
       "    <g id=\"xtick_2\">\n",
       "     <g id=\"line2d_3\">\n",
       "      <path clip-path=\"url(#pbc6e38768a)\" d=\"M 86.083584 239.758125 \n",
       "L 86.083584 22.318125 \n",
       "\" style=\"fill:none;stroke:#b0b0b0;stroke-linecap:square;stroke-width:0.8;\"/>\n",
       "     </g>\n",
       "     <g id=\"line2d_4\">\n",
       "      <g>\n",
       "       <use style=\"stroke:#000000;stroke-width:0.8;\" x=\"86.083584\" xlink:href=\"#m6405256b34\" y=\"239.758125\"/>\n",
       "      </g>\n",
       "     </g>\n",
       "     <g id=\"text_2\">\n",
       "      <!-- 0.2 -->\n",
       "      <defs>\n",
       "       <path d=\"M 19.1875 8.296875 \n",
       "L 53.609375 8.296875 \n",
       "L 53.609375 0 \n",
       "L 7.328125 0 \n",
       "L 7.328125 8.296875 \n",
       "Q 12.9375 14.109375 22.625 23.890625 \n",
       "Q 32.328125 33.6875 34.8125 36.53125 \n",
       "Q 39.546875 41.84375 41.421875 45.53125 \n",
       "Q 43.3125 49.21875 43.3125 52.78125 \n",
       "Q 43.3125 58.59375 39.234375 62.25 \n",
       "Q 35.15625 65.921875 28.609375 65.921875 \n",
       "Q 23.96875 65.921875 18.8125 64.3125 \n",
       "Q 13.671875 62.703125 7.8125 59.421875 \n",
       "L 7.8125 69.390625 \n",
       "Q 13.765625 71.78125 18.9375 73 \n",
       "Q 24.125 74.21875 28.421875 74.21875 \n",
       "Q 39.75 74.21875 46.484375 68.546875 \n",
       "Q 53.21875 62.890625 53.21875 53.421875 \n",
       "Q 53.21875 48.921875 51.53125 44.890625 \n",
       "Q 49.859375 40.875 45.40625 35.40625 \n",
       "Q 44.1875 33.984375 37.640625 27.21875 \n",
       "Q 31.109375 20.453125 19.1875 8.296875 \n",
       "z\n",
       "\" id=\"DejaVuSans-50\"/>\n",
       "      </defs>\n",
       "      <g transform=\"translate(78.132021 254.356562)scale(0.1 -0.1)\">\n",
       "       <use xlink:href=\"#DejaVuSans-48\"/>\n",
       "       <use x=\"63.623047\" xlink:href=\"#DejaVuSans-46\"/>\n",
       "       <use x=\"95.410156\" xlink:href=\"#DejaVuSans-50\"/>\n",
       "      </g>\n",
       "     </g>\n",
       "    </g>\n",
       "    <g id=\"xtick_3\">\n",
       "     <g id=\"line2d_5\">\n",
       "      <path clip-path=\"url(#pbc6e38768a)\" d=\"M 123.916726 239.758125 \n",
       "L 123.916726 22.318125 \n",
       "\" style=\"fill:none;stroke:#b0b0b0;stroke-linecap:square;stroke-width:0.8;\"/>\n",
       "     </g>\n",
       "     <g id=\"line2d_6\">\n",
       "      <g>\n",
       "       <use style=\"stroke:#000000;stroke-width:0.8;\" x=\"123.916726\" xlink:href=\"#m6405256b34\" y=\"239.758125\"/>\n",
       "      </g>\n",
       "     </g>\n",
       "     <g id=\"text_3\">\n",
       "      <!-- 0.4 -->\n",
       "      <defs>\n",
       "       <path d=\"M 37.796875 64.3125 \n",
       "L 12.890625 25.390625 \n",
       "L 37.796875 25.390625 \n",
       "z\n",
       "M 35.203125 72.90625 \n",
       "L 47.609375 72.90625 \n",
       "L 47.609375 25.390625 \n",
       "L 58.015625 25.390625 \n",
       "L 58.015625 17.1875 \n",
       "L 47.609375 17.1875 \n",
       "L 47.609375 0 \n",
       "L 37.796875 0 \n",
       "L 37.796875 17.1875 \n",
       "L 4.890625 17.1875 \n",
       "L 4.890625 26.703125 \n",
       "z\n",
       "\" id=\"DejaVuSans-52\"/>\n",
       "      </defs>\n",
       "      <g transform=\"translate(115.965164 254.356562)scale(0.1 -0.1)\">\n",
       "       <use xlink:href=\"#DejaVuSans-48\"/>\n",
       "       <use x=\"63.623047\" xlink:href=\"#DejaVuSans-46\"/>\n",
       "       <use x=\"95.410156\" xlink:href=\"#DejaVuSans-52\"/>\n",
       "      </g>\n",
       "     </g>\n",
       "    </g>\n",
       "    <g id=\"xtick_4\">\n",
       "     <g id=\"line2d_7\">\n",
       "      <path clip-path=\"url(#pbc6e38768a)\" d=\"M 161.749869 239.758125 \n",
       "L 161.749869 22.318125 \n",
       "\" style=\"fill:none;stroke:#b0b0b0;stroke-linecap:square;stroke-width:0.8;\"/>\n",
       "     </g>\n",
       "     <g id=\"line2d_8\">\n",
       "      <g>\n",
       "       <use style=\"stroke:#000000;stroke-width:0.8;\" x=\"161.749869\" xlink:href=\"#m6405256b34\" y=\"239.758125\"/>\n",
       "      </g>\n",
       "     </g>\n",
       "     <g id=\"text_4\">\n",
       "      <!-- 0.6 -->\n",
       "      <defs>\n",
       "       <path d=\"M 33.015625 40.375 \n",
       "Q 26.375 40.375 22.484375 35.828125 \n",
       "Q 18.609375 31.296875 18.609375 23.390625 \n",
       "Q 18.609375 15.53125 22.484375 10.953125 \n",
       "Q 26.375 6.390625 33.015625 6.390625 \n",
       "Q 39.65625 6.390625 43.53125 10.953125 \n",
       "Q 47.40625 15.53125 47.40625 23.390625 \n",
       "Q 47.40625 31.296875 43.53125 35.828125 \n",
       "Q 39.65625 40.375 33.015625 40.375 \n",
       "z\n",
       "M 52.59375 71.296875 \n",
       "L 52.59375 62.3125 \n",
       "Q 48.875 64.0625 45.09375 64.984375 \n",
       "Q 41.3125 65.921875 37.59375 65.921875 \n",
       "Q 27.828125 65.921875 22.671875 59.328125 \n",
       "Q 17.53125 52.734375 16.796875 39.40625 \n",
       "Q 19.671875 43.65625 24.015625 45.921875 \n",
       "Q 28.375 48.1875 33.59375 48.1875 \n",
       "Q 44.578125 48.1875 50.953125 41.515625 \n",
       "Q 57.328125 34.859375 57.328125 23.390625 \n",
       "Q 57.328125 12.15625 50.6875 5.359375 \n",
       "Q 44.046875 -1.421875 33.015625 -1.421875 \n",
       "Q 20.359375 -1.421875 13.671875 8.265625 \n",
       "Q 6.984375 17.96875 6.984375 36.375 \n",
       "Q 6.984375 53.65625 15.1875 63.9375 \n",
       "Q 23.390625 74.21875 37.203125 74.21875 \n",
       "Q 40.921875 74.21875 44.703125 73.484375 \n",
       "Q 48.484375 72.75 52.59375 71.296875 \n",
       "z\n",
       "\" id=\"DejaVuSans-54\"/>\n",
       "      </defs>\n",
       "      <g transform=\"translate(153.798306 254.356562)scale(0.1 -0.1)\">\n",
       "       <use xlink:href=\"#DejaVuSans-48\"/>\n",
       "       <use x=\"63.623047\" xlink:href=\"#DejaVuSans-46\"/>\n",
       "       <use x=\"95.410156\" xlink:href=\"#DejaVuSans-54\"/>\n",
       "      </g>\n",
       "     </g>\n",
       "    </g>\n",
       "    <g id=\"xtick_5\">\n",
       "     <g id=\"line2d_9\">\n",
       "      <path clip-path=\"url(#pbc6e38768a)\" d=\"M 199.583011 239.758125 \n",
       "L 199.583011 22.318125 \n",
       "\" style=\"fill:none;stroke:#b0b0b0;stroke-linecap:square;stroke-width:0.8;\"/>\n",
       "     </g>\n",
       "     <g id=\"line2d_10\">\n",
       "      <g>\n",
       "       <use style=\"stroke:#000000;stroke-width:0.8;\" x=\"199.583011\" xlink:href=\"#m6405256b34\" y=\"239.758125\"/>\n",
       "      </g>\n",
       "     </g>\n",
       "     <g id=\"text_5\">\n",
       "      <!-- 0.8 -->\n",
       "      <defs>\n",
       "       <path d=\"M 31.78125 34.625 \n",
       "Q 24.75 34.625 20.71875 30.859375 \n",
       "Q 16.703125 27.09375 16.703125 20.515625 \n",
       "Q 16.703125 13.921875 20.71875 10.15625 \n",
       "Q 24.75 6.390625 31.78125 6.390625 \n",
       "Q 38.8125 6.390625 42.859375 10.171875 \n",
       "Q 46.921875 13.96875 46.921875 20.515625 \n",
       "Q 46.921875 27.09375 42.890625 30.859375 \n",
       "Q 38.875 34.625 31.78125 34.625 \n",
       "z\n",
       "M 21.921875 38.8125 \n",
       "Q 15.578125 40.375 12.03125 44.71875 \n",
       "Q 8.5 49.078125 8.5 55.328125 \n",
       "Q 8.5 64.0625 14.71875 69.140625 \n",
       "Q 20.953125 74.21875 31.78125 74.21875 \n",
       "Q 42.671875 74.21875 48.875 69.140625 \n",
       "Q 55.078125 64.0625 55.078125 55.328125 \n",
       "Q 55.078125 49.078125 51.53125 44.71875 \n",
       "Q 48 40.375 41.703125 38.8125 \n",
       "Q 48.828125 37.15625 52.796875 32.3125 \n",
       "Q 56.78125 27.484375 56.78125 20.515625 \n",
       "Q 56.78125 9.90625 50.3125 4.234375 \n",
       "Q 43.84375 -1.421875 31.78125 -1.421875 \n",
       "Q 19.734375 -1.421875 13.25 4.234375 \n",
       "Q 6.78125 9.90625 6.78125 20.515625 \n",
       "Q 6.78125 27.484375 10.78125 32.3125 \n",
       "Q 14.796875 37.15625 21.921875 38.8125 \n",
       "z\n",
       "M 18.3125 54.390625 \n",
       "Q 18.3125 48.734375 21.84375 45.5625 \n",
       "Q 25.390625 42.390625 31.78125 42.390625 \n",
       "Q 38.140625 42.390625 41.71875 45.5625 \n",
       "Q 45.3125 48.734375 45.3125 54.390625 \n",
       "Q 45.3125 60.0625 41.71875 63.234375 \n",
       "Q 38.140625 66.40625 31.78125 66.40625 \n",
       "Q 25.390625 66.40625 21.84375 63.234375 \n",
       "Q 18.3125 60.0625 18.3125 54.390625 \n",
       "z\n",
       "\" id=\"DejaVuSans-56\"/>\n",
       "      </defs>\n",
       "      <g transform=\"translate(191.631449 254.356562)scale(0.1 -0.1)\">\n",
       "       <use xlink:href=\"#DejaVuSans-48\"/>\n",
       "       <use x=\"63.623047\" xlink:href=\"#DejaVuSans-46\"/>\n",
       "       <use x=\"95.410156\" xlink:href=\"#DejaVuSans-56\"/>\n",
       "      </g>\n",
       "     </g>\n",
       "    </g>\n",
       "    <g id=\"xtick_6\">\n",
       "     <g id=\"line2d_11\">\n",
       "      <path clip-path=\"url(#pbc6e38768a)\" d=\"M 237.416154 239.758125 \n",
       "L 237.416154 22.318125 \n",
       "\" style=\"fill:none;stroke:#b0b0b0;stroke-linecap:square;stroke-width:0.8;\"/>\n",
       "     </g>\n",
       "     <g id=\"line2d_12\">\n",
       "      <g>\n",
       "       <use style=\"stroke:#000000;stroke-width:0.8;\" x=\"237.416154\" xlink:href=\"#m6405256b34\" y=\"239.758125\"/>\n",
       "      </g>\n",
       "     </g>\n",
       "     <g id=\"text_6\">\n",
       "      <!-- 1.0 -->\n",
       "      <defs>\n",
       "       <path d=\"M 12.40625 8.296875 \n",
       "L 28.515625 8.296875 \n",
       "L 28.515625 63.921875 \n",
       "L 10.984375 60.40625 \n",
       "L 10.984375 69.390625 \n",
       "L 28.421875 72.90625 \n",
       "L 38.28125 72.90625 \n",
       "L 38.28125 8.296875 \n",
       "L 54.390625 8.296875 \n",
       "L 54.390625 0 \n",
       "L 12.40625 0 \n",
       "z\n",
       "\" id=\"DejaVuSans-49\"/>\n",
       "      </defs>\n",
       "      <g transform=\"translate(229.464592 254.356562)scale(0.1 -0.1)\">\n",
       "       <use xlink:href=\"#DejaVuSans-49\"/>\n",
       "       <use x=\"63.623047\" xlink:href=\"#DejaVuSans-46\"/>\n",
       "       <use x=\"95.410156\" xlink:href=\"#DejaVuSans-48\"/>\n",
       "      </g>\n",
       "     </g>\n",
       "    </g>\n",
       "    <g id=\"xtick_7\">\n",
       "     <g id=\"line2d_13\">\n",
       "      <path clip-path=\"url(#pbc6e38768a)\" d=\"M 275.249297 239.758125 \n",
       "L 275.249297 22.318125 \n",
       "\" style=\"fill:none;stroke:#b0b0b0;stroke-linecap:square;stroke-width:0.8;\"/>\n",
       "     </g>\n",
       "     <g id=\"line2d_14\">\n",
       "      <g>\n",
       "       <use style=\"stroke:#000000;stroke-width:0.8;\" x=\"275.249297\" xlink:href=\"#m6405256b34\" y=\"239.758125\"/>\n",
       "      </g>\n",
       "     </g>\n",
       "     <g id=\"text_7\">\n",
       "      <!-- 1.2 -->\n",
       "      <g transform=\"translate(267.297734 254.356562)scale(0.1 -0.1)\">\n",
       "       <use xlink:href=\"#DejaVuSans-49\"/>\n",
       "       <use x=\"63.623047\" xlink:href=\"#DejaVuSans-46\"/>\n",
       "       <use x=\"95.410156\" xlink:href=\"#DejaVuSans-50\"/>\n",
       "      </g>\n",
       "     </g>\n",
       "    </g>\n",
       "    <g id=\"xtick_8\">\n",
       "     <g id=\"line2d_15\">\n",
       "      <path clip-path=\"url(#pbc6e38768a)\" d=\"M 313.082439 239.758125 \n",
       "L 313.082439 22.318125 \n",
       "\" style=\"fill:none;stroke:#b0b0b0;stroke-linecap:square;stroke-width:0.8;\"/>\n",
       "     </g>\n",
       "     <g id=\"line2d_16\">\n",
       "      <g>\n",
       "       <use style=\"stroke:#000000;stroke-width:0.8;\" x=\"313.082439\" xlink:href=\"#m6405256b34\" y=\"239.758125\"/>\n",
       "      </g>\n",
       "     </g>\n",
       "     <g id=\"text_8\">\n",
       "      <!-- 1.4 -->\n",
       "      <g transform=\"translate(305.130877 254.356562)scale(0.1 -0.1)\">\n",
       "       <use xlink:href=\"#DejaVuSans-49\"/>\n",
       "       <use x=\"63.623047\" xlink:href=\"#DejaVuSans-46\"/>\n",
       "       <use x=\"95.410156\" xlink:href=\"#DejaVuSans-52\"/>\n",
       "      </g>\n",
       "     </g>\n",
       "    </g>\n",
       "    <g id=\"xtick_9\">\n",
       "     <g id=\"line2d_17\">\n",
       "      <path clip-path=\"url(#pbc6e38768a)\" d=\"M 350.915582 239.758125 \n",
       "L 350.915582 22.318125 \n",
       "\" style=\"fill:none;stroke:#b0b0b0;stroke-linecap:square;stroke-width:0.8;\"/>\n",
       "     </g>\n",
       "     <g id=\"line2d_18\">\n",
       "      <g>\n",
       "       <use style=\"stroke:#000000;stroke-width:0.8;\" x=\"350.915582\" xlink:href=\"#m6405256b34\" y=\"239.758125\"/>\n",
       "      </g>\n",
       "     </g>\n",
       "     <g id=\"text_9\">\n",
       "      <!-- 1.6 -->\n",
       "      <g transform=\"translate(342.964019 254.356562)scale(0.1 -0.1)\">\n",
       "       <use xlink:href=\"#DejaVuSans-49\"/>\n",
       "       <use x=\"63.623047\" xlink:href=\"#DejaVuSans-46\"/>\n",
       "       <use x=\"95.410156\" xlink:href=\"#DejaVuSans-54\"/>\n",
       "      </g>\n",
       "     </g>\n",
       "    </g>\n",
       "    <g id=\"text_10\">\n",
       "     <!-- 1e6 -->\n",
       "     <defs>\n",
       "      <path d=\"M 56.203125 29.59375 \n",
       "L 56.203125 25.203125 \n",
       "L 14.890625 25.203125 \n",
       "Q 15.484375 15.921875 20.484375 11.0625 \n",
       "Q 25.484375 6.203125 34.421875 6.203125 \n",
       "Q 39.59375 6.203125 44.453125 7.46875 \n",
       "Q 49.3125 8.734375 54.109375 11.28125 \n",
       "L 54.109375 2.78125 \n",
       "Q 49.265625 0.734375 44.1875 -0.34375 \n",
       "Q 39.109375 -1.421875 33.890625 -1.421875 \n",
       "Q 20.796875 -1.421875 13.15625 6.1875 \n",
       "Q 5.515625 13.8125 5.515625 26.8125 \n",
       "Q 5.515625 40.234375 12.765625 48.109375 \n",
       "Q 20.015625 56 32.328125 56 \n",
       "Q 43.359375 56 49.78125 48.890625 \n",
       "Q 56.203125 41.796875 56.203125 29.59375 \n",
       "z\n",
       "M 47.21875 32.234375 \n",
       "Q 47.125 39.59375 43.09375 43.984375 \n",
       "Q 39.0625 48.390625 32.421875 48.390625 \n",
       "Q 24.90625 48.390625 20.390625 44.140625 \n",
       "Q 15.875 39.890625 15.1875 32.171875 \n",
       "z\n",
       "\" id=\"DejaVuSans-101\"/>\n",
       "     </defs>\n",
       "     <g transform=\"translate(349.209375 267.034687)scale(0.1 -0.1)\">\n",
       "      <use xlink:href=\"#DejaVuSans-49\"/>\n",
       "      <use x=\"63.623047\" xlink:href=\"#DejaVuSans-101\"/>\n",
       "      <use x=\"125.146484\" xlink:href=\"#DejaVuSans-54\"/>\n",
       "     </g>\n",
       "    </g>\n",
       "   </g>\n",
       "   <g id=\"matplotlib.axis_2\">\n",
       "    <g id=\"ytick_1\">\n",
       "     <g id=\"line2d_19\">\n",
       "      <path clip-path=\"url(#pbc6e38768a)\" d=\"M 33.2875 239.758125 \n",
       "L 368.0875 239.758125 \n",
       "\" style=\"fill:none;stroke:#b0b0b0;stroke-linecap:square;stroke-width:0.8;\"/>\n",
       "     </g>\n",
       "     <g id=\"line2d_20\">\n",
       "      <defs>\n",
       "       <path d=\"M 0 0 \n",
       "L -3.5 0 \n",
       "\" id=\"me66226b596\" style=\"stroke:#000000;stroke-width:0.8;\"/>\n",
       "      </defs>\n",
       "      <g>\n",
       "       <use style=\"stroke:#000000;stroke-width:0.8;\" x=\"33.2875\" xlink:href=\"#me66226b596\" y=\"239.758125\"/>\n",
       "      </g>\n",
       "     </g>\n",
       "     <g id=\"text_11\">\n",
       "      <!-- 0 -->\n",
       "      <g transform=\"translate(19.925 243.557344)scale(0.1 -0.1)\">\n",
       "       <use xlink:href=\"#DejaVuSans-48\"/>\n",
       "      </g>\n",
       "     </g>\n",
       "    </g>\n",
       "    <g id=\"ytick_2\">\n",
       "     <g id=\"line2d_21\">\n",
       "      <path clip-path=\"url(#pbc6e38768a)\" d=\"M 33.2875 207.898784 \n",
       "L 368.0875 207.898784 \n",
       "\" style=\"fill:none;stroke:#b0b0b0;stroke-linecap:square;stroke-width:0.8;\"/>\n",
       "     </g>\n",
       "     <g id=\"line2d_22\">\n",
       "      <g>\n",
       "       <use style=\"stroke:#000000;stroke-width:0.8;\" x=\"33.2875\" xlink:href=\"#me66226b596\" y=\"207.898784\"/>\n",
       "      </g>\n",
       "     </g>\n",
       "     <g id=\"text_12\">\n",
       "      <!-- 100 -->\n",
       "      <g transform=\"translate(7.2 211.698003)scale(0.1 -0.1)\">\n",
       "       <use xlink:href=\"#DejaVuSans-49\"/>\n",
       "       <use x=\"63.623047\" xlink:href=\"#DejaVuSans-48\"/>\n",
       "       <use x=\"127.246094\" xlink:href=\"#DejaVuSans-48\"/>\n",
       "      </g>\n",
       "     </g>\n",
       "    </g>\n",
       "    <g id=\"ytick_3\">\n",
       "     <g id=\"line2d_23\">\n",
       "      <path clip-path=\"url(#pbc6e38768a)\" d=\"M 33.2875 176.039444 \n",
       "L 368.0875 176.039444 \n",
       "\" style=\"fill:none;stroke:#b0b0b0;stroke-linecap:square;stroke-width:0.8;\"/>\n",
       "     </g>\n",
       "     <g id=\"line2d_24\">\n",
       "      <g>\n",
       "       <use style=\"stroke:#000000;stroke-width:0.8;\" x=\"33.2875\" xlink:href=\"#me66226b596\" y=\"176.039444\"/>\n",
       "      </g>\n",
       "     </g>\n",
       "     <g id=\"text_13\">\n",
       "      <!-- 200 -->\n",
       "      <g transform=\"translate(7.2 179.838662)scale(0.1 -0.1)\">\n",
       "       <use xlink:href=\"#DejaVuSans-50\"/>\n",
       "       <use x=\"63.623047\" xlink:href=\"#DejaVuSans-48\"/>\n",
       "       <use x=\"127.246094\" xlink:href=\"#DejaVuSans-48\"/>\n",
       "      </g>\n",
       "     </g>\n",
       "    </g>\n",
       "    <g id=\"ytick_4\">\n",
       "     <g id=\"line2d_25\">\n",
       "      <path clip-path=\"url(#pbc6e38768a)\" d=\"M 33.2875 144.180103 \n",
       "L 368.0875 144.180103 \n",
       "\" style=\"fill:none;stroke:#b0b0b0;stroke-linecap:square;stroke-width:0.8;\"/>\n",
       "     </g>\n",
       "     <g id=\"line2d_26\">\n",
       "      <g>\n",
       "       <use style=\"stroke:#000000;stroke-width:0.8;\" x=\"33.2875\" xlink:href=\"#me66226b596\" y=\"144.180103\"/>\n",
       "      </g>\n",
       "     </g>\n",
       "     <g id=\"text_14\">\n",
       "      <!-- 300 -->\n",
       "      <defs>\n",
       "       <path d=\"M 40.578125 39.3125 \n",
       "Q 47.65625 37.796875 51.625 33 \n",
       "Q 55.609375 28.21875 55.609375 21.1875 \n",
       "Q 55.609375 10.40625 48.1875 4.484375 \n",
       "Q 40.765625 -1.421875 27.09375 -1.421875 \n",
       "Q 22.515625 -1.421875 17.65625 -0.515625 \n",
       "Q 12.796875 0.390625 7.625 2.203125 \n",
       "L 7.625 11.71875 \n",
       "Q 11.71875 9.328125 16.59375 8.109375 \n",
       "Q 21.484375 6.890625 26.8125 6.890625 \n",
       "Q 36.078125 6.890625 40.9375 10.546875 \n",
       "Q 45.796875 14.203125 45.796875 21.1875 \n",
       "Q 45.796875 27.640625 41.28125 31.265625 \n",
       "Q 36.765625 34.90625 28.71875 34.90625 \n",
       "L 20.21875 34.90625 \n",
       "L 20.21875 43.015625 \n",
       "L 29.109375 43.015625 \n",
       "Q 36.375 43.015625 40.234375 45.921875 \n",
       "Q 44.09375 48.828125 44.09375 54.296875 \n",
       "Q 44.09375 59.90625 40.109375 62.90625 \n",
       "Q 36.140625 65.921875 28.71875 65.921875 \n",
       "Q 24.65625 65.921875 20.015625 65.03125 \n",
       "Q 15.375 64.15625 9.8125 62.3125 \n",
       "L 9.8125 71.09375 \n",
       "Q 15.4375 72.65625 20.34375 73.4375 \n",
       "Q 25.25 74.21875 29.59375 74.21875 \n",
       "Q 40.828125 74.21875 47.359375 69.109375 \n",
       "Q 53.90625 64.015625 53.90625 55.328125 \n",
       "Q 53.90625 49.265625 50.4375 45.09375 \n",
       "Q 46.96875 40.921875 40.578125 39.3125 \n",
       "z\n",
       "\" id=\"DejaVuSans-51\"/>\n",
       "      </defs>\n",
       "      <g transform=\"translate(7.2 147.979322)scale(0.1 -0.1)\">\n",
       "       <use xlink:href=\"#DejaVuSans-51\"/>\n",
       "       <use x=\"63.623047\" xlink:href=\"#DejaVuSans-48\"/>\n",
       "       <use x=\"127.246094\" xlink:href=\"#DejaVuSans-48\"/>\n",
       "      </g>\n",
       "     </g>\n",
       "    </g>\n",
       "    <g id=\"ytick_5\">\n",
       "     <g id=\"line2d_27\">\n",
       "      <path clip-path=\"url(#pbc6e38768a)\" d=\"M 33.2875 112.320762 \n",
       "L 368.0875 112.320762 \n",
       "\" style=\"fill:none;stroke:#b0b0b0;stroke-linecap:square;stroke-width:0.8;\"/>\n",
       "     </g>\n",
       "     <g id=\"line2d_28\">\n",
       "      <g>\n",
       "       <use style=\"stroke:#000000;stroke-width:0.8;\" x=\"33.2875\" xlink:href=\"#me66226b596\" y=\"112.320762\"/>\n",
       "      </g>\n",
       "     </g>\n",
       "     <g id=\"text_15\">\n",
       "      <!-- 400 -->\n",
       "      <g transform=\"translate(7.2 116.119981)scale(0.1 -0.1)\">\n",
       "       <use xlink:href=\"#DejaVuSans-52\"/>\n",
       "       <use x=\"63.623047\" xlink:href=\"#DejaVuSans-48\"/>\n",
       "       <use x=\"127.246094\" xlink:href=\"#DejaVuSans-48\"/>\n",
       "      </g>\n",
       "     </g>\n",
       "    </g>\n",
       "    <g id=\"ytick_6\">\n",
       "     <g id=\"line2d_29\">\n",
       "      <path clip-path=\"url(#pbc6e38768a)\" d=\"M 33.2875 80.461422 \n",
       "L 368.0875 80.461422 \n",
       "\" style=\"fill:none;stroke:#b0b0b0;stroke-linecap:square;stroke-width:0.8;\"/>\n",
       "     </g>\n",
       "     <g id=\"line2d_30\">\n",
       "      <g>\n",
       "       <use style=\"stroke:#000000;stroke-width:0.8;\" x=\"33.2875\" xlink:href=\"#me66226b596\" y=\"80.461422\"/>\n",
       "      </g>\n",
       "     </g>\n",
       "     <g id=\"text_16\">\n",
       "      <!-- 500 -->\n",
       "      <defs>\n",
       "       <path d=\"M 10.796875 72.90625 \n",
       "L 49.515625 72.90625 \n",
       "L 49.515625 64.59375 \n",
       "L 19.828125 64.59375 \n",
       "L 19.828125 46.734375 \n",
       "Q 21.96875 47.46875 24.109375 47.828125 \n",
       "Q 26.265625 48.1875 28.421875 48.1875 \n",
       "Q 40.625 48.1875 47.75 41.5 \n",
       "Q 54.890625 34.8125 54.890625 23.390625 \n",
       "Q 54.890625 11.625 47.5625 5.09375 \n",
       "Q 40.234375 -1.421875 26.90625 -1.421875 \n",
       "Q 22.3125 -1.421875 17.546875 -0.640625 \n",
       "Q 12.796875 0.140625 7.71875 1.703125 \n",
       "L 7.71875 11.625 \n",
       "Q 12.109375 9.234375 16.796875 8.0625 \n",
       "Q 21.484375 6.890625 26.703125 6.890625 \n",
       "Q 35.15625 6.890625 40.078125 11.328125 \n",
       "Q 45.015625 15.765625 45.015625 23.390625 \n",
       "Q 45.015625 31 40.078125 35.4375 \n",
       "Q 35.15625 39.890625 26.703125 39.890625 \n",
       "Q 22.75 39.890625 18.8125 39.015625 \n",
       "Q 14.890625 38.140625 10.796875 36.28125 \n",
       "z\n",
       "\" id=\"DejaVuSans-53\"/>\n",
       "      </defs>\n",
       "      <g transform=\"translate(7.2 84.26064)scale(0.1 -0.1)\">\n",
       "       <use xlink:href=\"#DejaVuSans-53\"/>\n",
       "       <use x=\"63.623047\" xlink:href=\"#DejaVuSans-48\"/>\n",
       "       <use x=\"127.246094\" xlink:href=\"#DejaVuSans-48\"/>\n",
       "      </g>\n",
       "     </g>\n",
       "    </g>\n",
       "    <g id=\"ytick_7\">\n",
       "     <g id=\"line2d_31\">\n",
       "      <path clip-path=\"url(#pbc6e38768a)\" d=\"M 33.2875 48.602081 \n",
       "L 368.0875 48.602081 \n",
       "\" style=\"fill:none;stroke:#b0b0b0;stroke-linecap:square;stroke-width:0.8;\"/>\n",
       "     </g>\n",
       "     <g id=\"line2d_32\">\n",
       "      <g>\n",
       "       <use style=\"stroke:#000000;stroke-width:0.8;\" x=\"33.2875\" xlink:href=\"#me66226b596\" y=\"48.602081\"/>\n",
       "      </g>\n",
       "     </g>\n",
       "     <g id=\"text_17\">\n",
       "      <!-- 600 -->\n",
       "      <g transform=\"translate(7.2 52.4013)scale(0.1 -0.1)\">\n",
       "       <use xlink:href=\"#DejaVuSans-54\"/>\n",
       "       <use x=\"63.623047\" xlink:href=\"#DejaVuSans-48\"/>\n",
       "       <use x=\"127.246094\" xlink:href=\"#DejaVuSans-48\"/>\n",
       "      </g>\n",
       "     </g>\n",
       "    </g>\n",
       "   </g>\n",
       "   <g id=\"patch_23\">\n",
       "    <path d=\"M 33.2875 239.758125 \n",
       "L 33.2875 22.318125 \n",
       "\" style=\"fill:none;stroke:#000000;stroke-linecap:square;stroke-linejoin:miter;stroke-width:0.8;\"/>\n",
       "   </g>\n",
       "   <g id=\"patch_24\">\n",
       "    <path d=\"M 368.0875 239.758125 \n",
       "L 368.0875 22.318125 \n",
       "\" style=\"fill:none;stroke:#000000;stroke-linecap:square;stroke-linejoin:miter;stroke-width:0.8;\"/>\n",
       "   </g>\n",
       "   <g id=\"patch_25\">\n",
       "    <path d=\"M 33.2875 239.758125 \n",
       "L 368.0875 239.758125 \n",
       "\" style=\"fill:none;stroke:#000000;stroke-linecap:square;stroke-linejoin:miter;stroke-width:0.8;\"/>\n",
       "   </g>\n",
       "   <g id=\"patch_26\">\n",
       "    <path d=\"M 33.2875 22.318125 \n",
       "L 368.0875 22.318125 \n",
       "\" style=\"fill:none;stroke:#000000;stroke-linecap:square;stroke-linejoin:miter;stroke-width:0.8;\"/>\n",
       "   </g>\n",
       "   <g id=\"text_18\">\n",
       "    <!-- loss -->\n",
       "    <defs>\n",
       "     <path d=\"M 9.421875 75.984375 \n",
       "L 18.40625 75.984375 \n",
       "L 18.40625 0 \n",
       "L 9.421875 0 \n",
       "z\n",
       "\" id=\"DejaVuSans-108\"/>\n",
       "     <path d=\"M 30.609375 48.390625 \n",
       "Q 23.390625 48.390625 19.1875 42.75 \n",
       "Q 14.984375 37.109375 14.984375 27.296875 \n",
       "Q 14.984375 17.484375 19.15625 11.84375 \n",
       "Q 23.34375 6.203125 30.609375 6.203125 \n",
       "Q 37.796875 6.203125 41.984375 11.859375 \n",
       "Q 46.1875 17.53125 46.1875 27.296875 \n",
       "Q 46.1875 37.015625 41.984375 42.703125 \n",
       "Q 37.796875 48.390625 30.609375 48.390625 \n",
       "z\n",
       "M 30.609375 56 \n",
       "Q 42.328125 56 49.015625 48.375 \n",
       "Q 55.71875 40.765625 55.71875 27.296875 \n",
       "Q 55.71875 13.875 49.015625 6.21875 \n",
       "Q 42.328125 -1.421875 30.609375 -1.421875 \n",
       "Q 18.84375 -1.421875 12.171875 6.21875 \n",
       "Q 5.515625 13.875 5.515625 27.296875 \n",
       "Q 5.515625 40.765625 12.171875 48.375 \n",
       "Q 18.84375 56 30.609375 56 \n",
       "z\n",
       "\" id=\"DejaVuSans-111\"/>\n",
       "     <path d=\"M 44.28125 53.078125 \n",
       "L 44.28125 44.578125 \n",
       "Q 40.484375 46.53125 36.375 47.5 \n",
       "Q 32.28125 48.484375 27.875 48.484375 \n",
       "Q 21.1875 48.484375 17.84375 46.4375 \n",
       "Q 14.5 44.390625 14.5 40.28125 \n",
       "Q 14.5 37.15625 16.890625 35.375 \n",
       "Q 19.28125 33.59375 26.515625 31.984375 \n",
       "L 29.59375 31.296875 \n",
       "Q 39.15625 29.25 43.1875 25.515625 \n",
       "Q 47.21875 21.78125 47.21875 15.09375 \n",
       "Q 47.21875 7.46875 41.1875 3.015625 \n",
       "Q 35.15625 -1.421875 24.609375 -1.421875 \n",
       "Q 20.21875 -1.421875 15.453125 -0.5625 \n",
       "Q 10.6875 0.296875 5.421875 2 \n",
       "L 5.421875 11.28125 \n",
       "Q 10.40625 8.6875 15.234375 7.390625 \n",
       "Q 20.0625 6.109375 24.8125 6.109375 \n",
       "Q 31.15625 6.109375 34.5625 8.28125 \n",
       "Q 37.984375 10.453125 37.984375 14.40625 \n",
       "Q 37.984375 18.0625 35.515625 20.015625 \n",
       "Q 33.0625 21.96875 24.703125 23.78125 \n",
       "L 21.578125 24.515625 \n",
       "Q 13.234375 26.265625 9.515625 29.90625 \n",
       "Q 5.8125 33.546875 5.8125 39.890625 \n",
       "Q 5.8125 47.609375 11.28125 51.796875 \n",
       "Q 16.75 56 26.8125 56 \n",
       "Q 31.78125 56 36.171875 55.265625 \n",
       "Q 40.578125 54.546875 44.28125 53.078125 \n",
       "z\n",
       "\" id=\"DejaVuSans-115\"/>\n",
       "    </defs>\n",
       "    <g transform=\"translate(189.098125 16.318125)scale(0.12 -0.12)\">\n",
       "     <use xlink:href=\"#DejaVuSans-108\"/>\n",
       "     <use x=\"27.783203\" xlink:href=\"#DejaVuSans-111\"/>\n",
       "     <use x=\"88.964844\" xlink:href=\"#DejaVuSans-115\"/>\n",
       "     <use x=\"141.064453\" xlink:href=\"#DejaVuSans-115\"/>\n",
       "    </g>\n",
       "   </g>\n",
       "  </g>\n",
       " </g>\n",
       " <defs>\n",
       "  <clipPath id=\"pbc6e38768a\">\n",
       "   <rect height=\"217.44\" width=\"334.8\" x=\"33.2875\" y=\"22.318125\"/>\n",
       "  </clipPath>\n",
       " </defs>\n",
       "</svg>\n"
      ],
      "text/plain": [
       "<Figure size 432x288 with 1 Axes>"
      ]
     },
     "metadata": {
      "needs_background": "light",
      "tags": []
     },
     "output_type": "display_data"
    }
   ],
   "source": [
    "df.iloc[:,:-1].hist(bins=20)"
   ]
  },
  {
   "cell_type": "code",
   "execution_count": 192,
   "metadata": {
    "colab": {
     "base_uri": "https://localhost:8080/",
     "height": 369
    },
    "colab_type": "code",
    "executionInfo": {
     "elapsed": 816,
     "status": "ok",
     "timestamp": 1595477825192,
     "user": {
      "displayName": "Jozeff KAPLAN",
      "photoUrl": "",
      "userId": "04250959772459181544"
     },
     "user_tz": 300
    },
    "id": "d-2w9HQm4vvk",
    "outputId": "05ea8f5a-a8ce-4bf5-b512-df179cb6427f"
   },
   "outputs": [
    {
     "data": {
      "text/plain": [
       "<matplotlib.axes._subplots.AxesSubplot at 0x7f0f754eab00>"
      ]
     },
     "execution_count": 192,
     "metadata": {
      "tags": []
     },
     "output_type": "execute_result"
    },
    {
     "data": {
      "image/svg+xml": [
       "<?xml version=\"1.0\" encoding=\"utf-8\" standalone=\"no\"?>\n",
       "<!DOCTYPE svg PUBLIC \"-//W3C//DTD SVG 1.1//EN\"\n",
       "  \"http://www.w3.org/Graphics/SVG/1.1/DTD/svg11.dtd\">\n",
       "<!-- Created with matplotlib (https://matplotlib.org/) -->\n",
       "<svg height=\"248.518125pt\" version=\"1.1\" viewBox=\"0 0 375.2875 248.518125\" width=\"375.2875pt\" xmlns=\"http://www.w3.org/2000/svg\" xmlns:xlink=\"http://www.w3.org/1999/xlink\">\n",
       " <defs>\n",
       "  <style type=\"text/css\">\n",
       "*{stroke-linecap:butt;stroke-linejoin:round;}\n",
       "  </style>\n",
       " </defs>\n",
       " <g id=\"figure_1\">\n",
       "  <g id=\"patch_1\">\n",
       "   <path d=\"M 0 248.518125 \n",
       "L 375.2875 248.518125 \n",
       "L 375.2875 0 \n",
       "L 0 0 \n",
       "z\n",
       "\" style=\"fill:none;\"/>\n",
       "  </g>\n",
       "  <g id=\"axes_1\">\n",
       "   <g id=\"patch_2\">\n",
       "    <path d=\"M 33.2875 224.64 \n",
       "L 368.0875 224.64 \n",
       "L 368.0875 7.2 \n",
       "L 33.2875 7.2 \n",
       "z\n",
       "\" style=\"fill:#ffffff;\"/>\n",
       "   </g>\n",
       "   <g id=\"patch_3\">\n",
       "    <path clip-path=\"url(#p39b98bb5c1)\" d=\"M 48.505682 224.64 \n",
       "L 63.723864 224.64 \n",
       "L 63.723864 221.404286 \n",
       "L 48.505682 221.404286 \n",
       "z\n",
       "\" style=\"fill:#1f77b4;\"/>\n",
       "   </g>\n",
       "   <g id=\"patch_4\">\n",
       "    <path clip-path=\"url(#p39b98bb5c1)\" d=\"M 63.723864 224.64 \n",
       "L 78.942045 224.64 \n",
       "L 78.942045 218.168571 \n",
       "L 63.723864 218.168571 \n",
       "z\n",
       "\" style=\"fill:#1f77b4;\"/>\n",
       "   </g>\n",
       "   <g id=\"patch_5\">\n",
       "    <path clip-path=\"url(#p39b98bb5c1)\" d=\"M 78.942045 224.64 \n",
       "L 94.160227 224.64 \n",
       "L 94.160227 219.786429 \n",
       "L 78.942045 219.786429 \n",
       "z\n",
       "\" style=\"fill:#1f77b4;\"/>\n",
       "   </g>\n",
       "   <g id=\"patch_6\">\n",
       "    <path clip-path=\"url(#p39b98bb5c1)\" d=\"M 94.160227 224.64 \n",
       "L 109.378409 224.64 \n",
       "L 109.378409 198.754286 \n",
       "L 94.160227 198.754286 \n",
       "z\n",
       "\" style=\"fill:#1f77b4;\"/>\n",
       "   </g>\n",
       "   <g id=\"patch_7\">\n",
       "    <path clip-path=\"url(#p39b98bb5c1)\" d=\"M 109.378409 224.64 \n",
       "L 124.596591 224.64 \n",
       "L 124.596591 187.429286 \n",
       "L 109.378409 187.429286 \n",
       "z\n",
       "\" style=\"fill:#1f77b4;\"/>\n",
       "   </g>\n",
       "   <g id=\"patch_8\">\n",
       "    <path clip-path=\"url(#p39b98bb5c1)\" d=\"M 124.596591 224.64 \n",
       "L 139.814773 224.64 \n",
       "L 139.814773 169.632857 \n",
       "L 124.596591 169.632857 \n",
       "z\n",
       "\" style=\"fill:#1f77b4;\"/>\n",
       "   </g>\n",
       "   <g id=\"patch_9\">\n",
       "    <path clip-path=\"url(#p39b98bb5c1)\" d=\"M 139.814773 224.64 \n",
       "L 155.032955 224.64 \n",
       "L 155.032955 137.275714 \n",
       "L 139.814773 137.275714 \n",
       "z\n",
       "\" style=\"fill:#1f77b4;\"/>\n",
       "   </g>\n",
       "   <g id=\"patch_10\">\n",
       "    <path clip-path=\"url(#p39b98bb5c1)\" d=\"M 155.032955 224.64 \n",
       "L 170.251136 224.64 \n",
       "L 170.251136 98.447143 \n",
       "L 155.032955 98.447143 \n",
       "z\n",
       "\" style=\"fill:#1f77b4;\"/>\n",
       "   </g>\n",
       "   <g id=\"patch_11\">\n",
       "    <path clip-path=\"url(#p39b98bb5c1)\" d=\"M 170.251136 224.64 \n",
       "L 185.469318 224.64 \n",
       "L 185.469318 49.911429 \n",
       "L 170.251136 49.911429 \n",
       "z\n",
       "\" style=\"fill:#1f77b4;\"/>\n",
       "   </g>\n",
       "   <g id=\"patch_12\">\n",
       "    <path clip-path=\"url(#p39b98bb5c1)\" d=\"M 185.469318 224.64 \n",
       "L 200.6875 224.64 \n",
       "L 200.6875 22.407857 \n",
       "L 185.469318 22.407857 \n",
       "z\n",
       "\" style=\"fill:#1f77b4;\"/>\n",
       "   </g>\n",
       "   <g id=\"patch_13\">\n",
       "    <path clip-path=\"url(#p39b98bb5c1)\" d=\"M 200.6875 224.64 \n",
       "L 215.905682 224.64 \n",
       "L 215.905682 17.554286 \n",
       "L 200.6875 17.554286 \n",
       "z\n",
       "\" style=\"fill:#1f77b4;\"/>\n",
       "   </g>\n",
       "   <g id=\"patch_14\">\n",
       "    <path clip-path=\"url(#p39b98bb5c1)\" d=\"M 215.905682 224.64 \n",
       "L 231.123864 224.64 \n",
       "L 231.123864 33.732857 \n",
       "L 215.905682 33.732857 \n",
       "z\n",
       "\" style=\"fill:#1f77b4;\"/>\n",
       "   </g>\n",
       "   <g id=\"patch_15\">\n",
       "    <path clip-path=\"url(#p39b98bb5c1)\" d=\"M 231.123864 224.64 \n",
       "L 246.342045 224.64 \n",
       "L 246.342045 72.561429 \n",
       "L 231.123864 72.561429 \n",
       "z\n",
       "\" style=\"fill:#1f77b4;\"/>\n",
       "   </g>\n",
       "   <g id=\"patch_16\">\n",
       "    <path clip-path=\"url(#p39b98bb5c1)\" d=\"M 246.342045 224.64 \n",
       "L 261.560227 224.64 \n",
       "L 261.560227 88.74 \n",
       "L 246.342045 88.74 \n",
       "z\n",
       "\" style=\"fill:#1f77b4;\"/>\n",
       "   </g>\n",
       "   <g id=\"patch_17\">\n",
       "    <path clip-path=\"url(#p39b98bb5c1)\" d=\"M 261.560227 224.64 \n",
       "L 276.778409 224.64 \n",
       "L 276.778409 135.657857 \n",
       "L 261.560227 135.657857 \n",
       "z\n",
       "\" style=\"fill:#1f77b4;\"/>\n",
       "   </g>\n",
       "   <g id=\"patch_18\">\n",
       "    <path clip-path=\"url(#p39b98bb5c1)\" d=\"M 276.778409 224.64 \n",
       "L 291.996591 224.64 \n",
       "L 291.996591 180.957857 \n",
       "L 276.778409 180.957857 \n",
       "z\n",
       "\" style=\"fill:#1f77b4;\"/>\n",
       "   </g>\n",
       "   <g id=\"patch_19\">\n",
       "    <path clip-path=\"url(#p39b98bb5c1)\" d=\"M 291.996591 224.64 \n",
       "L 307.214773 224.64 \n",
       "L 307.214773 190.665 \n",
       "L 291.996591 190.665 \n",
       "z\n",
       "\" style=\"fill:#1f77b4;\"/>\n",
       "   </g>\n",
       "   <g id=\"patch_20\">\n",
       "    <path clip-path=\"url(#p39b98bb5c1)\" d=\"M 307.214773 224.64 \n",
       "L 322.432955 224.64 \n",
       "L 322.432955 203.607857 \n",
       "L 307.214773 203.607857 \n",
       "z\n",
       "\" style=\"fill:#1f77b4;\"/>\n",
       "   </g>\n",
       "   <g id=\"patch_21\">\n",
       "    <path clip-path=\"url(#p39b98bb5c1)\" d=\"M 322.432955 224.64 \n",
       "L 337.651136 224.64 \n",
       "L 337.651136 213.315 \n",
       "L 322.432955 213.315 \n",
       "z\n",
       "\" style=\"fill:#1f77b4;\"/>\n",
       "   </g>\n",
       "   <g id=\"patch_22\">\n",
       "    <path clip-path=\"url(#p39b98bb5c1)\" d=\"M 337.651136 224.64 \n",
       "L 352.869318 224.64 \n",
       "L 352.869318 214.932857 \n",
       "L 337.651136 214.932857 \n",
       "z\n",
       "\" style=\"fill:#1f77b4;\"/>\n",
       "   </g>\n",
       "   <g id=\"matplotlib.axis_1\">\n",
       "    <g id=\"xtick_1\">\n",
       "     <g id=\"line2d_1\">\n",
       "      <path clip-path=\"url(#p39b98bb5c1)\" d=\"M 39.598151 224.64 \n",
       "L 39.598151 7.2 \n",
       "\" style=\"fill:none;stroke:#b0b0b0;stroke-linecap:square;stroke-width:0.8;\"/>\n",
       "     </g>\n",
       "     <g id=\"line2d_2\">\n",
       "      <defs>\n",
       "       <path d=\"M 0 0 \n",
       "L 0 3.5 \n",
       "\" id=\"mce0f19ee45\" style=\"stroke:#000000;stroke-width:0.8;\"/>\n",
       "      </defs>\n",
       "      <g>\n",
       "       <use style=\"stroke:#000000;stroke-width:0.8;\" x=\"39.598151\" xlink:href=\"#mce0f19ee45\" y=\"224.64\"/>\n",
       "      </g>\n",
       "     </g>\n",
       "     <g id=\"text_1\">\n",
       "      <!-- 7 -->\n",
       "      <defs>\n",
       "       <path d=\"M 8.203125 72.90625 \n",
       "L 55.078125 72.90625 \n",
       "L 55.078125 68.703125 \n",
       "L 28.609375 0 \n",
       "L 18.3125 0 \n",
       "L 43.21875 64.59375 \n",
       "L 8.203125 64.59375 \n",
       "z\n",
       "\" id=\"DejaVuSans-55\"/>\n",
       "      </defs>\n",
       "      <g transform=\"translate(36.416901 239.238437)scale(0.1 -0.1)\">\n",
       "       <use xlink:href=\"#DejaVuSans-55\"/>\n",
       "      </g>\n",
       "     </g>\n",
       "    </g>\n",
       "    <g id=\"xtick_2\">\n",
       "     <g id=\"line2d_3\">\n",
       "      <path clip-path=\"url(#p39b98bb5c1)\" d=\"M 82.559393 224.64 \n",
       "L 82.559393 7.2 \n",
       "\" style=\"fill:none;stroke:#b0b0b0;stroke-linecap:square;stroke-width:0.8;\"/>\n",
       "     </g>\n",
       "     <g id=\"line2d_4\">\n",
       "      <g>\n",
       "       <use style=\"stroke:#000000;stroke-width:0.8;\" x=\"82.559393\" xlink:href=\"#mce0f19ee45\" y=\"224.64\"/>\n",
       "      </g>\n",
       "     </g>\n",
       "     <g id=\"text_2\">\n",
       "      <!-- 8 -->\n",
       "      <defs>\n",
       "       <path d=\"M 31.78125 34.625 \n",
       "Q 24.75 34.625 20.71875 30.859375 \n",
       "Q 16.703125 27.09375 16.703125 20.515625 \n",
       "Q 16.703125 13.921875 20.71875 10.15625 \n",
       "Q 24.75 6.390625 31.78125 6.390625 \n",
       "Q 38.8125 6.390625 42.859375 10.171875 \n",
       "Q 46.921875 13.96875 46.921875 20.515625 \n",
       "Q 46.921875 27.09375 42.890625 30.859375 \n",
       "Q 38.875 34.625 31.78125 34.625 \n",
       "z\n",
       "M 21.921875 38.8125 \n",
       "Q 15.578125 40.375 12.03125 44.71875 \n",
       "Q 8.5 49.078125 8.5 55.328125 \n",
       "Q 8.5 64.0625 14.71875 69.140625 \n",
       "Q 20.953125 74.21875 31.78125 74.21875 \n",
       "Q 42.671875 74.21875 48.875 69.140625 \n",
       "Q 55.078125 64.0625 55.078125 55.328125 \n",
       "Q 55.078125 49.078125 51.53125 44.71875 \n",
       "Q 48 40.375 41.703125 38.8125 \n",
       "Q 48.828125 37.15625 52.796875 32.3125 \n",
       "Q 56.78125 27.484375 56.78125 20.515625 \n",
       "Q 56.78125 9.90625 50.3125 4.234375 \n",
       "Q 43.84375 -1.421875 31.78125 -1.421875 \n",
       "Q 19.734375 -1.421875 13.25 4.234375 \n",
       "Q 6.78125 9.90625 6.78125 20.515625 \n",
       "Q 6.78125 27.484375 10.78125 32.3125 \n",
       "Q 14.796875 37.15625 21.921875 38.8125 \n",
       "z\n",
       "M 18.3125 54.390625 \n",
       "Q 18.3125 48.734375 21.84375 45.5625 \n",
       "Q 25.390625 42.390625 31.78125 42.390625 \n",
       "Q 38.140625 42.390625 41.71875 45.5625 \n",
       "Q 45.3125 48.734375 45.3125 54.390625 \n",
       "Q 45.3125 60.0625 41.71875 63.234375 \n",
       "Q 38.140625 66.40625 31.78125 66.40625 \n",
       "Q 25.390625 66.40625 21.84375 63.234375 \n",
       "Q 18.3125 60.0625 18.3125 54.390625 \n",
       "z\n",
       "\" id=\"DejaVuSans-56\"/>\n",
       "      </defs>\n",
       "      <g transform=\"translate(79.378143 239.238437)scale(0.1 -0.1)\">\n",
       "       <use xlink:href=\"#DejaVuSans-56\"/>\n",
       "      </g>\n",
       "     </g>\n",
       "    </g>\n",
       "    <g id=\"xtick_3\">\n",
       "     <g id=\"line2d_5\">\n",
       "      <path clip-path=\"url(#p39b98bb5c1)\" d=\"M 125.520635 224.64 \n",
       "L 125.520635 7.2 \n",
       "\" style=\"fill:none;stroke:#b0b0b0;stroke-linecap:square;stroke-width:0.8;\"/>\n",
       "     </g>\n",
       "     <g id=\"line2d_6\">\n",
       "      <g>\n",
       "       <use style=\"stroke:#000000;stroke-width:0.8;\" x=\"125.520635\" xlink:href=\"#mce0f19ee45\" y=\"224.64\"/>\n",
       "      </g>\n",
       "     </g>\n",
       "     <g id=\"text_3\">\n",
       "      <!-- 9 -->\n",
       "      <defs>\n",
       "       <path d=\"M 10.984375 1.515625 \n",
       "L 10.984375 10.5 \n",
       "Q 14.703125 8.734375 18.5 7.8125 \n",
       "Q 22.3125 6.890625 25.984375 6.890625 \n",
       "Q 35.75 6.890625 40.890625 13.453125 \n",
       "Q 46.046875 20.015625 46.78125 33.40625 \n",
       "Q 43.953125 29.203125 39.59375 26.953125 \n",
       "Q 35.25 24.703125 29.984375 24.703125 \n",
       "Q 19.046875 24.703125 12.671875 31.3125 \n",
       "Q 6.296875 37.9375 6.296875 49.421875 \n",
       "Q 6.296875 60.640625 12.9375 67.421875 \n",
       "Q 19.578125 74.21875 30.609375 74.21875 \n",
       "Q 43.265625 74.21875 49.921875 64.515625 \n",
       "Q 56.59375 54.828125 56.59375 36.375 \n",
       "Q 56.59375 19.140625 48.40625 8.859375 \n",
       "Q 40.234375 -1.421875 26.421875 -1.421875 \n",
       "Q 22.703125 -1.421875 18.890625 -0.6875 \n",
       "Q 15.09375 0.046875 10.984375 1.515625 \n",
       "z\n",
       "M 30.609375 32.421875 \n",
       "Q 37.25 32.421875 41.125 36.953125 \n",
       "Q 45.015625 41.5 45.015625 49.421875 \n",
       "Q 45.015625 57.28125 41.125 61.84375 \n",
       "Q 37.25 66.40625 30.609375 66.40625 \n",
       "Q 23.96875 66.40625 20.09375 61.84375 \n",
       "Q 16.21875 57.28125 16.21875 49.421875 \n",
       "Q 16.21875 41.5 20.09375 36.953125 \n",
       "Q 23.96875 32.421875 30.609375 32.421875 \n",
       "z\n",
       "\" id=\"DejaVuSans-57\"/>\n",
       "      </defs>\n",
       "      <g transform=\"translate(122.339385 239.238437)scale(0.1 -0.1)\">\n",
       "       <use xlink:href=\"#DejaVuSans-57\"/>\n",
       "      </g>\n",
       "     </g>\n",
       "    </g>\n",
       "    <g id=\"xtick_4\">\n",
       "     <g id=\"line2d_7\">\n",
       "      <path clip-path=\"url(#p39b98bb5c1)\" d=\"M 168.481877 224.64 \n",
       "L 168.481877 7.2 \n",
       "\" style=\"fill:none;stroke:#b0b0b0;stroke-linecap:square;stroke-width:0.8;\"/>\n",
       "     </g>\n",
       "     <g id=\"line2d_8\">\n",
       "      <g>\n",
       "       <use style=\"stroke:#000000;stroke-width:0.8;\" x=\"168.481877\" xlink:href=\"#mce0f19ee45\" y=\"224.64\"/>\n",
       "      </g>\n",
       "     </g>\n",
       "     <g id=\"text_4\">\n",
       "      <!-- 10 -->\n",
       "      <defs>\n",
       "       <path d=\"M 12.40625 8.296875 \n",
       "L 28.515625 8.296875 \n",
       "L 28.515625 63.921875 \n",
       "L 10.984375 60.40625 \n",
       "L 10.984375 69.390625 \n",
       "L 28.421875 72.90625 \n",
       "L 38.28125 72.90625 \n",
       "L 38.28125 8.296875 \n",
       "L 54.390625 8.296875 \n",
       "L 54.390625 0 \n",
       "L 12.40625 0 \n",
       "z\n",
       "\" id=\"DejaVuSans-49\"/>\n",
       "       <path d=\"M 31.78125 66.40625 \n",
       "Q 24.171875 66.40625 20.328125 58.90625 \n",
       "Q 16.5 51.421875 16.5 36.375 \n",
       "Q 16.5 21.390625 20.328125 13.890625 \n",
       "Q 24.171875 6.390625 31.78125 6.390625 \n",
       "Q 39.453125 6.390625 43.28125 13.890625 \n",
       "Q 47.125 21.390625 47.125 36.375 \n",
       "Q 47.125 51.421875 43.28125 58.90625 \n",
       "Q 39.453125 66.40625 31.78125 66.40625 \n",
       "z\n",
       "M 31.78125 74.21875 \n",
       "Q 44.046875 74.21875 50.515625 64.515625 \n",
       "Q 56.984375 54.828125 56.984375 36.375 \n",
       "Q 56.984375 17.96875 50.515625 8.265625 \n",
       "Q 44.046875 -1.421875 31.78125 -1.421875 \n",
       "Q 19.53125 -1.421875 13.0625 8.265625 \n",
       "Q 6.59375 17.96875 6.59375 36.375 \n",
       "Q 6.59375 54.828125 13.0625 64.515625 \n",
       "Q 19.53125 74.21875 31.78125 74.21875 \n",
       "z\n",
       "\" id=\"DejaVuSans-48\"/>\n",
       "      </defs>\n",
       "      <g transform=\"translate(162.119377 239.238437)scale(0.1 -0.1)\">\n",
       "       <use xlink:href=\"#DejaVuSans-49\"/>\n",
       "       <use x=\"63.623047\" xlink:href=\"#DejaVuSans-48\"/>\n",
       "      </g>\n",
       "     </g>\n",
       "    </g>\n",
       "    <g id=\"xtick_5\">\n",
       "     <g id=\"line2d_9\">\n",
       "      <path clip-path=\"url(#p39b98bb5c1)\" d=\"M 211.44312 224.64 \n",
       "L 211.44312 7.2 \n",
       "\" style=\"fill:none;stroke:#b0b0b0;stroke-linecap:square;stroke-width:0.8;\"/>\n",
       "     </g>\n",
       "     <g id=\"line2d_10\">\n",
       "      <g>\n",
       "       <use style=\"stroke:#000000;stroke-width:0.8;\" x=\"211.44312\" xlink:href=\"#mce0f19ee45\" y=\"224.64\"/>\n",
       "      </g>\n",
       "     </g>\n",
       "     <g id=\"text_5\">\n",
       "      <!-- 11 -->\n",
       "      <g transform=\"translate(205.08062 239.238437)scale(0.1 -0.1)\">\n",
       "       <use xlink:href=\"#DejaVuSans-49\"/>\n",
       "       <use x=\"63.623047\" xlink:href=\"#DejaVuSans-49\"/>\n",
       "      </g>\n",
       "     </g>\n",
       "    </g>\n",
       "    <g id=\"xtick_6\">\n",
       "     <g id=\"line2d_11\">\n",
       "      <path clip-path=\"url(#p39b98bb5c1)\" d=\"M 254.404362 224.64 \n",
       "L 254.404362 7.2 \n",
       "\" style=\"fill:none;stroke:#b0b0b0;stroke-linecap:square;stroke-width:0.8;\"/>\n",
       "     </g>\n",
       "     <g id=\"line2d_12\">\n",
       "      <g>\n",
       "       <use style=\"stroke:#000000;stroke-width:0.8;\" x=\"254.404362\" xlink:href=\"#mce0f19ee45\" y=\"224.64\"/>\n",
       "      </g>\n",
       "     </g>\n",
       "     <g id=\"text_6\">\n",
       "      <!-- 12 -->\n",
       "      <defs>\n",
       "       <path d=\"M 19.1875 8.296875 \n",
       "L 53.609375 8.296875 \n",
       "L 53.609375 0 \n",
       "L 7.328125 0 \n",
       "L 7.328125 8.296875 \n",
       "Q 12.9375 14.109375 22.625 23.890625 \n",
       "Q 32.328125 33.6875 34.8125 36.53125 \n",
       "Q 39.546875 41.84375 41.421875 45.53125 \n",
       "Q 43.3125 49.21875 43.3125 52.78125 \n",
       "Q 43.3125 58.59375 39.234375 62.25 \n",
       "Q 35.15625 65.921875 28.609375 65.921875 \n",
       "Q 23.96875 65.921875 18.8125 64.3125 \n",
       "Q 13.671875 62.703125 7.8125 59.421875 \n",
       "L 7.8125 69.390625 \n",
       "Q 13.765625 71.78125 18.9375 73 \n",
       "Q 24.125 74.21875 28.421875 74.21875 \n",
       "Q 39.75 74.21875 46.484375 68.546875 \n",
       "Q 53.21875 62.890625 53.21875 53.421875 \n",
       "Q 53.21875 48.921875 51.53125 44.890625 \n",
       "Q 49.859375 40.875 45.40625 35.40625 \n",
       "Q 44.1875 33.984375 37.640625 27.21875 \n",
       "Q 31.109375 20.453125 19.1875 8.296875 \n",
       "z\n",
       "\" id=\"DejaVuSans-50\"/>\n",
       "      </defs>\n",
       "      <g transform=\"translate(248.041862 239.238437)scale(0.1 -0.1)\">\n",
       "       <use xlink:href=\"#DejaVuSans-49\"/>\n",
       "       <use x=\"63.623047\" xlink:href=\"#DejaVuSans-50\"/>\n",
       "      </g>\n",
       "     </g>\n",
       "    </g>\n",
       "    <g id=\"xtick_7\">\n",
       "     <g id=\"line2d_13\">\n",
       "      <path clip-path=\"url(#p39b98bb5c1)\" d=\"M 297.365604 224.64 \n",
       "L 297.365604 7.2 \n",
       "\" style=\"fill:none;stroke:#b0b0b0;stroke-linecap:square;stroke-width:0.8;\"/>\n",
       "     </g>\n",
       "     <g id=\"line2d_14\">\n",
       "      <g>\n",
       "       <use style=\"stroke:#000000;stroke-width:0.8;\" x=\"297.365604\" xlink:href=\"#mce0f19ee45\" y=\"224.64\"/>\n",
       "      </g>\n",
       "     </g>\n",
       "     <g id=\"text_7\">\n",
       "      <!-- 13 -->\n",
       "      <defs>\n",
       "       <path d=\"M 40.578125 39.3125 \n",
       "Q 47.65625 37.796875 51.625 33 \n",
       "Q 55.609375 28.21875 55.609375 21.1875 \n",
       "Q 55.609375 10.40625 48.1875 4.484375 \n",
       "Q 40.765625 -1.421875 27.09375 -1.421875 \n",
       "Q 22.515625 -1.421875 17.65625 -0.515625 \n",
       "Q 12.796875 0.390625 7.625 2.203125 \n",
       "L 7.625 11.71875 \n",
       "Q 11.71875 9.328125 16.59375 8.109375 \n",
       "Q 21.484375 6.890625 26.8125 6.890625 \n",
       "Q 36.078125 6.890625 40.9375 10.546875 \n",
       "Q 45.796875 14.203125 45.796875 21.1875 \n",
       "Q 45.796875 27.640625 41.28125 31.265625 \n",
       "Q 36.765625 34.90625 28.71875 34.90625 \n",
       "L 20.21875 34.90625 \n",
       "L 20.21875 43.015625 \n",
       "L 29.109375 43.015625 \n",
       "Q 36.375 43.015625 40.234375 45.921875 \n",
       "Q 44.09375 48.828125 44.09375 54.296875 \n",
       "Q 44.09375 59.90625 40.109375 62.90625 \n",
       "Q 36.140625 65.921875 28.71875 65.921875 \n",
       "Q 24.65625 65.921875 20.015625 65.03125 \n",
       "Q 15.375 64.15625 9.8125 62.3125 \n",
       "L 9.8125 71.09375 \n",
       "Q 15.4375 72.65625 20.34375 73.4375 \n",
       "Q 25.25 74.21875 29.59375 74.21875 \n",
       "Q 40.828125 74.21875 47.359375 69.109375 \n",
       "Q 53.90625 64.015625 53.90625 55.328125 \n",
       "Q 53.90625 49.265625 50.4375 45.09375 \n",
       "Q 46.96875 40.921875 40.578125 39.3125 \n",
       "z\n",
       "\" id=\"DejaVuSans-51\"/>\n",
       "      </defs>\n",
       "      <g transform=\"translate(291.003104 239.238437)scale(0.1 -0.1)\">\n",
       "       <use xlink:href=\"#DejaVuSans-49\"/>\n",
       "       <use x=\"63.623047\" xlink:href=\"#DejaVuSans-51\"/>\n",
       "      </g>\n",
       "     </g>\n",
       "    </g>\n",
       "    <g id=\"xtick_8\">\n",
       "     <g id=\"line2d_15\">\n",
       "      <path clip-path=\"url(#p39b98bb5c1)\" d=\"M 340.326846 224.64 \n",
       "L 340.326846 7.2 \n",
       "\" style=\"fill:none;stroke:#b0b0b0;stroke-linecap:square;stroke-width:0.8;\"/>\n",
       "     </g>\n",
       "     <g id=\"line2d_16\">\n",
       "      <g>\n",
       "       <use style=\"stroke:#000000;stroke-width:0.8;\" x=\"340.326846\" xlink:href=\"#mce0f19ee45\" y=\"224.64\"/>\n",
       "      </g>\n",
       "     </g>\n",
       "     <g id=\"text_8\">\n",
       "      <!-- 14 -->\n",
       "      <defs>\n",
       "       <path d=\"M 37.796875 64.3125 \n",
       "L 12.890625 25.390625 \n",
       "L 37.796875 25.390625 \n",
       "z\n",
       "M 35.203125 72.90625 \n",
       "L 47.609375 72.90625 \n",
       "L 47.609375 25.390625 \n",
       "L 58.015625 25.390625 \n",
       "L 58.015625 17.1875 \n",
       "L 47.609375 17.1875 \n",
       "L 47.609375 0 \n",
       "L 37.796875 0 \n",
       "L 37.796875 17.1875 \n",
       "L 4.890625 17.1875 \n",
       "L 4.890625 26.703125 \n",
       "z\n",
       "\" id=\"DejaVuSans-52\"/>\n",
       "      </defs>\n",
       "      <g transform=\"translate(333.964346 239.238437)scale(0.1 -0.1)\">\n",
       "       <use xlink:href=\"#DejaVuSans-49\"/>\n",
       "       <use x=\"63.623047\" xlink:href=\"#DejaVuSans-52\"/>\n",
       "      </g>\n",
       "     </g>\n",
       "    </g>\n",
       "   </g>\n",
       "   <g id=\"matplotlib.axis_2\">\n",
       "    <g id=\"ytick_1\">\n",
       "     <g id=\"line2d_17\">\n",
       "      <path clip-path=\"url(#p39b98bb5c1)\" d=\"M 33.2875 224.64 \n",
       "L 368.0875 224.64 \n",
       "\" style=\"fill:none;stroke:#b0b0b0;stroke-linecap:square;stroke-width:0.8;\"/>\n",
       "     </g>\n",
       "     <g id=\"line2d_18\">\n",
       "      <defs>\n",
       "       <path d=\"M 0 0 \n",
       "L -3.5 0 \n",
       "\" id=\"m617536972c\" style=\"stroke:#000000;stroke-width:0.8;\"/>\n",
       "      </defs>\n",
       "      <g>\n",
       "       <use style=\"stroke:#000000;stroke-width:0.8;\" x=\"33.2875\" xlink:href=\"#m617536972c\" y=\"224.64\"/>\n",
       "      </g>\n",
       "     </g>\n",
       "     <g id=\"text_9\">\n",
       "      <!-- 0 -->\n",
       "      <g transform=\"translate(19.925 228.439219)scale(0.1 -0.1)\">\n",
       "       <use xlink:href=\"#DejaVuSans-48\"/>\n",
       "      </g>\n",
       "     </g>\n",
       "    </g>\n",
       "    <g id=\"ytick_2\">\n",
       "     <g id=\"line2d_19\">\n",
       "      <path clip-path=\"url(#p39b98bb5c1)\" d=\"M 33.2875 192.282857 \n",
       "L 368.0875 192.282857 \n",
       "\" style=\"fill:none;stroke:#b0b0b0;stroke-linecap:square;stroke-width:0.8;\"/>\n",
       "     </g>\n",
       "     <g id=\"line2d_20\">\n",
       "      <g>\n",
       "       <use style=\"stroke:#000000;stroke-width:0.8;\" x=\"33.2875\" xlink:href=\"#m617536972c\" y=\"192.282857\"/>\n",
       "      </g>\n",
       "     </g>\n",
       "     <g id=\"text_10\">\n",
       "      <!-- 20 -->\n",
       "      <g transform=\"translate(13.5625 196.082076)scale(0.1 -0.1)\">\n",
       "       <use xlink:href=\"#DejaVuSans-50\"/>\n",
       "       <use x=\"63.623047\" xlink:href=\"#DejaVuSans-48\"/>\n",
       "      </g>\n",
       "     </g>\n",
       "    </g>\n",
       "    <g id=\"ytick_3\">\n",
       "     <g id=\"line2d_21\">\n",
       "      <path clip-path=\"url(#p39b98bb5c1)\" d=\"M 33.2875 159.925714 \n",
       "L 368.0875 159.925714 \n",
       "\" style=\"fill:none;stroke:#b0b0b0;stroke-linecap:square;stroke-width:0.8;\"/>\n",
       "     </g>\n",
       "     <g id=\"line2d_22\">\n",
       "      <g>\n",
       "       <use style=\"stroke:#000000;stroke-width:0.8;\" x=\"33.2875\" xlink:href=\"#m617536972c\" y=\"159.925714\"/>\n",
       "      </g>\n",
       "     </g>\n",
       "     <g id=\"text_11\">\n",
       "      <!-- 40 -->\n",
       "      <g transform=\"translate(13.5625 163.724933)scale(0.1 -0.1)\">\n",
       "       <use xlink:href=\"#DejaVuSans-52\"/>\n",
       "       <use x=\"63.623047\" xlink:href=\"#DejaVuSans-48\"/>\n",
       "      </g>\n",
       "     </g>\n",
       "    </g>\n",
       "    <g id=\"ytick_4\">\n",
       "     <g id=\"line2d_23\">\n",
       "      <path clip-path=\"url(#p39b98bb5c1)\" d=\"M 33.2875 127.568571 \n",
       "L 368.0875 127.568571 \n",
       "\" style=\"fill:none;stroke:#b0b0b0;stroke-linecap:square;stroke-width:0.8;\"/>\n",
       "     </g>\n",
       "     <g id=\"line2d_24\">\n",
       "      <g>\n",
       "       <use style=\"stroke:#000000;stroke-width:0.8;\" x=\"33.2875\" xlink:href=\"#m617536972c\" y=\"127.568571\"/>\n",
       "      </g>\n",
       "     </g>\n",
       "     <g id=\"text_12\">\n",
       "      <!-- 60 -->\n",
       "      <defs>\n",
       "       <path d=\"M 33.015625 40.375 \n",
       "Q 26.375 40.375 22.484375 35.828125 \n",
       "Q 18.609375 31.296875 18.609375 23.390625 \n",
       "Q 18.609375 15.53125 22.484375 10.953125 \n",
       "Q 26.375 6.390625 33.015625 6.390625 \n",
       "Q 39.65625 6.390625 43.53125 10.953125 \n",
       "Q 47.40625 15.53125 47.40625 23.390625 \n",
       "Q 47.40625 31.296875 43.53125 35.828125 \n",
       "Q 39.65625 40.375 33.015625 40.375 \n",
       "z\n",
       "M 52.59375 71.296875 \n",
       "L 52.59375 62.3125 \n",
       "Q 48.875 64.0625 45.09375 64.984375 \n",
       "Q 41.3125 65.921875 37.59375 65.921875 \n",
       "Q 27.828125 65.921875 22.671875 59.328125 \n",
       "Q 17.53125 52.734375 16.796875 39.40625 \n",
       "Q 19.671875 43.65625 24.015625 45.921875 \n",
       "Q 28.375 48.1875 33.59375 48.1875 \n",
       "Q 44.578125 48.1875 50.953125 41.515625 \n",
       "Q 57.328125 34.859375 57.328125 23.390625 \n",
       "Q 57.328125 12.15625 50.6875 5.359375 \n",
       "Q 44.046875 -1.421875 33.015625 -1.421875 \n",
       "Q 20.359375 -1.421875 13.671875 8.265625 \n",
       "Q 6.984375 17.96875 6.984375 36.375 \n",
       "Q 6.984375 53.65625 15.1875 63.9375 \n",
       "Q 23.390625 74.21875 37.203125 74.21875 \n",
       "Q 40.921875 74.21875 44.703125 73.484375 \n",
       "Q 48.484375 72.75 52.59375 71.296875 \n",
       "z\n",
       "\" id=\"DejaVuSans-54\"/>\n",
       "      </defs>\n",
       "      <g transform=\"translate(13.5625 131.36779)scale(0.1 -0.1)\">\n",
       "       <use xlink:href=\"#DejaVuSans-54\"/>\n",
       "       <use x=\"63.623047\" xlink:href=\"#DejaVuSans-48\"/>\n",
       "      </g>\n",
       "     </g>\n",
       "    </g>\n",
       "    <g id=\"ytick_5\">\n",
       "     <g id=\"line2d_25\">\n",
       "      <path clip-path=\"url(#p39b98bb5c1)\" d=\"M 33.2875 95.211429 \n",
       "L 368.0875 95.211429 \n",
       "\" style=\"fill:none;stroke:#b0b0b0;stroke-linecap:square;stroke-width:0.8;\"/>\n",
       "     </g>\n",
       "     <g id=\"line2d_26\">\n",
       "      <g>\n",
       "       <use style=\"stroke:#000000;stroke-width:0.8;\" x=\"33.2875\" xlink:href=\"#m617536972c\" y=\"95.211429\"/>\n",
       "      </g>\n",
       "     </g>\n",
       "     <g id=\"text_13\">\n",
       "      <!-- 80 -->\n",
       "      <g transform=\"translate(13.5625 99.010647)scale(0.1 -0.1)\">\n",
       "       <use xlink:href=\"#DejaVuSans-56\"/>\n",
       "       <use x=\"63.623047\" xlink:href=\"#DejaVuSans-48\"/>\n",
       "      </g>\n",
       "     </g>\n",
       "    </g>\n",
       "    <g id=\"ytick_6\">\n",
       "     <g id=\"line2d_27\">\n",
       "      <path clip-path=\"url(#p39b98bb5c1)\" d=\"M 33.2875 62.854286 \n",
       "L 368.0875 62.854286 \n",
       "\" style=\"fill:none;stroke:#b0b0b0;stroke-linecap:square;stroke-width:0.8;\"/>\n",
       "     </g>\n",
       "     <g id=\"line2d_28\">\n",
       "      <g>\n",
       "       <use style=\"stroke:#000000;stroke-width:0.8;\" x=\"33.2875\" xlink:href=\"#m617536972c\" y=\"62.854286\"/>\n",
       "      </g>\n",
       "     </g>\n",
       "     <g id=\"text_14\">\n",
       "      <!-- 100 -->\n",
       "      <g transform=\"translate(7.2 66.653504)scale(0.1 -0.1)\">\n",
       "       <use xlink:href=\"#DejaVuSans-49\"/>\n",
       "       <use x=\"63.623047\" xlink:href=\"#DejaVuSans-48\"/>\n",
       "       <use x=\"127.246094\" xlink:href=\"#DejaVuSans-48\"/>\n",
       "      </g>\n",
       "     </g>\n",
       "    </g>\n",
       "    <g id=\"ytick_7\">\n",
       "     <g id=\"line2d_29\">\n",
       "      <path clip-path=\"url(#p39b98bb5c1)\" d=\"M 33.2875 30.497143 \n",
       "L 368.0875 30.497143 \n",
       "\" style=\"fill:none;stroke:#b0b0b0;stroke-linecap:square;stroke-width:0.8;\"/>\n",
       "     </g>\n",
       "     <g id=\"line2d_30\">\n",
       "      <g>\n",
       "       <use style=\"stroke:#000000;stroke-width:0.8;\" x=\"33.2875\" xlink:href=\"#m617536972c\" y=\"30.497143\"/>\n",
       "      </g>\n",
       "     </g>\n",
       "     <g id=\"text_15\">\n",
       "      <!-- 120 -->\n",
       "      <g transform=\"translate(7.2 34.296362)scale(0.1 -0.1)\">\n",
       "       <use xlink:href=\"#DejaVuSans-49\"/>\n",
       "       <use x=\"63.623047\" xlink:href=\"#DejaVuSans-50\"/>\n",
       "       <use x=\"127.246094\" xlink:href=\"#DejaVuSans-48\"/>\n",
       "      </g>\n",
       "     </g>\n",
       "    </g>\n",
       "   </g>\n",
       "   <g id=\"patch_23\">\n",
       "    <path d=\"M 33.2875 224.64 \n",
       "L 33.2875 7.2 \n",
       "\" style=\"fill:none;stroke:#000000;stroke-linecap:square;stroke-linejoin:miter;stroke-width:0.8;\"/>\n",
       "   </g>\n",
       "   <g id=\"patch_24\">\n",
       "    <path d=\"M 368.0875 224.64 \n",
       "L 368.0875 7.2 \n",
       "\" style=\"fill:none;stroke:#000000;stroke-linecap:square;stroke-linejoin:miter;stroke-width:0.8;\"/>\n",
       "   </g>\n",
       "   <g id=\"patch_25\">\n",
       "    <path d=\"M 33.2875 224.64 \n",
       "L 368.0875 224.64 \n",
       "\" style=\"fill:none;stroke:#000000;stroke-linecap:square;stroke-linejoin:miter;stroke-width:0.8;\"/>\n",
       "   </g>\n",
       "   <g id=\"patch_26\">\n",
       "    <path d=\"M 33.2875 7.2 \n",
       "L 368.0875 7.2 \n",
       "\" style=\"fill:none;stroke:#000000;stroke-linecap:square;stroke-linejoin:miter;stroke-width:0.8;\"/>\n",
       "   </g>\n",
       "  </g>\n",
       " </g>\n",
       " <defs>\n",
       "  <clipPath id=\"p39b98bb5c1\">\n",
       "   <rect height=\"217.44\" width=\"334.8\" x=\"33.2875\" y=\"7.2\"/>\n",
       "  </clipPath>\n",
       " </defs>\n",
       "</svg>\n"
      ],
      "text/plain": [
       "<Figure size 432x288 with 1 Axes>"
      ]
     },
     "metadata": {
      "needs_background": "light",
      "tags": []
     },
     "output_type": "display_data"
    }
   ],
   "source": [
    "df.log_loss.hist(bins=20)"
   ]
  },
  {
   "cell_type": "markdown",
   "metadata": {
    "colab_type": "text",
    "id": "UFsDXl-M5saN"
   },
   "source": [
    "End of class 2"
   ]
  }
 ],
 "metadata": {
  "colab": {
   "authorship_tag": "ABX9TyObgRZKs0aK5pZo4owIDBiG",
   "mount_file_id": "1t6zcFj8KPtiR2kLEeGeyd1OVBiQWvbfy",
   "name": "Class2.ipynb",
   "provenance": []
  },
  "kernelspec": {
   "display_name": "Python 3",
   "language": "python",
   "name": "python3"
  },
  "language_info": {
   "codemirror_mode": {
    "name": "ipython",
    "version": 3
   },
   "file_extension": ".py",
   "mimetype": "text/x-python",
   "name": "python",
   "nbconvert_exporter": "python",
   "pygments_lexer": "ipython3",
   "version": "3.7.6"
  }
 },
 "nbformat": 4,
 "nbformat_minor": 4
}
