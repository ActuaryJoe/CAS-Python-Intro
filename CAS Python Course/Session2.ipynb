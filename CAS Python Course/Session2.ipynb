{
 "cells": [
  {
   "cell_type": "code",
   "execution_count": 1,
   "metadata": {},
   "outputs": [],
   "source": [
    "import sys"
   ]
  },
  {
   "cell_type": "code",
   "execution_count": 2,
   "metadata": {},
   "outputs": [
    {
     "data": {
      "text/plain": [
       "['C:\\\\Users\\\\e015614\\\\OneDrive - FBL Financial Group, Inc\\\\CAS Python Course',\n",
       " 'C:\\\\Users\\\\e015614\\\\Anaconda3\\\\python37.zip',\n",
       " 'C:\\\\Users\\\\e015614\\\\Anaconda3\\\\DLLs',\n",
       " 'C:\\\\Users\\\\e015614\\\\Anaconda3\\\\lib',\n",
       " 'C:\\\\Users\\\\e015614\\\\Anaconda3',\n",
       " '',\n",
       " 'C:\\\\Users\\\\e015614\\\\Anaconda3\\\\lib\\\\site-packages',\n",
       " 'C:\\\\Users\\\\e015614\\\\Anaconda3\\\\lib\\\\site-packages\\\\win32',\n",
       " 'C:\\\\Users\\\\e015614\\\\Anaconda3\\\\lib\\\\site-packages\\\\win32\\\\lib',\n",
       " 'C:\\\\Users\\\\e015614\\\\Anaconda3\\\\lib\\\\site-packages\\\\Pythonwin',\n",
       " 'C:\\\\Users\\\\e015614\\\\Anaconda3\\\\lib\\\\site-packages\\\\IPython\\\\extensions',\n",
       " 'C:\\\\Users\\\\e015614\\\\.ipython']"
      ]
     },
     "execution_count": 2,
     "metadata": {},
     "output_type": "execute_result"
    }
   ],
   "source": [
    "sys.path"
   ]
  },
  {
   "cell_type": "code",
   "execution_count": 4,
   "metadata": {},
   "outputs": [],
   "source": [
    "sys.path.append(\"\\OneDrive - FBL Financial Group, Inc\\\\CAS Python Course\")"
   ]
  },
  {
   "cell_type": "code",
   "execution_count": 7,
   "metadata": {},
   "outputs": [
    {
     "data": {
      "text/plain": [
       "<function dir>"
      ]
     },
     "execution_count": 7,
     "metadata": {},
     "output_type": "execute_result"
    }
   ],
   "source": []
  },
  {
   "cell_type": "code",
   "execution_count": 6,
   "metadata": {},
   "outputs": [
    {
     "ename": "NameError",
     "evalue": "name 'cas_demo' is not defined",
     "output_type": "error",
     "traceback": [
      "\u001b[1;31m---------------------------------------------------------------------------\u001b[0m",
      "\u001b[1;31mNameError\u001b[0m                                 Traceback (most recent call last)",
      "\u001b[1;32m<ipython-input-6-88073a8f4cd0>\u001b[0m in \u001b[0;36m<module>\u001b[1;34m\u001b[0m\n\u001b[1;32m----> 1\u001b[1;33m \u001b[0md\u001b[0m \u001b[1;33m=\u001b[0m \u001b[0mcas_demo\u001b[0m\u001b[1;33m.\u001b[0m\u001b[0mDemo\u001b[0m\u001b[1;33m(\u001b[0m\u001b[1;34m\"Session2.md\"\u001b[0m\u001b[1;33m)\u001b[0m\u001b[1;33m\u001b[0m\u001b[1;33m\u001b[0m\u001b[0m\n\u001b[0m",
      "\u001b[1;31mNameError\u001b[0m: name 'cas_demo' is not defined"
     ]
    }
   ],
   "source": [
    "d = cas_demo.Demo(\"Session2.md\")"
   ]
  },
  {
   "cell_type": "code",
   "execution_count": 8,
   "metadata": {},
   "outputs": [
    {
     "data": {
      "text/plain": [
       "(2, [4, 6], 4, [4, 6], [6, 4, 3, 2, 1])"
      ]
     },
     "execution_count": 8,
     "metadata": {},
     "output_type": "execute_result"
    }
   ],
   "source": [
    "a = [1,2,3,4,6]\n",
    "\n",
    "a[1], a[3:], a[-2], a[-2:], a[::-1]"
   ]
  },
  {
   "cell_type": "code",
   "execution_count": 9,
   "metadata": {},
   "outputs": [
    {
     "data": {
      "text/plain": [
       "200"
      ]
     },
     "execution_count": 9,
     "metadata": {},
     "output_type": "execute_result"
    }
   ],
   "source": [
    "def myfunction(x):\n",
    "    return x * 10\n",
    "\n",
    "myfunction(20)"
   ]
  },
  {
   "cell_type": "code",
   "execution_count": 10,
   "metadata": {},
   "outputs": [],
   "source": [
    "s = \"jack and jill went up the hill to fetch a pail of water \""
   ]
  },
  {
   "cell_type": "code",
   "execution_count": 11,
   "metadata": {},
   "outputs": [
    {
     "data": {
      "text/plain": [
       "{'t': 5,\n",
       " 'l': 5,\n",
       " 'k': 1,\n",
       " 'u': 1,\n",
       " 'o': 2,\n",
       " 'a': 5,\n",
       " 'i': 3,\n",
       " 'd': 1,\n",
       " 'h': 3,\n",
       " 'r': 1,\n",
       " 'j': 2,\n",
       " 'p': 2,\n",
       " 'w': 2,\n",
       " ' ': 13,\n",
       " 'n': 2,\n",
       " 'e': 4,\n",
       " 'f': 2,\n",
       " 'c': 2}"
      ]
     },
     "execution_count": 11,
     "metadata": {},
     "output_type": "execute_result"
    }
   ],
   "source": [
    "{ i : s.count(i) for i in set(s) }"
   ]
  },
  {
   "cell_type": "code",
   "execution_count": 14,
   "metadata": {},
   "outputs": [
    {
     "data": {
      "text/plain": [
       "{'t': 5,\n",
       " 'l': 5,\n",
       " 'k': 1,\n",
       " 'u': 1,\n",
       " 'o': 2,\n",
       " 'a': 5,\n",
       " 'i': 3,\n",
       " 'd': 1,\n",
       " 'h': 3,\n",
       " 'r': 1,\n",
       " 'j': 2,\n",
       " 'p': 2,\n",
       " 'w': 2,\n",
       " ' ': 13,\n",
       " 'n': 2,\n",
       " 'e': 4,\n",
       " 'f': 2,\n",
       " 'c': 2}"
      ]
     },
     "execution_count": 14,
     "metadata": {},
     "output_type": "execute_result"
    }
   ],
   "source": [
    "def letter(s, omit=''):\n",
    "    return { i : s.count(i) for i in set(s) if i not in omit }\n",
    "\n",
    "letter(s)"
   ]
  },
  {
   "cell_type": "code",
   "execution_count": 13,
   "metadata": {},
   "outputs": [
    {
     "data": {
      "text/plain": [
       "{'t': 5,\n",
       " 'l': 5,\n",
       " 'k': 1,\n",
       " 'd': 1,\n",
       " 'h': 3,\n",
       " 'r': 1,\n",
       " 'j': 2,\n",
       " 'p': 2,\n",
       " 'w': 2,\n",
       " 'n': 2,\n",
       " 'f': 2,\n",
       " 'c': 2}"
      ]
     },
     "execution_count": 13,
     "metadata": {},
     "output_type": "execute_result"
    }
   ],
   "source": [
    "letter(s, ' aeiou')"
   ]
  },
  {
   "cell_type": "code",
   "execution_count": 15,
   "metadata": {},
   "outputs": [
    {
     "name": "stdout",
     "output_type": "stream",
     "text": [
      "['jack', 'and', 'jill', 'went', 'up', 'the', 'hill', 'to', 'fetch', 'a', 'pail', 'of', 'water']\n"
     ]
    }
   ],
   "source": [
    "print(s.split())"
   ]
  },
  {
   "cell_type": "code",
   "execution_count": 16,
   "metadata": {},
   "outputs": [
    {
     "data": {
      "text/plain": [
       "{'and': 1,\n",
       " 'up': 1,\n",
       " 'the': 1,\n",
       " 'went': 1,\n",
       " 'a': 1,\n",
       " 'pail': 1,\n",
       " 'fetch': 1,\n",
       " 'water': 1,\n",
       " 'of': 1,\n",
       " 'to': 1,\n",
       " 'hill': 1,\n",
       " 'jill': 1,\n",
       " 'jack': 1}"
      ]
     },
     "execution_count": 16,
     "metadata": {},
     "output_type": "execute_result"
    }
   ],
   "source": [
    "letter(s.split())"
   ]
  },
  {
   "cell_type": "code",
   "execution_count": 17,
   "metadata": {},
   "outputs": [
    {
     "data": {
      "text/plain": [
       "['__add__',\n",
       " '__class__',\n",
       " '__contains__',\n",
       " '__delattr__',\n",
       " '__dir__',\n",
       " '__doc__',\n",
       " '__eq__',\n",
       " '__format__',\n",
       " '__ge__',\n",
       " '__getattribute__',\n",
       " '__getitem__',\n",
       " '__getnewargs__',\n",
       " '__gt__',\n",
       " '__hash__',\n",
       " '__init__',\n",
       " '__init_subclass__',\n",
       " '__iter__',\n",
       " '__le__',\n",
       " '__len__',\n",
       " '__lt__',\n",
       " '__mod__',\n",
       " '__mul__',\n",
       " '__ne__',\n",
       " '__new__',\n",
       " '__reduce__',\n",
       " '__reduce_ex__',\n",
       " '__repr__',\n",
       " '__rmod__',\n",
       " '__rmul__',\n",
       " '__setattr__',\n",
       " '__sizeof__',\n",
       " '__str__',\n",
       " '__subclasshook__',\n",
       " 'capitalize',\n",
       " 'casefold',\n",
       " 'center',\n",
       " 'count',\n",
       " 'encode',\n",
       " 'endswith',\n",
       " 'expandtabs',\n",
       " 'find',\n",
       " 'format',\n",
       " 'format_map',\n",
       " 'index',\n",
       " 'isalnum',\n",
       " 'isalpha',\n",
       " 'isascii',\n",
       " 'isdecimal',\n",
       " 'isdigit',\n",
       " 'isidentifier',\n",
       " 'islower',\n",
       " 'isnumeric',\n",
       " 'isprintable',\n",
       " 'isspace',\n",
       " 'istitle',\n",
       " 'isupper',\n",
       " 'join',\n",
       " 'ljust',\n",
       " 'lower',\n",
       " 'lstrip',\n",
       " 'maketrans',\n",
       " 'partition',\n",
       " 'replace',\n",
       " 'rfind',\n",
       " 'rindex',\n",
       " 'rjust',\n",
       " 'rpartition',\n",
       " 'rsplit',\n",
       " 'rstrip',\n",
       " 'split',\n",
       " 'splitlines',\n",
       " 'startswith',\n",
       " 'strip',\n",
       " 'swapcase',\n",
       " 'title',\n",
       " 'translate',\n",
       " 'upper',\n",
       " 'zfill']"
      ]
     },
     "execution_count": 17,
     "metadata": {},
     "output_type": "execute_result"
    }
   ],
   "source": [
    "dir(str) #all you can do about function"
   ]
  },
  {
   "cell_type": "code",
   "execution_count": 18,
   "metadata": {},
   "outputs": [
    {
     "data": {
      "text/plain": [
       "'Jack And Jill Went Up The Hill To Fetch A Pail Of Water '"
      ]
     },
     "execution_count": 18,
     "metadata": {},
     "output_type": "execute_result"
    }
   ],
   "source": [
    "s.title()"
   ]
  },
  {
   "cell_type": "code",
   "execution_count": 19,
   "metadata": {},
   "outputs": [],
   "source": [
    "def sdir(x, colwidth=80):\n",
    "    \"\"\"\n",
    "    Directory of useful elements, wrapped\n",
    "    \"\"\"\n",
    "    from textwrap import fill\n",
    "\n",
    "    # all the work is in this line:\n",
    "    l = [i for i in dir(x) if i[0] != '_']\n",
    "\n",
    "    # frills to printout nicely\n",
    "    mx = max(map(len, l))\n",
    "    mx += 2\n",
    "    fs = f'{{:<{mx:d}s}}'\n",
    "    l = [fs.format(i) for i in l if i[0] != '_']\n",
    "    print(fill('\\t'.join(l), colwidth))"
   ]
  },
  {
   "cell_type": "code",
   "execution_count": 20,
   "metadata": {},
   "outputs": [
    {
     "name": "stdout",
     "output_type": "stream",
     "text": [
      "capitalize      casefold        center          count           encode\n",
      "endswith        expandtabs      find            format          format_map\n",
      "index           isalnum         isalpha         isascii         isdecimal\n",
      "isdigit         isidentifier    islower         isnumeric       isprintable\n",
      "isspace         istitle         isupper         join            ljust\n",
      "lower           lstrip          maketrans       partition       replace\n",
      "rfind           rindex          rjust           rpartition      rsplit\n",
      "rstrip          split           splitlines      startswith      strip\n",
      "swapcase        title           translate       upper           zfill\n"
     ]
    }
   ],
   "source": [
    "sdir(str)"
   ]
  },
  {
   "cell_type": "code",
   "execution_count": 22,
   "metadata": {},
   "outputs": [
    {
     "name": "stdout",
     "output_type": "stream",
     "text": [
      "Object `str.strip()` not found.\n"
     ]
    }
   ],
   "source": [
    "?str.strip()"
   ]
  },
  {
   "cell_type": "code",
   "execution_count": 23,
   "metadata": {},
   "outputs": [
    {
     "name": "stdout",
     "output_type": "stream",
     "text": [
      "The Zen of Python, by Tim Peters\n",
      "\n",
      "Beautiful is better than ugly.\n",
      "Explicit is better than implicit.\n",
      "Simple is better than complex.\n",
      "Complex is better than complicated.\n",
      "Flat is better than nested.\n",
      "Sparse is better than dense.\n",
      "Readability counts.\n",
      "Special cases aren't special enough to break the rules.\n",
      "Although practicality beats purity.\n",
      "Errors should never pass silently.\n",
      "Unless explicitly silenced.\n",
      "In the face of ambiguity, refuse the temptation to guess.\n",
      "There should be one-- and preferably only one --obvious way to do it.\n",
      "Although that way may not be obvious at first unless you're Dutch.\n",
      "Now is better than never.\n",
      "Although never is often better than *right* now.\n",
      "If the implementation is hard to explain, it's a bad idea.\n",
      "If the implementation is easy to explain, it may be a good idea.\n",
      "Namespaces are one honking great idea -- let's do more of those!\n"
     ]
    }
   ],
   "source": [
    "import this"
   ]
  },
  {
   "cell_type": "code",
   "execution_count": 24,
   "metadata": {},
   "outputs": [],
   "source": [
    "import numpy as np"
   ]
  },
  {
   "cell_type": "code",
   "execution_count": 25,
   "metadata": {},
   "outputs": [
    {
     "name": "stdout",
     "output_type": "stream",
     "text": [
      "BitGenerator            Generator               MT19937                 PCG64\n",
      "Philox                  RandomState             SFC64\n",
      "SeedSequence            absolute_import         beta                    binomial\n",
      "bytes                   chisquare               choice\n",
      "default_rng             dirichlet               division\n",
      "exponential             f                       gamma\n",
      "geometric               get_state               gumbel\n",
      "hypergeometric          laplace                 logistic\n",
      "lognormal               logseries               mtrand\n",
      "multinomial             multivariate_normal     negative_binomial\n",
      "noncentral_chisquare    noncentral_f            normal                  pareto\n",
      "permutation             poisson                 power\n",
      "print_function          rand                    randint                 randn\n",
      "random                  random_integers         random_sample           ranf\n",
      "rayleigh                sample                  seed\n",
      "set_state               shuffle                 standard_cauchy\n",
      "standard_exponential    standard_gamma          standard_normal\n",
      "standard_t              test                    triangular              uniform\n",
      "vonmises                wald                    weibull                 zipf\n"
     ]
    }
   ],
   "source": [
    "sdir(np.random)"
   ]
  },
  {
   "cell_type": "code",
   "execution_count": null,
   "metadata": {},
   "outputs": [],
   "source": []
  },
  {
   "cell_type": "code",
   "execution_count": 26,
   "metadata": {},
   "outputs": [],
   "source": [
    "r_letters = np.random.choice(list('ABCDE'), 10)"
   ]
  },
  {
   "cell_type": "code",
   "execution_count": 28,
   "metadata": {},
   "outputs": [
    {
     "data": {
      "text/plain": [
       "array(['D', 'E', 'D', 'D', 'D', 'C', 'D', 'B', 'B', 'B'], dtype='<U1')"
      ]
     },
     "execution_count": 28,
     "metadata": {},
     "output_type": "execute_result"
    }
   ],
   "source": [
    "r_letters"
   ]
  },
  {
   "cell_type": "code",
   "execution_count": 29,
   "metadata": {},
   "outputs": [
    {
     "data": {
      "text/plain": [
       "array([0.41275169, 0.14408703, 0.19666275, 0.25897569, 0.38059331,\n",
       "       0.93563232, 0.68031718, 0.15016898, 0.80338865, 0.19411399])"
      ]
     },
     "execution_count": 29,
     "metadata": {},
     "output_type": "execute_result"
    }
   ],
   "source": [
    "r_unif = np.random.rand(10)\n",
    "r_unif "
   ]
  },
  {
   "cell_type": "code",
   "execution_count": 30,
   "metadata": {},
   "outputs": [
    {
     "data": {
      "text/plain": [
       "array([20199.9678523 , 42100.14074233, 18588.56712059, 25285.75826367,\n",
       "       26000.60560461, 27853.06767908, 22909.8560586 , 23081.69361154,\n",
       "       18387.48422912, 22786.39787686])"
      ]
     },
     "execution_count": 30,
     "metadata": {},
     "output_type": "execute_result"
    }
   ],
   "source": [
    "r_lognorm = np.random.lognormal(10, .2, 10)\n",
    "r_lognorm"
   ]
  },
  {
   "cell_type": "code",
   "execution_count": 31,
   "metadata": {},
   "outputs": [
    {
     "data": {
      "text/plain": [
       "(array(['D', 'E', 'D', 'D', 'D', 'C', 'D', 'B', 'B', 'B'], dtype='<U1'),\n",
       " array([0.41275169, 0.14408703, 0.19666275, 0.25897569, 0.38059331,\n",
       "        0.93563232, 0.68031718, 0.15016898, 0.80338865, 0.19411399]),\n",
       " array([20199.9678523 , 42100.14074233, 18588.56712059, 25285.75826367,\n",
       "        26000.60560461, 27853.06767908, 22909.8560586 , 23081.69361154,\n",
       "        18387.48422912, 22786.39787686]))"
      ]
     },
     "execution_count": 31,
     "metadata": {},
     "output_type": "execute_result"
    }
   ],
   "source": [
    "r_letters, r_unif, r_lognorm"
   ]
  },
  {
   "cell_type": "code",
   "execution_count": 32,
   "metadata": {},
   "outputs": [
    {
     "data": {
      "text/plain": [
       "array(['f', 'f', 'B', 'B', 'C', 'f', 'f', 'B', 'B', 'D'], dtype='<U1')"
      ]
     },
     "execution_count": 32,
     "metadata": {},
     "output_type": "execute_result"
    }
   ],
   "source": [
    "f_letters = np.random.choice(list('ABCDEf'), 10)\n",
    "f_letters "
   ]
  },
  {
   "cell_type": "code",
   "execution_count": 33,
   "metadata": {},
   "outputs": [
    {
     "data": {
      "text/plain": [
       "500"
      ]
     },
     "execution_count": 33,
     "metadata": {},
     "output_type": "execute_result"
    }
   ],
   "source": [
    "letters = list(np.random.choice(list('ABCDE'), 500, p=[.4,.3,.2,.05,.05]))\n",
    "n = len(letters)\n",
    "n"
   ]
  },
  {
   "cell_type": "code",
   "execution_count": 34,
   "metadata": {},
   "outputs": [
    {
     "data": {
      "text/plain": [
       "{'A': 0.396, 'B': 0.272, 'C': 0.22, 'D': 0.054, 'E': 0.058}"
      ]
     },
     "execution_count": 34,
     "metadata": {},
     "output_type": "execute_result"
    }
   ],
   "source": [
    "freq = { i: letters.count(i) / n for i in 'ABCDE'}\n",
    "\n",
    "freq"
   ]
  },
  {
   "cell_type": "code",
   "execution_count": null,
   "metadata": {},
   "outputs": [],
   "source": [
    "Module 2: Create a DataFrame and Access Elements\n",
    "Finally, Pandas: your spreadsheet in Python."
   ]
  },
  {
   "cell_type": "code",
   "execution_count": 35,
   "metadata": {},
   "outputs": [
    {
     "data": {
      "text/html": [
       "<div>\n",
       "<style scoped>\n",
       "    .dataframe tbody tr th:only-of-type {\n",
       "        vertical-align: middle;\n",
       "    }\n",
       "\n",
       "    .dataframe tbody tr th {\n",
       "        vertical-align: top;\n",
       "    }\n",
       "\n",
       "    .dataframe thead th {\n",
       "        text-align: right;\n",
       "    }\n",
       "</style>\n",
       "<table border=\"1\" class=\"dataframe\">\n",
       "  <thead>\n",
       "    <tr style=\"text-align: right;\">\n",
       "      <th></th>\n",
       "      <th>a</th>\n",
       "      <th>b</th>\n",
       "      <th>c</th>\n",
       "      <th>d</th>\n",
       "    </tr>\n",
       "  </thead>\n",
       "  <tbody>\n",
       "    <tr>\n",
       "      <th>0</th>\n",
       "      <td>100</td>\n",
       "      <td>C</td>\n",
       "      <td>0.002056</td>\n",
       "      <td>2020-07-05</td>\n",
       "    </tr>\n",
       "    <tr>\n",
       "      <th>1</th>\n",
       "      <td>101</td>\n",
       "      <td>A</td>\n",
       "      <td>0.952524</td>\n",
       "      <td>2020-07-06</td>\n",
       "    </tr>\n",
       "    <tr>\n",
       "      <th>2</th>\n",
       "      <td>102</td>\n",
       "      <td>E</td>\n",
       "      <td>0.960452</td>\n",
       "      <td>2020-07-07</td>\n",
       "    </tr>\n",
       "    <tr>\n",
       "      <th>3</th>\n",
       "      <td>103</td>\n",
       "      <td>C</td>\n",
       "      <td>0.256880</td>\n",
       "      <td>2020-07-08</td>\n",
       "    </tr>\n",
       "    <tr>\n",
       "      <th>4</th>\n",
       "      <td>104</td>\n",
       "      <td>C</td>\n",
       "      <td>0.404484</td>\n",
       "      <td>2020-07-09</td>\n",
       "    </tr>\n",
       "    <tr>\n",
       "      <th>5</th>\n",
       "      <td>105</td>\n",
       "      <td>C</td>\n",
       "      <td>0.369257</td>\n",
       "      <td>2020-07-10</td>\n",
       "    </tr>\n",
       "    <tr>\n",
       "      <th>6</th>\n",
       "      <td>106</td>\n",
       "      <td>D</td>\n",
       "      <td>0.615223</td>\n",
       "      <td>2020-07-11</td>\n",
       "    </tr>\n",
       "    <tr>\n",
       "      <th>7</th>\n",
       "      <td>107</td>\n",
       "      <td>B</td>\n",
       "      <td>0.148601</td>\n",
       "      <td>2020-07-12</td>\n",
       "    </tr>\n",
       "    <tr>\n",
       "      <th>8</th>\n",
       "      <td>108</td>\n",
       "      <td>B</td>\n",
       "      <td>0.707396</td>\n",
       "      <td>2020-07-13</td>\n",
       "    </tr>\n",
       "    <tr>\n",
       "      <th>9</th>\n",
       "      <td>109</td>\n",
       "      <td>E</td>\n",
       "      <td>0.222646</td>\n",
       "      <td>2020-07-14</td>\n",
       "    </tr>\n",
       "  </tbody>\n",
       "</table>\n",
       "</div>"
      ],
      "text/plain": [
       "     a  b         c          d\n",
       "0  100  C  0.002056 2020-07-05\n",
       "1  101  A  0.952524 2020-07-06\n",
       "2  102  E  0.960452 2020-07-07\n",
       "3  103  C  0.256880 2020-07-08\n",
       "4  104  C  0.404484 2020-07-09\n",
       "5  105  C  0.369257 2020-07-10\n",
       "6  106  D  0.615223 2020-07-11\n",
       "7  107  B  0.148601 2020-07-12\n",
       "8  108  B  0.707396 2020-07-13\n",
       "9  109  E  0.222646 2020-07-14"
      ]
     },
     "execution_count": 35,
     "metadata": {},
     "output_type": "execute_result"
    }
   ],
   "source": [
    "import pandas as pd\n",
    "\n",
    "df  = pd.DataFrame({'a': range(100, 110),\n",
    "                    'b' : np.random.choice(list('ABCDEF'), 10),\n",
    "                    'c' : np.random.rand(10),\n",
    "                    'd': pd.to_datetime('2020/07/05')+pd.to_timedelta(np.arange(10), unit='D')\n",
    "                    })\n",
    "df"
   ]
  },
  {
   "cell_type": "code",
   "execution_count": 36,
   "metadata": {},
   "outputs": [
    {
     "name": "stdout",
     "output_type": "stream",
     "text": [
      "     a  b         c          d\n",
      "0  100  C  0.002056 2020-07-05\n",
      "1  101  A  0.952524 2020-07-06\n",
      "2  102  E  0.960452 2020-07-07\n",
      "3  103  C  0.256880 2020-07-08\n",
      "4  104  C  0.404484 2020-07-09\n",
      "5  105  C  0.369257 2020-07-10\n",
      "6  106  D  0.615223 2020-07-11\n",
      "7  107  B  0.148601 2020-07-12\n",
      "8  108  B  0.707396 2020-07-13\n",
      "9  109  E  0.222646 2020-07-14\n"
     ]
    }
   ],
   "source": [
    "print(df)"
   ]
  },
  {
   "cell_type": "code",
   "execution_count": 37,
   "metadata": {},
   "outputs": [
    {
     "data": {
      "text/plain": [
       "a             int64\n",
       "b            object\n",
       "c           float64\n",
       "d    datetime64[ns]\n",
       "dtype: object"
      ]
     },
     "execution_count": 37,
     "metadata": {},
     "output_type": "execute_result"
    }
   ],
   "source": [
    "df.dtypes"
   ]
  },
  {
   "cell_type": "code",
   "execution_count": 38,
   "metadata": {},
   "outputs": [
    {
     "data": {
      "text/plain": [
       "0    100\n",
       "1    101\n",
       "2    102\n",
       "3    103\n",
       "4    104\n",
       "5    105\n",
       "6    106\n",
       "7    107\n",
       "8    108\n",
       "9    109\n",
       "Name: a, dtype: int64"
      ]
     },
     "execution_count": 38,
     "metadata": {},
     "output_type": "execute_result"
    }
   ],
   "source": [
    "df['a']"
   ]
  },
  {
   "cell_type": "code",
   "execution_count": 39,
   "metadata": {},
   "outputs": [
    {
     "data": {
      "text/plain": [
       "0    100\n",
       "1    101\n",
       "2    102\n",
       "3    103\n",
       "4    104\n",
       "5    105\n",
       "6    106\n",
       "7    107\n",
       "8    108\n",
       "9    109\n",
       "Name: a, dtype: int64"
      ]
     },
     "execution_count": 39,
     "metadata": {},
     "output_type": "execute_result"
    }
   ],
   "source": [
    "df.a"
   ]
  },
  {
   "cell_type": "code",
   "execution_count": 40,
   "metadata": {},
   "outputs": [
    {
     "data": {
      "text/plain": [
       "a                    103\n",
       "b                      C\n",
       "c                0.25688\n",
       "d    2020-07-08 00:00:00\n",
       "Name: 3, dtype: object"
      ]
     },
     "execution_count": 40,
     "metadata": {},
     "output_type": "execute_result"
    }
   ],
   "source": [
    "#Accessing Data within a DataFrame: Row Index\n",
    "df.loc[3]"
   ]
  },
  {
   "cell_type": "code",
   "execution_count": 41,
   "metadata": {},
   "outputs": [
    {
     "data": {
      "text/plain": [
       "Timestamp('2020-07-08 00:00:00')"
      ]
     },
     "execution_count": 41,
     "metadata": {},
     "output_type": "execute_result"
    }
   ],
   "source": [
    "#Accessing Data Within a DataFrame: Row and Column Index\n",
    "df.loc[3, 'd']"
   ]
  },
  {
   "cell_type": "code",
   "execution_count": 43,
   "metadata": {},
   "outputs": [
    {
     "data": {
      "text/html": [
       "<div>\n",
       "<style scoped>\n",
       "    .dataframe tbody tr th:only-of-type {\n",
       "        vertical-align: middle;\n",
       "    }\n",
       "\n",
       "    .dataframe tbody tr th {\n",
       "        vertical-align: top;\n",
       "    }\n",
       "\n",
       "    .dataframe thead th {\n",
       "        text-align: right;\n",
       "    }\n",
       "</style>\n",
       "<table border=\"1\" class=\"dataframe\">\n",
       "  <thead>\n",
       "    <tr style=\"text-align: right;\">\n",
       "      <th></th>\n",
       "      <th>a</th>\n",
       "      <th>b</th>\n",
       "      <th>c</th>\n",
       "      <th>d</th>\n",
       "    </tr>\n",
       "  </thead>\n",
       "  <tbody>\n",
       "    <tr>\n",
       "      <th>0</th>\n",
       "      <td>100</td>\n",
       "      <td>C</td>\n",
       "      <td>0.002056</td>\n",
       "      <td>2020-07-05</td>\n",
       "    </tr>\n",
       "    <tr>\n",
       "      <th>2</th>\n",
       "      <td>102</td>\n",
       "      <td>E</td>\n",
       "      <td>0.960452</td>\n",
       "      <td>2020-07-07</td>\n",
       "    </tr>\n",
       "    <tr>\n",
       "      <th>4</th>\n",
       "      <td>104</td>\n",
       "      <td>C</td>\n",
       "      <td>0.404484</td>\n",
       "      <td>2020-07-09</td>\n",
       "    </tr>\n",
       "    <tr>\n",
       "      <th>6</th>\n",
       "      <td>106</td>\n",
       "      <td>D</td>\n",
       "      <td>0.615223</td>\n",
       "      <td>2020-07-11</td>\n",
       "    </tr>\n",
       "    <tr>\n",
       "      <th>8</th>\n",
       "      <td>108</td>\n",
       "      <td>B</td>\n",
       "      <td>0.707396</td>\n",
       "      <td>2020-07-13</td>\n",
       "    </tr>\n",
       "  </tbody>\n",
       "</table>\n",
       "</div>"
      ],
      "text/plain": [
       "     a  b         c          d\n",
       "0  100  C  0.002056 2020-07-05\n",
       "2  102  E  0.960452 2020-07-07\n",
       "4  104  C  0.404484 2020-07-09\n",
       "6  106  D  0.615223 2020-07-11\n",
       "8  108  B  0.707396 2020-07-13"
      ]
     },
     "execution_count": 43,
     "metadata": {},
     "output_type": "execute_result"
    }
   ],
   "source": [
    "df.loc[::2]"
   ]
  },
  {
   "cell_type": "code",
   "execution_count": 44,
   "metadata": {},
   "outputs": [
    {
     "data": {
      "text/plain": [
       "0     True\n",
       "1     True\n",
       "2     True\n",
       "3     True\n",
       "4     True\n",
       "5    False\n",
       "6    False\n",
       "7    False\n",
       "8    False\n",
       "9    False\n",
       "Name: a, dtype: bool"
      ]
     },
     "execution_count": 44,
     "metadata": {},
     "output_type": "execute_result"
    }
   ],
   "source": [
    "#Accessing Data Within a DataFrame: Logic\n",
    "df.a < 105"
   ]
  },
  {
   "cell_type": "code",
   "execution_count": 45,
   "metadata": {},
   "outputs": [
    {
     "data": {
      "text/html": [
       "<div>\n",
       "<style scoped>\n",
       "    .dataframe tbody tr th:only-of-type {\n",
       "        vertical-align: middle;\n",
       "    }\n",
       "\n",
       "    .dataframe tbody tr th {\n",
       "        vertical-align: top;\n",
       "    }\n",
       "\n",
       "    .dataframe thead th {\n",
       "        text-align: right;\n",
       "    }\n",
       "</style>\n",
       "<table border=\"1\" class=\"dataframe\">\n",
       "  <thead>\n",
       "    <tr style=\"text-align: right;\">\n",
       "      <th></th>\n",
       "      <th>a</th>\n",
       "      <th>b</th>\n",
       "      <th>c</th>\n",
       "      <th>d</th>\n",
       "    </tr>\n",
       "  </thead>\n",
       "  <tbody>\n",
       "    <tr>\n",
       "      <th>0</th>\n",
       "      <td>100</td>\n",
       "      <td>C</td>\n",
       "      <td>0.002056</td>\n",
       "      <td>2020-07-05</td>\n",
       "    </tr>\n",
       "    <tr>\n",
       "      <th>1</th>\n",
       "      <td>101</td>\n",
       "      <td>A</td>\n",
       "      <td>0.952524</td>\n",
       "      <td>2020-07-06</td>\n",
       "    </tr>\n",
       "    <tr>\n",
       "      <th>2</th>\n",
       "      <td>102</td>\n",
       "      <td>E</td>\n",
       "      <td>0.960452</td>\n",
       "      <td>2020-07-07</td>\n",
       "    </tr>\n",
       "    <tr>\n",
       "      <th>3</th>\n",
       "      <td>103</td>\n",
       "      <td>C</td>\n",
       "      <td>0.256880</td>\n",
       "      <td>2020-07-08</td>\n",
       "    </tr>\n",
       "    <tr>\n",
       "      <th>4</th>\n",
       "      <td>104</td>\n",
       "      <td>C</td>\n",
       "      <td>0.404484</td>\n",
       "      <td>2020-07-09</td>\n",
       "    </tr>\n",
       "  </tbody>\n",
       "</table>\n",
       "</div>"
      ],
      "text/plain": [
       "     a  b         c          d\n",
       "0  100  C  0.002056 2020-07-05\n",
       "1  101  A  0.952524 2020-07-06\n",
       "2  102  E  0.960452 2020-07-07\n",
       "3  103  C  0.256880 2020-07-08\n",
       "4  104  C  0.404484 2020-07-09"
      ]
     },
     "execution_count": 45,
     "metadata": {},
     "output_type": "execute_result"
    }
   ],
   "source": [
    "#Accessing Data Within a DataFrame: Logic\n",
    "df.loc[df.a < 105]"
   ]
  },
  {
   "cell_type": "code",
   "execution_count": 46,
   "metadata": {},
   "outputs": [
    {
     "data": {
      "text/html": [
       "<div>\n",
       "<style scoped>\n",
       "    .dataframe tbody tr th:only-of-type {\n",
       "        vertical-align: middle;\n",
       "    }\n",
       "\n",
       "    .dataframe tbody tr th {\n",
       "        vertical-align: top;\n",
       "    }\n",
       "\n",
       "    .dataframe thead th {\n",
       "        text-align: right;\n",
       "    }\n",
       "</style>\n",
       "<table border=\"1\" class=\"dataframe\">\n",
       "  <thead>\n",
       "    <tr style=\"text-align: right;\">\n",
       "      <th></th>\n",
       "      <th>a</th>\n",
       "      <th>b</th>\n",
       "      <th>c</th>\n",
       "      <th>d</th>\n",
       "    </tr>\n",
       "  </thead>\n",
       "  <tbody>\n",
       "    <tr>\n",
       "      <th>4</th>\n",
       "      <td>104</td>\n",
       "      <td>C</td>\n",
       "      <td>0.404484</td>\n",
       "      <td>2020-07-09</td>\n",
       "    </tr>\n",
       "    <tr>\n",
       "      <th>6</th>\n",
       "      <td>106</td>\n",
       "      <td>D</td>\n",
       "      <td>0.615223</td>\n",
       "      <td>2020-07-11</td>\n",
       "    </tr>\n",
       "    <tr>\n",
       "      <th>8</th>\n",
       "      <td>108</td>\n",
       "      <td>B</td>\n",
       "      <td>0.707396</td>\n",
       "      <td>2020-07-13</td>\n",
       "    </tr>\n",
       "  </tbody>\n",
       "</table>\n",
       "</div>"
      ],
      "text/plain": [
       "     a  b         c          d\n",
       "4  104  C  0.404484 2020-07-09\n",
       "6  106  D  0.615223 2020-07-11\n",
       "8  108  B  0.707396 2020-07-13"
      ]
     },
     "execution_count": 46,
     "metadata": {},
     "output_type": "execute_result"
    }
   ],
   "source": [
    "#Accessing Data Within a DataFrame: The Query Operator\n",
    "#Very powerful, very fast\n",
    "\n",
    "#SQL like\n",
    "\n",
    "#ccess elements with @\n",
    "\n",
    "df.query(' .4 < c < .8 ')"
   ]
  },
  {
   "cell_type": "code",
   "execution_count": 48,
   "metadata": {},
   "outputs": [
    {
     "data": {
      "text/html": [
       "<div>\n",
       "<style scoped>\n",
       "    .dataframe tbody tr th:only-of-type {\n",
       "        vertical-align: middle;\n",
       "    }\n",
       "\n",
       "    .dataframe tbody tr th {\n",
       "        vertical-align: top;\n",
       "    }\n",
       "\n",
       "    .dataframe thead th {\n",
       "        text-align: right;\n",
       "    }\n",
       "</style>\n",
       "<table border=\"1\" class=\"dataframe\">\n",
       "  <thead>\n",
       "    <tr style=\"text-align: right;\">\n",
       "      <th></th>\n",
       "      <th>a</th>\n",
       "      <th>b</th>\n",
       "      <th>c</th>\n",
       "      <th>d</th>\n",
       "      <th>E</th>\n",
       "    </tr>\n",
       "  </thead>\n",
       "  <tbody>\n",
       "    <tr>\n",
       "      <th>0</th>\n",
       "      <td>100</td>\n",
       "      <td>C</td>\n",
       "      <td>0.002056</td>\n",
       "      <td>2020-07-05</td>\n",
       "      <td>48632.335790</td>\n",
       "    </tr>\n",
       "    <tr>\n",
       "      <th>1</th>\n",
       "      <td>101</td>\n",
       "      <td>A</td>\n",
       "      <td>0.952524</td>\n",
       "      <td>2020-07-06</td>\n",
       "      <td>106.034037</td>\n",
       "    </tr>\n",
       "    <tr>\n",
       "      <th>2</th>\n",
       "      <td>102</td>\n",
       "      <td>E</td>\n",
       "      <td>0.960452</td>\n",
       "      <td>2020-07-07</td>\n",
       "      <td>106.200021</td>\n",
       "    </tr>\n",
       "    <tr>\n",
       "      <th>3</th>\n",
       "      <td>103</td>\n",
       "      <td>C</td>\n",
       "      <td>0.256880</td>\n",
       "      <td>2020-07-08</td>\n",
       "      <td>400.965553</td>\n",
       "    </tr>\n",
       "    <tr>\n",
       "      <th>4</th>\n",
       "      <td>104</td>\n",
       "      <td>C</td>\n",
       "      <td>0.404484</td>\n",
       "      <td>2020-07-09</td>\n",
       "      <td>257.117792</td>\n",
       "    </tr>\n",
       "    <tr>\n",
       "      <th>5</th>\n",
       "      <td>105</td>\n",
       "      <td>C</td>\n",
       "      <td>0.369257</td>\n",
       "      <td>2020-07-10</td>\n",
       "      <td>284.354928</td>\n",
       "    </tr>\n",
       "    <tr>\n",
       "      <th>6</th>\n",
       "      <td>106</td>\n",
       "      <td>D</td>\n",
       "      <td>0.615223</td>\n",
       "      <td>2020-07-11</td>\n",
       "      <td>172.295125</td>\n",
       "    </tr>\n",
       "    <tr>\n",
       "      <th>7</th>\n",
       "      <td>107</td>\n",
       "      <td>B</td>\n",
       "      <td>0.148601</td>\n",
       "      <td>2020-07-12</td>\n",
       "      <td>720.050346</td>\n",
       "    </tr>\n",
       "    <tr>\n",
       "      <th>8</th>\n",
       "      <td>108</td>\n",
       "      <td>B</td>\n",
       "      <td>0.707396</td>\n",
       "      <td>2020-07-13</td>\n",
       "      <td>152.672633</td>\n",
       "    </tr>\n",
       "    <tr>\n",
       "      <th>9</th>\n",
       "      <td>109</td>\n",
       "      <td>E</td>\n",
       "      <td>0.222646</td>\n",
       "      <td>2020-07-14</td>\n",
       "      <td>489.565612</td>\n",
       "    </tr>\n",
       "  </tbody>\n",
       "</table>\n",
       "</div>"
      ],
      "text/plain": [
       "     a  b         c          d             E\n",
       "0  100  C  0.002056 2020-07-05  48632.335790\n",
       "1  101  A  0.952524 2020-07-06    106.034037\n",
       "2  102  E  0.960452 2020-07-07    106.200021\n",
       "3  103  C  0.256880 2020-07-08    400.965553\n",
       "4  104  C  0.404484 2020-07-09    257.117792\n",
       "5  105  C  0.369257 2020-07-10    284.354928\n",
       "6  106  D  0.615223 2020-07-11    172.295125\n",
       "7  107  B  0.148601 2020-07-12    720.050346\n",
       "8  108  B  0.707396 2020-07-13    152.672633\n",
       "9  109  E  0.222646 2020-07-14    489.565612"
      ]
     },
     "execution_count": 48,
     "metadata": {},
     "output_type": "execute_result"
    }
   ],
   "source": [
    "#Add Data\n",
    "#Create new columns with math, from old columns\n",
    "\n",
    "#Create new row\n",
    "\n",
    "#Can't create on the fly like tidyverse\n",
    "\n",
    "\n",
    "df['E'] = df.a / df.c\n",
    "df"
   ]
  },
  {
   "cell_type": "code",
   "execution_count": 49,
   "metadata": {},
   "outputs": [],
   "source": [
    "df.loc[100, :] = (110, 'Z', .11223344, pd.to_datetime('2020/11/03'), np.nan)"
   ]
  },
  {
   "cell_type": "code",
   "execution_count": 50,
   "metadata": {},
   "outputs": [
    {
     "data": {
      "text/html": [
       "<div>\n",
       "<style scoped>\n",
       "    .dataframe tbody tr th:only-of-type {\n",
       "        vertical-align: middle;\n",
       "    }\n",
       "\n",
       "    .dataframe tbody tr th {\n",
       "        vertical-align: top;\n",
       "    }\n",
       "\n",
       "    .dataframe thead th {\n",
       "        text-align: right;\n",
       "    }\n",
       "</style>\n",
       "<table border=\"1\" class=\"dataframe\">\n",
       "  <thead>\n",
       "    <tr style=\"text-align: right;\">\n",
       "      <th></th>\n",
       "      <th>a</th>\n",
       "      <th>b</th>\n",
       "      <th>c</th>\n",
       "      <th>d</th>\n",
       "      <th>E</th>\n",
       "    </tr>\n",
       "  </thead>\n",
       "  <tbody>\n",
       "    <tr>\n",
       "      <th>0</th>\n",
       "      <td>100.0</td>\n",
       "      <td>C</td>\n",
       "      <td>0.002056</td>\n",
       "      <td>2020-07-05</td>\n",
       "      <td>48632.335790</td>\n",
       "    </tr>\n",
       "    <tr>\n",
       "      <th>1</th>\n",
       "      <td>101.0</td>\n",
       "      <td>A</td>\n",
       "      <td>0.952524</td>\n",
       "      <td>2020-07-06</td>\n",
       "      <td>106.034037</td>\n",
       "    </tr>\n",
       "    <tr>\n",
       "      <th>2</th>\n",
       "      <td>102.0</td>\n",
       "      <td>E</td>\n",
       "      <td>0.960452</td>\n",
       "      <td>2020-07-07</td>\n",
       "      <td>106.200021</td>\n",
       "    </tr>\n",
       "    <tr>\n",
       "      <th>3</th>\n",
       "      <td>103.0</td>\n",
       "      <td>C</td>\n",
       "      <td>0.256880</td>\n",
       "      <td>2020-07-08</td>\n",
       "      <td>400.965553</td>\n",
       "    </tr>\n",
       "    <tr>\n",
       "      <th>4</th>\n",
       "      <td>104.0</td>\n",
       "      <td>C</td>\n",
       "      <td>0.404484</td>\n",
       "      <td>2020-07-09</td>\n",
       "      <td>257.117792</td>\n",
       "    </tr>\n",
       "    <tr>\n",
       "      <th>5</th>\n",
       "      <td>105.0</td>\n",
       "      <td>C</td>\n",
       "      <td>0.369257</td>\n",
       "      <td>2020-07-10</td>\n",
       "      <td>284.354928</td>\n",
       "    </tr>\n",
       "    <tr>\n",
       "      <th>6</th>\n",
       "      <td>106.0</td>\n",
       "      <td>D</td>\n",
       "      <td>0.615223</td>\n",
       "      <td>2020-07-11</td>\n",
       "      <td>172.295125</td>\n",
       "    </tr>\n",
       "    <tr>\n",
       "      <th>7</th>\n",
       "      <td>107.0</td>\n",
       "      <td>B</td>\n",
       "      <td>0.148601</td>\n",
       "      <td>2020-07-12</td>\n",
       "      <td>720.050346</td>\n",
       "    </tr>\n",
       "    <tr>\n",
       "      <th>8</th>\n",
       "      <td>108.0</td>\n",
       "      <td>B</td>\n",
       "      <td>0.707396</td>\n",
       "      <td>2020-07-13</td>\n",
       "      <td>152.672633</td>\n",
       "    </tr>\n",
       "    <tr>\n",
       "      <th>9</th>\n",
       "      <td>109.0</td>\n",
       "      <td>E</td>\n",
       "      <td>0.222646</td>\n",
       "      <td>2020-07-14</td>\n",
       "      <td>489.565612</td>\n",
       "    </tr>\n",
       "    <tr>\n",
       "      <th>100</th>\n",
       "      <td>110.0</td>\n",
       "      <td>Z</td>\n",
       "      <td>0.112233</td>\n",
       "      <td>2020-11-03</td>\n",
       "      <td>NaN</td>\n",
       "    </tr>\n",
       "  </tbody>\n",
       "</table>\n",
       "</div>"
      ],
      "text/plain": [
       "         a  b         c          d             E\n",
       "0    100.0  C  0.002056 2020-07-05  48632.335790\n",
       "1    101.0  A  0.952524 2020-07-06    106.034037\n",
       "2    102.0  E  0.960452 2020-07-07    106.200021\n",
       "3    103.0  C  0.256880 2020-07-08    400.965553\n",
       "4    104.0  C  0.404484 2020-07-09    257.117792\n",
       "5    105.0  C  0.369257 2020-07-10    284.354928\n",
       "6    106.0  D  0.615223 2020-07-11    172.295125\n",
       "7    107.0  B  0.148601 2020-07-12    720.050346\n",
       "8    108.0  B  0.707396 2020-07-13    152.672633\n",
       "9    109.0  E  0.222646 2020-07-14    489.565612\n",
       "100  110.0  Z  0.112233 2020-11-03           NaN"
      ]
     },
     "metadata": {},
     "output_type": "display_data"
    }
   ],
   "source": [
    "display(df)"
   ]
  },
  {
   "cell_type": "code",
   "execution_count": 51,
   "metadata": {},
   "outputs": [
    {
     "data": {
      "text/html": [
       "<div>\n",
       "<style scoped>\n",
       "    .dataframe tbody tr th:only-of-type {\n",
       "        vertical-align: middle;\n",
       "    }\n",
       "\n",
       "    .dataframe tbody tr th {\n",
       "        vertical-align: top;\n",
       "    }\n",
       "\n",
       "    .dataframe thead th {\n",
       "        text-align: right;\n",
       "    }\n",
       "</style>\n",
       "<table border=\"1\" class=\"dataframe\">\n",
       "  <thead>\n",
       "    <tr style=\"text-align: right;\">\n",
       "      <th></th>\n",
       "      <th>a</th>\n",
       "      <th>b</th>\n",
       "      <th>c</th>\n",
       "      <th>d</th>\n",
       "      <th>E</th>\n",
       "      <th>F</th>\n",
       "    </tr>\n",
       "  </thead>\n",
       "  <tbody>\n",
       "    <tr>\n",
       "      <th>0</th>\n",
       "      <td>100.0</td>\n",
       "      <td>C</td>\n",
       "      <td>0.002056</td>\n",
       "      <td>2020-07-05</td>\n",
       "      <td>48632.335790</td>\n",
       "      <td>100.0</td>\n",
       "    </tr>\n",
       "    <tr>\n",
       "      <th>1</th>\n",
       "      <td>101.0</td>\n",
       "      <td>A</td>\n",
       "      <td>0.952524</td>\n",
       "      <td>2020-07-06</td>\n",
       "      <td>106.034037</td>\n",
       "      <td>101.0</td>\n",
       "    </tr>\n",
       "    <tr>\n",
       "      <th>2</th>\n",
       "      <td>102.0</td>\n",
       "      <td>E</td>\n",
       "      <td>0.960452</td>\n",
       "      <td>2020-07-07</td>\n",
       "      <td>106.200021</td>\n",
       "      <td>102.0</td>\n",
       "    </tr>\n",
       "    <tr>\n",
       "      <th>3</th>\n",
       "      <td>103.0</td>\n",
       "      <td>C</td>\n",
       "      <td>0.256880</td>\n",
       "      <td>2020-07-08</td>\n",
       "      <td>400.965553</td>\n",
       "      <td>103.0</td>\n",
       "    </tr>\n",
       "    <tr>\n",
       "      <th>4</th>\n",
       "      <td>104.0</td>\n",
       "      <td>C</td>\n",
       "      <td>0.404484</td>\n",
       "      <td>2020-07-09</td>\n",
       "      <td>257.117792</td>\n",
       "      <td>104.0</td>\n",
       "    </tr>\n",
       "    <tr>\n",
       "      <th>5</th>\n",
       "      <td>105.0</td>\n",
       "      <td>C</td>\n",
       "      <td>0.369257</td>\n",
       "      <td>2020-07-10</td>\n",
       "      <td>284.354928</td>\n",
       "      <td>105.0</td>\n",
       "    </tr>\n",
       "    <tr>\n",
       "      <th>6</th>\n",
       "      <td>106.0</td>\n",
       "      <td>D</td>\n",
       "      <td>0.615223</td>\n",
       "      <td>2020-07-11</td>\n",
       "      <td>172.295125</td>\n",
       "      <td>106.0</td>\n",
       "    </tr>\n",
       "    <tr>\n",
       "      <th>7</th>\n",
       "      <td>107.0</td>\n",
       "      <td>B</td>\n",
       "      <td>0.148601</td>\n",
       "      <td>2020-07-12</td>\n",
       "      <td>720.050346</td>\n",
       "      <td>107.0</td>\n",
       "    </tr>\n",
       "    <tr>\n",
       "      <th>8</th>\n",
       "      <td>108.0</td>\n",
       "      <td>B</td>\n",
       "      <td>0.707396</td>\n",
       "      <td>2020-07-13</td>\n",
       "      <td>152.672633</td>\n",
       "      <td>108.0</td>\n",
       "    </tr>\n",
       "    <tr>\n",
       "      <th>9</th>\n",
       "      <td>109.0</td>\n",
       "      <td>E</td>\n",
       "      <td>0.222646</td>\n",
       "      <td>2020-07-14</td>\n",
       "      <td>489.565612</td>\n",
       "      <td>109.0</td>\n",
       "    </tr>\n",
       "    <tr>\n",
       "      <th>100</th>\n",
       "      <td>110.0</td>\n",
       "      <td>Z</td>\n",
       "      <td>0.112233</td>\n",
       "      <td>2020-11-03</td>\n",
       "      <td>NaN</td>\n",
       "      <td>NaN</td>\n",
       "    </tr>\n",
       "  </tbody>\n",
       "</table>\n",
       "</div>"
      ],
      "text/plain": [
       "         a  b         c          d             E      F\n",
       "0    100.0  C  0.002056 2020-07-05  48632.335790  100.0\n",
       "1    101.0  A  0.952524 2020-07-06    106.034037  101.0\n",
       "2    102.0  E  0.960452 2020-07-07    106.200021  102.0\n",
       "3    103.0  C  0.256880 2020-07-08    400.965553  103.0\n",
       "4    104.0  C  0.404484 2020-07-09    257.117792  104.0\n",
       "5    105.0  C  0.369257 2020-07-10    284.354928  105.0\n",
       "6    106.0  D  0.615223 2020-07-11    172.295125  106.0\n",
       "7    107.0  B  0.148601 2020-07-12    720.050346  107.0\n",
       "8    108.0  B  0.707396 2020-07-13    152.672633  108.0\n",
       "9    109.0  E  0.222646 2020-07-14    489.565612  109.0\n",
       "100  110.0  Z  0.112233 2020-11-03           NaN    NaN"
      ]
     },
     "execution_count": 51,
     "metadata": {},
     "output_type": "execute_result"
    }
   ],
   "source": [
    "df['F']=df.E*df.c\n",
    "df"
   ]
  },
  {
   "cell_type": "code",
   "execution_count": 52,
   "metadata": {},
   "outputs": [
    {
     "data": {
      "text/plain": [
       "0       True\n",
       "1       True\n",
       "2       True\n",
       "3       True\n",
       "4       True\n",
       "5      False\n",
       "6       True\n",
       "7       True\n",
       "8       True\n",
       "9       True\n",
       "100    False\n",
       "dtype: bool"
      ]
     },
     "execution_count": 52,
     "metadata": {},
     "output_type": "execute_result"
    }
   ],
   "source": [
    "df.a ==df.F"
   ]
  },
  {
   "cell_type": "code",
   "execution_count": 53,
   "metadata": {},
   "outputs": [
    {
     "data": {
      "text/html": [
       "<div>\n",
       "<style scoped>\n",
       "    .dataframe tbody tr th:only-of-type {\n",
       "        vertical-align: middle;\n",
       "    }\n",
       "\n",
       "    .dataframe tbody tr th {\n",
       "        vertical-align: top;\n",
       "    }\n",
       "\n",
       "    .dataframe thead th {\n",
       "        text-align: right;\n",
       "    }\n",
       "</style>\n",
       "<table border=\"1\" class=\"dataframe\">\n",
       "  <thead>\n",
       "    <tr style=\"text-align: right;\">\n",
       "      <th></th>\n",
       "      <th>a</th>\n",
       "      <th>b</th>\n",
       "      <th>c</th>\n",
       "      <th>d</th>\n",
       "      <th>E</th>\n",
       "      <th>F</th>\n",
       "    </tr>\n",
       "  </thead>\n",
       "  <tbody>\n",
       "    <tr>\n",
       "      <th>0</th>\n",
       "      <td>100.0</td>\n",
       "      <td>C</td>\n",
       "      <td>0.002056</td>\n",
       "      <td>2020-07-05</td>\n",
       "      <td>48632.335790</td>\n",
       "      <td>100.0</td>\n",
       "    </tr>\n",
       "    <tr>\n",
       "      <th>100</th>\n",
       "      <td>110.0</td>\n",
       "      <td>Z</td>\n",
       "      <td>0.112233</td>\n",
       "      <td>2020-11-03</td>\n",
       "      <td>NaN</td>\n",
       "      <td>NaN</td>\n",
       "    </tr>\n",
       "    <tr>\n",
       "      <th>7</th>\n",
       "      <td>107.0</td>\n",
       "      <td>B</td>\n",
       "      <td>0.148601</td>\n",
       "      <td>2020-07-12</td>\n",
       "      <td>720.050346</td>\n",
       "      <td>107.0</td>\n",
       "    </tr>\n",
       "    <tr>\n",
       "      <th>9</th>\n",
       "      <td>109.0</td>\n",
       "      <td>E</td>\n",
       "      <td>0.222646</td>\n",
       "      <td>2020-07-14</td>\n",
       "      <td>489.565612</td>\n",
       "      <td>109.0</td>\n",
       "    </tr>\n",
       "    <tr>\n",
       "      <th>3</th>\n",
       "      <td>103.0</td>\n",
       "      <td>C</td>\n",
       "      <td>0.256880</td>\n",
       "      <td>2020-07-08</td>\n",
       "      <td>400.965553</td>\n",
       "      <td>103.0</td>\n",
       "    </tr>\n",
       "    <tr>\n",
       "      <th>5</th>\n",
       "      <td>105.0</td>\n",
       "      <td>C</td>\n",
       "      <td>0.369257</td>\n",
       "      <td>2020-07-10</td>\n",
       "      <td>284.354928</td>\n",
       "      <td>105.0</td>\n",
       "    </tr>\n",
       "    <tr>\n",
       "      <th>4</th>\n",
       "      <td>104.0</td>\n",
       "      <td>C</td>\n",
       "      <td>0.404484</td>\n",
       "      <td>2020-07-09</td>\n",
       "      <td>257.117792</td>\n",
       "      <td>104.0</td>\n",
       "    </tr>\n",
       "    <tr>\n",
       "      <th>6</th>\n",
       "      <td>106.0</td>\n",
       "      <td>D</td>\n",
       "      <td>0.615223</td>\n",
       "      <td>2020-07-11</td>\n",
       "      <td>172.295125</td>\n",
       "      <td>106.0</td>\n",
       "    </tr>\n",
       "    <tr>\n",
       "      <th>8</th>\n",
       "      <td>108.0</td>\n",
       "      <td>B</td>\n",
       "      <td>0.707396</td>\n",
       "      <td>2020-07-13</td>\n",
       "      <td>152.672633</td>\n",
       "      <td>108.0</td>\n",
       "    </tr>\n",
       "    <tr>\n",
       "      <th>1</th>\n",
       "      <td>101.0</td>\n",
       "      <td>A</td>\n",
       "      <td>0.952524</td>\n",
       "      <td>2020-07-06</td>\n",
       "      <td>106.034037</td>\n",
       "      <td>101.0</td>\n",
       "    </tr>\n",
       "    <tr>\n",
       "      <th>2</th>\n",
       "      <td>102.0</td>\n",
       "      <td>E</td>\n",
       "      <td>0.960452</td>\n",
       "      <td>2020-07-07</td>\n",
       "      <td>106.200021</td>\n",
       "      <td>102.0</td>\n",
       "    </tr>\n",
       "  </tbody>\n",
       "</table>\n",
       "</div>"
      ],
      "text/plain": [
       "         a  b         c          d             E      F\n",
       "0    100.0  C  0.002056 2020-07-05  48632.335790  100.0\n",
       "100  110.0  Z  0.112233 2020-11-03           NaN    NaN\n",
       "7    107.0  B  0.148601 2020-07-12    720.050346  107.0\n",
       "9    109.0  E  0.222646 2020-07-14    489.565612  109.0\n",
       "3    103.0  C  0.256880 2020-07-08    400.965553  103.0\n",
       "5    105.0  C  0.369257 2020-07-10    284.354928  105.0\n",
       "4    104.0  C  0.404484 2020-07-09    257.117792  104.0\n",
       "6    106.0  D  0.615223 2020-07-11    172.295125  106.0\n",
       "8    108.0  B  0.707396 2020-07-13    152.672633  108.0\n",
       "1    101.0  A  0.952524 2020-07-06    106.034037  101.0\n",
       "2    102.0  E  0.960452 2020-07-07    106.200021  102.0"
      ]
     },
     "execution_count": 53,
     "metadata": {},
     "output_type": "execute_result"
    }
   ],
   "source": [
    "#Sorting\n",
    "#sort_values and sort_index: return a new object; ascending=False for descending order\n",
    "df.sort_values('c')"
   ]
  },
  {
   "cell_type": "code",
   "execution_count": null,
   "metadata": {},
   "outputs": [],
   "source": [
    "def countstr(word):\n",
    "    word.upper()"
   ]
  },
  {
   "cell_type": "code",
   "execution_count": 55,
   "metadata": {},
   "outputs": [
    {
     "data": {
      "text/html": [
       "<div>\n",
       "<style scoped>\n",
       "    .dataframe tbody tr th:only-of-type {\n",
       "        vertical-align: middle;\n",
       "    }\n",
       "\n",
       "    .dataframe tbody tr th {\n",
       "        vertical-align: top;\n",
       "    }\n",
       "\n",
       "    .dataframe thead th {\n",
       "        text-align: right;\n",
       "    }\n",
       "</style>\n",
       "<table border=\"1\" class=\"dataframe\">\n",
       "  <thead>\n",
       "    <tr style=\"text-align: right;\">\n",
       "      <th></th>\n",
       "      <th>word</th>\n",
       "      <th>freq</th>\n",
       "    </tr>\n",
       "  </thead>\n",
       "  <tbody>\n",
       "    <tr>\n",
       "      <th>0</th>\n",
       "      <td>mama</td>\n",
       "      <td>1</td>\n",
       "    </tr>\n",
       "    <tr>\n",
       "      <th>1</th>\n",
       "      <td>papa</td>\n",
       "      <td>1</td>\n",
       "    </tr>\n",
       "    <tr>\n",
       "      <th>2</th>\n",
       "      <td>hey</td>\n",
       "      <td>2</td>\n",
       "    </tr>\n",
       "  </tbody>\n",
       "</table>\n",
       "</div>"
      ],
      "text/plain": [
       "   word  freq\n",
       "0  mama     1\n",
       "1  papa     1\n",
       "2   hey     2"
      ]
     },
     "execution_count": 55,
     "metadata": {},
     "output_type": "execute_result"
    }
   ],
   "source": [
    "def word_count(s):\n",
    "    \"\"\"\n",
    "    always document here!\n",
    "    \"\"\"\n",
    "    word_list = s.lower().split()\n",
    "    df = pd.DataFrame([[i, word_list.count(i)] for i in set(word_list)], columns=['word', 'freq'])\n",
    "    return df\n",
    "word_count('Hey mama hey papa')"
   ]
  },
  {
   "cell_type": "code",
   "execution_count": 58,
   "metadata": {},
   "outputs": [],
   "source": [
    "def word_count_ex(s, excluded_chars='\",\\';:()[]!?@#$%&=\\\\.'):\n",
    "    \"\"\"\"\n",
    "    word counter with excluded characters\n",
    "    \"\"\"\n",
    "    for i in excluded_chars:\n",
    "        s = s.replace(i, ' ')\n",
    "    # which is kinda yucky\n",
    "    word_list = s.lower().split()\n",
    "    df = pd.DataFrame([[i, word_list.count(i)] for i in set(word_list)], columns=['word', 'freq'])\n",
    "    df['letters'] = df.word.str.len()\n",
    "    df = df.sort_values('letters', ascending=False)\n",
    "    return df"
   ]
  },
  {
   "cell_type": "code",
   "execution_count": 56,
   "metadata": {},
   "outputs": [],
   "source": [
    "import requests"
   ]
  },
  {
   "cell_type": "code",
   "execution_count": 59,
   "metadata": {},
   "outputs": [
    {
     "name": "stdout",
     "output_type": "stream",
     "text": [
      "Congress, July 4, 1776.\n",
      "The unanimous Declaration of the thirteen united States of America, When in\n"
     ]
    },
    {
     "data": {
      "text/html": [
       "<div>\n",
       "<style scoped>\n",
       "    .dataframe tbody tr th:only-of-type {\n",
       "        vertical-align: middle;\n",
       "    }\n",
       "\n",
       "    .dataframe tbody tr th {\n",
       "        vertical-align: top;\n",
       "    }\n",
       "\n",
       "    .dataframe thead th {\n",
       "        text-align: right;\n",
       "    }\n",
       "</style>\n",
       "<table border=\"1\" class=\"dataframe\">\n",
       "  <thead>\n",
       "    <tr style=\"text-align: right;\">\n",
       "      <th></th>\n",
       "      <th>word</th>\n",
       "      <th>freq</th>\n",
       "      <th>letters</th>\n",
       "    </tr>\n",
       "  </thead>\n",
       "  <tbody>\n",
       "    <tr>\n",
       "      <th>241</th>\n",
       "      <td>undistinguished</td>\n",
       "      <td>1</td>\n",
       "      <td>15</td>\n",
       "    </tr>\n",
       "    <tr>\n",
       "      <th>144</th>\n",
       "      <td>representatives</td>\n",
       "      <td>1</td>\n",
       "      <td>15</td>\n",
       "    </tr>\n",
       "    <tr>\n",
       "      <th>85</th>\n",
       "      <td>unacknowledged</td>\n",
       "      <td>1</td>\n",
       "      <td>14</td>\n",
       "    </tr>\n",
       "    <tr>\n",
       "      <th>308</th>\n",
       "      <td>representative</td>\n",
       "      <td>1</td>\n",
       "      <td>14</td>\n",
       "    </tr>\n",
       "    <tr>\n",
       "      <th>313</th>\n",
       "      <td>appropriations</td>\n",
       "      <td>1</td>\n",
       "      <td>14</td>\n",
       "    </tr>\n",
       "    <tr>\n",
       "      <th>...</th>\n",
       "      <td>...</td>\n",
       "      <td>...</td>\n",
       "      <td>...</td>\n",
       "    </tr>\n",
       "    <tr>\n",
       "      <th>214</th>\n",
       "      <td>as</td>\n",
       "      <td>4</td>\n",
       "      <td>2</td>\n",
       "    </tr>\n",
       "    <tr>\n",
       "      <th>432</th>\n",
       "      <td>is</td>\n",
       "      <td>10</td>\n",
       "      <td>2</td>\n",
       "    </tr>\n",
       "    <tr>\n",
       "      <th>385</th>\n",
       "      <td>4</td>\n",
       "      <td>1</td>\n",
       "      <td>1</td>\n",
       "    </tr>\n",
       "    <tr>\n",
       "      <th>33</th>\n",
       "      <td>s</td>\n",
       "      <td>1</td>\n",
       "      <td>1</td>\n",
       "    </tr>\n",
       "    <tr>\n",
       "      <th>487</th>\n",
       "      <td>a</td>\n",
       "      <td>16</td>\n",
       "      <td>1</td>\n",
       "    </tr>\n",
       "  </tbody>\n",
       "</table>\n",
       "<p>541 rows × 3 columns</p>\n",
       "</div>"
      ],
      "text/plain": [
       "                word  freq  letters\n",
       "241  undistinguished     1       15\n",
       "144  representatives     1       15\n",
       "85    unacknowledged     1       14\n",
       "308   representative     1       14\n",
       "313   appropriations     1       14\n",
       "..               ...   ...      ...\n",
       "214               as     4        2\n",
       "432               is    10        2\n",
       "385                4     1        1\n",
       "33                 s     1        1\n",
       "487                a    16        1\n",
       "\n",
       "[541 rows x 3 columns]"
      ]
     },
     "execution_count": 59,
     "metadata": {},
     "output_type": "execute_result"
    }
   ],
   "source": [
    "r = requests.get('http://www.mynl.com/RPM/di.txt')\n",
    "\n",
    "di = r.text\n",
    "\n",
    "print(di[:100])\n",
    "\n",
    "df = word_count_ex(di)\n",
    "\n",
    "df"
   ]
  },
  {
   "cell_type": "code",
   "execution_count": 60,
   "metadata": {},
   "outputs": [
    {
     "data": {
      "text/html": [
       "<div>\n",
       "<style scoped>\n",
       "    .dataframe tbody tr th:only-of-type {\n",
       "        vertical-align: middle;\n",
       "    }\n",
       "\n",
       "    .dataframe tbody tr th {\n",
       "        vertical-align: top;\n",
       "    }\n",
       "\n",
       "    .dataframe thead th {\n",
       "        text-align: right;\n",
       "    }\n",
       "</style>\n",
       "<table border=\"1\" class=\"dataframe\">\n",
       "  <thead>\n",
       "    <tr style=\"text-align: right;\">\n",
       "      <th></th>\n",
       "      <th>word</th>\n",
       "      <th>freq</th>\n",
       "      <th>letters</th>\n",
       "    </tr>\n",
       "  </thead>\n",
       "  <tbody>\n",
       "    <tr>\n",
       "      <th>387</th>\n",
       "      <td>of</td>\n",
       "      <td>78</td>\n",
       "      <td>2</td>\n",
       "    </tr>\n",
       "    <tr>\n",
       "      <th>423</th>\n",
       "      <td>the</td>\n",
       "      <td>78</td>\n",
       "      <td>3</td>\n",
       "    </tr>\n",
       "    <tr>\n",
       "      <th>23</th>\n",
       "      <td>to</td>\n",
       "      <td>65</td>\n",
       "      <td>2</td>\n",
       "    </tr>\n",
       "    <tr>\n",
       "      <th>174</th>\n",
       "      <td>and</td>\n",
       "      <td>56</td>\n",
       "      <td>3</td>\n",
       "    </tr>\n",
       "    <tr>\n",
       "      <th>184</th>\n",
       "      <td>for</td>\n",
       "      <td>29</td>\n",
       "      <td>3</td>\n",
       "    </tr>\n",
       "    <tr>\n",
       "      <th>...</th>\n",
       "      <td>...</td>\n",
       "      <td>...</td>\n",
       "      <td>...</td>\n",
       "    </tr>\n",
       "    <tr>\n",
       "      <th>526</th>\n",
       "      <td>example</td>\n",
       "      <td>1</td>\n",
       "      <td>7</td>\n",
       "    </tr>\n",
       "    <tr>\n",
       "      <th>144</th>\n",
       "      <td>representatives</td>\n",
       "      <td>1</td>\n",
       "      <td>15</td>\n",
       "    </tr>\n",
       "    <tr>\n",
       "      <th>176</th>\n",
       "      <td>publish</td>\n",
       "      <td>1</td>\n",
       "      <td>7</td>\n",
       "    </tr>\n",
       "    <tr>\n",
       "      <th>11</th>\n",
       "      <td>english</td>\n",
       "      <td>1</td>\n",
       "      <td>7</td>\n",
       "    </tr>\n",
       "    <tr>\n",
       "      <th>241</th>\n",
       "      <td>undistinguished</td>\n",
       "      <td>1</td>\n",
       "      <td>15</td>\n",
       "    </tr>\n",
       "  </tbody>\n",
       "</table>\n",
       "<p>541 rows × 3 columns</p>\n",
       "</div>"
      ],
      "text/plain": [
       "                word  freq  letters\n",
       "387               of    78        2\n",
       "423              the    78        3\n",
       "23                to    65        2\n",
       "174              and    56        3\n",
       "184              for    29        3\n",
       "..               ...   ...      ...\n",
       "526          example     1        7\n",
       "144  representatives     1       15\n",
       "176          publish     1        7\n",
       "11           english     1        7\n",
       "241  undistinguished     1       15\n",
       "\n",
       "[541 rows x 3 columns]"
      ]
     },
     "execution_count": 60,
     "metadata": {},
     "output_type": "execute_result"
    }
   ],
   "source": [
    "df.sort_values('freq', ascending=False)"
   ]
  },
  {
   "cell_type": "code",
   "execution_count": null,
   "metadata": {},
   "outputs": [],
   "source": [
    "n_claims = 1000\n",
    "loss = np.random.lognormal(10.1)\n",
    "kind = np.random.choice([liab, pd, comp, coll])\n",
    "open = "
   ]
  },
  {
   "cell_type": "code",
   "execution_count": null,
   "metadata": {},
   "outputs": [],
   "source": [
    "n = 1000\n",
    "df = pd.DataFrame({'loss': np.random.lognormal(10,1,n),\n",
    "                   'kind': np.random.choice(list('ABCDE'), n),\n",
    "                   'open': np.random.binomial(1, 0.3, n)})\n",
    "df.loc[df.kind==\"A\", \"loss\"] *= 1.95\n",
    "df.loc[df.kind==\"B\", \"loss\"] *= 1.45\n",
    "df.loc[df.kind==\"D\", \"loss\"] *= 0.95\n",
    "df.loc[df.kind==\"E\", \"loss\"] *= 0.65\n",
    "df['log_loss'] = np.log(df.loss)\n",
    "df.head(10)\n",
    "Module 4: "
   ]
  }
 ],
 "metadata": {
  "kernelspec": {
   "display_name": "Python 3",
   "language": "python",
   "name": "python3"
  },
  "language_info": {
   "codemirror_mode": {
    "name": "ipython",
    "version": 3
   },
   "file_extension": ".py",
   "mimetype": "text/x-python",
   "name": "python",
   "nbconvert_exporter": "python",
   "pygments_lexer": "ipython3",
   "version": "3.7.6"
  }
 },
 "nbformat": 4,
 "nbformat_minor": 4
}
