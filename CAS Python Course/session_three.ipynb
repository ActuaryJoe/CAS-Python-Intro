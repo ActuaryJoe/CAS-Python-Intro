{
 "cells": [
  {
   "cell_type": "markdown",
   "metadata": {},
   "source": [
    "# Welcome back\n",
    "\n",
    "Welcome back! In our third session, we will do the following:\n",
    "\n",
    "| What | How long |\n",
    "|:------------------------------------------------------------------------|--------------:|\n",
    "| Data frames refresh and fetch triangle data | 10 min |\n",
    "| Indexing | 10 min.\n",
    "| Querying a data frame | 15 min |\n",
    "| Packing/unpacking | 15 min |\n",
    "| Grouped operations | 20 min | \n",
    "| I/O | 5 min |\n",
    "| Recap on iterators | 15 min |\n",
    "\n",
    "# Data frames refresh"
   ]
  },
  {
   "cell_type": "code",
   "execution_count": null,
   "metadata": {},
   "outputs": [],
   "source": [
    "import pandas as pd"
   ]
  },
  {
   "cell_type": "code",
   "execution_count": null,
   "metadata": {},
   "outputs": [],
   "source": [
    "url = 'https://www.casact.org/research/reserve_data/wkcomp_pos.csv'\n",
    "df_triangle = pd.read_csv(url)\n",
    "\n",
    "df_triangle.head()\n",
    "\n",
    "df_triangle['GRNAME']\n",
    "\n",
    "df_triangle.columns\n",
    "\n",
    "df_triangle.shape"
   ]
  },
  {
   "cell_type": "markdown",
   "metadata": {},
   "source": [
    "By the by, we get back a tuple from `shape`."
   ]
  },
  {
   "cell_type": "code",
   "execution_count": null,
   "metadata": {},
   "outputs": [],
   "source": [
    "df_triangle.dtypes"
   ]
  },
  {
   "cell_type": "markdown",
   "metadata": {},
   "source": [
    "Note that the financial amounts are integers. This is great if we're using a Poisson GLM> "
   ]
  },
  {
   "cell_type": "code",
   "execution_count": null,
   "metadata": {},
   "outputs": [],
   "source": [
    "df_triangle.describe()"
   ]
  },
  {
   "cell_type": "markdown",
   "metadata": {},
   "source": [
    "## Renaming columns"
   ]
  },
  {
   "cell_type": "code",
   "execution_count": null,
   "metadata": {},
   "outputs": [],
   "source": [
    "new_names = {\n",
    "  'CumPaidLoss_D': 'cumulative_paid',\n",
    "  'IncurLoss_D': 'cumulative_incurred',\n",
    "}\n",
    "df_triangle = df_triangle.rename(columns = new_names)\n",
    "df_triangle.columns"
   ]
  },
  {
   "cell_type": "markdown",
   "metadata": {},
   "source": [
    "## Synthesizing new data"
   ]
  },
  {
   "cell_type": "code",
   "execution_count": null,
   "metadata": {},
   "outputs": [],
   "source": [
    "df_triangle['paid_to_incurred'] = df_triangle['cumulative_paid'] / df_triangle['cumulative_incurred']\n",
    "df_triangle[['cumulative_paid', 'cumulative_incurred', 'paid_to_incurred']]"
   ]
  },
  {
   "cell_type": "code",
   "execution_count": null,
   "metadata": {},
   "outputs": [],
   "source": [
    "df_triangle['paid_to_incurred'].describe()"
   ]
  },
  {
   "cell_type": "code",
   "execution_count": null,
   "metadata": {},
   "outputs": [],
   "source": [
    "df_triangle['paid_to_incurred'] = df_triangle.cumulative_paid / df_triangle.cumulative_incurred\n",
    "df_triangle['paid_to_incurred'].describe()"
   ]
  },
  {
   "cell_type": "markdown",
   "metadata": {},
   "source": [
    "# Indexing\n",
    "\n",
    "Pandas pays a lot more attention to indices than data frames in R. "
   ]
  },
  {
   "cell_type": "code",
   "execution_count": null,
   "metadata": {},
   "outputs": [],
   "source": [
    "df_triangle.index\n",
    "df_triangle = df_triangle.set_index('GRNAME')\n",
    "df_triangle.index"
   ]
  },
  {
   "cell_type": "markdown",
   "metadata": {},
   "source": [
    "An index may contain multiple values"
   ]
  },
  {
   "cell_type": "code",
   "execution_count": null,
   "metadata": {},
   "outputs": [],
   "source": [
    "df_triangle = df_triangle.set_index(['GRNAME', 'AccidentYear', 'DevelopmentYear'])"
   ]
  },
  {
   "cell_type": "code",
   "execution_count": null,
   "metadata": {},
   "outputs": [],
   "source": [
    "df_triangle.head()"
   ]
  },
  {
   "cell_type": "code",
   "execution_count": null,
   "metadata": {},
   "outputs": [],
   "source": [
    "df_triangle = df_triangle.set_index(['AccidentYear', 'DevelopmentYear'], append = True)\n",
    "df_triangle.index"
   ]
  },
  {
   "cell_type": "markdown",
   "metadata": {},
   "source": [
    "Index columns disappear from the data frame unless you explicitly tell pandas not to."
   ]
  },
  {
   "cell_type": "code",
   "execution_count": null,
   "metadata": {},
   "outputs": [],
   "source": [
    "df_triangle['lag'] = df_triangle['DevelopmentYear'] - df_allstate['AccidentYear'] + 1"
   ]
  },
  {
   "cell_type": "markdown",
   "metadata": {},
   "source": [
    "A useful strategy is to carry out all of the non-indexed operations before creating the index."
   ]
  },
  {
   "cell_type": "code",
   "execution_count": null,
   "metadata": {},
   "outputs": [],
   "source": [
    "df_triangle = df_triangle.reset_index()\n",
    "df_triangle.index"
   ]
  },
  {
   "cell_type": "code",
   "execution_count": null,
   "metadata": {},
   "outputs": [],
   "source": [
    "df_triangle['lag'] = df_triangle['DevelopmentYear'] - df_triangle['AccidentYear'] + 1\n",
    "df_triangle.lag"
   ]
  },
  {
   "cell_type": "markdown",
   "metadata": {},
   "source": [
    "That's the only one we need for now, so we can go ahead and set an index."
   ]
  },
  {
   "cell_type": "code",
   "execution_count": null,
   "metadata": {},
   "outputs": [],
   "source": [
    "df_triangle = df_triangle.set_index(['GRNAME', 'AccidentYear', 'lag'])"
   ]
  },
  {
   "cell_type": "markdown",
   "metadata": {},
   "source": [
    "# Querying a data frame\n",
    "\n",
    "## Columnar subsets"
   ]
  },
  {
   "cell_type": "code",
   "execution_count": null,
   "metadata": {},
   "outputs": [],
   "source": [
    "df_triangle[['cumulative_paid', 'cumulative_incurred', 'paid_to_incurred']]"
   ]
  },
  {
   "cell_type": "markdown",
   "metadata": {},
   "source": [
    "Pass in a list with the names of columns to return."
   ]
  },
  {
   "cell_type": "code",
   "execution_count": null,
   "metadata": {},
   "outputs": [],
   "source": [
    "my_cols = ['cumulative_paid', 'cumulative_incurred']\n",
    "df_triangle[my_cols]"
   ]
  },
  {
   "cell_type": "markdown",
   "metadata": {},
   "source": [
    "Create a list using list comprehension"
   ]
  },
  {
   "cell_type": "code",
   "execution_count": null,
   "metadata": {},
   "outputs": [],
   "source": [
    "cumul_cols = [col for col in df_triangle.columns if 'cumul' in col]\n",
    "cumul_cols"
   ]
  },
  {
   "cell_type": "code",
   "execution_count": null,
   "metadata": {},
   "outputs": [],
   "source": [
    "df_triangle[cumul_cols]"
   ]
  },
  {
   "cell_type": "markdown",
   "metadata": {},
   "source": [
    "Use `iloc()`"
   ]
  },
  {
   "cell_type": "code",
   "execution_count": null,
   "metadata": {},
   "outputs": [],
   "source": [
    "df_triangle.iloc[:, 0]\n",
    "df_triangle.iloc[:, :1]"
   ]
  },
  {
   "cell_type": "markdown",
   "metadata": {},
   "source": [
    "## Row-wise subsets"
   ]
  },
  {
   "cell_type": "code",
   "execution_count": null,
   "metadata": {},
   "outputs": [],
   "source": [
    "df_triangle[df_triangle['paid_to_incurred'] > 2]"
   ]
  },
  {
   "cell_type": "code",
   "execution_count": null,
   "metadata": {},
   "outputs": [],
   "source": [
    "df_triangle[df_triangle['paid_to_incurred'] > 2]['cumulative_paid']"
   ]
  },
  {
   "cell_type": "code",
   "execution_count": null,
   "metadata": {},
   "outputs": [],
   "source": [
    "df_triangle[df_triangle['paid_to_incurred'] > 2].cumulative_paid"
   ]
  },
  {
   "cell_type": "code",
   "execution_count": null,
   "metadata": {},
   "outputs": [],
   "source": [
    "df_triangle[df_triangle['paid_to_incurred'] > 2]['cumulative_paid', 'cumulative_incurred']"
   ]
  },
  {
   "cell_type": "code",
   "execution_count": null,
   "metadata": {},
   "outputs": [],
   "source": [
    "df_triangle.loc[df_triangle['paid_to_incurred'] > 2, ['cumulative_paid', 'cumulative_incurred']]"
   ]
  },
  {
   "cell_type": "code",
   "execution_count": null,
   "metadata": {},
   "outputs": [],
   "source": [
    "df_triangle.loc(df_triangle['AccidentYear'] <= 1989)"
   ]
  },
  {
   "cell_type": "markdown",
   "metadata": {},
   "source": [
    "We could use `filter()` here, but I'm not wild about that."
   ]
  },
  {
   "cell_type": "code",
   "execution_count": null,
   "metadata": {},
   "outputs": [],
   "source": [
    "df_triangle.query('AccidentYear <= 1989 & lag == 1')['cumulative_paid']"
   ]
  },
  {
   "cell_type": "code",
   "execution_count": null,
   "metadata": {},
   "outputs": [],
   "source": [
    "df_lower = df_triangle.query('DevelopmentYear <= 1997')\n",
    "df_lower.shape\n",
    "df_triangle.shape\n",
    "\n",
    "df_lower.shape[0] / 55"
   ]
  },
  {
   "cell_type": "markdown",
   "metadata": {},
   "source": [
    "You may be tempted by the `filter()` method. This will filter based on index values."
   ]
  },
  {
   "cell_type": "code",
   "execution_count": null,
   "metadata": {},
   "outputs": [],
   "source": [
    "df_triangle[1996].cumulative_paid"
   ]
  },
  {
   "cell_type": "markdown",
   "metadata": {},
   "source": [
    "# Reshaping\n",
    "\n",
    "## Pivoting"
   ]
  },
  {
   "cell_type": "code",
   "execution_count": null,
   "metadata": {},
   "outputs": [],
   "source": [
    "df_allstate = df_lower.query('GRNAME == \"Allstate Ins Co Grp\"')"
   ]
  },
  {
   "cell_type": "markdown",
   "metadata": {},
   "source": [
    "`pivot_table(values, index, columns)`"
   ]
  },
  {
   "cell_type": "code",
   "execution_count": null,
   "metadata": {},
   "outputs": [],
   "source": [
    "df_allstate.pivot_table('cumulative_paid', 'AccidentYear', 'lag')"
   ]
  },
  {
   "cell_type": "code",
   "execution_count": null,
   "metadata": {},
   "outputs": [],
   "source": [
    "df_wide_paid = df_allstate.pivot_table('cumulative_paid', 'AccidentYear', 'lag')\n",
    "df_wide_paid.shape"
   ]
  },
  {
   "cell_type": "code",
   "execution_count": null,
   "metadata": {},
   "outputs": [],
   "source": [
    "df_wide_paid.columns"
   ]
  },
  {
   "cell_type": "code",
   "execution_count": null,
   "metadata": {},
   "outputs": [],
   "source": [
    "df_wide_paid.index"
   ]
  },
  {
   "cell_type": "markdown",
   "metadata": {},
   "source": [
    "Let's also construct an incurred triangle"
   ]
  },
  {
   "cell_type": "code",
   "execution_count": null,
   "metadata": {},
   "outputs": [],
   "source": [
    "df_wide_incurred = df_allstate.pivot_table('cumulative_incurred', 'AccidentYear', 'lag')"
   ]
  },
  {
   "cell_type": "markdown",
   "metadata": {},
   "source": [
    "## Unstack\n",
    "\n",
    "Unstack will behave similarly to `pivot_table()`, however it relies on values in the multiindex."
   ]
  },
  {
   "cell_type": "code",
   "execution_count": null,
   "metadata": {},
   "outputs": [],
   "source": [
    "df_allstate.unstack()"
   ]
  },
  {
   "cell_type": "code",
   "execution_count": null,
   "metadata": {},
   "outputs": [],
   "source": [
    "df_allstate[['cumulative_paid', 'cumulative_incurred']].unstack()"
   ]
  },
  {
   "cell_type": "markdown",
   "metadata": {},
   "source": [
    "## Stack"
   ]
  },
  {
   "cell_type": "code",
   "execution_count": null,
   "metadata": {},
   "outputs": [],
   "source": [
    "df_wide_paid.stack()"
   ]
  },
  {
   "cell_type": "markdown",
   "metadata": {},
   "source": [
    "Notice that we dropped the NA values. We can keep them if we like."
   ]
  },
  {
   "cell_type": "code",
   "execution_count": null,
   "metadata": {},
   "outputs": [],
   "source": [
    "df_wide_paid.stack(dropna = False)"
   ]
  },
  {
   "cell_type": "code",
   "execution_count": null,
   "metadata": {},
   "outputs": [],
   "source": [
    "df_long_paid = df_wide_paid.stack()\n",
    "df_long_paid"
   ]
  },
  {
   "cell_type": "code",
   "execution_count": null,
   "metadata": {},
   "outputs": [],
   "source": [
    "df_long_paid = df_wide_paid.stack().to_frame()\n",
    "df_long_paid.columns = ['cumulative_paid']"
   ]
  },
  {
   "cell_type": "code",
   "execution_count": null,
   "metadata": {},
   "outputs": [],
   "source": [
    "df_long_incurred = df_wide_incurred.stack().to_frame()\n",
    "df_long_incurred.columns = ['cumulative_incurred']"
   ]
  },
  {
   "cell_type": "markdown",
   "metadata": {},
   "source": [
    "## Merge two data frames"
   ]
  },
  {
   "cell_type": "code",
   "execution_count": null,
   "metadata": {},
   "outputs": [],
   "source": [
    "df_new = pd.merge(df_long_paid, df_long_incurred)"
   ]
  },
  {
   "cell_type": "code",
   "execution_count": null,
   "metadata": {},
   "outputs": [],
   "source": [
    "df_new = pd.merge(df_long_paid, df_long_incurred, left_index = True, right_index = True)\n",
    "df_new"
   ]
  },
  {
   "cell_type": "markdown",
   "metadata": {},
   "source": [
    "# Group-wise operations"
   ]
  },
  {
   "cell_type": "code",
   "execution_count": null,
   "metadata": {},
   "outputs": [],
   "source": [
    "df_allstate['cumulative_paid'].shift()\n",
    "\n",
    "\n",
    "df_allstate[['cumulative_paid', 'prior_cumulative_paid']].head(15)"
   ]
  },
  {
   "cell_type": "markdown",
   "metadata": {},
   "source": [
    "We have a problem. The entry for 1989, lag 1 is not correct. We need to group by accident year"
   ]
  },
  {
   "cell_type": "code",
   "execution_count": null,
   "metadata": {},
   "outputs": [],
   "source": [
    "df_allstate['prior_cumulative_paid'] = df_allstate['cumulative_paid'].groupby(\n",
    "    level='AccidentYear'\n",
    "  ).apply(lambda  x : x.shift(1))"
   ]
  },
  {
   "cell_type": "markdown",
   "metadata": {},
   "source": [
    "The warning is something we should pay attention to, but it's not anything to worry about in this case."
   ]
  },
  {
   "cell_type": "code",
   "execution_count": null,
   "metadata": {},
   "outputs": [],
   "source": [
    "df_allstate[['cumulative_paid', 'prior_cumulative_paid']].head(15)"
   ]
  },
  {
   "cell_type": "markdown",
   "metadata": {},
   "source": [
    "Do that again for the incurred"
   ]
  },
  {
   "cell_type": "code",
   "execution_count": null,
   "metadata": {},
   "outputs": [],
   "source": [
    "df_allstate['prior_cumulative_incurred'] = df_allstate['cumulative_incurred'].groupby(\n",
    "    level='AccidentYear'\n",
    "  ).apply(lambda  x : x.shift(1))"
   ]
  },
  {
   "cell_type": "markdown",
   "metadata": {},
   "source": [
    "## Make some link ratios"
   ]
  },
  {
   "cell_type": "code",
   "execution_count": null,
   "metadata": {},
   "outputs": [],
   "source": [
    "df_allstate['paid_ldf'] = df_allstate['cumulative_paid'] / df_allstate['prior_cumulative_paid']\n",
    "df_allstate['incurred_ldf'] = df_allstate['cumulative_incurred'] / df_allstate['prior_cumulative_incurred']"
   ]
  },
  {
   "cell_type": "code",
   "execution_count": null,
   "metadata": {},
   "outputs": [],
   "source": [
    "df_allstate[['paid_ldf', 'incurred_ldf']]"
   ]
  },
  {
   "cell_type": "code",
   "execution_count": null,
   "metadata": {},
   "outputs": [],
   "source": [
    "df_allstate.pivot_table(index = 'AccidentYear', columns = 'lag', values = 'paid_ldf')"
   ]
  },
  {
   "cell_type": "markdown",
   "metadata": {},
   "source": [
    "## Weighted average link ratios"
   ]
  },
  {
   "cell_type": "code",
   "execution_count": null,
   "metadata": {},
   "outputs": [],
   "source": [
    "cumul_cols = [col_name for col_name in df_allstate.columns if 'cumulative' in col_name]\n",
    "df_links = df_allstate.groupby(level='lag')[cumul_cols].sum()\n",
    "df_links"
   ]
  },
  {
   "cell_type": "code",
   "execution_count": null,
   "metadata": {},
   "outputs": [],
   "source": [
    "df_links['paid_ata'] = df_links.cumulative_paid / df_links.prior_cumulative_paid\n",
    "df_links['incurred_ata'] = df_links.cumulative_incurred / df_links.prior_cumulative_incurred\n",
    "df_links = df_links.query('lag > 1')\n",
    "df_links"
   ]
  },
  {
   "cell_type": "code",
   "execution_count": null,
   "metadata": {},
   "outputs": [],
   "source": [
    "df_links.paid_ata.cumprod()"
   ]
  },
  {
   "cell_type": "code",
   "execution_count": null,
   "metadata": {},
   "outputs": [],
   "source": [
    "df_links.paid_ata[::-1].cumprod()"
   ]
  },
  {
   "cell_type": "code",
   "execution_count": null,
   "metadata": {},
   "outputs": [],
   "source": [
    "df_links['paid_atu'] = df_links.paid_ata[::-1].cumprod()\n",
    "df_links['incurred_atu'] = df_links.incurred_ata[::-1].cumprod()"
   ]
  },
  {
   "cell_type": "code",
   "execution_count": null,
   "metadata": {},
   "outputs": [],
   "source": [
    "df_links"
   ]
  },
  {
   "cell_type": "code",
   "execution_count": null,
   "metadata": {
    "lines_to_next_cell": 2
   },
   "outputs": [],
   "source": [
    "df_links = df_links[['paid_atu', 'incurred_atu']]"
   ]
  },
  {
   "cell_type": "code",
   "execution_count": null,
   "metadata": {},
   "outputs": [],
   "source": [
    "df_links = df_links.reset_index() \n",
    "df_links.lag = df_links.lag - 1\n",
    "df_links = df_links.set_index('lag')\n",
    "df_links"
   ]
  },
  {
   "cell_type": "code",
   "execution_count": null,
   "metadata": {},
   "outputs": [],
   "source": [
    "df_ultimate = df_allstate.query('DevelopmentYear == 1997')\n",
    "df_ultimate"
   ]
  },
  {
   "cell_type": "code",
   "execution_count": null,
   "metadata": {},
   "outputs": [],
   "source": [
    "df_ultimate = pd.merge(df_ultimate, df_links, left_index = True, right_index = True)\n",
    "df_ultimate['ult_paid'] = df_ultimate.cumulative_paid * df_ultimate.paid_atu\n",
    "df_ultimate['ult_incurred'] = df_ultimate.cumulative_incurred * df_ultimate.incurred_atu\n",
    "df_ultimate[['ult_paid', 'ult_incurred']]"
   ]
  },
  {
   "cell_type": "markdown",
   "metadata": {},
   "source": [
    "# Saving our work"
   ]
  },
  {
   "cell_type": "code",
   "execution_count": null,
   "metadata": {},
   "outputs": [],
   "source": [
    "import os\n",
    "os.getcwd()"
   ]
  },
  {
   "cell_type": "code",
   "execution_count": null,
   "metadata": {},
   "outputs": [],
   "source": [
    "df_triangle.to_csv('data/df_ultimate.csv')"
   ]
  },
  {
   "cell_type": "markdown",
   "metadata": {},
   "source": [
    "# If there's time\n",
    "\n",
    "## Recap on generator objects and iteration\n",
    "\n",
    "# Homework\n",
    "\n",
    "1. Repeat the construction of LDFs for every company. \n",
    "2. Which company had the most significant difference between paid and incurred ultimate estimates?\n",
    "1. Which company had the largest case reserves? In which cell can you find this?"
   ]
  }
 ],
 "metadata": {
  "jupytext": {
   "cell_metadata_filter": "tags,-all",
   "main_language": "python",
   "notebook_metadata_filter": "-all"
  },
  "kernelspec": {
   "display_name": "Python 3",
   "language": "python",
   "name": "python3"
  },
  "language_info": {
   "codemirror_mode": {
    "name": "ipython",
    "version": 3
   },
   "file_extension": ".py",
   "mimetype": "text/x-python",
   "name": "python",
   "nbconvert_exporter": "python",
   "pygments_lexer": "ipython3",
   "version": "3.7.1"
  }
 },
 "nbformat": 4,
 "nbformat_minor": 4
}
